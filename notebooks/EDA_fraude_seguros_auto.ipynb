{
 "cells": [
  {
   "cell_type": "markdown",
   "id": "410615ec-ab52-4419-ab93-cfac25a1b72f",
   "metadata": {},
   "source": [
    "# Análisis de Datos de Fraude en Seguros de Auto"
   ]
  },
  {
   "cell_type": "markdown",
   "id": "d40f596e-a31a-4369-bde4-12e68ad831eb",
   "metadata": {},
   "source": [
    "## 1. Análisis Exploratorio de los Datos (EDA)"
   ]
  },
  {
   "cell_type": "markdown",
   "id": "f1b043a9-9af1-447d-9e10-c5fdd0d90be2",
   "metadata": {},
   "source": [
    "### 1.1 Carga de Librerías"
   ]
  },
  {
   "cell_type": "code",
   "execution_count": 1,
   "id": "a5b97844-b7e5-419a-89eb-ed20db5706e6",
   "metadata": {},
   "outputs": [],
   "source": [
    "# Cargamos las librerías a utilizar\n",
    "import pandas as pd\n",
    "import seaborn as sns\n",
    "import matplotlib.pyplot as plt\n",
    "\n",
    "# Mostramos todas las columnas\n",
    "pd.set_option('display.max_columns', None)"
   ]
  },
  {
   "cell_type": "markdown",
   "id": "7399e0e7-bb69-4e10-9704-4ad29a42a1d4",
   "metadata": {},
   "source": [
    "### 1.2 Carga de Datos"
   ]
  },
  {
   "cell_type": "code",
   "execution_count": 2,
   "id": "ae1da1c1-11d3-4bee-9898-1f3ee24f922e",
   "metadata": {},
   "outputs": [
    {
     "data": {
      "text/html": [
       "<div>\n",
       "<style scoped>\n",
       "    .dataframe tbody tr th:only-of-type {\n",
       "        vertical-align: middle;\n",
       "    }\n",
       "\n",
       "    .dataframe tbody tr th {\n",
       "        vertical-align: top;\n",
       "    }\n",
       "\n",
       "    .dataframe thead th {\n",
       "        text-align: right;\n",
       "    }\n",
       "</style>\n",
       "<table border=\"1\" class=\"dataframe\">\n",
       "  <thead>\n",
       "    <tr style=\"text-align: right;\">\n",
       "      <th></th>\n",
       "      <th>Month</th>\n",
       "      <th>WeekOfMonth</th>\n",
       "      <th>DayOfWeek</th>\n",
       "      <th>Make</th>\n",
       "      <th>AccidentArea</th>\n",
       "      <th>DayOfWeekClaimed</th>\n",
       "      <th>MonthClaimed</th>\n",
       "      <th>WeekOfMonthClaimed</th>\n",
       "      <th>Sex</th>\n",
       "      <th>MaritalStatus</th>\n",
       "      <th>Age</th>\n",
       "      <th>Fault</th>\n",
       "      <th>PolicyType</th>\n",
       "      <th>VehicleCategory</th>\n",
       "      <th>VehiclePrice</th>\n",
       "      <th>FraudFound_P</th>\n",
       "      <th>PolicyNumber</th>\n",
       "      <th>RepNumber</th>\n",
       "      <th>Deductible</th>\n",
       "      <th>DriverRating</th>\n",
       "      <th>Days_Policy_Accident</th>\n",
       "      <th>Days_Policy_Claim</th>\n",
       "      <th>PastNumberOfClaims</th>\n",
       "      <th>AgeOfVehicle</th>\n",
       "      <th>AgeOfPolicyHolder</th>\n",
       "      <th>PoliceReportFiled</th>\n",
       "      <th>WitnessPresent</th>\n",
       "      <th>AgentType</th>\n",
       "      <th>NumberOfSuppliments</th>\n",
       "      <th>AddressChange_Claim</th>\n",
       "      <th>NumberOfCars</th>\n",
       "      <th>Year</th>\n",
       "      <th>BasePolicy</th>\n",
       "      <th>ClaimSize</th>\n",
       "    </tr>\n",
       "  </thead>\n",
       "  <tbody>\n",
       "    <tr>\n",
       "      <th>0</th>\n",
       "      <td>Dec</td>\n",
       "      <td>5</td>\n",
       "      <td>Wednesday</td>\n",
       "      <td>Honda</td>\n",
       "      <td>Urban</td>\n",
       "      <td>Tuesday</td>\n",
       "      <td>Jan</td>\n",
       "      <td>1</td>\n",
       "      <td>Female</td>\n",
       "      <td>Single</td>\n",
       "      <td>21.0</td>\n",
       "      <td>Policy Holder</td>\n",
       "      <td>Sport - Liability</td>\n",
       "      <td>Sport</td>\n",
       "      <td>more than 69000</td>\n",
       "      <td>0</td>\n",
       "      <td>1</td>\n",
       "      <td>12</td>\n",
       "      <td>300</td>\n",
       "      <td>1.0</td>\n",
       "      <td>more than 30</td>\n",
       "      <td>more than 30</td>\n",
       "      <td>none</td>\n",
       "      <td>3 years</td>\n",
       "      <td>26 to 30</td>\n",
       "      <td>No</td>\n",
       "      <td>No</td>\n",
       "      <td>External</td>\n",
       "      <td>none</td>\n",
       "      <td>1 year</td>\n",
       "      <td>3 to 4</td>\n",
       "      <td>1994</td>\n",
       "      <td>Liability</td>\n",
       "      <td>55526.069420</td>\n",
       "    </tr>\n",
       "    <tr>\n",
       "      <th>1</th>\n",
       "      <td>Jan</td>\n",
       "      <td>3</td>\n",
       "      <td>Wednesday</td>\n",
       "      <td>Honda</td>\n",
       "      <td>Urban</td>\n",
       "      <td>Monday</td>\n",
       "      <td>Jan</td>\n",
       "      <td>4</td>\n",
       "      <td>Male</td>\n",
       "      <td>Single</td>\n",
       "      <td>34.0</td>\n",
       "      <td>Policy Holder</td>\n",
       "      <td>Sport - Collision</td>\n",
       "      <td>Sport</td>\n",
       "      <td>more than 69000</td>\n",
       "      <td>0</td>\n",
       "      <td>2</td>\n",
       "      <td>15</td>\n",
       "      <td>400</td>\n",
       "      <td>4.0</td>\n",
       "      <td>more than 30</td>\n",
       "      <td>more than 30</td>\n",
       "      <td>none</td>\n",
       "      <td>6 years</td>\n",
       "      <td>31 to 35</td>\n",
       "      <td>Yes</td>\n",
       "      <td>No</td>\n",
       "      <td>External</td>\n",
       "      <td>none</td>\n",
       "      <td>no change</td>\n",
       "      <td>1 vehicle</td>\n",
       "      <td>1994</td>\n",
       "      <td>Collision</td>\n",
       "      <td>59294.455570</td>\n",
       "    </tr>\n",
       "    <tr>\n",
       "      <th>2</th>\n",
       "      <td>Oct</td>\n",
       "      <td>5</td>\n",
       "      <td>Friday</td>\n",
       "      <td>Honda</td>\n",
       "      <td>Urban</td>\n",
       "      <td>Thursday</td>\n",
       "      <td>Nov</td>\n",
       "      <td>2</td>\n",
       "      <td>Male</td>\n",
       "      <td>Married</td>\n",
       "      <td>47.0</td>\n",
       "      <td>Policy Holder</td>\n",
       "      <td>Sport - Collision</td>\n",
       "      <td>Sport</td>\n",
       "      <td>more than 69000</td>\n",
       "      <td>0</td>\n",
       "      <td>3</td>\n",
       "      <td>7</td>\n",
       "      <td>400</td>\n",
       "      <td>3.0</td>\n",
       "      <td>more than 30</td>\n",
       "      <td>more than 30</td>\n",
       "      <td>1</td>\n",
       "      <td>7 years</td>\n",
       "      <td>41 to 50</td>\n",
       "      <td>No</td>\n",
       "      <td>No</td>\n",
       "      <td>External</td>\n",
       "      <td>none</td>\n",
       "      <td>no change</td>\n",
       "      <td>1 vehicle</td>\n",
       "      <td>1994</td>\n",
       "      <td>Collision</td>\n",
       "      <td>71756.941320</td>\n",
       "    </tr>\n",
       "    <tr>\n",
       "      <th>3</th>\n",
       "      <td>Jun</td>\n",
       "      <td>2</td>\n",
       "      <td>Saturday</td>\n",
       "      <td>Toyota</td>\n",
       "      <td>Rural</td>\n",
       "      <td>Friday</td>\n",
       "      <td>Jul</td>\n",
       "      <td>1</td>\n",
       "      <td>Male</td>\n",
       "      <td>Married</td>\n",
       "      <td>65.0</td>\n",
       "      <td>Third Party</td>\n",
       "      <td>Sedan - Liability</td>\n",
       "      <td>Sport</td>\n",
       "      <td>20000 to 29000</td>\n",
       "      <td>0</td>\n",
       "      <td>4</td>\n",
       "      <td>4</td>\n",
       "      <td>400</td>\n",
       "      <td>2.0</td>\n",
       "      <td>more than 30</td>\n",
       "      <td>more than 30</td>\n",
       "      <td>1</td>\n",
       "      <td>more than 7</td>\n",
       "      <td>51 to 65</td>\n",
       "      <td>Yes</td>\n",
       "      <td>No</td>\n",
       "      <td>External</td>\n",
       "      <td>more than 5</td>\n",
       "      <td>no change</td>\n",
       "      <td>1 vehicle</td>\n",
       "      <td>1994</td>\n",
       "      <td>Liability</td>\n",
       "      <td>7584.153493</td>\n",
       "    </tr>\n",
       "    <tr>\n",
       "      <th>4</th>\n",
       "      <td>Feb</td>\n",
       "      <td>1</td>\n",
       "      <td>Saturday</td>\n",
       "      <td>Honda</td>\n",
       "      <td>Urban</td>\n",
       "      <td>Monday</td>\n",
       "      <td>Feb</td>\n",
       "      <td>3</td>\n",
       "      <td>Male</td>\n",
       "      <td>Married</td>\n",
       "      <td>36.0</td>\n",
       "      <td>Third Party</td>\n",
       "      <td>Sport - Collision</td>\n",
       "      <td>Sport</td>\n",
       "      <td>more than 69000</td>\n",
       "      <td>0</td>\n",
       "      <td>7</td>\n",
       "      <td>14</td>\n",
       "      <td>400</td>\n",
       "      <td>1.0</td>\n",
       "      <td>more than 30</td>\n",
       "      <td>more than 30</td>\n",
       "      <td>1</td>\n",
       "      <td>7 years</td>\n",
       "      <td>36 to 40</td>\n",
       "      <td>No</td>\n",
       "      <td>No</td>\n",
       "      <td>External</td>\n",
       "      <td>1 to 2</td>\n",
       "      <td>no change</td>\n",
       "      <td>1 vehicle</td>\n",
       "      <td>1994</td>\n",
       "      <td>Collision</td>\n",
       "      <td>98545.374340</td>\n",
       "    </tr>\n",
       "  </tbody>\n",
       "</table>\n",
       "</div>"
      ],
      "text/plain": [
       "  Month  WeekOfMonth  DayOfWeek    Make AccidentArea DayOfWeekClaimed  \\\n",
       "0   Dec            5  Wednesday   Honda        Urban          Tuesday   \n",
       "1   Jan            3  Wednesday   Honda        Urban           Monday   \n",
       "2   Oct            5     Friday   Honda        Urban         Thursday   \n",
       "3   Jun            2   Saturday  Toyota        Rural           Friday   \n",
       "4   Feb            1   Saturday   Honda        Urban           Monday   \n",
       "\n",
       "  MonthClaimed  WeekOfMonthClaimed     Sex MaritalStatus   Age          Fault  \\\n",
       "0          Jan                   1  Female        Single  21.0  Policy Holder   \n",
       "1          Jan                   4    Male        Single  34.0  Policy Holder   \n",
       "2          Nov                   2    Male       Married  47.0  Policy Holder   \n",
       "3          Jul                   1    Male       Married  65.0    Third Party   \n",
       "4          Feb                   3    Male       Married  36.0    Third Party   \n",
       "\n",
       "          PolicyType VehicleCategory     VehiclePrice  FraudFound_P  \\\n",
       "0  Sport - Liability           Sport  more than 69000             0   \n",
       "1  Sport - Collision           Sport  more than 69000             0   \n",
       "2  Sport - Collision           Sport  more than 69000             0   \n",
       "3  Sedan - Liability           Sport   20000 to 29000             0   \n",
       "4  Sport - Collision           Sport  more than 69000             0   \n",
       "\n",
       "   PolicyNumber  RepNumber  Deductible  DriverRating Days_Policy_Accident  \\\n",
       "0             1         12         300           1.0         more than 30   \n",
       "1             2         15         400           4.0         more than 30   \n",
       "2             3          7         400           3.0         more than 30   \n",
       "3             4          4         400           2.0         more than 30   \n",
       "4             7         14         400           1.0         more than 30   \n",
       "\n",
       "  Days_Policy_Claim PastNumberOfClaims AgeOfVehicle AgeOfPolicyHolder  \\\n",
       "0      more than 30               none      3 years          26 to 30   \n",
       "1      more than 30               none      6 years          31 to 35   \n",
       "2      more than 30                  1      7 years          41 to 50   \n",
       "3      more than 30                  1  more than 7          51 to 65   \n",
       "4      more than 30                  1      7 years          36 to 40   \n",
       "\n",
       "  PoliceReportFiled WitnessPresent AgentType NumberOfSuppliments  \\\n",
       "0                No             No  External                none   \n",
       "1               Yes             No  External                none   \n",
       "2                No             No  External                none   \n",
       "3               Yes             No  External         more than 5   \n",
       "4                No             No  External              1 to 2   \n",
       "\n",
       "  AddressChange_Claim NumberOfCars  Year BasePolicy     ClaimSize  \n",
       "0              1 year       3 to 4  1994  Liability  55526.069420  \n",
       "1           no change    1 vehicle  1994  Collision  59294.455570  \n",
       "2           no change    1 vehicle  1994  Collision  71756.941320  \n",
       "3           no change    1 vehicle  1994  Liability   7584.153493  \n",
       "4           no change    1 vehicle  1994  Collision  98545.374340  "
      ]
     },
     "execution_count": 2,
     "metadata": {},
     "output_type": "execute_result"
    }
   ],
   "source": [
    "# Nombramos el dataframe\n",
    "car_fraud = pd.read_csv('.\\..\\data\\Dataset.csv')\n",
    "\n",
    "# Mostramos un encabezado de los datos\n",
    "car_fraud.head()"
   ]
  },
  {
   "cell_type": "code",
   "execution_count": 3,
   "id": "218092b0-0833-47f1-a44a-71f9f9c7f8a9",
   "metadata": {},
   "outputs": [
    {
     "name": "stdout",
     "output_type": "stream",
     "text": [
      "<class 'pandas.core.frame.DataFrame'>\n",
      "RangeIndex: 11565 entries, 0 to 11564\n",
      "Data columns (total 34 columns):\n",
      " #   Column                Non-Null Count  Dtype  \n",
      "---  ------                --------------  -----  \n",
      " 0   Month                 11565 non-null  object \n",
      " 1   WeekOfMonth           11565 non-null  int64  \n",
      " 2   DayOfWeek             11565 non-null  object \n",
      " 3   Make                  11565 non-null  object \n",
      " 4   AccidentArea          11565 non-null  object \n",
      " 5   DayOfWeekClaimed      11565 non-null  object \n",
      " 6   MonthClaimed          11565 non-null  object \n",
      " 7   WeekOfMonthClaimed    11565 non-null  int64  \n",
      " 8   Sex                   11565 non-null  object \n",
      " 9   MaritalStatus         11565 non-null  object \n",
      " 10  Age                   11560 non-null  float64\n",
      " 11  Fault                 11565 non-null  object \n",
      " 12  PolicyType            11565 non-null  object \n",
      " 13  VehicleCategory       11565 non-null  object \n",
      " 14  VehiclePrice          11565 non-null  object \n",
      " 15  FraudFound_P          11565 non-null  int64  \n",
      " 16  PolicyNumber          11565 non-null  int64  \n",
      " 17  RepNumber             11565 non-null  int64  \n",
      " 18  Deductible            11565 non-null  int64  \n",
      " 19  DriverRating          11559 non-null  float64\n",
      " 20  Days_Policy_Accident  11565 non-null  object \n",
      " 21  Days_Policy_Claim     11565 non-null  object \n",
      " 22  PastNumberOfClaims    11565 non-null  object \n",
      " 23  AgeOfVehicle          11565 non-null  object \n",
      " 24  AgeOfPolicyHolder     11565 non-null  object \n",
      " 25  PoliceReportFiled     11565 non-null  object \n",
      " 26  WitnessPresent        11565 non-null  object \n",
      " 27  AgentType             11565 non-null  object \n",
      " 28  NumberOfSuppliments   11565 non-null  object \n",
      " 29  AddressChange_Claim   11565 non-null  object \n",
      " 30  NumberOfCars          11565 non-null  object \n",
      " 31  Year                  11565 non-null  int64  \n",
      " 32  BasePolicy            11565 non-null  object \n",
      " 33  ClaimSize             11565 non-null  float64\n",
      "dtypes: float64(3), int64(7), object(24)\n",
      "memory usage: 3.0+ MB\n"
     ]
    }
   ],
   "source": [
    "# Mostramos el número de filas, columnas, valores NO nulos y el tipo de datos\n",
    "car_fraud.info()"
   ]
  },
  {
   "cell_type": "markdown",
   "id": "91308b0b-57d7-4860-93ab-bcf4bb2bb55f",
   "metadata": {},
   "source": [
    "### 1.3 Estadística Descriptiva"
   ]
  },
  {
   "cell_type": "code",
   "execution_count": 4,
   "id": "1c906073-6566-4bb9-806c-787112570273",
   "metadata": {},
   "outputs": [
    {
     "data": {
      "text/html": [
       "<div>\n",
       "<style scoped>\n",
       "    .dataframe tbody tr th:only-of-type {\n",
       "        vertical-align: middle;\n",
       "    }\n",
       "\n",
       "    .dataframe tbody tr th {\n",
       "        vertical-align: top;\n",
       "    }\n",
       "\n",
       "    .dataframe thead th {\n",
       "        text-align: right;\n",
       "    }\n",
       "</style>\n",
       "<table border=\"1\" class=\"dataframe\">\n",
       "  <thead>\n",
       "    <tr style=\"text-align: right;\">\n",
       "      <th></th>\n",
       "      <th>count</th>\n",
       "      <th>mean</th>\n",
       "      <th>std</th>\n",
       "      <th>min</th>\n",
       "      <th>25%</th>\n",
       "      <th>50%</th>\n",
       "      <th>75%</th>\n",
       "      <th>max</th>\n",
       "    </tr>\n",
       "  </thead>\n",
       "  <tbody>\n",
       "    <tr>\n",
       "      <th>WeekOfMonth</th>\n",
       "      <td>11565.0</td>\n",
       "      <td>2.78</td>\n",
       "      <td>1.28</td>\n",
       "      <td>1.0</td>\n",
       "      <td>2.00</td>\n",
       "      <td>3.00</td>\n",
       "      <td>4.00</td>\n",
       "      <td>5.00</td>\n",
       "    </tr>\n",
       "    <tr>\n",
       "      <th>WeekOfMonthClaimed</th>\n",
       "      <td>11565.0</td>\n",
       "      <td>2.70</td>\n",
       "      <td>1.26</td>\n",
       "      <td>1.0</td>\n",
       "      <td>2.00</td>\n",
       "      <td>3.00</td>\n",
       "      <td>4.00</td>\n",
       "      <td>5.00</td>\n",
       "    </tr>\n",
       "    <tr>\n",
       "      <th>Age</th>\n",
       "      <td>11560.0</td>\n",
       "      <td>39.90</td>\n",
       "      <td>13.59</td>\n",
       "      <td>0.0</td>\n",
       "      <td>31.00</td>\n",
       "      <td>38.00</td>\n",
       "      <td>49.00</td>\n",
       "      <td>80.00</td>\n",
       "    </tr>\n",
       "    <tr>\n",
       "      <th>FraudFound_P</th>\n",
       "      <td>11565.0</td>\n",
       "      <td>0.06</td>\n",
       "      <td>0.24</td>\n",
       "      <td>0.0</td>\n",
       "      <td>0.00</td>\n",
       "      <td>0.00</td>\n",
       "      <td>0.00</td>\n",
       "      <td>1.00</td>\n",
       "    </tr>\n",
       "    <tr>\n",
       "      <th>PolicyNumber</th>\n",
       "      <td>11565.0</td>\n",
       "      <td>7710.47</td>\n",
       "      <td>4453.76</td>\n",
       "      <td>1.0</td>\n",
       "      <td>3851.00</td>\n",
       "      <td>7712.00</td>\n",
       "      <td>11542.00</td>\n",
       "      <td>15420.00</td>\n",
       "    </tr>\n",
       "    <tr>\n",
       "      <th>RepNumber</th>\n",
       "      <td>11565.0</td>\n",
       "      <td>8.47</td>\n",
       "      <td>4.62</td>\n",
       "      <td>1.0</td>\n",
       "      <td>4.00</td>\n",
       "      <td>8.00</td>\n",
       "      <td>12.00</td>\n",
       "      <td>16.00</td>\n",
       "    </tr>\n",
       "    <tr>\n",
       "      <th>Deductible</th>\n",
       "      <td>11565.0</td>\n",
       "      <td>407.62</td>\n",
       "      <td>43.40</td>\n",
       "      <td>300.0</td>\n",
       "      <td>400.00</td>\n",
       "      <td>400.00</td>\n",
       "      <td>400.00</td>\n",
       "      <td>700.00</td>\n",
       "    </tr>\n",
       "    <tr>\n",
       "      <th>DriverRating</th>\n",
       "      <td>11559.0</td>\n",
       "      <td>2.49</td>\n",
       "      <td>1.12</td>\n",
       "      <td>1.0</td>\n",
       "      <td>1.00</td>\n",
       "      <td>3.00</td>\n",
       "      <td>3.00</td>\n",
       "      <td>4.00</td>\n",
       "    </tr>\n",
       "    <tr>\n",
       "      <th>Year</th>\n",
       "      <td>11565.0</td>\n",
       "      <td>1994.87</td>\n",
       "      <td>0.80</td>\n",
       "      <td>1994.0</td>\n",
       "      <td>1994.00</td>\n",
       "      <td>1995.00</td>\n",
       "      <td>1996.00</td>\n",
       "      <td>1996.00</td>\n",
       "    </tr>\n",
       "    <tr>\n",
       "      <th>ClaimSize</th>\n",
       "      <td>11565.0</td>\n",
       "      <td>22955.98</td>\n",
       "      <td>26988.81</td>\n",
       "      <td>0.0</td>\n",
       "      <td>4148.85</td>\n",
       "      <td>8130.99</td>\n",
       "      <td>46299.65</td>\n",
       "      <td>141394.16</td>\n",
       "    </tr>\n",
       "  </tbody>\n",
       "</table>\n",
       "</div>"
      ],
      "text/plain": [
       "                      count      mean       std     min      25%      50%  \\\n",
       "WeekOfMonth         11565.0      2.78      1.28     1.0     2.00     3.00   \n",
       "WeekOfMonthClaimed  11565.0      2.70      1.26     1.0     2.00     3.00   \n",
       "Age                 11560.0     39.90     13.59     0.0    31.00    38.00   \n",
       "FraudFound_P        11565.0      0.06      0.24     0.0     0.00     0.00   \n",
       "PolicyNumber        11565.0   7710.47   4453.76     1.0  3851.00  7712.00   \n",
       "RepNumber           11565.0      8.47      4.62     1.0     4.00     8.00   \n",
       "Deductible          11565.0    407.62     43.40   300.0   400.00   400.00   \n",
       "DriverRating        11559.0      2.49      1.12     1.0     1.00     3.00   \n",
       "Year                11565.0   1994.87      0.80  1994.0  1994.00  1995.00   \n",
       "ClaimSize           11565.0  22955.98  26988.81     0.0  4148.85  8130.99   \n",
       "\n",
       "                         75%        max  \n",
       "WeekOfMonth             4.00       5.00  \n",
       "WeekOfMonthClaimed      4.00       5.00  \n",
       "Age                    49.00      80.00  \n",
       "FraudFound_P            0.00       1.00  \n",
       "PolicyNumber        11542.00   15420.00  \n",
       "RepNumber              12.00      16.00  \n",
       "Deductible            400.00     700.00  \n",
       "DriverRating            3.00       4.00  \n",
       "Year                 1996.00    1996.00  \n",
       "ClaimSize           46299.65  141394.16  "
      ]
     },
     "execution_count": 4,
     "metadata": {},
     "output_type": "execute_result"
    }
   ],
   "source": [
    "# Resumimos las variables numéricas\n",
    "car_fraud.describe().T.round(2)"
   ]
  },
  {
   "cell_type": "code",
   "execution_count": 5,
   "id": "64819e2a-15ad-4fed-8998-706d1ba564ff",
   "metadata": {},
   "outputs": [
    {
     "data": {
      "text/html": [
       "<div>\n",
       "<style scoped>\n",
       "    .dataframe tbody tr th:only-of-type {\n",
       "        vertical-align: middle;\n",
       "    }\n",
       "\n",
       "    .dataframe tbody tr th {\n",
       "        vertical-align: top;\n",
       "    }\n",
       "\n",
       "    .dataframe thead th {\n",
       "        text-align: right;\n",
       "    }\n",
       "</style>\n",
       "<table border=\"1\" class=\"dataframe\">\n",
       "  <thead>\n",
       "    <tr style=\"text-align: right;\">\n",
       "      <th></th>\n",
       "      <th>count</th>\n",
       "      <th>unique</th>\n",
       "      <th>top</th>\n",
       "      <th>freq</th>\n",
       "    </tr>\n",
       "  </thead>\n",
       "  <tbody>\n",
       "    <tr>\n",
       "      <th>Month</th>\n",
       "      <td>11565</td>\n",
       "      <td>12</td>\n",
       "      <td>Jan</td>\n",
       "      <td>1056</td>\n",
       "    </tr>\n",
       "    <tr>\n",
       "      <th>DayOfWeek</th>\n",
       "      <td>11565</td>\n",
       "      <td>7</td>\n",
       "      <td>Monday</td>\n",
       "      <td>2000</td>\n",
       "    </tr>\n",
       "    <tr>\n",
       "      <th>Make</th>\n",
       "      <td>11565</td>\n",
       "      <td>19</td>\n",
       "      <td>Pontiac</td>\n",
       "      <td>2899</td>\n",
       "    </tr>\n",
       "    <tr>\n",
       "      <th>AccidentArea</th>\n",
       "      <td>11565</td>\n",
       "      <td>2</td>\n",
       "      <td>Urban</td>\n",
       "      <td>10356</td>\n",
       "    </tr>\n",
       "    <tr>\n",
       "      <th>DayOfWeekClaimed</th>\n",
       "      <td>11565</td>\n",
       "      <td>8</td>\n",
       "      <td>Monday</td>\n",
       "      <td>2811</td>\n",
       "    </tr>\n",
       "    <tr>\n",
       "      <th>MonthClaimed</th>\n",
       "      <td>11565</td>\n",
       "      <td>13</td>\n",
       "      <td>Jan</td>\n",
       "      <td>1084</td>\n",
       "    </tr>\n",
       "    <tr>\n",
       "      <th>Sex</th>\n",
       "      <td>11565</td>\n",
       "      <td>2</td>\n",
       "      <td>Male</td>\n",
       "      <td>9768</td>\n",
       "    </tr>\n",
       "    <tr>\n",
       "      <th>MaritalStatus</th>\n",
       "      <td>11565</td>\n",
       "      <td>4</td>\n",
       "      <td>Married</td>\n",
       "      <td>7986</td>\n",
       "    </tr>\n",
       "    <tr>\n",
       "      <th>Fault</th>\n",
       "      <td>11565</td>\n",
       "      <td>2</td>\n",
       "      <td>Policy Holder</td>\n",
       "      <td>8394</td>\n",
       "    </tr>\n",
       "    <tr>\n",
       "      <th>PolicyType</th>\n",
       "      <td>11565</td>\n",
       "      <td>9</td>\n",
       "      <td>Sedan - Collision</td>\n",
       "      <td>4186</td>\n",
       "    </tr>\n",
       "    <tr>\n",
       "      <th>VehicleCategory</th>\n",
       "      <td>11565</td>\n",
       "      <td>3</td>\n",
       "      <td>Sedan</td>\n",
       "      <td>7253</td>\n",
       "    </tr>\n",
       "    <tr>\n",
       "      <th>VehiclePrice</th>\n",
       "      <td>11565</td>\n",
       "      <td>6</td>\n",
       "      <td>20000 to 29000</td>\n",
       "      <td>6112</td>\n",
       "    </tr>\n",
       "    <tr>\n",
       "      <th>Days_Policy_Accident</th>\n",
       "      <td>11565</td>\n",
       "      <td>5</td>\n",
       "      <td>more than 30</td>\n",
       "      <td>11439</td>\n",
       "    </tr>\n",
       "    <tr>\n",
       "      <th>Days_Policy_Claim</th>\n",
       "      <td>11565</td>\n",
       "      <td>4</td>\n",
       "      <td>more than 30</td>\n",
       "      <td>11504</td>\n",
       "    </tr>\n",
       "    <tr>\n",
       "      <th>PastNumberOfClaims</th>\n",
       "      <td>11565</td>\n",
       "      <td>4</td>\n",
       "      <td>2 to 4</td>\n",
       "      <td>4140</td>\n",
       "    </tr>\n",
       "    <tr>\n",
       "      <th>AgeOfVehicle</th>\n",
       "      <td>11565</td>\n",
       "      <td>8</td>\n",
       "      <td>7 years</td>\n",
       "      <td>4388</td>\n",
       "    </tr>\n",
       "    <tr>\n",
       "      <th>AgeOfPolicyHolder</th>\n",
       "      <td>11565</td>\n",
       "      <td>9</td>\n",
       "      <td>31 to 35</td>\n",
       "      <td>4199</td>\n",
       "    </tr>\n",
       "    <tr>\n",
       "      <th>PoliceReportFiled</th>\n",
       "      <td>11565</td>\n",
       "      <td>2</td>\n",
       "      <td>No</td>\n",
       "      <td>11235</td>\n",
       "    </tr>\n",
       "    <tr>\n",
       "      <th>WitnessPresent</th>\n",
       "      <td>11565</td>\n",
       "      <td>2</td>\n",
       "      <td>No</td>\n",
       "      <td>11497</td>\n",
       "    </tr>\n",
       "    <tr>\n",
       "      <th>AgentType</th>\n",
       "      <td>11565</td>\n",
       "      <td>2</td>\n",
       "      <td>External</td>\n",
       "      <td>11394</td>\n",
       "    </tr>\n",
       "    <tr>\n",
       "      <th>NumberOfSuppliments</th>\n",
       "      <td>11565</td>\n",
       "      <td>4</td>\n",
       "      <td>none</td>\n",
       "      <td>5330</td>\n",
       "    </tr>\n",
       "    <tr>\n",
       "      <th>AddressChange_Claim</th>\n",
       "      <td>11565</td>\n",
       "      <td>5</td>\n",
       "      <td>no change</td>\n",
       "      <td>10715</td>\n",
       "    </tr>\n",
       "    <tr>\n",
       "      <th>NumberOfCars</th>\n",
       "      <td>11565</td>\n",
       "      <td>5</td>\n",
       "      <td>1 vehicle</td>\n",
       "      <td>10698</td>\n",
       "    </tr>\n",
       "    <tr>\n",
       "      <th>BasePolicy</th>\n",
       "      <td>11565</td>\n",
       "      <td>3</td>\n",
       "      <td>Collision</td>\n",
       "      <td>4472</td>\n",
       "    </tr>\n",
       "  </tbody>\n",
       "</table>\n",
       "</div>"
      ],
      "text/plain": [
       "                      count unique                top   freq\n",
       "Month                 11565     12                Jan   1056\n",
       "DayOfWeek             11565      7             Monday   2000\n",
       "Make                  11565     19            Pontiac   2899\n",
       "AccidentArea          11565      2              Urban  10356\n",
       "DayOfWeekClaimed      11565      8             Monday   2811\n",
       "MonthClaimed          11565     13                Jan   1084\n",
       "Sex                   11565      2               Male   9768\n",
       "MaritalStatus         11565      4            Married   7986\n",
       "Fault                 11565      2      Policy Holder   8394\n",
       "PolicyType            11565      9  Sedan - Collision   4186\n",
       "VehicleCategory       11565      3              Sedan   7253\n",
       "VehiclePrice          11565      6     20000 to 29000   6112\n",
       "Days_Policy_Accident  11565      5       more than 30  11439\n",
       "Days_Policy_Claim     11565      4       more than 30  11504\n",
       "PastNumberOfClaims    11565      4             2 to 4   4140\n",
       "AgeOfVehicle          11565      8            7 years   4388\n",
       "AgeOfPolicyHolder     11565      9           31 to 35   4199\n",
       "PoliceReportFiled     11565      2                 No  11235\n",
       "WitnessPresent        11565      2                 No  11497\n",
       "AgentType             11565      2           External  11394\n",
       "NumberOfSuppliments   11565      4               none   5330\n",
       "AddressChange_Claim   11565      5          no change  10715\n",
       "NumberOfCars          11565      5          1 vehicle  10698\n",
       "BasePolicy            11565      3          Collision   4472"
      ]
     },
     "execution_count": 5,
     "metadata": {},
     "output_type": "execute_result"
    }
   ],
   "source": [
    "# Resuminos las variables categóricas\n",
    "car_fraud.describe(include = ['O']).T"
   ]
  },
  {
   "cell_type": "markdown",
   "id": "ac85fefb-bd5f-4f27-b2e5-8185312ea6c2",
   "metadata": {},
   "source": [
    "### 1.4 Análisis de la Variable Objetivo"
   ]
  },
  {
   "cell_type": "code",
   "execution_count": 55,
   "id": "e5d8663f-9202-4de2-b10e-d9109e6752a3",
   "metadata": {},
   "outputs": [
    {
     "data": {
      "text/plain": [
       "FraudFound_P\n",
       "0    10880\n",
       "1      685\n",
       "dtype: int64"
      ]
     },
     "execution_count": 55,
     "metadata": {},
     "output_type": "execute_result"
    }
   ],
   "source": [
    "# Proporción del fraude respecto al total de reclamaciones\n",
    "car_fraud.groupby('FraudFound_P').size()"
   ]
  },
  {
   "cell_type": "code",
   "execution_count": 28,
   "id": "dcf5d3f4-f07a-46a3-b8ec-e5a822e97685",
   "metadata": {},
   "outputs": [
    {
     "data": {
      "image/png": "[encoded data removed]",
      "text/plain": [
       "<Figure size 432x288 with 1 Axes>"
      ]
     },
     "metadata": {},
     "output_type": "display_data"
    }
   ],
   "source": [
    "grouped_fraud = car_fraud.groupby('FraudFound_P').count()\n",
    "grouped_fraud = grouped_fraud['PolicyNumber'].reset_index()\n",
    "plt.pie(grouped_fraud['PolicyNumber'], autopct='%1.0f%%', labels = grouped_fraud['FraudFound_P'])\n",
    "plt.show()"
   ]
  },
  {
   "cell_type": "markdown",
   "id": "2f74b3e2-8312-4219-8aa6-f35e79b761b7",
   "metadata": {},
   "source": [
    "#### 1.4.1 Visualización de Variables Categóricas"
   ]
  },
  {
   "cell_type": "code",
   "execution_count": 46,
   "id": "e87ac1e2-5c42-42b8-ba8d-13a885ce9dba",
   "metadata": {},
   "outputs": [
    {
     "data": {
      "text/plain": [
       "FraudFound_P  DayOfWeekClaimed\n",
       "0             0                      1\n",
       "              Friday              1714\n",
       "              Monday              2651\n",
       "              Saturday              89\n",
       "              Sunday                37\n",
       "              Thursday            1890\n",
       "              Tuesday             2393\n",
       "              Wednesday           2105\n",
       "1             Friday               128\n",
       "              Monday               160\n",
       "              Saturday               5\n",
       "              Sunday                 3\n",
       "              Thursday             110\n",
       "              Tuesday              152\n",
       "              Wednesday            127\n",
       "Name: PolicyNumber, dtype: int64"
      ]
     },
     "execution_count": 46,
     "metadata": {},
     "output_type": "execute_result"
    }
   ],
   "source": [
    "# Cómo se distribuye el fraude por día de la semana de la reclamación\n",
    "car_fraud.groupby(['FraudFound_P', 'DayOfWeekClaimed']).count()['PolicyNumber']"
   ]
  },
  {
   "cell_type": "code",
   "execution_count": 41,
   "id": "aee322b7-ed65-46f1-89eb-c3403bc63ccf",
   "metadata": {},
   "outputs": [
    {
     "data": {
      "image/png": "[encoded data removed]",
      "text/plain": [
       "<Figure size 432x288 with 1 Axes>"
      ]
     },
     "metadata": {
      "needs_background": "light"
     },
     "output_type": "display_data"
    }
   ],
   "source": [
    "grouped_sex = car_fraud.groupby(['FraudFound_P', 'DayOfWeekClaimed']).count()['PolicyNumber']\n",
    "grouped_sex.unstack(level=0).plot.bar()\n",
    "plt.show()"
   ]
  },
  {
   "cell_type": "code",
   "execution_count": 42,
   "id": "ebc35fe7-b717-4f8d-ac39-579851c8308f",
   "metadata": {},
   "outputs": [
    {
     "data": {
      "text/plain": [
       "FraudFound_P  MonthClaimed\n",
       "0             0                  1\n",
       "              Apr              908\n",
       "              Aug              776\n",
       "              Dec              848\n",
       "              Feb              892\n",
       "              Jan             1017\n",
       "              Jul              867\n",
       "              Jun              908\n",
       "              Mar              933\n",
       "              May              961\n",
       "              Nov              940\n",
       "              Oct              945\n",
       "              Sep              884\n",
       "1             Apr               62\n",
       "              Aug               70\n",
       "              Dec               31\n",
       "              Feb               63\n",
       "              Jan               67\n",
       "              Jul               41\n",
       "              Jun               59\n",
       "              Mar               72\n",
       "              May               77\n",
       "              Nov               33\n",
       "              Oct               50\n",
       "              Sep               60\n",
       "Name: PolicyNumber, dtype: int64"
      ]
     },
     "execution_count": 42,
     "metadata": {},
     "output_type": "execute_result"
    }
   ],
   "source": [
    "# Cómo se distribuye el fraude por mes de la reclamación\n",
    "car_fraud.groupby(['FraudFound_P', 'MonthClaimed']).count()['PolicyNumber']"
   ]
  },
  {
   "cell_type": "code",
   "execution_count": 43,
   "id": "a6ffc741-06f2-411a-a584-c49dde6e45d7",
   "metadata": {},
   "outputs": [
    {
     "data": {
      "image/png": "[encoded data removed]",
      "text/plain": [
       "<Figure size 432x288 with 1 Axes>"
      ]
     },
     "metadata": {
      "needs_background": "light"
     },
     "output_type": "display_data"
    }
   ],
   "source": [
    "grouped_sex = car_fraud.groupby(['FraudFound_P', 'MonthClaimed']).count()['PolicyNumber']\n",
    "grouped_sex.unstack(level=0).plot.bar()\n",
    "plt.show()"
   ]
  },
  {
   "cell_type": "code",
   "execution_count": 43,
   "id": "d1b2756a-234b-4a32-9b40-9b6f0292576f",
   "metadata": {},
   "outputs": [
    {
     "data": {
      "text/plain": [
       "FraudFound_P  Sex   \n",
       "0             Female    1724\n",
       "              Male      9156\n",
       "1             Female      73\n",
       "              Male       612\n",
       "Name: PolicyNumber, dtype: int64"
      ]
     },
     "execution_count": 43,
     "metadata": {},
     "output_type": "execute_result"
    }
   ],
   "source": [
    "# Cómo se distribuye el fraude por sexo del asegurado\n",
    "car_fraud.groupby(['FraudFound_P', 'Sex']).count()['PolicyNumber']"
   ]
  },
  {
   "cell_type": "code",
   "execution_count": 10,
   "id": "f34e1fbc-387c-4fa3-ae1f-18b0c252496c",
   "metadata": {},
   "outputs": [
    {
     "data": {
      "image/png": "[encoded data removed]",
      "text/plain": [
       "<Figure size 432x288 with 1 Axes>"
      ]
     },
     "metadata": {
      "needs_background": "light"
     },
     "output_type": "display_data"
    }
   ],
   "source": [
    "grouped_sex = car_fraud.groupby(['FraudFound_P', 'Sex']).count()['PolicyNumber']\n",
    "grouped_sex.unstack(level=0).plot.bar()\n",
    "plt.show()"
   ]
  },
  {
   "cell_type": "code",
   "execution_count": 15,
   "id": "2d885c7c-911d-450f-9f4e-b1294915b8be",
   "metadata": {},
   "outputs": [
    {
     "data": {
      "text/plain": [
       "FraudFound_P  PoliceReportFiled\n",
       "0             No                   10563\n",
       "              Yes                    317\n",
       "1             No                     672\n",
       "              Yes                     13\n",
       "Name: PolicyNumber, dtype: int64"
      ]
     },
     "execution_count": 15,
     "metadata": {},
     "output_type": "execute_result"
    }
   ],
   "source": [
    "# Cómo se distribuye el fraude por reporte policial\n",
    "car_fraud.groupby(['FraudFound_P', 'PoliceReportFiled']).count()['PolicyNumber']"
   ]
  },
  {
   "cell_type": "code",
   "execution_count": 11,
   "id": "0d8ec830-a502-4400-bb10-01fb8f101622",
   "metadata": {},
   "outputs": [
    {
     "data": {
      "image/png": "[encoded data removed]",
      "text/plain": [
       "<Figure size 432x288 with 1 Axes>"
      ]
     },
     "metadata": {
      "needs_background": "light"
     },
     "output_type": "display_data"
    }
   ],
   "source": [
    "grouped_sex = car_fraud.groupby(['FraudFound_P', 'PoliceReportFiled']).count()['PolicyNumber']\n",
    "grouped_sex.unstack(level=0).plot.bar()\n",
    "plt.show()"
   ]
  },
  {
   "cell_type": "code",
   "execution_count": 12,
   "id": "cb36528e-8abe-4208-8e6f-d1b91f56e775",
   "metadata": {},
   "outputs": [
    {
     "data": {
      "text/plain": [
       "FraudFound_P  WitnessPresent\n",
       "0             No                10814\n",
       "              Yes                  66\n",
       "1             No                  683\n",
       "              Yes                   2\n",
       "Name: PolicyNumber, dtype: int64"
      ]
     },
     "execution_count": 12,
     "metadata": {},
     "output_type": "execute_result"
    }
   ],
   "source": [
    "# Cómo se distribuye el fraude por testigo presente\n",
    "car_fraud.groupby(['FraudFound_P', 'WitnessPresent']).count()['PolicyNumber']"
   ]
  },
  {
   "cell_type": "code",
   "execution_count": 13,
   "id": "39a231ef-9e1c-4771-9569-1b9f8e04fbd5",
   "metadata": {},
   "outputs": [
    {
     "data": {
      "image/png": "[encoded data removed]",
      "text/plain": [
       "<Figure size 432x288 with 1 Axes>"
      ]
     },
     "metadata": {
      "needs_background": "light"
     },
     "output_type": "display_data"
    }
   ],
   "source": [
    "grouped_sex = car_fraud.groupby(['FraudFound_P', 'WitnessPresent']).count()['PolicyNumber']\n",
    "grouped_sex.unstack(level=0).plot.bar()\n",
    "plt.show()"
   ]
  },
  {
   "cell_type": "markdown",
   "id": "62f3099b-4dfe-449e-848e-450915b0f181",
   "metadata": {},
   "source": [
    "#### 1.4.2 Visualización de Variables Numéricas"
   ]
  },
  {
   "cell_type": "code",
   "execution_count": 102,
   "id": "18e33e9f-0d67-49d3-b893-cb147267d7e2",
   "metadata": {},
   "outputs": [
    {
     "data": {
      "text/plain": [
       "(685, 34)"
      ]
     },
     "execution_count": 102,
     "metadata": {},
     "output_type": "execute_result"
    }
   ],
   "source": [
    "# Creamos un dataframe solo para fraude encontrado\n",
    "fraud_found = car_fraud[car_fraud['FraudFound_P'] == 1]\n",
    "fraud_found.shape"
   ]
  },
  {
   "cell_type": "code",
   "execution_count": 15,
   "id": "01dc66da-d3b5-4285-a8c1-7709d94be91a",
   "metadata": {},
   "outputs": [
    {
     "data": {
      "text/plain": [
       "Text(0.5, 0, 'Age')"
      ]
     },
     "execution_count": 15,
     "metadata": {},
     "output_type": "execute_result"
    },
    {
     "data": {
      "image/png": "[encoded data removed]",
      "text/plain": [
       "<Figure size 432x288 with 1 Axes>"
      ]
     },
     "metadata": {
      "needs_background": "light"
     },
     "output_type": "display_data"
    }
   ],
   "source": [
    "# Cómo se distribuye el fraude por edad del asegurado\n",
    "fraud_found['Age'].plot.hist()\n",
    "plt.ylabel('Frecuency')\n",
    "plt.xlabel('Age')"
   ]
  },
  {
   "cell_type": "code",
   "execution_count": 16,
   "id": "f090756a-0f8e-432f-835e-e5bf905c4992",
   "metadata": {},
   "outputs": [
    {
     "data": {
      "text/plain": [
       "Text(0.5, 0, 'ClaimSize')"
      ]
     },
     "execution_count": 16,
     "metadata": {},
     "output_type": "execute_result"
    },
    {
     "data": {
      "image/png": "[encoded data removed]",
      "text/plain": [
       "<Figure size 432x288 with 1 Axes>"
      ]
     },
     "metadata": {
      "needs_background": "light"
     },
     "output_type": "display_data"
    }
   ],
   "source": [
    "# Cómo se distribuye el fraude por tamaño de la reclamación\n",
    "fraud_found['ClaimSize'].plot.hist()\n",
    "plt.ylabel('Frecuency')\n",
    "plt.xlabel('ClaimSize')"
   ]
  }
 ],
 "metadata": {
  "kernelspec": {
   "display_name": "Python 3 (ipykernel)",
   "language": "python",
   "name": "python3"
  },
  "language_info": {
   "codemirror_mode": {
    "name": "ipython",
    "version": 3
   },
   "file_extension": ".py",
   "mimetype": "text/x-python",
   "name": "python",
   "nbconvert_exporter": "python",
   "pygments_lexer": "ipython3",
   "version": "3.9.12"
  }
 },
 "nbformat": 4,
 "nbformat_minor": 5
}
