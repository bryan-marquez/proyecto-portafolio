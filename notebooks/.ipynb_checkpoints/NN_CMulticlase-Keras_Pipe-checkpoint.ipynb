{
 "cells": [
  {
   "cell_type": "markdown",
   "id": "445995fa-eca3-438e-92bf-e7e13f1d5193",
   "metadata": {},
   "source": [
    "# Segmentación de Clientes con Redes Neuronales"
   ]
  },
  {
   "cell_type": "markdown",
   "id": "a28fc343-25cb-489a-8e8e-8b0c3f2711fd",
   "metadata": {},
   "source": [
    "## 1. Análisis Exploratorio de los Datos (EDA)"
   ]
  },
  {
   "cell_type": "markdown",
   "id": "fa4a2ade-098f-45bb-9d2a-d236ec8af953",
   "metadata": {},
   "source": [
    "### 1.1 Carga de Librerías"
   ]
  },
  {
   "cell_type": "code",
   "execution_count": 67,
   "id": "7e8d8e41-13e1-4753-af48-b75ad842e3a0",
   "metadata": {},
   "outputs": [],
   "source": [
    "# Cargamos las librerías a utilizar\n",
    "import pandas as pd\n",
    "import seaborn as sns\n",
    "import numpy as np\n",
    "import matplotlib.pyplot as plt\n",
    "\n",
    "# Para mostrar todas las columnas\n",
    "pd.set_option('display.max_columns', None)\n",
    "\n",
    "# Para mostar las cifras en formato float\n",
    "pd.options.display.float_format = '{:.2f}'.format"
   ]
  },
  {
   "cell_type": "markdown",
   "id": "90888f1f-e9ea-4700-bf60-31a0f259f071",
   "metadata": {},
   "source": [
    "### 1.2 Carga de Datos"
   ]
  },
  {
   "cell_type": "code",
   "execution_count": 68,
   "id": "82907f50-d2aa-44c7-8b8d-c1fc2c44051e",
   "metadata": {},
   "outputs": [
    {
     "data": {
      "text/html": [
       "<div>\n",
       "<style scoped>\n",
       "    .dataframe tbody tr th:only-of-type {\n",
       "        vertical-align: middle;\n",
       "    }\n",
       "\n",
       "    .dataframe tbody tr th {\n",
       "        vertical-align: top;\n",
       "    }\n",
       "\n",
       "    .dataframe thead th {\n",
       "        text-align: right;\n",
       "    }\n",
       "</style>\n",
       "<table border=\"1\" class=\"dataframe\">\n",
       "  <thead>\n",
       "    <tr style=\"text-align: right;\">\n",
       "      <th></th>\n",
       "      <th>ID</th>\n",
       "      <th>Gender</th>\n",
       "      <th>Ever_Married</th>\n",
       "      <th>Age</th>\n",
       "      <th>Graduated</th>\n",
       "      <th>Profession</th>\n",
       "      <th>Work_Experience</th>\n",
       "      <th>Spending_Score</th>\n",
       "      <th>Family_Size</th>\n",
       "      <th>Var_1</th>\n",
       "    </tr>\n",
       "  </thead>\n",
       "  <tbody>\n",
       "    <tr>\n",
       "      <th>0</th>\n",
       "      <td>458989</td>\n",
       "      <td>Female</td>\n",
       "      <td>Yes</td>\n",
       "      <td>36</td>\n",
       "      <td>Yes</td>\n",
       "      <td>Engineer</td>\n",
       "      <td>0.00</td>\n",
       "      <td>Low</td>\n",
       "      <td>1.00</td>\n",
       "      <td>Cat_6</td>\n",
       "    </tr>\n",
       "    <tr>\n",
       "      <th>1</th>\n",
       "      <td>458994</td>\n",
       "      <td>Male</td>\n",
       "      <td>Yes</td>\n",
       "      <td>37</td>\n",
       "      <td>Yes</td>\n",
       "      <td>Healthcare</td>\n",
       "      <td>8.00</td>\n",
       "      <td>Average</td>\n",
       "      <td>4.00</td>\n",
       "      <td>Cat_6</td>\n",
       "    </tr>\n",
       "    <tr>\n",
       "      <th>2</th>\n",
       "      <td>458996</td>\n",
       "      <td>Female</td>\n",
       "      <td>Yes</td>\n",
       "      <td>69</td>\n",
       "      <td>No</td>\n",
       "      <td>NaN</td>\n",
       "      <td>0.00</td>\n",
       "      <td>Low</td>\n",
       "      <td>1.00</td>\n",
       "      <td>Cat_6</td>\n",
       "    </tr>\n",
       "    <tr>\n",
       "      <th>3</th>\n",
       "      <td>459000</td>\n",
       "      <td>Male</td>\n",
       "      <td>Yes</td>\n",
       "      <td>59</td>\n",
       "      <td>No</td>\n",
       "      <td>Executive</td>\n",
       "      <td>11.00</td>\n",
       "      <td>High</td>\n",
       "      <td>2.00</td>\n",
       "      <td>Cat_6</td>\n",
       "    </tr>\n",
       "    <tr>\n",
       "      <th>4</th>\n",
       "      <td>459001</td>\n",
       "      <td>Female</td>\n",
       "      <td>No</td>\n",
       "      <td>19</td>\n",
       "      <td>No</td>\n",
       "      <td>Marketing</td>\n",
       "      <td>NaN</td>\n",
       "      <td>Low</td>\n",
       "      <td>4.00</td>\n",
       "      <td>Cat_6</td>\n",
       "    </tr>\n",
       "  </tbody>\n",
       "</table>\n",
       "</div>"
      ],
      "text/plain": [
       "       ID  Gender Ever_Married  Age Graduated  Profession  Work_Experience  \\\n",
       "0  458989  Female          Yes   36       Yes    Engineer             0.00   \n",
       "1  458994    Male          Yes   37       Yes  Healthcare             8.00   \n",
       "2  458996  Female          Yes   69        No         NaN             0.00   \n",
       "3  459000    Male          Yes   59        No   Executive            11.00   \n",
       "4  459001  Female           No   19        No   Marketing              NaN   \n",
       "\n",
       "  Spending_Score  Family_Size  Var_1  \n",
       "0            Low         1.00  Cat_6  \n",
       "1        Average         4.00  Cat_6  \n",
       "2            Low         1.00  Cat_6  \n",
       "3           High         2.00  Cat_6  \n",
       "4            Low         4.00  Cat_6  "
      ]
     },
     "execution_count": 68,
     "metadata": {},
     "output_type": "execute_result"
    }
   ],
   "source": [
    "# Asignamos los datos a un dataframe\n",
    "clientes = pd.read_csv('.\\..\\data\\customers.csv')\n",
    "\n",
    "# Mostramos el encabezado de los datos\n",
    "clientes.head()"
   ]
  },
  {
   "cell_type": "code",
   "execution_count": 69,
   "id": "5933ce42-1e3e-41c1-9faf-0033bf1dafae",
   "metadata": {},
   "outputs": [
    {
     "name": "stdout",
     "output_type": "stream",
     "text": [
      "<class 'pandas.core.frame.DataFrame'>\n",
      "RangeIndex: 2627 entries, 0 to 2626\n",
      "Data columns (total 10 columns):\n",
      " #   Column           Non-Null Count  Dtype  \n",
      "---  ------           --------------  -----  \n",
      " 0   ID               2627 non-null   int64  \n",
      " 1   Gender           2627 non-null   object \n",
      " 2   Ever_Married     2577 non-null   object \n",
      " 3   Age              2627 non-null   int64  \n",
      " 4   Graduated        2603 non-null   object \n",
      " 5   Profession       2589 non-null   object \n",
      " 6   Work_Experience  2358 non-null   float64\n",
      " 7   Spending_Score   2627 non-null   object \n",
      " 8   Family_Size      2514 non-null   float64\n",
      " 9   Var_1            2595 non-null   object \n",
      "dtypes: float64(2), int64(2), object(6)\n",
      "memory usage: 205.4+ KB\n"
     ]
    }
   ],
   "source": [
    "# Mostramos el número de filas, columnas, valores NO nulos y el tipo de datos\n",
    "clientes.info()"
   ]
  },
  {
   "cell_type": "markdown",
   "id": "a20ac13d-b29c-4f57-87b8-f055ee47c30e",
   "metadata": {},
   "source": [
    "### 1.3 Estadística Descriptiva"
   ]
  },
  {
   "cell_type": "code",
   "execution_count": 70,
   "id": "cd088189-ea91-4656-8617-02bbc18d7e46",
   "metadata": {},
   "outputs": [
    {
     "data": {
      "text/html": [
       "<div>\n",
       "<style scoped>\n",
       "    .dataframe tbody tr th:only-of-type {\n",
       "        vertical-align: middle;\n",
       "    }\n",
       "\n",
       "    .dataframe tbody tr th {\n",
       "        vertical-align: top;\n",
       "    }\n",
       "\n",
       "    .dataframe thead th {\n",
       "        text-align: right;\n",
       "    }\n",
       "</style>\n",
       "<table border=\"1\" class=\"dataframe\">\n",
       "  <thead>\n",
       "    <tr style=\"text-align: right;\">\n",
       "      <th></th>\n",
       "      <th>count</th>\n",
       "      <th>mean</th>\n",
       "      <th>std</th>\n",
       "      <th>min</th>\n",
       "      <th>25%</th>\n",
       "      <th>50%</th>\n",
       "      <th>75%</th>\n",
       "      <th>max</th>\n",
       "    </tr>\n",
       "  </thead>\n",
       "  <tbody>\n",
       "    <tr>\n",
       "      <th>ID</th>\n",
       "      <td>2627.00</td>\n",
       "      <td>463433.92</td>\n",
       "      <td>2618.25</td>\n",
       "      <td>458989.00</td>\n",
       "      <td>461162.50</td>\n",
       "      <td>463379.00</td>\n",
       "      <td>465696.00</td>\n",
       "      <td>467968.00</td>\n",
       "    </tr>\n",
       "    <tr>\n",
       "      <th>Age</th>\n",
       "      <td>2627.00</td>\n",
       "      <td>43.65</td>\n",
       "      <td>16.97</td>\n",
       "      <td>18.00</td>\n",
       "      <td>30.00</td>\n",
       "      <td>41.00</td>\n",
       "      <td>53.00</td>\n",
       "      <td>89.00</td>\n",
       "    </tr>\n",
       "    <tr>\n",
       "      <th>Work_Experience</th>\n",
       "      <td>2358.00</td>\n",
       "      <td>2.55</td>\n",
       "      <td>3.34</td>\n",
       "      <td>0.00</td>\n",
       "      <td>0.00</td>\n",
       "      <td>1.00</td>\n",
       "      <td>4.00</td>\n",
       "      <td>14.00</td>\n",
       "    </tr>\n",
       "    <tr>\n",
       "      <th>Family_Size</th>\n",
       "      <td>2514.00</td>\n",
       "      <td>2.83</td>\n",
       "      <td>1.55</td>\n",
       "      <td>1.00</td>\n",
       "      <td>2.00</td>\n",
       "      <td>2.00</td>\n",
       "      <td>4.00</td>\n",
       "      <td>9.00</td>\n",
       "    </tr>\n",
       "  </tbody>\n",
       "</table>\n",
       "</div>"
      ],
      "text/plain": [
       "                  count      mean     std       min       25%       50%  \\\n",
       "ID              2627.00 463433.92 2618.25 458989.00 461162.50 463379.00   \n",
       "Age             2627.00     43.65   16.97     18.00     30.00     41.00   \n",
       "Work_Experience 2358.00      2.55    3.34      0.00      0.00      1.00   \n",
       "Family_Size     2514.00      2.83    1.55      1.00      2.00      2.00   \n",
       "\n",
       "                      75%       max  \n",
       "ID              465696.00 467968.00  \n",
       "Age                 53.00     89.00  \n",
       "Work_Experience      4.00     14.00  \n",
       "Family_Size          4.00      9.00  "
      ]
     },
     "execution_count": 70,
     "metadata": {},
     "output_type": "execute_result"
    }
   ],
   "source": [
    "# Resumimos las variables numéricas\n",
    "clientes.describe().T.round(2)"
   ]
  },
  {
   "cell_type": "markdown",
   "id": "6a70dca2-d15d-470c-95d5-e131ada2e618",
   "metadata": {},
   "source": [
    "### 1.4 Visualización de Variables Numéricas"
   ]
  },
  {
   "cell_type": "code",
   "execution_count": 35,
   "id": "93946b4a-71d9-4630-8fa5-bf06b31daec9",
   "metadata": {},
   "outputs": [
    {
     "data": {
      "image/png": "[encoded data removed]",
      "text/plain": [
       "<Figure size 720x720 with 4 Axes>"
      ]
     },
     "metadata": {
      "needs_background": "light"
     },
     "output_type": "display_data"
    }
   ],
   "source": [
    "# Trazamos los histogramas\n",
    "clientes.hist(bins=10 , figsize=(10,10)) \n",
    "plt.show()"
   ]
  },
  {
   "cell_type": "markdown",
   "id": "df62e49f-5232-4ece-8a3a-e8ee2556dd5a",
   "metadata": {},
   "source": [
    "## 2. Preparación de los Datos"
   ]
  },
  {
   "cell_type": "markdown",
   "id": "98773e3f-f7a1-478b-a215-715dc7a5372b",
   "metadata": {},
   "source": [
    "### 2.1 Limpieza de Datos"
   ]
  },
  {
   "cell_type": "code",
   "execution_count": 71,
   "id": "03912986-77be-4a1f-958d-f06e8e73fbef",
   "metadata": {},
   "outputs": [
    {
     "data": {
      "text/plain": [
       "(2627, 9)"
      ]
     },
     "execution_count": 71,
     "metadata": {},
     "output_type": "execute_result"
    }
   ],
   "source": [
    "# Eliminamos la variable ID\n",
    "\n",
    "clientes = clientes.drop(['ID'], axis = 1)\n",
    "clientes.shape"
   ]
  },
  {
   "cell_type": "code",
   "execution_count": 72,
   "id": "40fc89b6-b932-4a21-a92b-cf4acd4ac7a9",
   "metadata": {},
   "outputs": [
    {
     "data": {
      "text/plain": [
       "Gender               0\n",
       "Ever_Married        50\n",
       "Age                  0\n",
       "Graduated           24\n",
       "Profession          38\n",
       "Work_Experience    269\n",
       "Spending_Score       0\n",
       "Family_Size        113\n",
       "Var_1               32\n",
       "dtype: int64"
      ]
     },
     "execution_count": 72,
     "metadata": {},
     "output_type": "execute_result"
    }
   ],
   "source": [
    "# Mostramos la suma de valores nulos de cada variable\n",
    "\n",
    "clientes.isnull().sum()"
   ]
  },
  {
   "cell_type": "raw",
   "id": "c081fefd-810b-40a0-8b34-8ff478c988df",
   "metadata": {},
   "source": [
    "# Imputamos los valores nulos\n",
    "\n",
    "from sklearn.impute import SimpleImputer\n",
    "\n",
    "imputer = SimpleImputer(strategy='most_frequent')"
   ]
  },
  {
   "cell_type": "raw",
   "id": "91809615-df03-4a05-ae25-df3c7576073f",
   "metadata": {},
   "source": [
    "# Ajustamos y transformamos los valores nulos\n",
    "\n",
    "clientes = pd.DataFrame(imputer.fit_transform(clientes),\n",
    "                           columns = ['Gender',\n",
    "                                      'Ever_Married',\n",
    "                                      'Age',\n",
    "                                      'Graduated',\n",
    "                                      'Profession',\n",
    "                                      'Work_Experience',\n",
    "                                      'Spending_Score',\n",
    "                                      'Family_Size',\n",
    "                                      'Var_1'])\n",
    "clientes.isnull().sum()"
   ]
  },
  {
   "cell_type": "code",
   "execution_count": 73,
   "id": "6d0eb02f-3a95-45c6-b9db-64ff1914d17a",
   "metadata": {},
   "outputs": [],
   "source": [
    "# Imputamos los valores nulos\n",
    "\n",
    "from sklearn.impute import KNNImputer\n",
    "\n",
    "imputer = KNNImputer()"
   ]
  },
  {
   "cell_type": "markdown",
   "id": "19168828-bc26-474f-b2ac-4d1835fae1bf",
   "metadata": {},
   "source": [
    "### 2.2 Codificación de Datos Categóricos"
   ]
  },
  {
   "cell_type": "code",
   "execution_count": 74,
   "id": "46be0f15-2e55-4b4d-ba8d-0145d92b218c",
   "metadata": {},
   "outputs": [],
   "source": [
    "# Ordenamos las variables categóricas ordinales y nominales\n",
    "\n",
    "Gender = ['Male', 'Female']\n",
    "Ever_Married = ['Yes', 'No']\n",
    "Graduated = ['No', 'Yes']\n",
    "Profession = ['Engineer', 'Healthcare', 'Executive', 'Marketing', 'Doctor', 'Artist', 'Lawyer', 'Entertainment', 'Homemaker']\n",
    "Spending_Score = ['Low', 'Average', 'High']\n",
    "Var_1 = ['Cat_1', 'Cat_2', 'Cat_3', 'Cat_4', 'Cat_5', 'Cat_6', 'Cat_7']"
   ]
  },
  {
   "cell_type": "code",
   "execution_count": 75,
   "id": "93165a80-783f-447b-a159-6657f5bd0cdc",
   "metadata": {},
   "outputs": [],
   "source": [
    "# Asignamos las categorías\n",
    "\n",
    "categorias = [Gender,\n",
    "              Ever_Married,\n",
    "              Graduated,\n",
    "              Profession,\n",
    "              Spending_Score,\n",
    "              Var_1]"
   ]
  },
  {
   "cell_type": "code",
   "execution_count": 76,
   "id": "9bba3c24-9938-4968-947b-d35c9765a406",
   "metadata": {},
   "outputs": [],
   "source": [
    "# Asignamos las columnas categóricas\n",
    "\n",
    "categorical = ['Gender',\n",
    "               'Ever_Married',\n",
    "               'Graduated',\n",
    "               'Profession',\n",
    "               'Spending_Score',\n",
    "               'Var_1']"
   ]
  },
  {
   "cell_type": "code",
   "execution_count": 77,
   "id": "c7094547-d461-48b1-b9f5-2a500f1ea387",
   "metadata": {},
   "outputs": [],
   "source": [
    "# Aplicamos el codificador OrdinalEncoder a las variables categóricas ordinales y nominales\n",
    "\n",
    "from sklearn.preprocessing import OrdinalEncoder\n",
    "\n",
    "oe = OrdinalEncoder(categories = categorias,\n",
    "                    handle_unknown='use_encoded_value', unknown_value=-1)"
   ]
  },
  {
   "cell_type": "markdown",
   "id": "b66bbc1b-6dc6-4085-93eb-c4de7ec75b9b",
   "metadata": {},
   "source": [
    "### 2.3 Escalamiento de Variables"
   ]
  },
  {
   "cell_type": "raw",
   "id": "b664ac54-cc20-441e-8e9a-98225979ad31",
   "metadata": {},
   "source": [
    "# Estandarizamos los datos númericos utilizando StandardScaler\n",
    "\n",
    "from sklearn.preprocessing import Binarizer\n",
    "\n",
    "scaler = Binarizer()"
   ]
  },
  {
   "cell_type": "markdown",
   "id": "3f9ba09e-38c1-4ce4-bf19-2821b0bfe40f",
   "metadata": {},
   "source": [
    "### 2.4 Sesgo / Asimetría"
   ]
  },
  {
   "cell_type": "code",
   "execution_count": 78,
   "id": "22dfb3a0-ebf9-4ad6-b33a-02d393b24e40",
   "metadata": {},
   "outputs": [],
   "source": [
    "# Asignamos las columnas categóricas\n",
    "\n",
    "numerical = ['Age',\n",
    "             'Work_Experience',\n",
    "             'Family_Size']"
   ]
  },
  {
   "cell_type": "code",
   "execution_count": 79,
   "id": "96d911de-b8d3-4687-a4f3-d429e7352278",
   "metadata": {},
   "outputs": [],
   "source": [
    "# Aplicamos la transformación de Box-Cox o Yeo-Johnson a los atributos con sesgo\n",
    "# box-cox (valores positivos)\n",
    "# yeo-johnson (valores negativos)\n",
    "\n",
    "from sklearn.preprocessing import PowerTransformer\n",
    "\n",
    "pt = PowerTransformer(method='yeo-johnson', standardize=True)"
   ]
  },
  {
   "cell_type": "markdown",
   "id": "4fa94567-cbc2-4a6a-8e4c-9e674ce1a366",
   "metadata": {},
   "source": [
    "### 2.5 Transformación de Columnas"
   ]
  },
  {
   "cell_type": "code",
   "execution_count": 80,
   "id": "2acebbc3-7952-4566-9afe-4b79947bcb33",
   "metadata": {},
   "outputs": [],
   "source": [
    "# Creamos Pipelines Auxiliares\n",
    "\n",
    "from sklearn.pipeline import make_pipeline\n",
    "\n",
    "categorical_pipeline = make_pipeline(oe, imputer) #scaler\n",
    "numerical_pipeline = make_pipeline(pt, imputer) #scaler"
   ]
  },
  {
   "cell_type": "code",
   "execution_count": 81,
   "id": "b0180228-5ceb-4fb8-8eb1-bfa39138503b",
   "metadata": {},
   "outputs": [],
   "source": [
    "# Aplicamos el transformador de columnas make_column_transformer\n",
    "\n",
    "from sklearn.compose import make_column_transformer\n",
    "\n",
    "ct = make_column_transformer(\n",
    "    (numerical_pipeline, numerical),\n",
    "    (categorical_pipeline, categorical),\n",
    "     remainder = 'passthrough')"
   ]
  },
  {
   "cell_type": "code",
   "execution_count": 82,
   "id": "fa7dcee1-2638-4096-8b4b-47a4108a69da",
   "metadata": {},
   "outputs": [
    {
     "data": {
      "text/plain": [
       "array([[-0.31481914, -1.19342187, -1.49190138, ...,  0.        ,\n",
       "         0.        ,  5.        ],\n",
       "       [-0.24491788,  1.42980985,  0.88839264, ...,  1.        ,\n",
       "         1.        ,  5.        ],\n",
       "       [ 1.37898776, -1.19342187, -1.49190138, ..., -1.        ,\n",
       "         0.        ,  5.        ],\n",
       "       ...,\n",
       "       [ 0.68383385, -0.57884173, -0.39849791, ...,  7.        ,\n",
       "         0.        ,  5.        ],\n",
       "       [ 0.37093251, -0.066179  ,  1.32453349, ...,  2.        ,\n",
       "         2.        ,  3.        ],\n",
       "       [ 0.14081622,  1.50064602,  0.33824854, ...,  1.        ,\n",
       "         0.        ,  6.        ]])"
      ]
     },
     "execution_count": 82,
     "metadata": {},
     "output_type": "execute_result"
    }
   ],
   "source": [
    "# Ajustamos y transformamos los datos\n",
    "\n",
    "clientes = ct.fit_transform(clientes)\n",
    "clientes"
   ]
  },
  {
   "cell_type": "markdown",
   "id": "8a35f216-aa56-4802-bcf5-a221be61c29a",
   "metadata": {},
   "source": [
    "### 2.6 División de los Datos"
   ]
  },
  {
   "cell_type": "code",
   "execution_count": 83,
   "id": "4c19dc26-3cb1-4117-ae0f-8bbb83385dc9",
   "metadata": {},
   "outputs": [
    {
     "name": "stdout",
     "output_type": "stream",
     "text": [
      "X: (2627, 8)\n",
      "y: (2627,)\n"
     ]
    }
   ],
   "source": [
    "# Dividimos los datos en X y y\n",
    "X = clientes[:,0:8]\n",
    "y = clientes[:,8]\n",
    "\n",
    "print(f\"X: {X.shape}\")\n",
    "print(f\"y: {y.shape}\")"
   ]
  },
  {
   "cell_type": "code",
   "execution_count": 84,
   "id": "189289a8-c04f-4d8d-a333-7695af1e84a7",
   "metadata": {},
   "outputs": [
    {
     "name": "stdout",
     "output_type": "stream",
     "text": [
      "X_train: (2101, 8)\n",
      "X_test: (526, 8)\n",
      "y_train: (2101,)\n",
      "y_test: (526,)\n"
     ]
    }
   ],
   "source": [
    "# Dividimos los datos de entrenamiento y prueba\n",
    "\n",
    "from sklearn.model_selection import train_test_split\n",
    "\n",
    "X_train, X_test, y_train, y_test = train_test_split(X, y, test_size=0.2, shuffle=True, random_state=0, stratify=y) #,stratify=y\n",
    "\n",
    "print(f\"X_train: {X_train.shape}\")\n",
    "print(f\"X_test: {X_test.shape}\")\n",
    "print(f\"y_train: {y_train.shape}\")\n",
    "print(f\"y_test: {y_test.shape}\")"
   ]
  },
  {
   "cell_type": "code",
   "execution_count": 85,
   "id": "fcda32d4-bd39-46e0-a260-6e06c65fa7bc",
   "metadata": {},
   "outputs": [],
   "source": [
    "# Codificamos las variables de salida\n",
    "\n",
    "from keras.utils import np_utils\n",
    "\n",
    "y_train_ohe = np_utils.to_categorical(y_train, num_classes=7)\n",
    "y_test_ohe = np_utils.to_categorical(y_test, num_classes=7)"
   ]
  },
  {
   "cell_type": "markdown",
   "id": "51167ff1-13cf-4538-a14f-29acaeb1e812",
   "metadata": {},
   "source": [
    "## 3. Modelado"
   ]
  },
  {
   "cell_type": "markdown",
   "id": "9c3f7c65-c5b6-449b-9f05-6d9cb67bda67",
   "metadata": {},
   "source": [
    "### 3.1 Secuencial"
   ]
  },
  {
   "cell_type": "code",
   "execution_count": 86,
   "id": "6608bd5f-b693-468f-af46-f509533997a7",
   "metadata": {},
   "outputs": [],
   "source": [
    "# Definimos el modelo de capas con Keras relu - softmax (clasificación multiclase)\n",
    "\n",
    "#pip install tensorflow\n",
    "#pip install keras\n",
    "\n",
    "import tensorflow as tf\n",
    "from keras.models import Sequential\n",
    "from keras.layers import Dense\n",
    "\n",
    "# Creamos 2 capas ocultas con 4 y 2 neuronas\n",
    "\n",
    "model = Sequential()\n",
    "model.add(Dense(16, input_dim=8,  activation='relu')) # 1 capa oculta\n",
    "model.add(Dense(14, activation='relu')) # 2 capa oculta\n",
    "model.add(Dense(7, activation='softmax')) # 1 capa de salida"
   ]
  },
  {
   "cell_type": "code",
   "execution_count": 87,
   "id": "6939eeac-3dec-45a0-91e3-70a445029506",
   "metadata": {},
   "outputs": [],
   "source": [
    "# Compilamos el modelo Keras categorical_crossentropy (clasificación multiclase)\n",
    "\n",
    "model.compile(loss='categorical_crossentropy', optimizer='adam', metrics=['Accuracy']) #metrics=[tf.keras.metrics.Recall()])"
   ]
  },
  {
   "cell_type": "code",
   "execution_count": 88,
   "id": "0c949a1f-1617-4e83-b2a4-faf21d01a994",
   "metadata": {},
   "outputs": [
    {
     "name": "stdout",
     "output_type": "stream",
     "text": [
      "Epoch 1/100\n",
      "211/211 [==============================] - 1s 3ms/step - loss: 1.4611 - Accuracy: 0.5098 - val_loss: 1.2185 - val_Accuracy: 0.6388\n",
      "Epoch 2/100\n",
      "211/211 [==============================] - 0s 2ms/step - loss: 1.1934 - Accuracy: 0.6416 - val_loss: 1.1754 - val_Accuracy: 0.6407\n",
      "Epoch 3/100\n",
      "211/211 [==============================] - 0s 2ms/step - loss: 1.1671 - Accuracy: 0.6406 - val_loss: 1.1607 - val_Accuracy: 0.6445\n",
      "Epoch 4/100\n",
      "211/211 [==============================] - 0s 2ms/step - loss: 1.1491 - Accuracy: 0.6430 - val_loss: 1.1550 - val_Accuracy: 0.6464\n",
      "Epoch 5/100\n",
      "211/211 [==============================] - 0s 2ms/step - loss: 1.1389 - Accuracy: 0.6445 - val_loss: 1.1409 - val_Accuracy: 0.6483\n",
      "Epoch 6/100\n",
      "211/211 [==============================] - 0s 2ms/step - loss: 1.1337 - Accuracy: 0.6459 - val_loss: 1.1390 - val_Accuracy: 0.6483\n",
      "Epoch 7/100\n",
      "211/211 [==============================] - 0s 2ms/step - loss: 1.1266 - Accuracy: 0.6459 - val_loss: 1.1366 - val_Accuracy: 0.6483\n",
      "Epoch 8/100\n",
      "211/211 [==============================] - 0s 2ms/step - loss: 1.1229 - Accuracy: 0.6449 - val_loss: 1.1330 - val_Accuracy: 0.6483\n",
      "Epoch 9/100\n",
      "211/211 [==============================] - 0s 2ms/step - loss: 1.1188 - Accuracy: 0.6459 - val_loss: 1.1363 - val_Accuracy: 0.6464\n",
      "Epoch 10/100\n",
      "211/211 [==============================] - 0s 2ms/step - loss: 1.1157 - Accuracy: 0.6468 - val_loss: 1.1367 - val_Accuracy: 0.6464\n",
      "Epoch 11/100\n",
      "211/211 [==============================] - 0s 2ms/step - loss: 1.1117 - Accuracy: 0.6464 - val_loss: 1.1343 - val_Accuracy: 0.6502\n",
      "Epoch 12/100\n",
      "211/211 [==============================] - 0s 2ms/step - loss: 1.1101 - Accuracy: 0.6468 - val_loss: 1.1371 - val_Accuracy: 0.6445\n",
      "Epoch 13/100\n",
      "211/211 [==============================] - 0s 2ms/step - loss: 1.1085 - Accuracy: 0.6464 - val_loss: 1.1360 - val_Accuracy: 0.6445\n",
      "Epoch 14/100\n",
      "211/211 [==============================] - 0s 2ms/step - loss: 1.1063 - Accuracy: 0.6449 - val_loss: 1.1359 - val_Accuracy: 0.6464\n",
      "Epoch 15/100\n",
      "211/211 [==============================] - 1s 2ms/step - loss: 1.1043 - Accuracy: 0.6487 - val_loss: 1.1356 - val_Accuracy: 0.6483\n",
      "Epoch 16/100\n",
      "211/211 [==============================] - 0s 2ms/step - loss: 1.1034 - Accuracy: 0.6487 - val_loss: 1.1328 - val_Accuracy: 0.6445\n",
      "Epoch 17/100\n",
      "211/211 [==============================] - 0s 2ms/step - loss: 1.1015 - Accuracy: 0.6487 - val_loss: 1.1350 - val_Accuracy: 0.6445\n",
      "Epoch 18/100\n",
      "211/211 [==============================] - 0s 2ms/step - loss: 1.1017 - Accuracy: 0.6459 - val_loss: 1.1391 - val_Accuracy: 0.6445\n",
      "Epoch 19/100\n",
      "211/211 [==============================] - 0s 2ms/step - loss: 1.1007 - Accuracy: 0.6492 - val_loss: 1.1343 - val_Accuracy: 0.6464\n",
      "Epoch 20/100\n",
      "211/211 [==============================] - 0s 2ms/step - loss: 1.0956 - Accuracy: 0.6506 - val_loss: 1.1381 - val_Accuracy: 0.6483\n",
      "Epoch 21/100\n",
      "211/211 [==============================] - 0s 2ms/step - loss: 1.0965 - Accuracy: 0.6540 - val_loss: 1.1341 - val_Accuracy: 0.6445\n",
      "Epoch 22/100\n",
      "211/211 [==============================] - 0s 2ms/step - loss: 1.0933 - Accuracy: 0.6487 - val_loss: 1.1387 - val_Accuracy: 0.6407\n",
      "Epoch 23/100\n",
      "211/211 [==============================] - 0s 2ms/step - loss: 1.0923 - Accuracy: 0.6549 - val_loss: 1.1359 - val_Accuracy: 0.6426\n",
      "Epoch 24/100\n",
      "211/211 [==============================] - 0s 2ms/step - loss: 1.0922 - Accuracy: 0.6506 - val_loss: 1.1368 - val_Accuracy: 0.6464\n",
      "Epoch 25/100\n",
      "211/211 [==============================] - 0s 2ms/step - loss: 1.0912 - Accuracy: 0.6530 - val_loss: 1.1410 - val_Accuracy: 0.6445\n",
      "Epoch 26/100\n",
      "211/211 [==============================] - 0s 2ms/step - loss: 1.0925 - Accuracy: 0.6516 - val_loss: 1.1435 - val_Accuracy: 0.6464\n",
      "Epoch 27/100\n",
      "211/211 [==============================] - 1s 2ms/step - loss: 1.0912 - Accuracy: 0.6521 - val_loss: 1.1414 - val_Accuracy: 0.6388\n",
      "Epoch 28/100\n",
      "211/211 [==============================] - 1s 3ms/step - loss: 1.0882 - Accuracy: 0.6535 - val_loss: 1.1409 - val_Accuracy: 0.6464\n",
      "Epoch 29/100\n",
      "211/211 [==============================] - 1s 3ms/step - loss: 1.0896 - Accuracy: 0.6549 - val_loss: 1.1416 - val_Accuracy: 0.6426\n",
      "Epoch 30/100\n",
      "211/211 [==============================] - 1s 3ms/step - loss: 1.0884 - Accuracy: 0.6530 - val_loss: 1.1441 - val_Accuracy: 0.6445\n",
      "Epoch 31/100\n",
      "211/211 [==============================] - 1s 3ms/step - loss: 1.0872 - Accuracy: 0.6511 - val_loss: 1.1468 - val_Accuracy: 0.6407\n",
      "Epoch 32/100\n",
      "211/211 [==============================] - 1s 3ms/step - loss: 1.0852 - Accuracy: 0.6521 - val_loss: 1.1466 - val_Accuracy: 0.6445\n",
      "Epoch 33/100\n",
      "211/211 [==============================] - 1s 3ms/step - loss: 1.0850 - Accuracy: 0.6530 - val_loss: 1.1441 - val_Accuracy: 0.6426\n",
      "Epoch 34/100\n",
      "211/211 [==============================] - 0s 2ms/step - loss: 1.0837 - Accuracy: 0.6525 - val_loss: 1.1480 - val_Accuracy: 0.6464\n",
      "Epoch 35/100\n",
      "211/211 [==============================] - 0s 2ms/step - loss: 1.0831 - Accuracy: 0.6506 - val_loss: 1.1475 - val_Accuracy: 0.6464\n",
      "Epoch 36/100\n",
      "211/211 [==============================] - 0s 2ms/step - loss: 1.0810 - Accuracy: 0.6545 - val_loss: 1.1499 - val_Accuracy: 0.6464\n",
      "Epoch 37/100\n",
      "211/211 [==============================] - 0s 2ms/step - loss: 1.0818 - Accuracy: 0.6540 - val_loss: 1.1484 - val_Accuracy: 0.6388\n",
      "Epoch 38/100\n",
      "211/211 [==============================] - 0s 2ms/step - loss: 1.0808 - Accuracy: 0.6549 - val_loss: 1.1505 - val_Accuracy: 0.6388\n",
      "Epoch 39/100\n",
      "211/211 [==============================] - 0s 2ms/step - loss: 1.0801 - Accuracy: 0.6535 - val_loss: 1.1528 - val_Accuracy: 0.6464\n",
      "Epoch 40/100\n",
      "211/211 [==============================] - 0s 2ms/step - loss: 1.0798 - Accuracy: 0.6506 - val_loss: 1.1501 - val_Accuracy: 0.6407\n",
      "Epoch 41/100\n",
      "211/211 [==============================] - 0s 2ms/step - loss: 1.0770 - Accuracy: 0.6525 - val_loss: 1.1552 - val_Accuracy: 0.6464\n",
      "Epoch 42/100\n",
      "211/211 [==============================] - 0s 2ms/step - loss: 1.0766 - Accuracy: 0.6506 - val_loss: 1.1505 - val_Accuracy: 0.6445\n",
      "Epoch 43/100\n",
      "211/211 [==============================] - 0s 2ms/step - loss: 1.0753 - Accuracy: 0.6525 - val_loss: 1.1538 - val_Accuracy: 0.6407\n",
      "Epoch 44/100\n",
      "211/211 [==============================] - 0s 2ms/step - loss: 1.0755 - Accuracy: 0.6511 - val_loss: 1.1541 - val_Accuracy: 0.6407\n",
      "Epoch 45/100\n",
      "211/211 [==============================] - 0s 2ms/step - loss: 1.0749 - Accuracy: 0.6497 - val_loss: 1.1513 - val_Accuracy: 0.6407\n",
      "Epoch 46/100\n",
      "211/211 [==============================] - 0s 2ms/step - loss: 1.0737 - Accuracy: 0.6525 - val_loss: 1.1549 - val_Accuracy: 0.6407\n",
      "Epoch 47/100\n",
      "211/211 [==============================] - 0s 2ms/step - loss: 1.0721 - Accuracy: 0.6506 - val_loss: 1.1617 - val_Accuracy: 0.6483\n",
      "Epoch 48/100\n",
      "211/211 [==============================] - 0s 2ms/step - loss: 1.0712 - Accuracy: 0.6516 - val_loss: 1.1538 - val_Accuracy: 0.6407\n",
      "Epoch 49/100\n",
      "211/211 [==============================] - 0s 2ms/step - loss: 1.0706 - Accuracy: 0.6540 - val_loss: 1.1586 - val_Accuracy: 0.6426\n",
      "Epoch 50/100\n",
      "211/211 [==============================] - 0s 2ms/step - loss: 1.0699 - Accuracy: 0.6525 - val_loss: 1.1636 - val_Accuracy: 0.6426\n",
      "Epoch 51/100\n",
      "211/211 [==============================] - 0s 2ms/step - loss: 1.0696 - Accuracy: 0.6521 - val_loss: 1.1649 - val_Accuracy: 0.6407\n",
      "Epoch 52/100\n",
      "211/211 [==============================] - 0s 2ms/step - loss: 1.0686 - Accuracy: 0.6511 - val_loss: 1.1567 - val_Accuracy: 0.6388\n",
      "Epoch 53/100\n",
      "211/211 [==============================] - 0s 2ms/step - loss: 1.0686 - Accuracy: 0.6554 - val_loss: 1.1680 - val_Accuracy: 0.6388\n",
      "Epoch 54/100\n",
      "211/211 [==============================] - 0s 2ms/step - loss: 1.0683 - Accuracy: 0.6530 - val_loss: 1.1646 - val_Accuracy: 0.6407\n",
      "Epoch 55/100\n",
      "211/211 [==============================] - 0s 2ms/step - loss: 1.0689 - Accuracy: 0.6516 - val_loss: 1.1651 - val_Accuracy: 0.6426\n",
      "Epoch 56/100\n",
      "211/211 [==============================] - 0s 2ms/step - loss: 1.0679 - Accuracy: 0.6535 - val_loss: 1.1667 - val_Accuracy: 0.6407\n",
      "Epoch 57/100\n",
      "211/211 [==============================] - 0s 2ms/step - loss: 1.0673 - Accuracy: 0.6530 - val_loss: 1.1676 - val_Accuracy: 0.6426\n",
      "Epoch 58/100\n",
      "211/211 [==============================] - 0s 2ms/step - loss: 1.0659 - Accuracy: 0.6525 - val_loss: 1.1697 - val_Accuracy: 0.6426\n",
      "Epoch 59/100\n",
      "211/211 [==============================] - 0s 2ms/step - loss: 1.0656 - Accuracy: 0.6525 - val_loss: 1.1726 - val_Accuracy: 0.6483\n",
      "Epoch 60/100\n",
      "211/211 [==============================] - 0s 2ms/step - loss: 1.0671 - Accuracy: 0.6521 - val_loss: 1.1672 - val_Accuracy: 0.6350\n",
      "Epoch 61/100\n",
      "211/211 [==============================] - 1s 2ms/step - loss: 1.0659 - Accuracy: 0.6521 - val_loss: 1.1732 - val_Accuracy: 0.6407\n",
      "Epoch 62/100\n",
      "211/211 [==============================] - 1s 3ms/step - loss: 1.0670 - Accuracy: 0.6535 - val_loss: 1.1723 - val_Accuracy: 0.6407\n",
      "Epoch 63/100\n",
      "211/211 [==============================] - 1s 2ms/step - loss: 1.0635 - Accuracy: 0.6530 - val_loss: 1.1748 - val_Accuracy: 0.6407\n",
      "Epoch 64/100\n",
      "211/211 [==============================] - 1s 3ms/step - loss: 1.0639 - Accuracy: 0.6521 - val_loss: 1.1773 - val_Accuracy: 0.6388\n",
      "Epoch 65/100\n",
      "211/211 [==============================] - 1s 2ms/step - loss: 1.0609 - Accuracy: 0.6535 - val_loss: 1.1743 - val_Accuracy: 0.6407\n",
      "Epoch 66/100\n",
      "211/211 [==============================] - 1s 3ms/step - loss: 1.0620 - Accuracy: 0.6521 - val_loss: 1.1825 - val_Accuracy: 0.6388\n",
      "Epoch 67/100\n",
      "211/211 [==============================] - 1s 4ms/step - loss: 1.0626 - Accuracy: 0.6540 - val_loss: 1.1806 - val_Accuracy: 0.6407\n",
      "Epoch 68/100\n",
      "211/211 [==============================] - 1s 3ms/step - loss: 1.0604 - Accuracy: 0.6511 - val_loss: 1.1810 - val_Accuracy: 0.6388\n",
      "Epoch 69/100\n",
      "211/211 [==============================] - 1s 2ms/step - loss: 1.0591 - Accuracy: 0.6540 - val_loss: 1.1850 - val_Accuracy: 0.6388\n",
      "Epoch 70/100\n",
      "211/211 [==============================] - 0s 2ms/step - loss: 1.0589 - Accuracy: 0.6516 - val_loss: 1.1834 - val_Accuracy: 0.6388\n",
      "Epoch 71/100\n",
      "211/211 [==============================] - 1s 3ms/step - loss: 1.0602 - Accuracy: 0.6511 - val_loss: 1.1845 - val_Accuracy: 0.6369\n",
      "Epoch 72/100\n",
      "211/211 [==============================] - 0s 2ms/step - loss: 1.0579 - Accuracy: 0.6525 - val_loss: 1.1861 - val_Accuracy: 0.6369\n",
      "Epoch 73/100\n",
      "211/211 [==============================] - 0s 2ms/step - loss: 1.0575 - Accuracy: 0.6549 - val_loss: 1.1949 - val_Accuracy: 0.6388\n",
      "Epoch 74/100\n",
      "211/211 [==============================] - 0s 2ms/step - loss: 1.0565 - Accuracy: 0.6554 - val_loss: 1.1922 - val_Accuracy: 0.6312\n",
      "Epoch 75/100\n",
      "211/211 [==============================] - 0s 2ms/step - loss: 1.0568 - Accuracy: 0.6545 - val_loss: 1.1983 - val_Accuracy: 0.6331\n",
      "Epoch 76/100\n",
      "211/211 [==============================] - 0s 2ms/step - loss: 1.0595 - Accuracy: 0.6535 - val_loss: 1.1873 - val_Accuracy: 0.6407\n",
      "Epoch 77/100\n",
      "211/211 [==============================] - 0s 2ms/step - loss: 1.0573 - Accuracy: 0.6549 - val_loss: 1.1985 - val_Accuracy: 0.6426\n",
      "Epoch 78/100\n",
      "211/211 [==============================] - 0s 2ms/step - loss: 1.0576 - Accuracy: 0.6530 - val_loss: 1.2012 - val_Accuracy: 0.6331\n",
      "Epoch 79/100\n",
      "211/211 [==============================] - 0s 2ms/step - loss: 1.0561 - Accuracy: 0.6525 - val_loss: 1.1984 - val_Accuracy: 0.6350\n",
      "Epoch 80/100\n",
      "211/211 [==============================] - 0s 2ms/step - loss: 1.0556 - Accuracy: 0.6559 - val_loss: 1.2007 - val_Accuracy: 0.6350\n",
      "Epoch 81/100\n",
      "211/211 [==============================] - 0s 2ms/step - loss: 1.0545 - Accuracy: 0.6540 - val_loss: 1.2125 - val_Accuracy: 0.6350\n",
      "Epoch 82/100\n",
      "211/211 [==============================] - 0s 2ms/step - loss: 1.0546 - Accuracy: 0.6564 - val_loss: 1.2030 - val_Accuracy: 0.6331\n",
      "Epoch 83/100\n",
      "211/211 [==============================] - 0s 2ms/step - loss: 1.0528 - Accuracy: 0.6535 - val_loss: 1.2076 - val_Accuracy: 0.6369\n",
      "Epoch 84/100\n",
      "211/211 [==============================] - 0s 2ms/step - loss: 1.0528 - Accuracy: 0.6559 - val_loss: 1.2105 - val_Accuracy: 0.6274\n",
      "Epoch 85/100\n",
      "211/211 [==============================] - 1s 2ms/step - loss: 1.0524 - Accuracy: 0.6545 - val_loss: 1.2117 - val_Accuracy: 0.6331\n",
      "Epoch 86/100\n",
      "211/211 [==============================] - 0s 2ms/step - loss: 1.0524 - Accuracy: 0.6559 - val_loss: 1.2087 - val_Accuracy: 0.6331\n",
      "Epoch 87/100\n",
      "211/211 [==============================] - 0s 2ms/step - loss: 1.0553 - Accuracy: 0.6530 - val_loss: 1.2131 - val_Accuracy: 0.6350\n",
      "Epoch 88/100\n",
      "211/211 [==============================] - 0s 2ms/step - loss: 1.0531 - Accuracy: 0.6525 - val_loss: 1.2143 - val_Accuracy: 0.6331\n",
      "Epoch 89/100\n",
      "211/211 [==============================] - 0s 2ms/step - loss: 1.0510 - Accuracy: 0.6516 - val_loss: 1.2147 - val_Accuracy: 0.6293\n",
      "Epoch 90/100\n",
      "211/211 [==============================] - 0s 2ms/step - loss: 1.0490 - Accuracy: 0.6549 - val_loss: 1.2184 - val_Accuracy: 0.6312\n",
      "Epoch 91/100\n",
      "211/211 [==============================] - 0s 2ms/step - loss: 1.0500 - Accuracy: 0.6540 - val_loss: 1.2221 - val_Accuracy: 0.6369\n",
      "Epoch 92/100\n",
      "211/211 [==============================] - 1s 3ms/step - loss: 1.0499 - Accuracy: 0.6535 - val_loss: 1.2318 - val_Accuracy: 0.6388\n",
      "Epoch 93/100\n",
      "211/211 [==============================] - 0s 2ms/step - loss: 1.0503 - Accuracy: 0.6573 - val_loss: 1.2207 - val_Accuracy: 0.6369\n",
      "Epoch 94/100\n",
      "211/211 [==============================] - 1s 3ms/step - loss: 1.0497 - Accuracy: 0.6583 - val_loss: 1.2224 - val_Accuracy: 0.6388\n",
      "Epoch 95/100\n",
      "211/211 [==============================] - 1s 2ms/step - loss: 1.0490 - Accuracy: 0.6559 - val_loss: 1.2302 - val_Accuracy: 0.6255\n",
      "Epoch 96/100\n",
      "211/211 [==============================] - 1s 2ms/step - loss: 1.0487 - Accuracy: 0.6559 - val_loss: 1.2296 - val_Accuracy: 0.6350\n",
      "Epoch 97/100\n",
      "211/211 [==============================] - 1s 2ms/step - loss: 1.0494 - Accuracy: 0.6549 - val_loss: 1.2321 - val_Accuracy: 0.6407\n",
      "Epoch 98/100\n",
      "211/211 [==============================] - 1s 3ms/step - loss: 1.0483 - Accuracy: 0.6583 - val_loss: 1.2301 - val_Accuracy: 0.6407\n",
      "Epoch 99/100\n",
      "211/211 [==============================] - 1s 3ms/step - loss: 1.0467 - Accuracy: 0.6554 - val_loss: 1.2390 - val_Accuracy: 0.6369\n",
      "Epoch 100/100\n",
      "211/211 [==============================] - 1s 2ms/step - loss: 1.0484 - Accuracy: 0.6568 - val_loss: 1.2355 - val_Accuracy: 0.6407\n"
     ]
    },
    {
     "data": {
      "text/plain": [
       "<keras.callbacks.History at 0x1ecf1e275e0>"
      ]
     },
     "execution_count": 88,
     "metadata": {},
     "output_type": "execute_result"
    }
   ],
   "source": [
    "# Ajustamos el modelo Keras en los datos de entrenamiento y validamos con los datos de prueba\n",
    "\n",
    "model.fit(X_train, y_train_ohe, validation_data=(X_test, y_test_ohe), epochs=100, batch_size=10, verbose=True) #validation_split=0.3"
   ]
  },
  {
   "cell_type": "code",
   "execution_count": 89,
   "id": "f170678c-1833-49f7-aa81-bcf3511de509",
   "metadata": {},
   "outputs": [
    {
     "name": "stdout",
     "output_type": "stream",
     "text": [
      "66/66 [==============================] - 0s 1ms/step - loss: 1.0361 - Accuracy: 0.6559\n",
      "Accuracy: 65.59\n"
     ]
    }
   ],
   "source": [
    "# Evaluamos el modelo Keras de los estimadores\n",
    "\n",
    "_, Accuracy = model.evaluate(X_train, y_train_ohe)\n",
    "print('Accuracy: %.2f' % (Accuracy*100))"
   ]
  },
  {
   "cell_type": "code",
   "execution_count": 90,
   "id": "1db33641-bd3c-4a20-adb0-52bcc6ea2952",
   "metadata": {},
   "outputs": [
    {
     "name": "stdout",
     "output_type": "stream",
     "text": [
      "17/17 [==============================] - 0s 2ms/step\n"
     ]
    },
    {
     "data": {
      "text/plain": [
       "array([2, 5, 5, 5, 5, 5, 5, 5, 5, 5, 5, 5, 3, 5, 5, 5, 5, 5, 5, 5, 5, 5,\n",
       "       5, 5, 5, 5, 5, 2, 5, 5, 5, 5, 5, 5, 5, 5, 5, 5, 5, 3, 5, 5, 5, 5,\n",
       "       5, 5, 5, 5, 5, 5, 5, 5, 5, 5, 5, 5, 5, 5, 5, 5, 5, 5, 5, 5, 5, 5,\n",
       "       3, 5, 5, 5, 5, 5, 5, 5, 5, 5, 5, 5, 5, 5, 5, 5, 5, 3, 5, 5, 3, 5,\n",
       "       5, 5, 3, 3, 5, 5, 5, 5, 5, 5, 5, 5, 5, 5, 5, 2, 5, 5, 5, 5, 5, 5,\n",
       "       5, 5, 5, 5, 5, 5, 5, 5, 5, 5, 5, 5, 5, 5, 5, 5, 5, 5, 5, 5, 5, 5,\n",
       "       3, 5, 5, 5, 5, 5, 3, 5, 5, 5, 5, 5, 5, 5, 5, 5, 5, 3, 5, 5, 2, 5,\n",
       "       5, 5, 5, 5, 2, 5, 3, 5, 5, 5, 5, 5, 5, 5, 3, 3, 5, 5, 5, 5, 5, 5,\n",
       "       3, 5, 5, 5, 5, 5, 5, 5, 5, 5, 5, 5, 5, 5, 5, 5, 5, 5, 5, 5, 5, 5,\n",
       "       5, 5, 5, 5, 5, 5, 5, 5, 5, 5, 5, 5, 5, 5, 5, 5, 5, 5, 5, 5, 5, 5,\n",
       "       5, 5, 5, 5, 5, 5, 5, 5, 5, 5, 5, 3, 5, 5, 5, 5, 5, 5, 3, 5, 5, 5,\n",
       "       5, 5, 5, 5, 5, 5, 5, 5, 3, 5, 5, 5, 3, 5, 5, 5, 5, 5, 5, 5, 5, 5,\n",
       "       5, 5, 5, 5, 5, 5, 5, 3, 5, 5, 5, 3, 5, 5, 5, 5, 5, 5, 5, 5, 5, 5,\n",
       "       3, 5, 5, 5, 5, 5, 5, 5, 5, 5, 5, 5, 5, 5, 5, 5, 5, 5, 5, 5, 5, 5,\n",
       "       5, 5, 5, 5, 5, 3, 5, 5, 5, 5, 5, 5, 5, 5, 5, 3, 5, 5, 5, 5, 5, 3,\n",
       "       5, 5, 5, 5, 5, 5, 5, 5, 5, 3, 5, 5, 5, 5, 5, 5, 5, 5, 5, 5, 5, 5,\n",
       "       5, 3, 5, 5, 5, 5, 5, 5, 5, 5, 5, 5, 5, 5, 5, 5, 5, 5, 5, 5, 5, 5,\n",
       "       5, 5, 5, 5, 3, 5, 5, 5, 5, 5, 5, 5, 5, 5, 5, 5, 5, 5, 5, 5, 5, 5,\n",
       "       5, 5, 5, 5, 5, 5, 5, 5, 5, 5, 5, 5, 5, 5, 3, 5, 5, 5, 5, 5, 5, 5,\n",
       "       5, 5, 5, 5, 5, 5, 5, 5, 5, 5, 5, 5, 5, 5, 5, 5, 5, 3, 5, 5, 5, 5,\n",
       "       5, 5, 5, 5, 5, 5, 5, 5, 5, 3, 5, 5, 5, 5, 5, 5, 5, 5, 5, 3, 5, 5,\n",
       "       5, 3, 5, 5, 5, 5, 5, 5, 5, 5, 5, 5, 5, 5, 5, 5, 5, 5, 5, 5, 5, 5,\n",
       "       5, 5, 5, 5, 5, 5, 5, 5, 5, 5, 5, 5, 5, 5, 5, 5, 5, 5, 5, 5, 5, 5,\n",
       "       5, 5, 5, 5, 5, 5, 5, 5, 5, 5, 3, 5, 5, 5, 5, 5, 5, 5, 5, 5],\n",
       "      dtype=int64)"
      ]
     },
     "execution_count": 90,
     "metadata": {},
     "output_type": "execute_result"
    }
   ],
   "source": [
    "# Hacemos predicciones sobre los datos de prueba\n",
    "\n",
    "#y_pred = model.predict(X_test).round()\n",
    "\n",
    "y_pred = np.argmax(model.predict(X_test), axis=-1)\n",
    "y_pred"
   ]
  },
  {
   "cell_type": "markdown",
   "id": "92c93342-cb27-48c9-8f89-6a9f391bf559",
   "metadata": {},
   "source": [
    "### 3.2 Evaluación del modelo"
   ]
  },
  {
   "cell_type": "code",
   "execution_count": 91,
   "id": "5bca85f8-1435-4fc0-9902-94b3b228d42b",
   "metadata": {},
   "outputs": [
    {
     "name": "stdout",
     "output_type": "stream",
     "text": [
      "              precision    recall  f1-score   support\n",
      "\n",
      "        -1.0       0.00      0.00      0.00         6\n",
      "         0.0       0.00      0.00      0.00         7\n",
      "         1.0       0.00      0.00      0.00        28\n",
      "         2.0       0.00      0.00      0.00        54\n",
      "         3.0       0.42      0.18      0.25        77\n",
      "         4.0       0.00      0.00      0.00         6\n",
      "         5.0       0.66      0.96      0.78       335\n",
      "         6.0       0.00      0.00      0.00        13\n",
      "\n",
      "    accuracy                           0.64       526\n",
      "   macro avg       0.14      0.14      0.13       526\n",
      "weighted avg       0.48      0.64      0.54       526\n",
      "\n"
     ]
    },
    {
     "name": "stderr",
     "output_type": "stream",
     "text": [
      "C:\\Users\\Acer\\anaconda3\\lib\\site-packages\\sklearn\\metrics\\_classification.py:1334: UndefinedMetricWarning: Precision and F-score are ill-defined and being set to 0.0 in labels with no predicted samples. Use `zero_division` parameter to control this behavior.\n",
      "  _warn_prf(average, modifier, msg_start, len(result))\n",
      "C:\\Users\\Acer\\anaconda3\\lib\\site-packages\\sklearn\\metrics\\_classification.py:1334: UndefinedMetricWarning: Precision and F-score are ill-defined and being set to 0.0 in labels with no predicted samples. Use `zero_division` parameter to control this behavior.\n",
      "  _warn_prf(average, modifier, msg_start, len(result))\n",
      "C:\\Users\\Acer\\anaconda3\\lib\\site-packages\\sklearn\\metrics\\_classification.py:1334: UndefinedMetricWarning: Precision and F-score are ill-defined and being set to 0.0 in labels with no predicted samples. Use `zero_division` parameter to control this behavior.\n",
      "  _warn_prf(average, modifier, msg_start, len(result))\n"
     ]
    }
   ],
   "source": [
    "# Obtenemos el reporte de clasificación de los predictores\n",
    "\n",
    "from sklearn.metrics import classification_report\n",
    "\n",
    "report = classification_report(y_test, y_pred)\n",
    "print(report)"
   ]
  },
  {
   "cell_type": "code",
   "execution_count": 92,
   "id": "2ff0e3f4-9e93-42cf-a82e-c11c9b83013a",
   "metadata": {},
   "outputs": [
    {
     "name": "stdout",
     "output_type": "stream",
     "text": [
      "[[[520   0]\n",
      "  [  6   0]]\n",
      "\n",
      " [[519   0]\n",
      "  [  7   0]]\n",
      "\n",
      " [[498   0]\n",
      "  [ 28   0]]\n",
      "\n",
      " [[467   5]\n",
      "  [ 54   0]]\n",
      "\n",
      " [[430  19]\n",
      "  [ 63  14]]\n",
      "\n",
      " [[520   0]\n",
      "  [  6   0]]\n",
      "\n",
      " [[ 26 165]\n",
      "  [ 12 323]]\n",
      "\n",
      " [[513   0]\n",
      "  [ 13   0]]]\n"
     ]
    }
   ],
   "source": [
    "# Obtenemos la matriz de confusión de los predictores\n",
    "\n",
    "from sklearn.metrics import multilabel_confusion_matrix\n",
    "\n",
    "matrix = multilabel_confusion_matrix(y_test, y_pred)\n",
    "print(matrix)"
   ]
  },
  {
   "cell_type": "code",
   "execution_count": 93,
   "id": "a0600b34-e540-44bf-9c20-a0caac445ebf",
   "metadata": {},
   "outputs": [
    {
     "data": {
      "image/png": "[encoded data removed]",
      "text/plain": [
       "<Figure size 432x288 with 2 Axes>"
      ]
     },
     "metadata": {
      "needs_background": "light"
     },
     "output_type": "display_data"
    }
   ],
   "source": [
    "# Dibujamos la matriz de confusión de los predictores\n",
    "\n",
    "from sklearn.metrics import ConfusionMatrixDisplay\n",
    "\n",
    "ConfusionMatrixDisplay.from_predictions(y_test, y_pred)\n",
    "plt.show()"
   ]
  },
  {
   "cell_type": "code",
   "execution_count": null,
   "id": "c90de129-8078-43cf-a5df-dfb7c98fc3e3",
   "metadata": {},
   "outputs": [],
   "source": []
  }
 ],
 "metadata": {
  "kernelspec": {
   "display_name": "Python 3 (ipykernel)",
   "language": "python",
   "name": "python3"
  },
  "language_info": {
   "codemirror_mode": {
    "name": "ipython",
    "version": 3
   },
   "file_extension": ".py",
   "mimetype": "text/x-python",
   "name": "python",
   "nbconvert_exporter": "python",
   "pygments_lexer": "ipython3",
   "version": "3.9.12"
  }
 },
 "nbformat": 4,
 "nbformat_minor": 5
}
