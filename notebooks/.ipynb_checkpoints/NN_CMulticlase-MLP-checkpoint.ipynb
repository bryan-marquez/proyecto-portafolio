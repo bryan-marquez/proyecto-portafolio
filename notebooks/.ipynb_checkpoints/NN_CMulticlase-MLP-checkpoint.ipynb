{
 "cells": [
  {
   "cell_type": "markdown",
   "id": "445995fa-eca3-438e-92bf-e7e13f1d5193",
   "metadata": {},
   "source": [
    "# Segmentación de Clientes con Redes Neuronales"
   ]
  },
  {
   "cell_type": "markdown",
   "id": "a28fc343-25cb-489a-8e8e-8b0c3f2711fd",
   "metadata": {},
   "source": [
    "## 1. Análisis Exploratorio de los Datos (EDA)"
   ]
  },
  {
   "cell_type": "markdown",
   "id": "fa4a2ade-098f-45bb-9d2a-d236ec8af953",
   "metadata": {},
   "source": [
    "### 1.1 Carga de Librerías"
   ]
  },
  {
   "cell_type": "code",
   "execution_count": 1,
   "id": "7e8d8e41-13e1-4753-af48-b75ad842e3a0",
   "metadata": {},
   "outputs": [],
   "source": [
    "# Cargamos las librerías a utilizar\n",
    "import pandas as pd\n",
    "import seaborn as sns\n",
    "import numpy as np\n",
    "import matplotlib.pyplot as plt\n",
    "\n",
    "# Para mostrar todas las columnas\n",
    "pd.set_option('display.max_columns', None)\n",
    "\n",
    "# Para mostar las cifras en formato float\n",
    "pd.options.display.float_format = '{:.2f}'.format"
   ]
  },
  {
   "cell_type": "markdown",
   "id": "90888f1f-e9ea-4700-bf60-31a0f259f071",
   "metadata": {},
   "source": [
    "### 1.2 Carga de Datos"
   ]
  },
  {
   "cell_type": "code",
   "execution_count": 140,
   "id": "82907f50-d2aa-44c7-8b8d-c1fc2c44051e",
   "metadata": {},
   "outputs": [
    {
     "data": {
      "text/html": [
       "<div>\n",
       "<style scoped>\n",
       "    .dataframe tbody tr th:only-of-type {\n",
       "        vertical-align: middle;\n",
       "    }\n",
       "\n",
       "    .dataframe tbody tr th {\n",
       "        vertical-align: top;\n",
       "    }\n",
       "\n",
       "    .dataframe thead th {\n",
       "        text-align: right;\n",
       "    }\n",
       "</style>\n",
       "<table border=\"1\" class=\"dataframe\">\n",
       "  <thead>\n",
       "    <tr style=\"text-align: right;\">\n",
       "      <th></th>\n",
       "      <th>ID</th>\n",
       "      <th>Gender</th>\n",
       "      <th>Ever_Married</th>\n",
       "      <th>Age</th>\n",
       "      <th>Graduated</th>\n",
       "      <th>Profession</th>\n",
       "      <th>Work_Experience</th>\n",
       "      <th>Spending_Score</th>\n",
       "      <th>Family_Size</th>\n",
       "      <th>Var_1</th>\n",
       "    </tr>\n",
       "  </thead>\n",
       "  <tbody>\n",
       "    <tr>\n",
       "      <th>0</th>\n",
       "      <td>458989</td>\n",
       "      <td>Female</td>\n",
       "      <td>Yes</td>\n",
       "      <td>36</td>\n",
       "      <td>Yes</td>\n",
       "      <td>Engineer</td>\n",
       "      <td>0.00</td>\n",
       "      <td>Low</td>\n",
       "      <td>1.00</td>\n",
       "      <td>Cat_6</td>\n",
       "    </tr>\n",
       "    <tr>\n",
       "      <th>1</th>\n",
       "      <td>458994</td>\n",
       "      <td>Male</td>\n",
       "      <td>Yes</td>\n",
       "      <td>37</td>\n",
       "      <td>Yes</td>\n",
       "      <td>Healthcare</td>\n",
       "      <td>8.00</td>\n",
       "      <td>Average</td>\n",
       "      <td>4.00</td>\n",
       "      <td>Cat_6</td>\n",
       "    </tr>\n",
       "    <tr>\n",
       "      <th>2</th>\n",
       "      <td>458996</td>\n",
       "      <td>Female</td>\n",
       "      <td>Yes</td>\n",
       "      <td>69</td>\n",
       "      <td>No</td>\n",
       "      <td>NaN</td>\n",
       "      <td>0.00</td>\n",
       "      <td>Low</td>\n",
       "      <td>1.00</td>\n",
       "      <td>Cat_6</td>\n",
       "    </tr>\n",
       "    <tr>\n",
       "      <th>3</th>\n",
       "      <td>459000</td>\n",
       "      <td>Male</td>\n",
       "      <td>Yes</td>\n",
       "      <td>59</td>\n",
       "      <td>No</td>\n",
       "      <td>Executive</td>\n",
       "      <td>11.00</td>\n",
       "      <td>High</td>\n",
       "      <td>2.00</td>\n",
       "      <td>Cat_6</td>\n",
       "    </tr>\n",
       "    <tr>\n",
       "      <th>4</th>\n",
       "      <td>459001</td>\n",
       "      <td>Female</td>\n",
       "      <td>No</td>\n",
       "      <td>19</td>\n",
       "      <td>No</td>\n",
       "      <td>Marketing</td>\n",
       "      <td>NaN</td>\n",
       "      <td>Low</td>\n",
       "      <td>4.00</td>\n",
       "      <td>Cat_6</td>\n",
       "    </tr>\n",
       "  </tbody>\n",
       "</table>\n",
       "</div>"
      ],
      "text/plain": [
       "       ID  Gender Ever_Married  Age Graduated  Profession  Work_Experience  \\\n",
       "0  458989  Female          Yes   36       Yes    Engineer             0.00   \n",
       "1  458994    Male          Yes   37       Yes  Healthcare             8.00   \n",
       "2  458996  Female          Yes   69        No         NaN             0.00   \n",
       "3  459000    Male          Yes   59        No   Executive            11.00   \n",
       "4  459001  Female           No   19        No   Marketing              NaN   \n",
       "\n",
       "  Spending_Score  Family_Size  Var_1  \n",
       "0            Low         1.00  Cat_6  \n",
       "1        Average         4.00  Cat_6  \n",
       "2            Low         1.00  Cat_6  \n",
       "3           High         2.00  Cat_6  \n",
       "4            Low         4.00  Cat_6  "
      ]
     },
     "execution_count": 140,
     "metadata": {},
     "output_type": "execute_result"
    }
   ],
   "source": [
    "# Asignamos los datos a un dataframe\n",
    "clientes = pd.read_csv('.\\..\\data\\customers.csv')\n",
    "\n",
    "# Mostramos el encabezado de los datos\n",
    "clientes.head()"
   ]
  },
  {
   "cell_type": "code",
   "execution_count": 141,
   "id": "5933ce42-1e3e-41c1-9faf-0033bf1dafae",
   "metadata": {},
   "outputs": [
    {
     "name": "stdout",
     "output_type": "stream",
     "text": [
      "<class 'pandas.core.frame.DataFrame'>\n",
      "RangeIndex: 2627 entries, 0 to 2626\n",
      "Data columns (total 10 columns):\n",
      " #   Column           Non-Null Count  Dtype  \n",
      "---  ------           --------------  -----  \n",
      " 0   ID               2627 non-null   int64  \n",
      " 1   Gender           2627 non-null   object \n",
      " 2   Ever_Married     2577 non-null   object \n",
      " 3   Age              2627 non-null   int64  \n",
      " 4   Graduated        2603 non-null   object \n",
      " 5   Profession       2589 non-null   object \n",
      " 6   Work_Experience  2358 non-null   float64\n",
      " 7   Spending_Score   2627 non-null   object \n",
      " 8   Family_Size      2514 non-null   float64\n",
      " 9   Var_1            2595 non-null   object \n",
      "dtypes: float64(2), int64(2), object(6)\n",
      "memory usage: 205.4+ KB\n"
     ]
    }
   ],
   "source": [
    "# Mostramos el número de filas, columnas, valores NO nulos y el tipo de datos\n",
    "clientes.info()"
   ]
  },
  {
   "cell_type": "markdown",
   "id": "a20ac13d-b29c-4f57-87b8-f055ee47c30e",
   "metadata": {},
   "source": [
    "### 1.3 Estadística Descriptiva"
   ]
  },
  {
   "cell_type": "code",
   "execution_count": 131,
   "id": "cd088189-ea91-4656-8617-02bbc18d7e46",
   "metadata": {},
   "outputs": [
    {
     "data": {
      "text/html": [
       "<div>\n",
       "<style scoped>\n",
       "    .dataframe tbody tr th:only-of-type {\n",
       "        vertical-align: middle;\n",
       "    }\n",
       "\n",
       "    .dataframe tbody tr th {\n",
       "        vertical-align: top;\n",
       "    }\n",
       "\n",
       "    .dataframe thead th {\n",
       "        text-align: right;\n",
       "    }\n",
       "</style>\n",
       "<table border=\"1\" class=\"dataframe\">\n",
       "  <thead>\n",
       "    <tr style=\"text-align: right;\">\n",
       "      <th></th>\n",
       "      <th>count</th>\n",
       "      <th>mean</th>\n",
       "      <th>std</th>\n",
       "      <th>min</th>\n",
       "      <th>25%</th>\n",
       "      <th>50%</th>\n",
       "      <th>75%</th>\n",
       "      <th>max</th>\n",
       "    </tr>\n",
       "  </thead>\n",
       "  <tbody>\n",
       "    <tr>\n",
       "      <th>ID</th>\n",
       "      <td>2627.00</td>\n",
       "      <td>463433.92</td>\n",
       "      <td>2618.25</td>\n",
       "      <td>458989.00</td>\n",
       "      <td>461162.50</td>\n",
       "      <td>463379.00</td>\n",
       "      <td>465696.00</td>\n",
       "      <td>467968.00</td>\n",
       "    </tr>\n",
       "    <tr>\n",
       "      <th>Age</th>\n",
       "      <td>2627.00</td>\n",
       "      <td>43.65</td>\n",
       "      <td>16.97</td>\n",
       "      <td>18.00</td>\n",
       "      <td>30.00</td>\n",
       "      <td>41.00</td>\n",
       "      <td>53.00</td>\n",
       "      <td>89.00</td>\n",
       "    </tr>\n",
       "    <tr>\n",
       "      <th>Work_Experience</th>\n",
       "      <td>2358.00</td>\n",
       "      <td>2.55</td>\n",
       "      <td>3.34</td>\n",
       "      <td>0.00</td>\n",
       "      <td>0.00</td>\n",
       "      <td>1.00</td>\n",
       "      <td>4.00</td>\n",
       "      <td>14.00</td>\n",
       "    </tr>\n",
       "    <tr>\n",
       "      <th>Family_Size</th>\n",
       "      <td>2514.00</td>\n",
       "      <td>2.83</td>\n",
       "      <td>1.55</td>\n",
       "      <td>1.00</td>\n",
       "      <td>2.00</td>\n",
       "      <td>2.00</td>\n",
       "      <td>4.00</td>\n",
       "      <td>9.00</td>\n",
       "    </tr>\n",
       "  </tbody>\n",
       "</table>\n",
       "</div>"
      ],
      "text/plain": [
       "                  count      mean     std       min       25%       50%  \\\n",
       "ID              2627.00 463433.92 2618.25 458989.00 461162.50 463379.00   \n",
       "Age             2627.00     43.65   16.97     18.00     30.00     41.00   \n",
       "Work_Experience 2358.00      2.55    3.34      0.00      0.00      1.00   \n",
       "Family_Size     2514.00      2.83    1.55      1.00      2.00      2.00   \n",
       "\n",
       "                      75%       max  \n",
       "ID              465696.00 467968.00  \n",
       "Age                 53.00     89.00  \n",
       "Work_Experience      4.00     14.00  \n",
       "Family_Size          4.00      9.00  "
      ]
     },
     "execution_count": 131,
     "metadata": {},
     "output_type": "execute_result"
    }
   ],
   "source": [
    "# Resumimos las variables numéricas\n",
    "clientes.describe().T.round(2)"
   ]
  },
  {
   "cell_type": "markdown",
   "id": "6a70dca2-d15d-470c-95d5-e131ada2e618",
   "metadata": {},
   "source": [
    "### 1.4 Visualización de Variables Numéricas"
   ]
  },
  {
   "cell_type": "code",
   "execution_count": 35,
   "id": "93946b4a-71d9-4630-8fa5-bf06b31daec9",
   "metadata": {},
   "outputs": [
    {
     "data": {
      "image/png": "[encoded data removed]",
      "text/plain": [
       "<Figure size 720x720 with 4 Axes>"
      ]
     },
     "metadata": {
      "needs_background": "light"
     },
     "output_type": "display_data"
    }
   ],
   "source": [
    "# Trazamos los histogramas\n",
    "clientes.hist(bins=10 , figsize=(10,10)) \n",
    "plt.show()"
   ]
  },
  {
   "cell_type": "markdown",
   "id": "df62e49f-5232-4ece-8a3a-e8ee2556dd5a",
   "metadata": {},
   "source": [
    "## 2. Preparación de los Datos"
   ]
  },
  {
   "cell_type": "markdown",
   "id": "98773e3f-f7a1-478b-a215-715dc7a5372b",
   "metadata": {},
   "source": [
    "### 2.1 Limpieza de Datos"
   ]
  },
  {
   "cell_type": "code",
   "execution_count": 142,
   "id": "cfb2d117-d506-4056-b3d6-fa905a900b3c",
   "metadata": {},
   "outputs": [
    {
     "data": {
      "text/plain": [
       "Var_1\n",
       "Cat_1      34\n",
       "Cat_2     141\n",
       "Cat_3     267\n",
       "Cat_4     386\n",
       "Cat_5      29\n",
       "Cat_6    1672\n",
       "Cat_7      66\n",
       "Name: ID, dtype: int64"
      ]
     },
     "execution_count": 142,
     "metadata": {},
     "output_type": "execute_result"
    }
   ],
   "source": [
    "# Cómo se distribuyen las clases\n",
    "\n",
    "clientes.groupby(['Var_1']).count()['ID']"
   ]
  },
  {
   "cell_type": "code",
   "execution_count": 143,
   "id": "94ba6c64-0713-4b38-b8b8-e103a07d4a34",
   "metadata": {},
   "outputs": [
    {
     "data": {
      "text/plain": [
       "(2627, 9)"
      ]
     },
     "execution_count": 143,
     "metadata": {},
     "output_type": "execute_result"
    }
   ],
   "source": [
    "# Eliminamos la variable ID\n",
    "\n",
    "clientes = clientes.drop(['ID'], axis = 1)\n",
    "clientes.shape"
   ]
  },
  {
   "cell_type": "code",
   "execution_count": 144,
   "id": "40fc89b6-b932-4a21-a92b-cf4acd4ac7a9",
   "metadata": {},
   "outputs": [
    {
     "data": {
      "text/plain": [
       "Gender               0\n",
       "Ever_Married        50\n",
       "Age                  0\n",
       "Graduated           24\n",
       "Profession          38\n",
       "Work_Experience    269\n",
       "Spending_Score       0\n",
       "Family_Size        113\n",
       "Var_1               32\n",
       "dtype: int64"
      ]
     },
     "execution_count": 144,
     "metadata": {},
     "output_type": "execute_result"
    }
   ],
   "source": [
    "# Mostramos la suma de valores nulos de cada variable\n",
    "\n",
    "clientes.isnull().sum()"
   ]
  },
  {
   "cell_type": "code",
   "execution_count": 145,
   "id": "6a270398-10ac-4c97-875c-88750e5ad61c",
   "metadata": {},
   "outputs": [],
   "source": [
    "# Imputamos los valores nulos\n",
    "\n",
    "from sklearn.impute import SimpleImputer\n",
    "\n",
    "imputer = SimpleImputer(strategy='most_frequent')"
   ]
  },
  {
   "cell_type": "code",
   "execution_count": 146,
   "id": "6fe9e151-13a0-47dd-a227-5b3b360ae453",
   "metadata": {},
   "outputs": [
    {
     "data": {
      "text/plain": [
       "Gender             0\n",
       "Ever_Married       0\n",
       "Age                0\n",
       "Graduated          0\n",
       "Profession         0\n",
       "Work_Experience    0\n",
       "Spending_Score     0\n",
       "Family_Size        0\n",
       "Var_1              0\n",
       "dtype: int64"
      ]
     },
     "execution_count": 146,
     "metadata": {},
     "output_type": "execute_result"
    }
   ],
   "source": [
    "# Ajustamos y transformamos los valores nulos\n",
    "\n",
    "clientes = pd.DataFrame(imputer.fit_transform(clientes),\n",
    "                           columns = ['Gender',\n",
    "                                      'Ever_Married',\n",
    "                                      'Age',\n",
    "                                      'Graduated',\n",
    "                                      'Profession',\n",
    "                                      'Work_Experience',\n",
    "                                      'Spending_Score',\n",
    "                                      'Family_Size',\n",
    "                                      'Var_1'])\n",
    "clientes.isnull().sum()"
   ]
  },
  {
   "cell_type": "raw",
   "id": "ec3bfb39-82f2-4c24-89a3-039051680cc5",
   "metadata": {},
   "source": [
    "# Imputamos los valores nulos\n",
    "\n",
    "from sklearn.impute import KNNImputer\n",
    "\n",
    "imputer = KNNImputer()"
   ]
  },
  {
   "cell_type": "markdown",
   "id": "19168828-bc26-474f-b2ac-4d1835fae1bf",
   "metadata": {},
   "source": [
    "### 2.2 Codificación de Datos Categóricos"
   ]
  },
  {
   "cell_type": "code",
   "execution_count": 147,
   "id": "46be0f15-2e55-4b4d-ba8d-0145d92b218c",
   "metadata": {},
   "outputs": [],
   "source": [
    "# Ordenamos las variables categóricas ordinales y nominales\n",
    "\n",
    "Gender = ['Male', 'Female']\n",
    "Ever_Married = ['Yes', 'No']\n",
    "Graduated = ['No', 'Yes']\n",
    "Profession = ['Engineer', 'Healthcare', 'Executive', 'Marketing', 'Doctor', 'Artist', 'Lawyer', 'Entertainment', 'Homemaker']\n",
    "Spending_Score = ['Low', 'Average', 'High']\n",
    "Var_1 = ['Cat_1', 'Cat_2', 'Cat_3', 'Cat_4', 'Cat_5', 'Cat_6', 'Cat_7']"
   ]
  },
  {
   "cell_type": "code",
   "execution_count": 148,
   "id": "93165a80-783f-447b-a159-6657f5bd0cdc",
   "metadata": {},
   "outputs": [],
   "source": [
    "# Asignamos las categorías\n",
    "\n",
    "categorias = [Gender,\n",
    "              Ever_Married,\n",
    "              Graduated,\n",
    "              Profession,\n",
    "              Spending_Score,\n",
    "              Var_1]"
   ]
  },
  {
   "cell_type": "code",
   "execution_count": 149,
   "id": "9bba3c24-9938-4968-947b-d35c9765a406",
   "metadata": {},
   "outputs": [],
   "source": [
    "# Asignamos las columnas categóricas\n",
    "\n",
    "categorical = ['Gender',\n",
    "               'Ever_Married',\n",
    "               'Graduated',\n",
    "               'Profession',\n",
    "               'Spending_Score',\n",
    "               'Var_1']"
   ]
  },
  {
   "cell_type": "code",
   "execution_count": 150,
   "id": "c7094547-d461-48b1-b9f5-2a500f1ea387",
   "metadata": {},
   "outputs": [],
   "source": [
    "# Aplicamos el codificador OrdinalEncoder a las variables categóricas ordinales y nominales\n",
    "\n",
    "from sklearn.preprocessing import OrdinalEncoder\n",
    "\n",
    "oe = OrdinalEncoder(categories = categorias,\n",
    "                    handle_unknown='use_encoded_value', unknown_value=-1)"
   ]
  },
  {
   "cell_type": "markdown",
   "id": "ad46527e-c9ce-436a-9307-86a897eed3b0",
   "metadata": {},
   "source": [
    "### 2.3 Escalamiento de Variables"
   ]
  },
  {
   "cell_type": "raw",
   "id": "24d0f5c9-e8bf-4349-82ec-39fc6e3a8efb",
   "metadata": {},
   "source": [
    "# Estandarizamos los datos númericos utilizando StandardScaler\n",
    "\n",
    "from sklearn.preprocessing import Binarizer\n",
    "\n",
    "scaler = Binarizer()"
   ]
  },
  {
   "cell_type": "markdown",
   "id": "3f9ba09e-38c1-4ce4-bf19-2821b0bfe40f",
   "metadata": {},
   "source": [
    "### 2.4 Sesgo / Asimetría"
   ]
  },
  {
   "cell_type": "code",
   "execution_count": 151,
   "id": "69e62ec4-5f44-4ae4-86d2-eed4d2952fa8",
   "metadata": {},
   "outputs": [],
   "source": [
    "# Asignamos las columnas categóricas\n",
    "\n",
    "numerical = ['Age',\n",
    "             'Work_Experience',\n",
    "             'Family_Size']"
   ]
  },
  {
   "cell_type": "code",
   "execution_count": 152,
   "id": "a247cb82-dd3e-4fc1-b5db-adce60d459b1",
   "metadata": {},
   "outputs": [],
   "source": [
    "# Aplicamos la transformación de Box-Cox o Yeo-Johnson a los atributos con sesgo\n",
    "# box-cox (valores positivos)\n",
    "# yeo-johnson (valores negativos)\n",
    "\n",
    "from sklearn.preprocessing import PowerTransformer\n",
    "\n",
    "pt = PowerTransformer(method='yeo-johnson', standardize=True)"
   ]
  },
  {
   "cell_type": "markdown",
   "id": "4fa94567-cbc2-4a6a-8e4c-9e674ce1a366",
   "metadata": {},
   "source": [
    "### 2.5 Transformación de Columnas"
   ]
  },
  {
   "cell_type": "raw",
   "id": "10c6836d-1779-4ef2-8ad2-568d59106468",
   "metadata": {},
   "source": [
    "# Creamos Pipelines Auxiliares\n",
    "\n",
    "from sklearn.pipeline import make_pipeline\n",
    "\n",
    "categorical_pipeline = make_pipeline(oe, imputer) #scaler\n",
    "numerical_pipeline = make_pipeline(pt, imputer) #scaler"
   ]
  },
  {
   "cell_type": "raw",
   "id": "877e9f2b-e1ea-4e61-abc4-0def1f7c043b",
   "metadata": {},
   "source": [
    "# Aplicamos el transformador de columnas make_column_transformer\n",
    "\n",
    "from sklearn.compose import make_column_transformer\n",
    "\n",
    "ct = make_column_transformer(\n",
    "    (numerical_pipeline, numerical),\n",
    "    (categorical_pipeline, categorical),\n",
    "     remainder = 'passthrough')"
   ]
  },
  {
   "cell_type": "code",
   "execution_count": 153,
   "id": "d130a425-1294-44eb-9eee-0e8dd3675353",
   "metadata": {},
   "outputs": [],
   "source": [
    "# Aplicamos el transformador de columnas make_column_transformer\n",
    "\n",
    "from sklearn.compose import make_column_transformer\n",
    "\n",
    "ct = make_column_transformer(\n",
    "    (pt, numerical),\n",
    "    (oe, categorical),\n",
    "     remainder = 'passthrough')"
   ]
  },
  {
   "cell_type": "raw",
   "id": "7fffdab2-a826-4380-b7bb-a46f65039325",
   "metadata": {},
   "source": [
    "# Ajustamos y transformamos los datos\n",
    "\n",
    "clientes = pd.DataFrame(ct.fit_transform(clientes),\n",
    "                       columns = [numerical + categorical])"
   ]
  },
  {
   "cell_type": "code",
   "execution_count": 154,
   "id": "7c66c259-3807-4cd3-a2f8-177fb5fd61e1",
   "metadata": {},
   "outputs": [],
   "source": [
    "# Ajustamos y transformamos los datos\n",
    "\n",
    "clientes = ct.fit_transform(clientes)"
   ]
  },
  {
   "cell_type": "code",
   "execution_count": 155,
   "id": "d93a5da4-ce3a-466f-b194-4bc025aa5c71",
   "metadata": {},
   "outputs": [
    {
     "data": {
      "text/plain": [
       "(2627, 9)"
      ]
     },
     "execution_count": 155,
     "metadata": {},
     "output_type": "execute_result"
    }
   ],
   "source": [
    "clientes.shape"
   ]
  },
  {
   "cell_type": "markdown",
   "id": "8a35f216-aa56-4802-bcf5-a221be61c29a",
   "metadata": {},
   "source": [
    "### 2.6 División de los Datos"
   ]
  },
  {
   "cell_type": "code",
   "execution_count": 156,
   "id": "f17f9d33-7dd6-4ab0-b1e2-31a532422680",
   "metadata": {},
   "outputs": [
    {
     "name": "stdout",
     "output_type": "stream",
     "text": [
      "X: (2627, 8)\n",
      "y: (2627,)\n"
     ]
    }
   ],
   "source": [
    "# Dividimos los datos en X y y\n",
    "X = clientes[:,0:8]\n",
    "y = clientes[:,8]\n",
    "\n",
    "print(f\"X: {X.shape}\")\n",
    "print(f\"y: {y.shape}\")"
   ]
  },
  {
   "cell_type": "code",
   "execution_count": 157,
   "id": "189289a8-c04f-4d8d-a333-7695af1e84a7",
   "metadata": {},
   "outputs": [
    {
     "name": "stdout",
     "output_type": "stream",
     "text": [
      "X_train: (2101, 8)\n",
      "X_test: (526, 8)\n",
      "y_train: (2101,)\n",
      "y_test: (526,)\n"
     ]
    }
   ],
   "source": [
    "# Dividimos los datos de entrenamiento y prueba\n",
    "\n",
    "from sklearn.model_selection import train_test_split\n",
    "\n",
    "X_train, X_test, y_train, y_test = train_test_split(X, y, test_size=0.2, shuffle=True, random_state=0, stratify=y) #,stratify=y\n",
    "\n",
    "print(f\"X_train: {X_train.shape}\")\n",
    "print(f\"X_test: {X_test.shape}\")\n",
    "print(f\"y_train: {y_train.shape}\")\n",
    "print(f\"y_test: {y_test.shape}\")"
   ]
  },
  {
   "cell_type": "code",
   "execution_count": 158,
   "id": "82150d7c-b667-4f67-8a92-13272d5048eb",
   "metadata": {},
   "outputs": [
    {
     "data": {
      "text/plain": [
       "array([1., 5., 5., 5., 3., 5., 5., 5., 5., 0., 3., 3., 3., 5., 3., 5., 5.,\n",
       "       5., 5., 5., 3., 2., 2., 5., 3., 5., 5., 5., 5., 5., 5., 5., 5., 5.,\n",
       "       3., 5., 5., 5., 1., 5., 3., 5., 0., 5., 5., 5., 5., 5., 3., 5., 6.,\n",
       "       5., 5., 5., 1., 5., 5., 3., 5., 4., 3., 5., 5., 5., 3., 1., 5., 5.,\n",
       "       2., 5., 5., 5., 3., 1., 5., 3., 5., 5., 5., 5., 5., 5., 6., 3., 5.,\n",
       "       5., 5., 5., 5., 5., 5., 5., 5., 6., 5., 3., 5., 5., 5., 3., 3., 2.,\n",
       "       5., 5., 5., 5., 3., 5., 5., 5., 5., 5., 5., 5., 3., 5., 3., 5., 5.,\n",
       "       5., 5., 1., 5., 0., 3., 5., 5., 6., 5., 5., 3., 5., 2., 2., 5., 3.,\n",
       "       1., 5., 3., 5., 5., 1., 3., 5., 5., 5., 5., 5., 5., 2., 2., 5., 2.,\n",
       "       5., 3., 5., 5., 6., 5., 2., 5., 5., 5., 5., 5., 2., 5., 5., 1., 5.,\n",
       "       5., 2., 0., 5., 2., 2., 5., 5., 6., 5., 3., 3., 5., 5., 5., 2., 5.,\n",
       "       2., 5., 5., 5., 5., 5., 5., 2., 5., 3., 5., 5., 5., 5., 1., 5., 2.,\n",
       "       5., 3., 3., 5., 1., 5., 5., 5., 5., 6., 2., 5., 5., 5., 2., 5., 5.,\n",
       "       5., 5., 5., 5., 5., 5., 2., 2., 5., 5., 2., 2., 3., 5., 2., 3., 3.,\n",
       "       3., 5., 2., 5., 5., 5., 3., 5., 5., 5., 2., 6., 5., 5., 3., 5., 2.,\n",
       "       5., 3., 2., 5., 5., 2., 5., 5., 3., 6., 5., 2., 3., 5., 5., 5., 5.,\n",
       "       3., 3., 3., 5., 1., 5., 1., 5., 5., 3., 5., 1., 5., 0., 5., 5., 5.,\n",
       "       3., 5., 5., 3., 4., 5., 5., 5., 1., 1., 3., 3., 5., 2., 5., 5., 5.,\n",
       "       5., 5., 5., 5., 5., 1., 5., 5., 5., 5., 5., 5., 5., 5., 4., 5., 5.,\n",
       "       4., 3., 5., 5., 5., 5., 5., 5., 5., 5., 5., 5., 5., 5., 3., 3., 5.,\n",
       "       5., 1., 2., 5., 5., 5., 5., 0., 5., 5., 5., 5., 5., 5., 5., 5., 5.,\n",
       "       5., 5., 5., 5., 3., 2., 5., 5., 5., 5., 5., 6., 5., 5., 5., 5., 2.,\n",
       "       3., 1., 5., 0., 1., 2., 5., 5., 5., 5., 3., 2., 3., 5., 5., 5., 5.,\n",
       "       1., 2., 5., 5., 5., 5., 2., 5., 6., 5., 3., 5., 5., 5., 5., 5., 5.,\n",
       "       5., 5., 5., 5., 3., 2., 5., 5., 5., 5., 2., 5., 1., 5., 5., 3., 5.,\n",
       "       5., 3., 5., 5., 5., 1., 5., 2., 3., 6., 1., 3., 5., 5., 5., 3., 5.,\n",
       "       3., 5., 5., 2., 5., 3., 5., 5., 5., 2., 3., 5., 6., 5., 2., 3., 5.,\n",
       "       1., 2., 5., 5., 5., 5., 2., 5., 2., 5., 5., 3., 1., 5., 5., 5., 5.,\n",
       "       3., 5., 1., 5., 5., 2., 5., 5., 2., 5., 5., 2., 3., 5., 5., 3., 3.,\n",
       "       5., 3., 1., 3., 5., 5., 5., 5., 2., 5., 3., 5., 5., 5., 5., 5., 5.,\n",
       "       4., 5., 4., 2., 5., 5., 5., 5., 2., 3., 5., 5., 5., 5., 5., 5.])"
      ]
     },
     "execution_count": 158,
     "metadata": {},
     "output_type": "execute_result"
    }
   ],
   "source": [
    "y_test"
   ]
  },
  {
   "cell_type": "markdown",
   "id": "f8356df2-79d1-432b-b8a0-898f1351ee61",
   "metadata": {},
   "source": [
    "### 2.9 Sobre muestreo de los datos"
   ]
  },
  {
   "cell_type": "code",
   "execution_count": 159,
   "id": "b3643547-022a-4246-bd74-aa5fcad459cf",
   "metadata": {},
   "outputs": [
    {
     "name": "stdout",
     "output_type": "stream",
     "text": [
      "X_train: (9541, 8)\n",
      "y_train: (9541,)\n"
     ]
    }
   ],
   "source": [
    "# Aplicamos sobre muestreo para balancear la clase usando SMOTE\n",
    "\n",
    "#pip install imbalanced-learn\n",
    "\n",
    "from imblearn.over_sampling import SMOTE\n",
    "\n",
    "smote = SMOTE(random_state=7)\n",
    "X_train, y_train = smote.fit_resample(X_train, y_train)\n",
    "\n",
    "# Validamos el número de filas y columnas\n",
    "print(f\"X_train: {X_train.shape}\")\n",
    "print(f\"y_train: {y_train.shape}\")"
   ]
  },
  {
   "cell_type": "markdown",
   "id": "51167ff1-13cf-4538-a14f-29acaeb1e812",
   "metadata": {},
   "source": [
    "## 3. Modelado"
   ]
  },
  {
   "cell_type": "markdown",
   "id": "9c3f7c65-c5b6-449b-9f05-6d9cb67bda67",
   "metadata": {},
   "source": [
    "### 3.1 Multi-layer Perceptron Classifier"
   ]
  },
  {
   "cell_type": "code",
   "execution_count": 160,
   "id": "fd289ae0-d0d4-4713-ab09-70714f601016",
   "metadata": {},
   "outputs": [
    {
     "name": "stdout",
     "output_type": "stream",
     "text": [
      "Accuracy: 26.05%\n"
     ]
    }
   ],
   "source": [
    "# Aplicamos el modelo de redes neuronales Multi-layer Perceptron Classifier\n",
    "\n",
    "from sklearn.neural_network import MLPClassifier\n",
    "from sklearn.metrics import accuracy_score\n",
    "\n",
    "model = MLPClassifier(hidden_layer_sizes=(4, 2), activation='relu', solver='adam', batch_size=15, max_iter=500)\n",
    "model.fit(X_train, y_train)\n",
    "y_pred = model.predict(X_test)\n",
    "\n",
    "accuracy = accuracy_score(y_test, y_pred)\n",
    "print(f\"Accuracy: {accuracy*100.0:,.2f}%\")"
   ]
  },
  {
   "cell_type": "code",
   "execution_count": 161,
   "id": "02f98db9-b9ff-410e-837a-5eddcff2f4e8",
   "metadata": {},
   "outputs": [
    {
     "data": {
      "text/plain": [
       "array([5., 1., 5., 1., 4., 4., 6., 3., 1., 4., 4., 4., 4., 4., 4., 4., 4.,\n",
       "       5., 4., 5., 5., 4., 3., 4., 4., 4., 5., 1., 1., 1., 1., 5., 1., 4.,\n",
       "       4., 4., 5., 5., 4., 4., 4., 5., 4., 4., 4., 4., 5., 4., 4., 5., 6.,\n",
       "       4., 5., 4., 4., 4., 6., 4., 1., 5., 5., 6., 5., 5., 4., 4., 4., 4.,\n",
       "       5., 3., 4., 4., 4., 4., 4., 1., 4., 4., 4., 5., 4., 5., 5., 5., 5.,\n",
       "       3., 5., 5., 5., 5., 5., 1., 5., 4., 4., 4., 1., 5., 1., 0., 4., 5.,\n",
       "       4., 5., 3., 4., 4., 4., 1., 6., 5., 4., 4., 4., 1., 4., 4., 5., 3.,\n",
       "       5., 6., 4., 1., 5., 5., 4., 3., 4., 4., 4., 6., 4., 4., 5., 0., 1.,\n",
       "       4., 5., 1., 5., 5., 1., 4., 4., 4., 4., 4., 6., 6., 4., 5., 4., 4.,\n",
       "       5., 4., 1., 4., 4., 4., 4., 4., 1., 1., 4., 6., 5., 4., 5., 4., 4.,\n",
       "       4., 5., 4., 3., 1., 1., 4., 5., 4., 4., 6., 5., 1., 5., 3., 1., 1.,\n",
       "       5., 5., 4., 5., 5., 4., 5., 5., 5., 4., 5., 5., 5., 5., 5., 3., 4.,\n",
       "       5., 5., 4., 4., 5., 4., 5., 4., 4., 5., 4., 1., 4., 6., 4., 4., 4.,\n",
       "       4., 4., 6., 5., 5., 4., 4., 6., 4., 5., 4., 6., 5., 5., 5., 5., 5.,\n",
       "       3., 5., 4., 6., 5., 4., 4., 5., 5., 5., 4., 4., 4., 5., 5., 4., 4.,\n",
       "       5., 4., 4., 6., 1., 1., 4., 4., 5., 4., 4., 6., 6., 1., 4., 4., 3.,\n",
       "       1., 4., 5., 4., 4., 4., 3., 4., 4., 1., 5., 4., 4., 5., 5., 4., 4.,\n",
       "       4., 5., 4., 4., 4., 5., 4., 6., 4., 4., 5., 4., 6., 4., 6., 5., 4.,\n",
       "       5., 5., 1., 5., 1., 3., 4., 1., 5., 5., 5., 5., 4., 5., 5., 4., 4.,\n",
       "       4., 5., 4., 4., 5., 5., 4., 5., 5., 3., 4., 4., 3., 4., 4., 4., 6.,\n",
       "       5., 1., 4., 5., 4., 4., 3., 4., 5., 4., 4., 4., 5., 4., 4., 5., 5.,\n",
       "       5., 5., 5., 6., 4., 5., 4., 6., 3., 4., 5., 3., 5., 5., 1., 4., 4.,\n",
       "       5., 4., 4., 5., 3., 4., 1., 5., 5., 4., 4., 4., 4., 4., 4., 4., 5.,\n",
       "       5., 1., 5., 5., 6., 5., 1., 4., 4., 5., 5., 4., 4., 3., 4., 4., 5.,\n",
       "       5., 4., 4., 4., 4., 5., 6., 5., 5., 5., 5., 5., 5., 5., 5., 3., 4.,\n",
       "       4., 6., 5., 1., 5., 4., 5., 4., 4., 1., 5., 4., 5., 1., 4., 6., 4.,\n",
       "       1., 5., 3., 4., 4., 4., 5., 5., 4., 5., 5., 6., 4., 4., 4., 5., 5.,\n",
       "       5., 6., 5., 5., 4., 3., 6., 5., 4., 5., 5., 4., 4., 4., 1., 3., 5.,\n",
       "       4., 4., 4., 5., 5., 4., 5., 5., 1., 4., 1., 4., 3., 5., 4., 4., 4.,\n",
       "       4., 1., 5., 4., 5., 1., 4., 4., 3., 5., 4., 1., 4., 4., 5., 1., 4.,\n",
       "       4., 5., 4., 4., 5., 1., 4., 4., 4., 5., 5., 4., 5., 3., 5., 1.])"
      ]
     },
     "execution_count": 161,
     "metadata": {},
     "output_type": "execute_result"
    }
   ],
   "source": [
    "y_pred"
   ]
  },
  {
   "cell_type": "code",
   "execution_count": 162,
   "id": "fccd1f2b-4165-4a9c-9173-8d983938d936",
   "metadata": {},
   "outputs": [
    {
     "name": "stdout",
     "output_type": "stream",
     "text": [
      "              precision    recall  f1-score   support\n",
      "\n",
      "         0.0       0.00      0.00      0.00         7\n",
      "         1.0       0.04      0.07      0.05        28\n",
      "         2.0       0.00      0.00      0.00        54\n",
      "         3.0       0.11      0.04      0.06        77\n",
      "         4.0       0.02      0.67      0.03         6\n",
      "         5.0       0.73      0.37      0.49       341\n",
      "         6.0       0.03      0.08      0.04        13\n",
      "\n",
      "    accuracy                           0.26       526\n",
      "   macro avg       0.13      0.18      0.10       526\n",
      "weighted avg       0.49      0.26      0.33       526\n",
      "\n"
     ]
    },
    {
     "name": "stderr",
     "output_type": "stream",
     "text": [
      "C:\\Users\\Acer\\anaconda3\\lib\\site-packages\\sklearn\\metrics\\_classification.py:1334: UndefinedMetricWarning: Precision and F-score are ill-defined and being set to 0.0 in labels with no predicted samples. Use `zero_division` parameter to control this behavior.\n",
      "  _warn_prf(average, modifier, msg_start, len(result))\n",
      "C:\\Users\\Acer\\anaconda3\\lib\\site-packages\\sklearn\\metrics\\_classification.py:1334: UndefinedMetricWarning: Precision and F-score are ill-defined and being set to 0.0 in labels with no predicted samples. Use `zero_division` parameter to control this behavior.\n",
      "  _warn_prf(average, modifier, msg_start, len(result))\n",
      "C:\\Users\\Acer\\anaconda3\\lib\\site-packages\\sklearn\\metrics\\_classification.py:1334: UndefinedMetricWarning: Precision and F-score are ill-defined and being set to 0.0 in labels with no predicted samples. Use `zero_division` parameter to control this behavior.\n",
      "  _warn_prf(average, modifier, msg_start, len(result))\n"
     ]
    }
   ],
   "source": [
    "# Obtenemos el reporte de clasificación de los predictores\n",
    "\n",
    "from sklearn.metrics import classification_report\n",
    "\n",
    "report = classification_report(y_test, y_pred)\n",
    "print(report)"
   ]
  },
  {
   "cell_type": "code",
   "execution_count": 163,
   "id": "5da31091-8419-44f0-971c-f075ca04fc61",
   "metadata": {},
   "outputs": [
    {
     "name": "stdout",
     "output_type": "stream",
     "text": [
      "[[[517   2]\n",
      "  [  7   0]]\n",
      "\n",
      " [[446  52]\n",
      "  [ 26   2]]\n",
      "\n",
      " [[472   0]\n",
      "  [ 54   0]]\n",
      "\n",
      " [[424  25]\n",
      "  [ 74   3]]\n",
      "\n",
      " [[288 232]\n",
      "  [  2   4]]\n",
      "\n",
      " [[138  47]\n",
      "  [214 127]]\n",
      "\n",
      " [[482  31]\n",
      "  [ 12   1]]]\n"
     ]
    }
   ],
   "source": [
    "# Obtenemos la matriz de confusión de los predictores\n",
    "\n",
    "from sklearn.metrics import multilabel_confusion_matrix\n",
    "\n",
    "matrix = multilabel_confusion_matrix(y_test, y_pred)\n",
    "print(matrix)"
   ]
  },
  {
   "cell_type": "code",
   "execution_count": 164,
   "id": "40a4380d-cec1-45e2-a821-d5f885b30f0e",
   "metadata": {},
   "outputs": [
    {
     "data": {
      "image/png": "[encoded data removed]",
      "text/plain": [
       "<Figure size 432x288 with 2 Axes>"
      ]
     },
     "metadata": {
      "needs_background": "light"
     },
     "output_type": "display_data"
    }
   ],
   "source": [
    "# Dibujamos la matriz de confusión de los predictores\n",
    "\n",
    "from sklearn.metrics import ConfusionMatrixDisplay\n",
    "\n",
    "ConfusionMatrixDisplay.from_predictions(y_test, y_pred)\n",
    "plt.show()"
   ]
  },
  {
   "cell_type": "code",
   "execution_count": null,
   "id": "372a616f-5bb4-4eb7-8a63-8f0430aea0e9",
   "metadata": {},
   "outputs": [],
   "source": []
  }
 ],
 "metadata": {
  "kernelspec": {
   "display_name": "Python 3 (ipykernel)",
   "language": "python",
   "name": "python3"
  },
  "language_info": {
   "codemirror_mode": {
    "name": "ipython",
    "version": 3
   },
   "file_extension": ".py",
   "mimetype": "text/x-python",
   "name": "python",
   "nbconvert_exporter": "python",
   "pygments_lexer": "ipython3",
   "version": "3.9.12"
  }
 },
 "nbformat": 4,
 "nbformat_minor": 5
}
