{
 "cells": [
  {
   "cell_type": "markdown",
   "id": "d68b20e7-7a7d-4fe9-8064-96e91706555c",
   "metadata": {},
   "source": [
    "# Exportaciones - Regresión con Redes Nueronales"
   ]
  },
  {
   "cell_type": "markdown",
   "id": "c36b2b7b-3650-4e25-97a7-1850a1a28f7e",
   "metadata": {},
   "source": [
    "## 1. Análisis Exploratorio de los Datos (EDA)"
   ]
  },
  {
   "cell_type": "markdown",
   "id": "32dc4660-9ce1-466b-821f-0ee5c2acd8fd",
   "metadata": {},
   "source": [
    "### 1.1 Carga de Librerías"
   ]
  },
  {
   "cell_type": "code",
   "execution_count": 1,
   "id": "c10352f6-d7a9-459c-8847-7d23bf24ccc5",
   "metadata": {},
   "outputs": [],
   "source": [
    "# Cargamos las librerías a utilizar\n",
    "import pandas as pd\n",
    "import seaborn as sns\n",
    "import numpy as np\n",
    "import matplotlib.pyplot as plt\n",
    "\n",
    "# Para mostrar todas las columnas\n",
    "pd.set_option('display.max_columns', None)\n",
    "\n",
    "# Para mostar las cifras en formato float\n",
    "pd.options.display.float_format = '{:.2f}'.format"
   ]
  },
  {
   "cell_type": "markdown",
   "id": "dc302c01-5c38-4430-b417-6ba20705da41",
   "metadata": {},
   "source": [
    "### 1.2 Carga de Datos"
   ]
  },
  {
   "cell_type": "code",
   "execution_count": 2,
   "id": "a745247d-fe7f-4410-adfc-6eb200f57dbe",
   "metadata": {},
   "outputs": [
    {
     "data": {
      "text/html": [
       "<div>\n",
       "<style scoped>\n",
       "    .dataframe tbody tr th:only-of-type {\n",
       "        vertical-align: middle;\n",
       "    }\n",
       "\n",
       "    .dataframe tbody tr th {\n",
       "        vertical-align: top;\n",
       "    }\n",
       "\n",
       "    .dataframe thead th {\n",
       "        text-align: right;\n",
       "    }\n",
       "</style>\n",
       "<table border=\"1\" class=\"dataframe\">\n",
       "  <thead>\n",
       "    <tr style=\"text-align: right;\">\n",
       "      <th></th>\n",
       "      <th>Id Empresas</th>\n",
       "      <th>Id Frutas</th>\n",
       "      <th>Id Cliente</th>\n",
       "      <th>Cantidad</th>\n",
       "      <th>Anio</th>\n",
       "      <th>Ventas EEUU</th>\n",
       "      <th>Ventas China</th>\n",
       "      <th>Ventas Espana</th>\n",
       "      <th>Ventas Francia</th>\n",
       "      <th>Ventas Canada</th>\n",
       "    </tr>\n",
       "  </thead>\n",
       "  <tbody>\n",
       "    <tr>\n",
       "      <th>0</th>\n",
       "      <td>1</td>\n",
       "      <td>6</td>\n",
       "      <td>1</td>\n",
       "      <td>1859</td>\n",
       "      <td>2017</td>\n",
       "      <td>2</td>\n",
       "      <td>3</td>\n",
       "      <td>1</td>\n",
       "      <td>3</td>\n",
       "      <td>4</td>\n",
       "    </tr>\n",
       "    <tr>\n",
       "      <th>1</th>\n",
       "      <td>2</td>\n",
       "      <td>6</td>\n",
       "      <td>5</td>\n",
       "      <td>1564</td>\n",
       "      <td>2015</td>\n",
       "      <td>5</td>\n",
       "      <td>3</td>\n",
       "      <td>2</td>\n",
       "      <td>3</td>\n",
       "      <td>2</td>\n",
       "    </tr>\n",
       "    <tr>\n",
       "      <th>2</th>\n",
       "      <td>4</td>\n",
       "      <td>5</td>\n",
       "      <td>5</td>\n",
       "      <td>1377</td>\n",
       "      <td>2014</td>\n",
       "      <td>5</td>\n",
       "      <td>3</td>\n",
       "      <td>2</td>\n",
       "      <td>2</td>\n",
       "      <td>1</td>\n",
       "    </tr>\n",
       "    <tr>\n",
       "      <th>3</th>\n",
       "      <td>2</td>\n",
       "      <td>5</td>\n",
       "      <td>5</td>\n",
       "      <td>1546</td>\n",
       "      <td>2018</td>\n",
       "      <td>3</td>\n",
       "      <td>4</td>\n",
       "      <td>3</td>\n",
       "      <td>3</td>\n",
       "      <td>3</td>\n",
       "    </tr>\n",
       "    <tr>\n",
       "      <th>4</th>\n",
       "      <td>7</td>\n",
       "      <td>2</td>\n",
       "      <td>1</td>\n",
       "      <td>1287</td>\n",
       "      <td>2019</td>\n",
       "      <td>5</td>\n",
       "      <td>3</td>\n",
       "      <td>1</td>\n",
       "      <td>2</td>\n",
       "      <td>5</td>\n",
       "    </tr>\n",
       "  </tbody>\n",
       "</table>\n",
       "</div>"
      ],
      "text/plain": [
       "   Id Empresas  Id Frutas  Id Cliente  Cantidad  Anio  Ventas EEUU  \\\n",
       "0            1          6           1      1859  2017            2   \n",
       "1            2          6           5      1564  2015            5   \n",
       "2            4          5           5      1377  2014            5   \n",
       "3            2          5           5      1546  2018            3   \n",
       "4            7          2           1      1287  2019            5   \n",
       "\n",
       "   Ventas China  Ventas Espana  Ventas Francia  Ventas Canada  \n",
       "0             3              1               3              4  \n",
       "1             3              2               3              2  \n",
       "2             3              2               2              1  \n",
       "3             4              3               3              3  \n",
       "4             3              1               2              5  "
      ]
     },
     "execution_count": 2,
     "metadata": {},
     "output_type": "execute_result"
    }
   ],
   "source": [
    "# Nombramos el dataframe\n",
    "exportaciones = pd.read_csv('.\\..\\data\\Exportaciones.csv')\n",
    "\n",
    "# Mostramos un encabezado de los datos\n",
    "exportaciones.head()"
   ]
  },
  {
   "cell_type": "code",
   "execution_count": 3,
   "id": "ed17020d-9089-4d88-87f5-cacca7814aeb",
   "metadata": {},
   "outputs": [
    {
     "name": "stdout",
     "output_type": "stream",
     "text": [
      "<class 'pandas.core.frame.DataFrame'>\n",
      "RangeIndex: 16600 entries, 0 to 16599\n",
      "Data columns (total 10 columns):\n",
      " #   Column          Non-Null Count  Dtype\n",
      "---  ------          --------------  -----\n",
      " 0   Id Empresas     16600 non-null  int64\n",
      " 1   Id Frutas       16600 non-null  int64\n",
      " 2   Id Cliente      16600 non-null  int64\n",
      " 3   Cantidad        16600 non-null  int64\n",
      " 4   Anio            16600 non-null  int64\n",
      " 5   Ventas EEUU     16600 non-null  int64\n",
      " 6   Ventas China    16600 non-null  int64\n",
      " 7   Ventas Espana   16600 non-null  int64\n",
      " 8   Ventas Francia  16600 non-null  int64\n",
      " 9   Ventas Canada   16600 non-null  int64\n",
      "dtypes: int64(10)\n",
      "memory usage: 1.3 MB\n"
     ]
    }
   ],
   "source": [
    "# Mostramos el número de filas, columnas, valores NO nulos y el tipo de datos\n",
    "exportaciones.info()"
   ]
  },
  {
   "cell_type": "markdown",
   "id": "3fcf7c7f-3553-4037-a631-2b440e58fd5f",
   "metadata": {},
   "source": [
    "### 1.3 Estadística Descriptiva"
   ]
  },
  {
   "cell_type": "code",
   "execution_count": 4,
   "id": "791493e1-77b0-410c-b96c-6257d38de75d",
   "metadata": {},
   "outputs": [
    {
     "data": {
      "text/html": [
       "<div>\n",
       "<style scoped>\n",
       "    .dataframe tbody tr th:only-of-type {\n",
       "        vertical-align: middle;\n",
       "    }\n",
       "\n",
       "    .dataframe tbody tr th {\n",
       "        vertical-align: top;\n",
       "    }\n",
       "\n",
       "    .dataframe thead th {\n",
       "        text-align: right;\n",
       "    }\n",
       "</style>\n",
       "<table border=\"1\" class=\"dataframe\">\n",
       "  <thead>\n",
       "    <tr style=\"text-align: right;\">\n",
       "      <th></th>\n",
       "      <th>count</th>\n",
       "      <th>mean</th>\n",
       "      <th>std</th>\n",
       "      <th>min</th>\n",
       "      <th>25%</th>\n",
       "      <th>50%</th>\n",
       "      <th>75%</th>\n",
       "      <th>max</th>\n",
       "    </tr>\n",
       "  </thead>\n",
       "  <tbody>\n",
       "    <tr>\n",
       "      <th>Id Empresas</th>\n",
       "      <td>16600.00</td>\n",
       "      <td>4.00</td>\n",
       "      <td>2.00</td>\n",
       "      <td>1.00</td>\n",
       "      <td>2.00</td>\n",
       "      <td>4.00</td>\n",
       "      <td>6.00</td>\n",
       "      <td>7.00</td>\n",
       "    </tr>\n",
       "    <tr>\n",
       "      <th>Id Frutas</th>\n",
       "      <td>16600.00</td>\n",
       "      <td>4.01</td>\n",
       "      <td>2.00</td>\n",
       "      <td>1.00</td>\n",
       "      <td>2.00</td>\n",
       "      <td>4.00</td>\n",
       "      <td>6.00</td>\n",
       "      <td>7.00</td>\n",
       "    </tr>\n",
       "    <tr>\n",
       "      <th>Id Cliente</th>\n",
       "      <td>16600.00</td>\n",
       "      <td>3.00</td>\n",
       "      <td>1.41</td>\n",
       "      <td>1.00</td>\n",
       "      <td>2.00</td>\n",
       "      <td>3.00</td>\n",
       "      <td>4.00</td>\n",
       "      <td>5.00</td>\n",
       "    </tr>\n",
       "    <tr>\n",
       "      <th>Cantidad</th>\n",
       "      <td>16600.00</td>\n",
       "      <td>1602.68</td>\n",
       "      <td>460.79</td>\n",
       "      <td>800.00</td>\n",
       "      <td>1203.00</td>\n",
       "      <td>1607.00</td>\n",
       "      <td>1998.00</td>\n",
       "      <td>2400.00</td>\n",
       "    </tr>\n",
       "    <tr>\n",
       "      <th>Anio</th>\n",
       "      <td>16600.00</td>\n",
       "      <td>2015.03</td>\n",
       "      <td>3.16</td>\n",
       "      <td>2010.00</td>\n",
       "      <td>2012.00</td>\n",
       "      <td>2015.00</td>\n",
       "      <td>2018.00</td>\n",
       "      <td>2020.00</td>\n",
       "    </tr>\n",
       "    <tr>\n",
       "      <th>Ventas EEUU</th>\n",
       "      <td>16600.00</td>\n",
       "      <td>2.99</td>\n",
       "      <td>1.41</td>\n",
       "      <td>1.00</td>\n",
       "      <td>2.00</td>\n",
       "      <td>3.00</td>\n",
       "      <td>4.00</td>\n",
       "      <td>5.00</td>\n",
       "    </tr>\n",
       "    <tr>\n",
       "      <th>Ventas China</th>\n",
       "      <td>16600.00</td>\n",
       "      <td>3.50</td>\n",
       "      <td>0.50</td>\n",
       "      <td>3.00</td>\n",
       "      <td>3.00</td>\n",
       "      <td>3.00</td>\n",
       "      <td>4.00</td>\n",
       "      <td>4.00</td>\n",
       "    </tr>\n",
       "    <tr>\n",
       "      <th>Ventas Espana</th>\n",
       "      <td>16600.00</td>\n",
       "      <td>2.01</td>\n",
       "      <td>0.82</td>\n",
       "      <td>1.00</td>\n",
       "      <td>1.00</td>\n",
       "      <td>2.00</td>\n",
       "      <td>3.00</td>\n",
       "      <td>3.00</td>\n",
       "    </tr>\n",
       "    <tr>\n",
       "      <th>Ventas Francia</th>\n",
       "      <td>16600.00</td>\n",
       "      <td>2.50</td>\n",
       "      <td>0.50</td>\n",
       "      <td>2.00</td>\n",
       "      <td>2.00</td>\n",
       "      <td>2.50</td>\n",
       "      <td>3.00</td>\n",
       "      <td>3.00</td>\n",
       "    </tr>\n",
       "    <tr>\n",
       "      <th>Ventas Canada</th>\n",
       "      <td>16600.00</td>\n",
       "      <td>3.01</td>\n",
       "      <td>1.42</td>\n",
       "      <td>1.00</td>\n",
       "      <td>2.00</td>\n",
       "      <td>3.00</td>\n",
       "      <td>4.00</td>\n",
       "      <td>5.00</td>\n",
       "    </tr>\n",
       "  </tbody>\n",
       "</table>\n",
       "</div>"
      ],
      "text/plain": [
       "                  count    mean    std     min     25%     50%     75%     max\n",
       "Id Empresas    16600.00    4.00   2.00    1.00    2.00    4.00    6.00    7.00\n",
       "Id Frutas      16600.00    4.01   2.00    1.00    2.00    4.00    6.00    7.00\n",
       "Id Cliente     16600.00    3.00   1.41    1.00    2.00    3.00    4.00    5.00\n",
       "Cantidad       16600.00 1602.68 460.79  800.00 1203.00 1607.00 1998.00 2400.00\n",
       "Anio           16600.00 2015.03   3.16 2010.00 2012.00 2015.00 2018.00 2020.00\n",
       "Ventas EEUU    16600.00    2.99   1.41    1.00    2.00    3.00    4.00    5.00\n",
       "Ventas China   16600.00    3.50   0.50    3.00    3.00    3.00    4.00    4.00\n",
       "Ventas Espana  16600.00    2.01   0.82    1.00    1.00    2.00    3.00    3.00\n",
       "Ventas Francia 16600.00    2.50   0.50    2.00    2.00    2.50    3.00    3.00\n",
       "Ventas Canada  16600.00    3.01   1.42    1.00    2.00    3.00    4.00    5.00"
      ]
     },
     "execution_count": 4,
     "metadata": {},
     "output_type": "execute_result"
    }
   ],
   "source": [
    "# Resumimos las variables numéricas\n",
    "exportaciones.describe().T.round(2)"
   ]
  },
  {
   "cell_type": "markdown",
   "id": "331272b4-9264-4a16-a414-f06e142aec88",
   "metadata": {},
   "source": [
    "### 1.4 Visualización de Variables Numéricas"
   ]
  },
  {
   "cell_type": "code",
   "execution_count": 15,
   "id": "587491ba-660e-4545-8e81-2ec8a4c5d70b",
   "metadata": {},
   "outputs": [
    {
     "data": {
      "image/png": "[encoded data removed]",
      "text/plain": [
       "<Figure size 1080x1080 with 12 Axes>"
      ]
     },
     "metadata": {
      "needs_background": "light"
     },
     "output_type": "display_data"
    }
   ],
   "source": [
    "# Trazamos los histogramas\n",
    "exportaciones.hist(bins=10 , figsize=(15,15)) \n",
    "plt.show()"
   ]
  },
  {
   "cell_type": "markdown",
   "id": "5d647ffb-3d2e-4fd3-ad53-2bf38d0ab082",
   "metadata": {},
   "source": [
    "## 2. Preparación de los Datos"
   ]
  },
  {
   "cell_type": "markdown",
   "id": "a3abcc26-7a69-4ebe-8dc6-d546e750e1a4",
   "metadata": {},
   "source": [
    "### 2.1 División de los Datos"
   ]
  },
  {
   "cell_type": "code",
   "execution_count": 5,
   "id": "5905a69f-db18-436e-ab1f-1186b60f5ec0",
   "metadata": {},
   "outputs": [
    {
     "name": "stdout",
     "output_type": "stream",
     "text": [
      "X: (16600, 9)\n",
      "y: (16600,)\n"
     ]
    }
   ],
   "source": [
    "# Dividimos los datos en X y y\n",
    "X = exportaciones.drop(['Cantidad'], axis = 1)\n",
    "y = exportaciones['Cantidad']\n",
    "\n",
    "print(f\"X: {X.shape}\")\n",
    "print(f\"y: {y.shape}\")"
   ]
  },
  {
   "cell_type": "code",
   "execution_count": 6,
   "id": "bd74c17a-f960-46e0-b4ff-fb6a0e905535",
   "metadata": {},
   "outputs": [
    {
     "name": "stdout",
     "output_type": "stream",
     "text": [
      "X_train: (13280, 9)\n",
      "X_test: (3320, 9)\n",
      "y_train: (13280,)\n",
      "y_test: (3320,)\n"
     ]
    }
   ],
   "source": [
    "# Dividimos los datos de entrenamiento y prueba\n",
    "\n",
    "from sklearn.model_selection import train_test_split\n",
    "\n",
    "X_train, X_test, y_train, y_test = train_test_split(X, y, test_size=0.2, shuffle=True, random_state=0) #,stratify=y\n",
    "\n",
    "print(f\"X_train: {X_train.shape}\")\n",
    "print(f\"X_test: {X_test.shape}\")\n",
    "print(f\"y_train: {y_train.shape}\")\n",
    "print(f\"y_test: {y_test.shape}\")"
   ]
  },
  {
   "cell_type": "markdown",
   "id": "2fefbcd2-b477-4793-b620-55b8a546d895",
   "metadata": {},
   "source": [
    "### 2.2 Escalamiento de Variables"
   ]
  },
  {
   "cell_type": "code",
   "execution_count": 7,
   "id": "7b974ad1-3641-4988-82f3-efc8aae079ee",
   "metadata": {},
   "outputs": [],
   "source": [
    "# Estandarizamos los datos númericos utilizando StandardScaler\n",
    "\n",
    "from sklearn.preprocessing import StandardScaler\n",
    "\n",
    "scaler = StandardScaler()"
   ]
  },
  {
   "cell_type": "markdown",
   "id": "ab87780a-229f-4d9d-94fe-e5b1104e885b",
   "metadata": {},
   "source": [
    "## 3. Modelado"
   ]
  },
  {
   "cell_type": "markdown",
   "id": "2cc75177-b9c3-4326-aa00-3efc94864825",
   "metadata": {},
   "source": [
    "### 3.1 Multi-layer Perceptron Regressor"
   ]
  },
  {
   "cell_type": "code",
   "execution_count": 8,
   "id": "5c7ead0d-8197-4a0b-943a-4f3d8ebbf9ef",
   "metadata": {},
   "outputs": [],
   "source": [
    "# Aplicamos el modelo de redes neuronales Multi-layer Perceptron Regressor\n",
    "\n",
    "from sklearn.neural_network import MLPRegressor\n",
    "\n",
    "model = MLPRegressor(hidden_layer_sizes=(6, 3), activation='relu', solver='adam', batch_size=15, max_iter=400)"
   ]
  },
  {
   "cell_type": "code",
   "execution_count": 9,
   "id": "5e6ecb43-0933-4925-9c06-36ab3c01dec7",
   "metadata": {},
   "outputs": [],
   "source": [
    "# Creamos un Pipeline con el escalamiento y el modelo\n",
    "\n",
    "from sklearn.pipeline import make_pipeline\n",
    "\n",
    "pipe = make_pipeline(scaler, model)"
   ]
  },
  {
   "cell_type": "code",
   "execution_count": 10,
   "id": "6e5f0fb2-bc7e-4624-a5b5-d6544237a9ab",
   "metadata": {},
   "outputs": [
    {
     "data": {
      "text/html": [
       "<div>\n",
       "<style scoped>\n",
       "    .dataframe tbody tr th:only-of-type {\n",
       "        vertical-align: middle;\n",
       "    }\n",
       "\n",
       "    .dataframe tbody tr th {\n",
       "        vertical-align: top;\n",
       "    }\n",
       "\n",
       "    .dataframe thead th {\n",
       "        text-align: right;\n",
       "    }\n",
       "</style>\n",
       "<table border=\"1\" class=\"dataframe\">\n",
       "  <thead>\n",
       "    <tr style=\"text-align: right;\">\n",
       "      <th></th>\n",
       "      <th>Cantidad</th>\n",
       "    </tr>\n",
       "  </thead>\n",
       "  <tbody>\n",
       "    <tr>\n",
       "      <th>0</th>\n",
       "      <td>1576.79</td>\n",
       "    </tr>\n",
       "    <tr>\n",
       "      <th>1</th>\n",
       "      <td>1608.08</td>\n",
       "    </tr>\n",
       "    <tr>\n",
       "      <th>2</th>\n",
       "      <td>1611.27</td>\n",
       "    </tr>\n",
       "    <tr>\n",
       "      <th>3</th>\n",
       "      <td>1598.04</td>\n",
       "    </tr>\n",
       "    <tr>\n",
       "      <th>4</th>\n",
       "      <td>1662.55</td>\n",
       "    </tr>\n",
       "  </tbody>\n",
       "</table>\n",
       "</div>"
      ],
      "text/plain": [
       "   Cantidad\n",
       "0   1576.79\n",
       "1   1608.08\n",
       "2   1611.27\n",
       "3   1598.04\n",
       "4   1662.55"
      ]
     },
     "execution_count": 10,
     "metadata": {},
     "output_type": "execute_result"
    }
   ],
   "source": [
    "# Ajustamos los datos de entrenamiento y hacemos predicciones sobre los datos de prueba / nuevos\n",
    "\n",
    "pipe.fit(X_train, y_train)\n",
    "y_pred = pipe.predict(X_test)\n",
    "#y_pred = pipe.predict(X_new)\n",
    "\n",
    "y_pred = pd.DataFrame(y_pred, columns = ['Cantidad'])\n",
    "y_pred.head()"
   ]
  },
  {
   "cell_type": "markdown",
   "id": "6821ece4-0584-4313-933c-487ff5ae61b2",
   "metadata": {},
   "source": [
    "### 3.2 Evaluación del modelo"
   ]
  },
  {
   "cell_type": "code",
   "execution_count": 11,
   "id": "23f733bd-1ab0-4a05-ae33-ff30f0d7af80",
   "metadata": {},
   "outputs": [
    {
     "name": "stdout",
     "output_type": "stream",
     "text": [
      "MAE: 402.43\n",
      "MSE: 215,042.23\n",
      "R2: -0.00\n"
     ]
    }
   ],
   "source": [
    "# Obtenemos las princiales métricas de la Regresión de los predictores\n",
    "\n",
    "from sklearn.metrics import mean_absolute_error, mean_squared_error, r2_score\n",
    "\n",
    "mae = mean_absolute_error(y_test, y_pred)\n",
    "mse = mean_squared_error(y_test, y_pred)\n",
    "r2 = r2_score(y_test, y_pred)\n",
    "\n",
    "print(f\"MAE: {mae:,.2f}\")\n",
    "print(f\"MSE: {mse:,.2f}\")\n",
    "print(f\"R2: {r2:,.2f}\")"
   ]
  },
  {
   "cell_type": "code",
   "execution_count": null,
   "id": "c507598f-fb56-4c9c-9896-0f970ca21fd9",
   "metadata": {},
   "outputs": [],
   "source": []
  }
 ],
 "metadata": {
  "kernelspec": {
   "display_name": "Python 3 (ipykernel)",
   "language": "python",
   "name": "python3"
  },
  "language_info": {
   "codemirror_mode": {
    "name": "ipython",
    "version": 3
   },
   "file_extension": ".py",
   "mimetype": "text/x-python",
   "name": "python",
   "nbconvert_exporter": "python",
   "pygments_lexer": "ipython3",
   "version": "3.9.12"
  }
 },
 "nbformat": 4,
 "nbformat_minor": 5
}
