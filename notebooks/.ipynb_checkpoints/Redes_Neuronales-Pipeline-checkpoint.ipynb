{
 "cells": [
  {
   "cell_type": "markdown",
   "id": "5015903c-f4ac-4c05-8e52-3e97d7337aab",
   "metadata": {},
   "source": [
    "# Detección de Fraude en Seguros de Auto"
   ]
  },
  {
   "cell_type": "markdown",
   "id": "341b6b38-e37d-468d-a400-e359b31e6cda",
   "metadata": {},
   "source": [
    "## 2. Procesamiento de los Datos"
   ]
  },
  {
   "cell_type": "markdown",
   "id": "d72285b0-996e-4941-84bd-1ddfbd6dc343",
   "metadata": {},
   "source": [
    "### 2.1 Carga de Librerías"
   ]
  },
  {
   "cell_type": "code",
   "execution_count": 15,
   "id": "9cdc0a29-b4cf-494b-aec9-a0aad98f7bef",
   "metadata": {},
   "outputs": [],
   "source": [
    "# Cargamos las librerías a utilizar\n",
    "import pandas as pd\n",
    "import seaborn as sns\n",
    "import numpy as np\n",
    "import matplotlib.pyplot as plt\n",
    "\n",
    "# Para mostrar todas las columnas\n",
    "pd.set_option('display.max_columns', None)\n",
    "\n",
    "# Para mostar las cifras en formato float\n",
    "pd.options.display.float_format = '{:.2f}'.format"
   ]
  },
  {
   "cell_type": "markdown",
   "id": "13baf395-3e67-4535-8fdf-1b1448de1379",
   "metadata": {},
   "source": [
    "### 2.2 Carga de Datos"
   ]
  },
  {
   "cell_type": "code",
   "execution_count": 16,
   "id": "ee93ac54-d041-46b3-ab86-9665e0de3333",
   "metadata": {},
   "outputs": [
    {
     "data": {
      "text/html": [
       "<div>\n",
       "<style scoped>\n",
       "    .dataframe tbody tr th:only-of-type {\n",
       "        vertical-align: middle;\n",
       "    }\n",
       "\n",
       "    .dataframe tbody tr th {\n",
       "        vertical-align: top;\n",
       "    }\n",
       "\n",
       "    .dataframe thead th {\n",
       "        text-align: right;\n",
       "    }\n",
       "</style>\n",
       "<table border=\"1\" class=\"dataframe\">\n",
       "  <thead>\n",
       "    <tr style=\"text-align: right;\">\n",
       "      <th></th>\n",
       "      <th>Month</th>\n",
       "      <th>WeekOfMonth</th>\n",
       "      <th>DayOfWeek</th>\n",
       "      <th>Make</th>\n",
       "      <th>AccidentArea</th>\n",
       "      <th>DayOfWeekClaimed</th>\n",
       "      <th>MonthClaimed</th>\n",
       "      <th>WeekOfMonthClaimed</th>\n",
       "      <th>Sex</th>\n",
       "      <th>MaritalStatus</th>\n",
       "      <th>Age</th>\n",
       "      <th>Fault</th>\n",
       "      <th>PolicyType</th>\n",
       "      <th>VehicleCategory</th>\n",
       "      <th>VehiclePrice</th>\n",
       "      <th>FraudFound_P</th>\n",
       "      <th>PolicyNumber</th>\n",
       "      <th>RepNumber</th>\n",
       "      <th>Deductible</th>\n",
       "      <th>DriverRating</th>\n",
       "      <th>Days_Policy_Accident</th>\n",
       "      <th>Days_Policy_Claim</th>\n",
       "      <th>PastNumberOfClaims</th>\n",
       "      <th>AgeOfVehicle</th>\n",
       "      <th>AgeOfPolicyHolder</th>\n",
       "      <th>PoliceReportFiled</th>\n",
       "      <th>WitnessPresent</th>\n",
       "      <th>AgentType</th>\n",
       "      <th>NumberOfSuppliments</th>\n",
       "      <th>AddressChange_Claim</th>\n",
       "      <th>NumberOfCars</th>\n",
       "      <th>Year</th>\n",
       "      <th>BasePolicy</th>\n",
       "      <th>ClaimSize</th>\n",
       "    </tr>\n",
       "  </thead>\n",
       "  <tbody>\n",
       "    <tr>\n",
       "      <th>0</th>\n",
       "      <td>Dec</td>\n",
       "      <td>5</td>\n",
       "      <td>Wednesday</td>\n",
       "      <td>Honda</td>\n",
       "      <td>Urban</td>\n",
       "      <td>Tuesday</td>\n",
       "      <td>Jan</td>\n",
       "      <td>1</td>\n",
       "      <td>Female</td>\n",
       "      <td>Single</td>\n",
       "      <td>21.00</td>\n",
       "      <td>Policy Holder</td>\n",
       "      <td>Sport - Liability</td>\n",
       "      <td>Sport</td>\n",
       "      <td>more than 69000</td>\n",
       "      <td>0</td>\n",
       "      <td>1</td>\n",
       "      <td>12</td>\n",
       "      <td>300</td>\n",
       "      <td>1.00</td>\n",
       "      <td>more than 30</td>\n",
       "      <td>more than 30</td>\n",
       "      <td>none</td>\n",
       "      <td>3 years</td>\n",
       "      <td>26 to 30</td>\n",
       "      <td>No</td>\n",
       "      <td>No</td>\n",
       "      <td>External</td>\n",
       "      <td>none</td>\n",
       "      <td>1 year</td>\n",
       "      <td>3 to 4</td>\n",
       "      <td>1994</td>\n",
       "      <td>Liability</td>\n",
       "      <td>55526.07</td>\n",
       "    </tr>\n",
       "    <tr>\n",
       "      <th>1</th>\n",
       "      <td>Jan</td>\n",
       "      <td>3</td>\n",
       "      <td>Wednesday</td>\n",
       "      <td>Honda</td>\n",
       "      <td>Urban</td>\n",
       "      <td>Monday</td>\n",
       "      <td>Jan</td>\n",
       "      <td>4</td>\n",
       "      <td>Male</td>\n",
       "      <td>Single</td>\n",
       "      <td>34.00</td>\n",
       "      <td>Policy Holder</td>\n",
       "      <td>Sport - Collision</td>\n",
       "      <td>Sport</td>\n",
       "      <td>more than 69000</td>\n",
       "      <td>0</td>\n",
       "      <td>2</td>\n",
       "      <td>15</td>\n",
       "      <td>400</td>\n",
       "      <td>4.00</td>\n",
       "      <td>more than 30</td>\n",
       "      <td>more than 30</td>\n",
       "      <td>none</td>\n",
       "      <td>6 years</td>\n",
       "      <td>31 to 35</td>\n",
       "      <td>Yes</td>\n",
       "      <td>No</td>\n",
       "      <td>External</td>\n",
       "      <td>none</td>\n",
       "      <td>no change</td>\n",
       "      <td>1 vehicle</td>\n",
       "      <td>1994</td>\n",
       "      <td>Collision</td>\n",
       "      <td>59294.46</td>\n",
       "    </tr>\n",
       "    <tr>\n",
       "      <th>2</th>\n",
       "      <td>Oct</td>\n",
       "      <td>5</td>\n",
       "      <td>Friday</td>\n",
       "      <td>Honda</td>\n",
       "      <td>Urban</td>\n",
       "      <td>Thursday</td>\n",
       "      <td>Nov</td>\n",
       "      <td>2</td>\n",
       "      <td>Male</td>\n",
       "      <td>Married</td>\n",
       "      <td>47.00</td>\n",
       "      <td>Policy Holder</td>\n",
       "      <td>Sport - Collision</td>\n",
       "      <td>Sport</td>\n",
       "      <td>more than 69000</td>\n",
       "      <td>0</td>\n",
       "      <td>3</td>\n",
       "      <td>7</td>\n",
       "      <td>400</td>\n",
       "      <td>3.00</td>\n",
       "      <td>more than 30</td>\n",
       "      <td>more than 30</td>\n",
       "      <td>1</td>\n",
       "      <td>7 years</td>\n",
       "      <td>41 to 50</td>\n",
       "      <td>No</td>\n",
       "      <td>No</td>\n",
       "      <td>External</td>\n",
       "      <td>none</td>\n",
       "      <td>no change</td>\n",
       "      <td>1 vehicle</td>\n",
       "      <td>1994</td>\n",
       "      <td>Collision</td>\n",
       "      <td>71756.94</td>\n",
       "    </tr>\n",
       "    <tr>\n",
       "      <th>3</th>\n",
       "      <td>Jun</td>\n",
       "      <td>2</td>\n",
       "      <td>Saturday</td>\n",
       "      <td>Toyota</td>\n",
       "      <td>Rural</td>\n",
       "      <td>Friday</td>\n",
       "      <td>Jul</td>\n",
       "      <td>1</td>\n",
       "      <td>Male</td>\n",
       "      <td>Married</td>\n",
       "      <td>65.00</td>\n",
       "      <td>Third Party</td>\n",
       "      <td>Sedan - Liability</td>\n",
       "      <td>Sport</td>\n",
       "      <td>20000 to 29000</td>\n",
       "      <td>0</td>\n",
       "      <td>4</td>\n",
       "      <td>4</td>\n",
       "      <td>400</td>\n",
       "      <td>2.00</td>\n",
       "      <td>more than 30</td>\n",
       "      <td>more than 30</td>\n",
       "      <td>1</td>\n",
       "      <td>more than 7</td>\n",
       "      <td>51 to 65</td>\n",
       "      <td>Yes</td>\n",
       "      <td>No</td>\n",
       "      <td>External</td>\n",
       "      <td>more than 5</td>\n",
       "      <td>no change</td>\n",
       "      <td>1 vehicle</td>\n",
       "      <td>1994</td>\n",
       "      <td>Liability</td>\n",
       "      <td>7584.15</td>\n",
       "    </tr>\n",
       "    <tr>\n",
       "      <th>4</th>\n",
       "      <td>Feb</td>\n",
       "      <td>1</td>\n",
       "      <td>Saturday</td>\n",
       "      <td>Honda</td>\n",
       "      <td>Urban</td>\n",
       "      <td>Monday</td>\n",
       "      <td>Feb</td>\n",
       "      <td>3</td>\n",
       "      <td>Male</td>\n",
       "      <td>Married</td>\n",
       "      <td>36.00</td>\n",
       "      <td>Third Party</td>\n",
       "      <td>Sport - Collision</td>\n",
       "      <td>Sport</td>\n",
       "      <td>more than 69000</td>\n",
       "      <td>0</td>\n",
       "      <td>7</td>\n",
       "      <td>14</td>\n",
       "      <td>400</td>\n",
       "      <td>1.00</td>\n",
       "      <td>more than 30</td>\n",
       "      <td>more than 30</td>\n",
       "      <td>1</td>\n",
       "      <td>7 years</td>\n",
       "      <td>36 to 40</td>\n",
       "      <td>No</td>\n",
       "      <td>No</td>\n",
       "      <td>External</td>\n",
       "      <td>1 to 2</td>\n",
       "      <td>no change</td>\n",
       "      <td>1 vehicle</td>\n",
       "      <td>1994</td>\n",
       "      <td>Collision</td>\n",
       "      <td>98545.37</td>\n",
       "    </tr>\n",
       "  </tbody>\n",
       "</table>\n",
       "</div>"
      ],
      "text/plain": [
       "  Month  WeekOfMonth  DayOfWeek    Make AccidentArea DayOfWeekClaimed  \\\n",
       "0   Dec            5  Wednesday   Honda        Urban          Tuesday   \n",
       "1   Jan            3  Wednesday   Honda        Urban           Monday   \n",
       "2   Oct            5     Friday   Honda        Urban         Thursday   \n",
       "3   Jun            2   Saturday  Toyota        Rural           Friday   \n",
       "4   Feb            1   Saturday   Honda        Urban           Monday   \n",
       "\n",
       "  MonthClaimed  WeekOfMonthClaimed     Sex MaritalStatus   Age          Fault  \\\n",
       "0          Jan                   1  Female        Single 21.00  Policy Holder   \n",
       "1          Jan                   4    Male        Single 34.00  Policy Holder   \n",
       "2          Nov                   2    Male       Married 47.00  Policy Holder   \n",
       "3          Jul                   1    Male       Married 65.00    Third Party   \n",
       "4          Feb                   3    Male       Married 36.00    Third Party   \n",
       "\n",
       "          PolicyType VehicleCategory     VehiclePrice  FraudFound_P  \\\n",
       "0  Sport - Liability           Sport  more than 69000             0   \n",
       "1  Sport - Collision           Sport  more than 69000             0   \n",
       "2  Sport - Collision           Sport  more than 69000             0   \n",
       "3  Sedan - Liability           Sport   20000 to 29000             0   \n",
       "4  Sport - Collision           Sport  more than 69000             0   \n",
       "\n",
       "   PolicyNumber  RepNumber  Deductible  DriverRating Days_Policy_Accident  \\\n",
       "0             1         12         300          1.00         more than 30   \n",
       "1             2         15         400          4.00         more than 30   \n",
       "2             3          7         400          3.00         more than 30   \n",
       "3             4          4         400          2.00         more than 30   \n",
       "4             7         14         400          1.00         more than 30   \n",
       "\n",
       "  Days_Policy_Claim PastNumberOfClaims AgeOfVehicle AgeOfPolicyHolder  \\\n",
       "0      more than 30               none      3 years          26 to 30   \n",
       "1      more than 30               none      6 years          31 to 35   \n",
       "2      more than 30                  1      7 years          41 to 50   \n",
       "3      more than 30                  1  more than 7          51 to 65   \n",
       "4      more than 30                  1      7 years          36 to 40   \n",
       "\n",
       "  PoliceReportFiled WitnessPresent AgentType NumberOfSuppliments  \\\n",
       "0                No             No  External                none   \n",
       "1               Yes             No  External                none   \n",
       "2                No             No  External                none   \n",
       "3               Yes             No  External         more than 5   \n",
       "4                No             No  External              1 to 2   \n",
       "\n",
       "  AddressChange_Claim NumberOfCars  Year BasePolicy  ClaimSize  \n",
       "0              1 year       3 to 4  1994  Liability   55526.07  \n",
       "1           no change    1 vehicle  1994  Collision   59294.46  \n",
       "2           no change    1 vehicle  1994  Collision   71756.94  \n",
       "3           no change    1 vehicle  1994  Liability    7584.15  \n",
       "4           no change    1 vehicle  1994  Collision   98545.37  "
      ]
     },
     "execution_count": 16,
     "metadata": {},
     "output_type": "execute_result"
    }
   ],
   "source": [
    "# Asignamos los datos a un dataframe\n",
    "car_fraud = pd.read_csv('.\\..\\data\\Dataset.csv')\n",
    "\n",
    "# Mostramos el encabezado de los datos\n",
    "car_fraud.head()"
   ]
  },
  {
   "cell_type": "markdown",
   "id": "31c5cf07-ea80-4556-9563-920a0efb4102",
   "metadata": {},
   "source": [
    "### 2.3 Limpieza de Datos"
   ]
  },
  {
   "cell_type": "code",
   "execution_count": 17,
   "id": "d13ff25c-65fe-4be2-9485-50a990b14eda",
   "metadata": {},
   "outputs": [
    {
     "data": {
      "text/plain": [
       "Month                   0\n",
       "WeekOfMonth             0\n",
       "DayOfWeek               0\n",
       "Make                    0\n",
       "AccidentArea            0\n",
       "DayOfWeekClaimed        0\n",
       "MonthClaimed            0\n",
       "WeekOfMonthClaimed      0\n",
       "Sex                     0\n",
       "MaritalStatus           0\n",
       "Age                     5\n",
       "Fault                   0\n",
       "PolicyType              0\n",
       "VehicleCategory         0\n",
       "VehiclePrice            0\n",
       "FraudFound_P            0\n",
       "PolicyNumber            0\n",
       "RepNumber               0\n",
       "Deductible              0\n",
       "DriverRating            6\n",
       "Days_Policy_Accident    0\n",
       "Days_Policy_Claim       0\n",
       "PastNumberOfClaims      0\n",
       "AgeOfVehicle            0\n",
       "AgeOfPolicyHolder       0\n",
       "PoliceReportFiled       0\n",
       "WitnessPresent          0\n",
       "AgentType               0\n",
       "NumberOfSuppliments     0\n",
       "AddressChange_Claim     0\n",
       "NumberOfCars            0\n",
       "Year                    0\n",
       "BasePolicy              0\n",
       "ClaimSize               0\n",
       "dtype: int64"
      ]
     },
     "execution_count": 17,
     "metadata": {},
     "output_type": "execute_result"
    }
   ],
   "source": [
    "# Mostramos la suma de valores nulos\n",
    "\n",
    "car_fraud.isnull().sum()"
   ]
  },
  {
   "cell_type": "code",
   "execution_count": 18,
   "id": "57a32282-1bbe-4bc9-a5b1-a12f308bc312",
   "metadata": {},
   "outputs": [
    {
     "data": {
      "text/plain": [
       "Month                   False\n",
       "WeekOfMonth             False\n",
       "DayOfWeek               False\n",
       "Make                    False\n",
       "AccidentArea            False\n",
       "DayOfWeekClaimed        False\n",
       "MonthClaimed            False\n",
       "WeekOfMonthClaimed      False\n",
       "Sex                     False\n",
       "MaritalStatus           False\n",
       "Age                     False\n",
       "Fault                   False\n",
       "PolicyType              False\n",
       "VehicleCategory         False\n",
       "VehiclePrice            False\n",
       "FraudFound_P            False\n",
       "PolicyNumber            False\n",
       "RepNumber               False\n",
       "Deductible              False\n",
       "DriverRating            False\n",
       "Days_Policy_Accident    False\n",
       "Days_Policy_Claim       False\n",
       "PastNumberOfClaims      False\n",
       "AgeOfVehicle            False\n",
       "AgeOfPolicyHolder       False\n",
       "PoliceReportFiled       False\n",
       "WitnessPresent          False\n",
       "AgentType               False\n",
       "NumberOfSuppliments     False\n",
       "AddressChange_Claim     False\n",
       "NumberOfCars            False\n",
       "Year                    False\n",
       "BasePolicy              False\n",
       "ClaimSize               False\n",
       "dtype: bool"
      ]
     },
     "execution_count": 18,
     "metadata": {},
     "output_type": "execute_result"
    }
   ],
   "source": [
    "# Imputamos los valores nulos\n",
    "# Esto también se puede realizar con pipeline SimpleImputer o KNNImputer\n",
    "\n",
    "median_age = car_fraud['Age'].median()\n",
    "car_fraud['Age'] = car_fraud['Age'].fillna(median_age)\n",
    "median_DR = car_fraud['DriverRating'].median()\n",
    "car_fraud['DriverRating'] = car_fraud['DriverRating'].fillna(median_DR)\n",
    "car_fraud.isnull().any()"
   ]
  },
  {
   "cell_type": "code",
   "execution_count": 19,
   "id": "7d23e9f6-e8f5-4037-a8b6-342002c638c7",
   "metadata": {},
   "outputs": [
    {
     "name": "stdout",
     "output_type": "stream",
     "text": [
      "DayOfWeekClaimed\n",
      "Friday       1842\n",
      "Monday       2812\n",
      "Saturday       94\n",
      "Sunday         40\n",
      "Thursday     2000\n",
      "Tuesday      2545\n",
      "Wednesday    2232\n",
      "dtype: int64\n",
      "MonthClaimed\n",
      "Apr     970\n",
      "Aug     846\n",
      "Dec     879\n",
      "Feb     955\n",
      "Jan    1085\n",
      "Jul     908\n",
      "Jun     967\n",
      "Mar    1005\n",
      "May    1038\n",
      "Nov     973\n",
      "Oct     995\n",
      "Sep     944\n",
      "dtype: int64\n",
      "Age\n",
      "16.00     8\n",
      "17.00     5\n",
      "18.00    34\n",
      "19.00    24\n",
      "20.00    15\n",
      "         ..\n",
      "76.00    32\n",
      "77.00    20\n",
      "78.00    26\n",
      "79.00    12\n",
      "80.00    25\n",
      "Length: 65, dtype: int64\n",
      "ClaimSize\n",
      "504.58       4\n",
      "512.67       1\n",
      "532.51       1\n",
      "538.14       5\n",
      "542.63       2\n",
      "            ..\n",
      "100701.44    1\n",
      "103375.05    1\n",
      "103420.79    1\n",
      "104194.70    1\n",
      "141394.16    1\n",
      "Length: 3332, dtype: int64\n"
     ]
    }
   ],
   "source": [
    "# Reemplazamos los valores iguales a cero\n",
    "\n",
    "car_fraud['DayOfWeekClaimed'] = car_fraud['DayOfWeekClaimed'].replace('0', 'Monday')\n",
    "car_fraud['MonthClaimed'] = car_fraud['MonthClaimed'].replace('0', 'Jan')\n",
    "\n",
    "car_fraud['Age'] = car_fraud['Age'].replace(0, median_age)\n",
    "\n",
    "mean_ClaimSize = car_fraud['ClaimSize'].mean()\n",
    "car_fraud['ClaimSize'] = car_fraud['ClaimSize'].replace(0, mean_ClaimSize)\n",
    "\n",
    "print(car_fraud.groupby('DayOfWeekClaimed').size())\n",
    "print(car_fraud.groupby('MonthClaimed').size())\n",
    "print(car_fraud.groupby('Age').size())\n",
    "print(car_fraud.groupby('ClaimSize').size())"
   ]
  },
  {
   "cell_type": "code",
   "execution_count": 20,
   "id": "b15c4e0f-c251-49a5-b829-db56bac5ec5d",
   "metadata": {},
   "outputs": [
    {
     "data": {
      "text/plain": [
       "(11565, 34)"
      ]
     },
     "execution_count": 20,
     "metadata": {},
     "output_type": "execute_result"
    }
   ],
   "source": [
    "# Validamos el número de filas y columnas\n",
    "\n",
    "car_fraud.shape"
   ]
  },
  {
   "cell_type": "markdown",
   "id": "aecf98dd-6815-45bb-bc7e-6992eaa2b357",
   "metadata": {},
   "source": [
    "### 2.4 División de los Datos"
   ]
  },
  {
   "cell_type": "code",
   "execution_count": 21,
   "id": "aedd968f-42d2-4900-91b0-90397cdeb3d1",
   "metadata": {},
   "outputs": [
    {
     "name": "stdout",
     "output_type": "stream",
     "text": [
      "X: (11565, 32)\n",
      "y: (11565,)\n"
     ]
    }
   ],
   "source": [
    "# Dividimos los datos en X y y\n",
    "X = car_fraud.drop(['FraudFound_P', 'PolicyNumber'], axis = 1)\n",
    "y = car_fraud['FraudFound_P']\n",
    "\n",
    "print(f\"X: {X.shape}\")\n",
    "print(f\"y: {y.shape}\")"
   ]
  },
  {
   "cell_type": "code",
   "execution_count": 22,
   "id": "e20e2c2b-bd02-458b-8dd9-604c1d9f3fd5",
   "metadata": {},
   "outputs": [
    {
     "name": "stdout",
     "output_type": "stream",
     "text": [
      "X_train: (9252, 32)\n",
      "X_test: (2313, 32)\n",
      "y_train: (9252,)\n",
      "y_test: (2313,)\n"
     ]
    }
   ],
   "source": [
    "# Dividimos los datos de entrenamiento y prueba\n",
    "\n",
    "from sklearn.model_selection import train_test_split\n",
    "\n",
    "X_train, X_test, y_train, y_test = train_test_split(X, y, test_size=0.2, shuffle=True, random_state=0, stratify=y) #,stratify=y\n",
    "\n",
    "print(f\"X_train: {X_train.shape}\")\n",
    "print(f\"X_test: {X_test.shape}\")\n",
    "print(f\"y_train: {y_train.shape}\")\n",
    "print(f\"y_test: {y_test.shape}\")"
   ]
  },
  {
   "cell_type": "markdown",
   "id": "2b4b6740-4b0a-4ab8-b979-c32ab5aa8512",
   "metadata": {},
   "source": [
    "### 2.5 Codificación de Datos Categóricos"
   ]
  },
  {
   "cell_type": "code",
   "execution_count": 23,
   "id": "8929a3a2-b45d-4293-b122-38412a0c1ebf",
   "metadata": {},
   "outputs": [],
   "source": [
    "# Ordenamos las variables categóricas ordinales y nominales\n",
    "\n",
    "Month = ['Jan', 'Feb', 'Mar', 'Apr', 'May', 'Jun', 'Jul', 'Aug', 'Sep', 'Oct', 'Nov', 'Dec']\n",
    "DayOfWeek = ['Monday', 'Tuesday', 'Wednesday', 'Thursday', 'Friday', 'Saturday', 'Sunday']\n",
    "Make = ['Accura', 'BMW', 'Chevrolet', 'Dodge', 'Ferrari', 'Ford', 'Honda', 'Jaguar', 'Lexus', 'Mazda', 'Mecedes', 'Mercury', 'Nisson', 'Pontiac', 'Porche', 'Saab', 'Saturn', 'Toyota', 'VW']\n",
    "AccidentArea = ['Rural', 'Urban']\n",
    "DayOfWeekClaimed = ['Monday', 'Tuesday', 'Wednesday', 'Thursday', 'Friday', 'Saturday', 'Sunday']\n",
    "MonthClaimed = ['Jan', 'Feb', 'Mar', 'Apr', 'May', 'Jun', 'Jul', 'Aug', 'Sep', 'Oct', 'Nov', 'Dec']\n",
    "Sex = ['Male', 'Female']\n",
    "MaritalStatus = ['Single', 'Married', 'Widow', 'Divorced']\n",
    "Fault = ['Policy Holder', 'Third Party']\n",
    "PolicyType = ['Sport - Liability', 'Sport - Collision', 'Sedan - Liability', 'Sedan - All Perils', 'Sedan - Collision', 'Utility - Collision', 'Utility - Liability', 'Utility - All Perils', 'Sport - All Perils']\n",
    "VehicleCategory = ['Sport', 'Sedan', 'Utility']\n",
    "VehiclePrice = ['less than 20000', '20000 to 29000', '30000 to 39000', '40000 to 59000', '60000 to 69000', 'more than 69000']\n",
    "Days_Policy_Accident = ['none', '1 to 7', '8 to 15', '15 to 30', 'more than 30']\n",
    "Days_Policy_Claim = ['none', '8 to 15', '15 to 30', 'more than 30']\n",
    "PastNumberOfClaims = ['none', '1', '2 to 4', 'more than 4']\n",
    "AgeOfVehicle = ['new', '2 years', '3 years', '4 years', '5 years', '6 years', '7 years', 'more than 7']\n",
    "AgeOfPolicyHolder = ['16 to 17', '18 to 20', '21 to 25', '26 to 30', '31 to 35', '36 to 40', '41 to 50', '51 to 65', 'over 65']\n",
    "PoliceReportFiled = ['No', 'Yes']\n",
    "WitnessPresent = ['No', 'Yes']\n",
    "AgentType = ['External', 'Internal']\n",
    "NumberOfSuppliments = ['none', '1 to 2', '3 to 5', 'more than 5']\n",
    "AddressChange_Claim = ['no change', 'under 6 months', '1 year', '2 to 3 years', '4 to 8 years']\n",
    "NumberOfCars = ['1 vehicle', '2 vehicles', '3 to 4', '5 to 8', 'more than 9']\n",
    "BasePolicy = ['Liability', 'Collision', 'All Perils']"
   ]
  },
  {
   "cell_type": "code",
   "execution_count": 24,
   "id": "9676e2bb-2aec-45bf-b1d0-c293ca0f0aa7",
   "metadata": {},
   "outputs": [],
   "source": [
    "# Aplicamos el codificador OrdinalEncoder a las variables categóricas ordinales y nominales\n",
    "\n",
    "from sklearn.preprocessing import OrdinalEncoder\n",
    "\n",
    "oe = OrdinalEncoder(categories = [Month,\n",
    "                                  DayOfWeek,\n",
    "                                  Make,\n",
    "                                  AccidentArea,\n",
    "                                  DayOfWeekClaimed,\n",
    "                                  MonthClaimed,\n",
    "                                  Sex,\n",
    "                                  MaritalStatus,\n",
    "                                  Fault,\n",
    "                                  PolicyType,\n",
    "                                  VehicleCategory,\n",
    "                                  VehiclePrice,\n",
    "                                  Days_Policy_Accident,\n",
    "                                  Days_Policy_Claim,\n",
    "                                  PastNumberOfClaims,\n",
    "                                  AgeOfVehicle,\n",
    "                                  AgeOfPolicyHolder,\n",
    "                                  PoliceReportFiled,\n",
    "                                  WitnessPresent,\n",
    "                                  AgentType,\n",
    "                                  NumberOfSuppliments,\n",
    "                                  AddressChange_Claim,\n",
    "                                  NumberOfCars,\n",
    "                                  BasePolicy],\n",
    "                    handle_unknown='use_encoded_value', unknown_value=-1)"
   ]
  },
  {
   "cell_type": "markdown",
   "id": "eafe7d3f-9091-4fc5-8909-519f16f91eb2",
   "metadata": {},
   "source": [
    "### 2.6 Escalamiento de Variables"
   ]
  },
  {
   "cell_type": "code",
   "execution_count": 25,
   "id": "494c4bed-b949-411c-bee0-889855e44eee",
   "metadata": {},
   "outputs": [],
   "source": [
    "# Estandarizamos los datos númericos utilizando StandardScaler\n",
    "\n",
    "from sklearn.preprocessing import StandardScaler\n",
    "\n",
    "scaler = StandardScaler()"
   ]
  },
  {
   "cell_type": "markdown",
   "id": "7ece08f9-6d62-4507-8b22-35291dd77bb2",
   "metadata": {},
   "source": [
    "### 2.7 Sesgo / Asimetría"
   ]
  },
  {
   "cell_type": "code",
   "execution_count": 26,
   "id": "51806ac6-a904-47e1-9b03-303ce681f95c",
   "metadata": {},
   "outputs": [
    {
     "data": {
      "text/plain": [
       "Age         0.73\n",
       "ClaimSize   1.19\n",
       "dtype: float64"
      ]
     },
     "execution_count": 26,
     "metadata": {},
     "output_type": "execute_result"
    }
   ],
   "source": [
    "# Calculamos el sesgo o asimietría de las variables numericas NO categóricas\n",
    "# Inclinación positiva (derecha) o negativa (izquierda)\n",
    "# Los valores más cercanos a cero tienen menos sesgo\n",
    "\n",
    "car_fraud[['Age', 'ClaimSize']].skew()"
   ]
  },
  {
   "cell_type": "code",
   "execution_count": 27,
   "id": "328ef681-ee86-43ec-a31e-470421b5fb28",
   "metadata": {},
   "outputs": [],
   "source": [
    "# Aplicamos la transformación de Box-Cox o Yeo-Johnson a los atributos con sesgo\n",
    "# box-cox (valores positivos)\n",
    "# yeo-johnson (valores negativos)\n",
    "\n",
    "from sklearn.preprocessing import PowerTransformer\n",
    "\n",
    "pt = PowerTransformer(method='box-cox', standardize=True)"
   ]
  },
  {
   "cell_type": "markdown",
   "id": "c5ef1fb7-092e-4394-8728-57ca32a1d453",
   "metadata": {},
   "source": [
    "### 2.8 Transformación de Columnas"
   ]
  },
  {
   "cell_type": "code",
   "execution_count": 28,
   "id": "bdc23d35-f101-424f-ad26-660f4f49bb39",
   "metadata": {},
   "outputs": [],
   "source": [
    "# Aplicamos el transformador de columnas make_column_transformer\n",
    "\n",
    "from sklearn.compose import make_column_transformer\n",
    "\n",
    "ct = make_column_transformer(\n",
    "    (oe, ['Month',\n",
    "          'DayOfWeek',\n",
    "          'Make',\n",
    "          'AccidentArea',\n",
    "          'DayOfWeekClaimed',\n",
    "          'MonthClaimed',\n",
    "          'Sex',\n",
    "          'MaritalStatus',\n",
    "          'Fault',\n",
    "          'PolicyType',\n",
    "          'VehicleCategory',\n",
    "          'VehiclePrice',\n",
    "          'Days_Policy_Accident',\n",
    "          'Days_Policy_Claim',\n",
    "          'PastNumberOfClaims',\n",
    "          'AgeOfVehicle',\n",
    "          'AgeOfPolicyHolder',\n",
    "          'PoliceReportFiled',\n",
    "          'WitnessPresent',\n",
    "          'AgentType',\n",
    "          'NumberOfSuppliments',\n",
    "          'AddressChange_Claim',\n",
    "          'NumberOfCars',\n",
    "          'BasePolicy']),\n",
    "    (scaler, ['WeekOfMonth',\n",
    "              'WeekOfMonthClaimed',\n",
    "              'RepNumber',\n",
    "              'Deductible',\n",
    "              'DriverRating',\n",
    "              'Year',]),\n",
    "    (pt, ['Age',\n",
    "          'ClaimSize']),\n",
    "     remainder = 'passthrough')"
   ]
  },
  {
   "cell_type": "markdown",
   "id": "72f12e25-5af0-459d-aa43-e7adeddd96f4",
   "metadata": {},
   "source": [
    "## 3. Modelado"
   ]
  },
  {
   "cell_type": "markdown",
   "id": "d78e8da6-ff39-452b-aa02-f61b2d8edb58",
   "metadata": {},
   "source": [
    "### 3.1 Multi-layer Perceptron Classifier"
   ]
  },
  {
   "cell_type": "code",
   "execution_count": 29,
   "id": "564bd67c-97f9-4bea-9fdb-e16a01ce29b1",
   "metadata": {},
   "outputs": [],
   "source": [
    "# Aplicamos el modelo de redes neuronales Multi-layer Perceptron Classifier\n",
    "\n",
    "from sklearn.neural_network import MLPClassifier\n",
    "\n",
    "model = MLPClassifier(hidden_layer_sizes=(16, 8), activation='logistic', solver='adam', batch_size=15, max_iter=500)"
   ]
  },
  {
   "cell_type": "code",
   "execution_count": 30,
   "id": "962be766-d8dc-4693-82ab-c3987ccbe410",
   "metadata": {},
   "outputs": [],
   "source": [
    "# Creamos un Pipeline con el transformador de columnas y el modelo\n",
    "\n",
    "from sklearn.pipeline import make_pipeline\n",
    "\n",
    "pipe = make_pipeline(ct, model)"
   ]
  },
  {
   "cell_type": "code",
   "execution_count": 31,
   "id": "a7ca69b0-ee87-4feb-843b-22919c31fc73",
   "metadata": {},
   "outputs": [
    {
     "data": {
      "text/html": [
       "<div>\n",
       "<style scoped>\n",
       "    .dataframe tbody tr th:only-of-type {\n",
       "        vertical-align: middle;\n",
       "    }\n",
       "\n",
       "    .dataframe tbody tr th {\n",
       "        vertical-align: top;\n",
       "    }\n",
       "\n",
       "    .dataframe thead th {\n",
       "        text-align: right;\n",
       "    }\n",
       "</style>\n",
       "<table border=\"1\" class=\"dataframe\">\n",
       "  <thead>\n",
       "    <tr style=\"text-align: right;\">\n",
       "      <th></th>\n",
       "      <th>FraudFound_P</th>\n",
       "    </tr>\n",
       "  </thead>\n",
       "  <tbody>\n",
       "    <tr>\n",
       "      <th>0</th>\n",
       "      <td>0</td>\n",
       "    </tr>\n",
       "    <tr>\n",
       "      <th>1</th>\n",
       "      <td>0</td>\n",
       "    </tr>\n",
       "    <tr>\n",
       "      <th>2</th>\n",
       "      <td>0</td>\n",
       "    </tr>\n",
       "    <tr>\n",
       "      <th>3</th>\n",
       "      <td>0</td>\n",
       "    </tr>\n",
       "    <tr>\n",
       "      <th>4</th>\n",
       "      <td>0</td>\n",
       "    </tr>\n",
       "  </tbody>\n",
       "</table>\n",
       "</div>"
      ],
      "text/plain": [
       "   FraudFound_P\n",
       "0             0\n",
       "1             0\n",
       "2             0\n",
       "3             0\n",
       "4             0"
      ]
     },
     "execution_count": 31,
     "metadata": {},
     "output_type": "execute_result"
    }
   ],
   "source": [
    "# Ajustamos los datos de entrenamiento y hacemos predicciones sobre los datos de prueba / nuevos\n",
    "\n",
    "pipe.fit(X_train, y_train)\n",
    "y_pred = pipe.predict(X_test)\n",
    "#y_pred = pipe.predict(X_new)\n",
    "\n",
    "y_pred = pd.DataFrame(y_pred, columns = ['FraudFound_P'])\n",
    "y_pred.head()"
   ]
  },
  {
   "cell_type": "markdown",
   "id": "88a12085-bcaa-4083-9bb0-e848c9ab755e",
   "metadata": {},
   "source": [
    "### 3.2 Evaluación del modelo"
   ]
  },
  {
   "cell_type": "code",
   "execution_count": 32,
   "id": "c50bcadc-ccab-499f-962b-de00e03102ee",
   "metadata": {},
   "outputs": [
    {
     "name": "stdout",
     "output_type": "stream",
     "text": [
      "Accuracy: 93.69%\n",
      "Cohen Kappa: 3.94%\n",
      "AUC: 51.16%\n"
     ]
    }
   ],
   "source": [
    "# Obtenemos las princiales métricas de los predictores\n",
    "\n",
    "from sklearn.metrics import accuracy_score, cohen_kappa_score, roc_auc_score\n",
    "\n",
    "accuracy = accuracy_score(y_test, y_pred)\n",
    "kappa = cohen_kappa_score(y_test, y_pred)\n",
    "auc = roc_auc_score(y_test, y_pred)\n",
    "\n",
    "print(f\"Accuracy: {accuracy*100.0:,.2f}%\")\n",
    "print(f\"Cohen Kappa: {kappa*100.0:,.2f}%\")\n",
    "print(f\"AUC: {auc*100.0:,.2f}%\")"
   ]
  },
  {
   "cell_type": "code",
   "execution_count": 33,
   "id": "caf17264-e020-47e9-9e34-443e673ecf12",
   "metadata": {},
   "outputs": [
    {
     "name": "stdout",
     "output_type": "stream",
     "text": [
      "              precision    recall  f1-score   support\n",
      "\n",
      "           0       0.94      0.99      0.97      2176\n",
      "           1       0.24      0.03      0.05       137\n",
      "\n",
      "    accuracy                           0.94      2313\n",
      "   macro avg       0.59      0.51      0.51      2313\n",
      "weighted avg       0.90      0.94      0.91      2313\n",
      "\n"
     ]
    }
   ],
   "source": [
    "# Obtenemos el reporte de clasificación de los predictores\n",
    "\n",
    "from sklearn.metrics import classification_report\n",
    "\n",
    "report = classification_report(y_test, y_pred)\n",
    "print(report)"
   ]
  },
  {
   "cell_type": "code",
   "execution_count": 34,
   "id": "b9128dba-c805-4740-9218-dfdcd7c20bdc",
   "metadata": {},
   "outputs": [
    {
     "data": {
      "image/png": "[encoded data removed]",
      "text/plain": [
       "<Figure size 432x288 with 2 Axes>"
      ]
     },
     "metadata": {
      "needs_background": "light"
     },
     "output_type": "display_data"
    }
   ],
   "source": [
    "# Dibujamos la matriz de confusión de los predictores\n",
    "\n",
    "from sklearn.metrics import ConfusionMatrixDisplay\n",
    "\n",
    "ConfusionMatrixDisplay.from_predictions(y_test, y_pred)\n",
    "plt.show()"
   ]
  },
  {
   "cell_type": "code",
   "execution_count": null,
   "id": "e532011d-3011-4642-9b5f-22adb1d4e78b",
   "metadata": {},
   "outputs": [],
   "source": []
  }
 ],
 "metadata": {
  "kernelspec": {
   "display_name": "Python 3 (ipykernel)",
   "language": "python",
   "name": "python3"
  },
  "language_info": {
   "codemirror_mode": {
    "name": "ipython",
    "version": 3
   },
   "file_extension": ".py",
   "mimetype": "text/x-python",
   "name": "python",
   "nbconvert_exporter": "python",
   "pygments_lexer": "ipython3",
   "version": "3.9.12"
  }
 },
 "nbformat": 4,
 "nbformat_minor": 5
}
