{
 "cells": [
  {
   "cell_type": "markdown",
   "id": "445995fa-eca3-438e-92bf-e7e13f1d5193",
   "metadata": {},
   "source": [
    "# Segmentación de Clientes con Redes Neuronales"
   ]
  },
  {
   "cell_type": "markdown",
   "id": "a28fc343-25cb-489a-8e8e-8b0c3f2711fd",
   "metadata": {},
   "source": [
    "## 1. Análisis Exploratorio de los Datos (EDA)"
   ]
  },
  {
   "cell_type": "markdown",
   "id": "fa4a2ade-098f-45bb-9d2a-d236ec8af953",
   "metadata": {},
   "source": [
    "### 1.1 Carga de Librerías"
   ]
  },
  {
   "cell_type": "code",
   "execution_count": 1,
   "id": "7e8d8e41-13e1-4753-af48-b75ad842e3a0",
   "metadata": {},
   "outputs": [],
   "source": [
    "# Cargamos las librerías a utilizar\n",
    "import pandas as pd\n",
    "import seaborn as sns\n",
    "import numpy as np\n",
    "import matplotlib.pyplot as plt\n",
    "\n",
    "# Para mostrar todas las columnas\n",
    "pd.set_option('display.max_columns', None)\n",
    "\n",
    "# Para mostar las cifras en formato float\n",
    "pd.options.display.float_format = '{:.2f}'.format"
   ]
  },
  {
   "cell_type": "markdown",
   "id": "90888f1f-e9ea-4700-bf60-31a0f259f071",
   "metadata": {},
   "source": [
    "### 1.2 Carga de Datos"
   ]
  },
  {
   "cell_type": "code",
   "execution_count": 2,
   "id": "82907f50-d2aa-44c7-8b8d-c1fc2c44051e",
   "metadata": {},
   "outputs": [
    {
     "data": {
      "text/html": [
       "<div>\n",
       "<style scoped>\n",
       "    .dataframe tbody tr th:only-of-type {\n",
       "        vertical-align: middle;\n",
       "    }\n",
       "\n",
       "    .dataframe tbody tr th {\n",
       "        vertical-align: top;\n",
       "    }\n",
       "\n",
       "    .dataframe thead th {\n",
       "        text-align: right;\n",
       "    }\n",
       "</style>\n",
       "<table border=\"1\" class=\"dataframe\">\n",
       "  <thead>\n",
       "    <tr style=\"text-align: right;\">\n",
       "      <th></th>\n",
       "      <th>ID</th>\n",
       "      <th>Gender</th>\n",
       "      <th>Ever_Married</th>\n",
       "      <th>Age</th>\n",
       "      <th>Graduated</th>\n",
       "      <th>Profession</th>\n",
       "      <th>Work_Experience</th>\n",
       "      <th>Spending_Score</th>\n",
       "      <th>Family_Size</th>\n",
       "      <th>Var_1</th>\n",
       "    </tr>\n",
       "  </thead>\n",
       "  <tbody>\n",
       "    <tr>\n",
       "      <th>0</th>\n",
       "      <td>458989</td>\n",
       "      <td>Female</td>\n",
       "      <td>Yes</td>\n",
       "      <td>36</td>\n",
       "      <td>Yes</td>\n",
       "      <td>Engineer</td>\n",
       "      <td>0.00</td>\n",
       "      <td>Low</td>\n",
       "      <td>1.00</td>\n",
       "      <td>Cat_6</td>\n",
       "    </tr>\n",
       "    <tr>\n",
       "      <th>1</th>\n",
       "      <td>458994</td>\n",
       "      <td>Male</td>\n",
       "      <td>Yes</td>\n",
       "      <td>37</td>\n",
       "      <td>Yes</td>\n",
       "      <td>Healthcare</td>\n",
       "      <td>8.00</td>\n",
       "      <td>Average</td>\n",
       "      <td>4.00</td>\n",
       "      <td>Cat_6</td>\n",
       "    </tr>\n",
       "    <tr>\n",
       "      <th>2</th>\n",
       "      <td>458996</td>\n",
       "      <td>Female</td>\n",
       "      <td>Yes</td>\n",
       "      <td>69</td>\n",
       "      <td>No</td>\n",
       "      <td>NaN</td>\n",
       "      <td>0.00</td>\n",
       "      <td>Low</td>\n",
       "      <td>1.00</td>\n",
       "      <td>Cat_6</td>\n",
       "    </tr>\n",
       "    <tr>\n",
       "      <th>3</th>\n",
       "      <td>459000</td>\n",
       "      <td>Male</td>\n",
       "      <td>Yes</td>\n",
       "      <td>59</td>\n",
       "      <td>No</td>\n",
       "      <td>Executive</td>\n",
       "      <td>11.00</td>\n",
       "      <td>High</td>\n",
       "      <td>2.00</td>\n",
       "      <td>Cat_6</td>\n",
       "    </tr>\n",
       "    <tr>\n",
       "      <th>4</th>\n",
       "      <td>459001</td>\n",
       "      <td>Female</td>\n",
       "      <td>No</td>\n",
       "      <td>19</td>\n",
       "      <td>No</td>\n",
       "      <td>Marketing</td>\n",
       "      <td>NaN</td>\n",
       "      <td>Low</td>\n",
       "      <td>4.00</td>\n",
       "      <td>Cat_6</td>\n",
       "    </tr>\n",
       "  </tbody>\n",
       "</table>\n",
       "</div>"
      ],
      "text/plain": [
       "       ID  Gender Ever_Married  Age Graduated  Profession  Work_Experience  \\\n",
       "0  458989  Female          Yes   36       Yes    Engineer             0.00   \n",
       "1  458994    Male          Yes   37       Yes  Healthcare             8.00   \n",
       "2  458996  Female          Yes   69        No         NaN             0.00   \n",
       "3  459000    Male          Yes   59        No   Executive            11.00   \n",
       "4  459001  Female           No   19        No   Marketing              NaN   \n",
       "\n",
       "  Spending_Score  Family_Size  Var_1  \n",
       "0            Low         1.00  Cat_6  \n",
       "1        Average         4.00  Cat_6  \n",
       "2            Low         1.00  Cat_6  \n",
       "3           High         2.00  Cat_6  \n",
       "4            Low         4.00  Cat_6  "
      ]
     },
     "execution_count": 2,
     "metadata": {},
     "output_type": "execute_result"
    }
   ],
   "source": [
    "# Asignamos los datos a un dataframe\n",
    "clientes = pd.read_csv('.\\..\\data\\customers.csv')\n",
    "\n",
    "# Mostramos el encabezado de los datos\n",
    "clientes.head()"
   ]
  },
  {
   "cell_type": "code",
   "execution_count": 3,
   "id": "5933ce42-1e3e-41c1-9faf-0033bf1dafae",
   "metadata": {},
   "outputs": [
    {
     "name": "stdout",
     "output_type": "stream",
     "text": [
      "<class 'pandas.core.frame.DataFrame'>\n",
      "RangeIndex: 2627 entries, 0 to 2626\n",
      "Data columns (total 10 columns):\n",
      " #   Column           Non-Null Count  Dtype  \n",
      "---  ------           --------------  -----  \n",
      " 0   ID               2627 non-null   int64  \n",
      " 1   Gender           2627 non-null   object \n",
      " 2   Ever_Married     2577 non-null   object \n",
      " 3   Age              2627 non-null   int64  \n",
      " 4   Graduated        2603 non-null   object \n",
      " 5   Profession       2589 non-null   object \n",
      " 6   Work_Experience  2358 non-null   float64\n",
      " 7   Spending_Score   2627 non-null   object \n",
      " 8   Family_Size      2514 non-null   float64\n",
      " 9   Var_1            2595 non-null   object \n",
      "dtypes: float64(2), int64(2), object(6)\n",
      "memory usage: 205.4+ KB\n"
     ]
    }
   ],
   "source": [
    "# Mostramos el número de filas, columnas, valores NO nulos y el tipo de datos\n",
    "clientes.info()"
   ]
  },
  {
   "cell_type": "markdown",
   "id": "a20ac13d-b29c-4f57-87b8-f055ee47c30e",
   "metadata": {},
   "source": [
    "### 1.3 Estadística Descriptiva"
   ]
  },
  {
   "cell_type": "code",
   "execution_count": 4,
   "id": "cd088189-ea91-4656-8617-02bbc18d7e46",
   "metadata": {},
   "outputs": [
    {
     "data": {
      "text/html": [
       "<div>\n",
       "<style scoped>\n",
       "    .dataframe tbody tr th:only-of-type {\n",
       "        vertical-align: middle;\n",
       "    }\n",
       "\n",
       "    .dataframe tbody tr th {\n",
       "        vertical-align: top;\n",
       "    }\n",
       "\n",
       "    .dataframe thead th {\n",
       "        text-align: right;\n",
       "    }\n",
       "</style>\n",
       "<table border=\"1\" class=\"dataframe\">\n",
       "  <thead>\n",
       "    <tr style=\"text-align: right;\">\n",
       "      <th></th>\n",
       "      <th>count</th>\n",
       "      <th>mean</th>\n",
       "      <th>std</th>\n",
       "      <th>min</th>\n",
       "      <th>25%</th>\n",
       "      <th>50%</th>\n",
       "      <th>75%</th>\n",
       "      <th>max</th>\n",
       "    </tr>\n",
       "  </thead>\n",
       "  <tbody>\n",
       "    <tr>\n",
       "      <th>ID</th>\n",
       "      <td>2627.00</td>\n",
       "      <td>463433.92</td>\n",
       "      <td>2618.25</td>\n",
       "      <td>458989.00</td>\n",
       "      <td>461162.50</td>\n",
       "      <td>463379.00</td>\n",
       "      <td>465696.00</td>\n",
       "      <td>467968.00</td>\n",
       "    </tr>\n",
       "    <tr>\n",
       "      <th>Age</th>\n",
       "      <td>2627.00</td>\n",
       "      <td>43.65</td>\n",
       "      <td>16.97</td>\n",
       "      <td>18.00</td>\n",
       "      <td>30.00</td>\n",
       "      <td>41.00</td>\n",
       "      <td>53.00</td>\n",
       "      <td>89.00</td>\n",
       "    </tr>\n",
       "    <tr>\n",
       "      <th>Work_Experience</th>\n",
       "      <td>2358.00</td>\n",
       "      <td>2.55</td>\n",
       "      <td>3.34</td>\n",
       "      <td>0.00</td>\n",
       "      <td>0.00</td>\n",
       "      <td>1.00</td>\n",
       "      <td>4.00</td>\n",
       "      <td>14.00</td>\n",
       "    </tr>\n",
       "    <tr>\n",
       "      <th>Family_Size</th>\n",
       "      <td>2514.00</td>\n",
       "      <td>2.83</td>\n",
       "      <td>1.55</td>\n",
       "      <td>1.00</td>\n",
       "      <td>2.00</td>\n",
       "      <td>2.00</td>\n",
       "      <td>4.00</td>\n",
       "      <td>9.00</td>\n",
       "    </tr>\n",
       "  </tbody>\n",
       "</table>\n",
       "</div>"
      ],
      "text/plain": [
       "                  count      mean     std       min       25%       50%  \\\n",
       "ID              2627.00 463433.92 2618.25 458989.00 461162.50 463379.00   \n",
       "Age             2627.00     43.65   16.97     18.00     30.00     41.00   \n",
       "Work_Experience 2358.00      2.55    3.34      0.00      0.00      1.00   \n",
       "Family_Size     2514.00      2.83    1.55      1.00      2.00      2.00   \n",
       "\n",
       "                      75%       max  \n",
       "ID              465696.00 467968.00  \n",
       "Age                 53.00     89.00  \n",
       "Work_Experience      4.00     14.00  \n",
       "Family_Size          4.00      9.00  "
      ]
     },
     "execution_count": 4,
     "metadata": {},
     "output_type": "execute_result"
    }
   ],
   "source": [
    "# Resumimos las variables numéricas\n",
    "clientes.describe().T.round(2)"
   ]
  },
  {
   "cell_type": "markdown",
   "id": "6a70dca2-d15d-470c-95d5-e131ada2e618",
   "metadata": {},
   "source": [
    "### 1.4 Visualización de Variables Numéricas"
   ]
  },
  {
   "cell_type": "code",
   "execution_count": 35,
   "id": "93946b4a-71d9-4630-8fa5-bf06b31daec9",
   "metadata": {},
   "outputs": [
    {
     "data": {
      "image/png": "[encoded data removed]",
      "text/plain": [
       "<Figure size 720x720 with 4 Axes>"
      ]
     },
     "metadata": {
      "needs_background": "light"
     },
     "output_type": "display_data"
    }
   ],
   "source": [
    "# Trazamos los histogramas\n",
    "clientes.hist(bins=10 , figsize=(10,10)) \n",
    "plt.show()"
   ]
  },
  {
   "cell_type": "markdown",
   "id": "df62e49f-5232-4ece-8a3a-e8ee2556dd5a",
   "metadata": {},
   "source": [
    "## 2. Preparación de los Datos"
   ]
  },
  {
   "cell_type": "markdown",
   "id": "98773e3f-f7a1-478b-a215-715dc7a5372b",
   "metadata": {},
   "source": [
    "### 2.1 Limpieza de Datos"
   ]
  },
  {
   "cell_type": "code",
   "execution_count": 5,
   "id": "b03521b6-b802-4185-840b-63752aec17e0",
   "metadata": {},
   "outputs": [
    {
     "data": {
      "text/plain": [
       "Var_1\n",
       "Cat_1      34\n",
       "Cat_2     141\n",
       "Cat_3     267\n",
       "Cat_4     386\n",
       "Cat_5      29\n",
       "Cat_6    1672\n",
       "Cat_7      66\n",
       "Name: ID, dtype: int64"
      ]
     },
     "execution_count": 5,
     "metadata": {},
     "output_type": "execute_result"
    }
   ],
   "source": [
    "# Cómo se distribuyen las clases\n",
    "\n",
    "clientes.groupby(['Var_1']).count()['ID']"
   ]
  },
  {
   "cell_type": "code",
   "execution_count": 6,
   "id": "03912986-77be-4a1f-958d-f06e8e73fbef",
   "metadata": {},
   "outputs": [
    {
     "data": {
      "text/plain": [
       "(2627, 9)"
      ]
     },
     "execution_count": 6,
     "metadata": {},
     "output_type": "execute_result"
    }
   ],
   "source": [
    "# Eliminamos la variable ID\n",
    "\n",
    "clientes = clientes.drop(['ID'], axis = 1)\n",
    "clientes.shape"
   ]
  },
  {
   "cell_type": "code",
   "execution_count": 7,
   "id": "40fc89b6-b932-4a21-a92b-cf4acd4ac7a9",
   "metadata": {},
   "outputs": [
    {
     "data": {
      "text/plain": [
       "Gender               0\n",
       "Ever_Married        50\n",
       "Age                  0\n",
       "Graduated           24\n",
       "Profession          38\n",
       "Work_Experience    269\n",
       "Spending_Score       0\n",
       "Family_Size        113\n",
       "Var_1               32\n",
       "dtype: int64"
      ]
     },
     "execution_count": 7,
     "metadata": {},
     "output_type": "execute_result"
    }
   ],
   "source": [
    "# Mostramos la suma de valores nulos de cada variable\n",
    "\n",
    "clientes.isnull().sum()"
   ]
  },
  {
   "cell_type": "code",
   "execution_count": 8,
   "id": "ede9d020-f616-4595-90ff-4e2f7af05ae4",
   "metadata": {},
   "outputs": [],
   "source": [
    "# Imputamos los valores nulos\n",
    "\n",
    "from sklearn.impute import SimpleImputer\n",
    "\n",
    "imputer = SimpleImputer(strategy='most_frequent')"
   ]
  },
  {
   "cell_type": "code",
   "execution_count": 9,
   "id": "15b0074f-df44-45eb-9724-33963ab68842",
   "metadata": {},
   "outputs": [
    {
     "data": {
      "text/plain": [
       "Gender             0\n",
       "Ever_Married       0\n",
       "Age                0\n",
       "Graduated          0\n",
       "Profession         0\n",
       "Work_Experience    0\n",
       "Spending_Score     0\n",
       "Family_Size        0\n",
       "Var_1              0\n",
       "dtype: int64"
      ]
     },
     "execution_count": 9,
     "metadata": {},
     "output_type": "execute_result"
    }
   ],
   "source": [
    "# Ajustamos y transformamos los valores nulos\n",
    "\n",
    "clientes = pd.DataFrame(imputer.fit_transform(clientes),\n",
    "                           columns = ['Gender',\n",
    "                                      'Ever_Married',\n",
    "                                      'Age',\n",
    "                                      'Graduated',\n",
    "                                      'Profession',\n",
    "                                      'Work_Experience',\n",
    "                                      'Spending_Score',\n",
    "                                      'Family_Size',\n",
    "                                      'Var_1'])\n",
    "clientes.isnull().sum()"
   ]
  },
  {
   "cell_type": "raw",
   "id": "29db9e32-9ece-4e7c-a3aa-e8dc5f0a5bf1",
   "metadata": {},
   "source": [
    "# Imputamos los valores nulos\n",
    "\n",
    "from sklearn.impute import KNNImputer\n",
    "\n",
    "imputer = KNNImputer()"
   ]
  },
  {
   "cell_type": "markdown",
   "id": "19168828-bc26-474f-b2ac-4d1835fae1bf",
   "metadata": {},
   "source": [
    "### 2.2 Codificación de Datos Categóricos"
   ]
  },
  {
   "cell_type": "code",
   "execution_count": 10,
   "id": "46be0f15-2e55-4b4d-ba8d-0145d92b218c",
   "metadata": {},
   "outputs": [],
   "source": [
    "# Ordenamos las variables categóricas ordinales y nominales\n",
    "\n",
    "Gender = ['Male', 'Female']\n",
    "Ever_Married = ['Yes', 'No']\n",
    "Graduated = ['No', 'Yes']\n",
    "Profession = ['Engineer', 'Healthcare', 'Executive', 'Marketing', 'Doctor', 'Artist', 'Lawyer', 'Entertainment', 'Homemaker']\n",
    "Spending_Score = ['Low', 'Average', 'High']\n",
    "Var_1 = ['Cat_1', 'Cat_2', 'Cat_3', 'Cat_4', 'Cat_5', 'Cat_6', 'Cat_7']"
   ]
  },
  {
   "cell_type": "code",
   "execution_count": 11,
   "id": "93165a80-783f-447b-a159-6657f5bd0cdc",
   "metadata": {},
   "outputs": [],
   "source": [
    "# Asignamos las categorías\n",
    "\n",
    "categorias = [Gender,\n",
    "              Ever_Married,\n",
    "              Graduated,\n",
    "              Profession,\n",
    "              Spending_Score,\n",
    "              Var_1]"
   ]
  },
  {
   "cell_type": "code",
   "execution_count": 12,
   "id": "9bba3c24-9938-4968-947b-d35c9765a406",
   "metadata": {},
   "outputs": [],
   "source": [
    "# Asignamos las columnas categóricas\n",
    "\n",
    "categorical = ['Gender',\n",
    "               'Ever_Married',\n",
    "               'Graduated',\n",
    "               'Profession',\n",
    "               'Spending_Score',\n",
    "               'Var_1']"
   ]
  },
  {
   "cell_type": "code",
   "execution_count": 13,
   "id": "c7094547-d461-48b1-b9f5-2a500f1ea387",
   "metadata": {},
   "outputs": [],
   "source": [
    "# Aplicamos el codificador OrdinalEncoder a las variables categóricas ordinales y nominales\n",
    "\n",
    "from sklearn.preprocessing import OrdinalEncoder\n",
    "\n",
    "oe = OrdinalEncoder(categories = categorias,\n",
    "                    handle_unknown='use_encoded_value', unknown_value=-1)"
   ]
  },
  {
   "cell_type": "markdown",
   "id": "b66bbc1b-6dc6-4085-93eb-c4de7ec75b9b",
   "metadata": {},
   "source": [
    "### 2.3 Escalamiento de Variables"
   ]
  },
  {
   "cell_type": "raw",
   "id": "b664ac54-cc20-441e-8e9a-98225979ad31",
   "metadata": {},
   "source": [
    "# Estandarizamos los datos númericos utilizando StandardScaler\n",
    "\n",
    "from sklearn.preprocessing import Binarizer\n",
    "\n",
    "scaler = Binarizer()"
   ]
  },
  {
   "cell_type": "markdown",
   "id": "3f9ba09e-38c1-4ce4-bf19-2821b0bfe40f",
   "metadata": {},
   "source": [
    "### 2.4 Sesgo / Asimetría"
   ]
  },
  {
   "cell_type": "code",
   "execution_count": 14,
   "id": "22dfb3a0-ebf9-4ad6-b33a-02d393b24e40",
   "metadata": {},
   "outputs": [],
   "source": [
    "# Asignamos las columnas categóricas\n",
    "\n",
    "numerical = ['Age',\n",
    "             'Work_Experience',\n",
    "             'Family_Size']"
   ]
  },
  {
   "cell_type": "code",
   "execution_count": 15,
   "id": "96d911de-b8d3-4687-a4f3-d429e7352278",
   "metadata": {},
   "outputs": [],
   "source": [
    "# Aplicamos la transformación de Box-Cox o Yeo-Johnson a los atributos con sesgo\n",
    "# box-cox (valores positivos)\n",
    "# yeo-johnson (valores negativos)\n",
    "\n",
    "from sklearn.preprocessing import PowerTransformer\n",
    "\n",
    "pt = PowerTransformer(method='yeo-johnson', standardize=True)"
   ]
  },
  {
   "cell_type": "markdown",
   "id": "4fa94567-cbc2-4a6a-8e4c-9e674ce1a366",
   "metadata": {},
   "source": [
    "### 2.5 Transformación de Columnas"
   ]
  },
  {
   "cell_type": "raw",
   "id": "133320b1-87a7-4042-998b-e13eca2c1b3a",
   "metadata": {},
   "source": [
    "# Creamos Pipelines Auxiliares\n",
    "\n",
    "from sklearn.pipeline import make_pipeline\n",
    "\n",
    "categorical_pipeline = make_pipeline(oe, imputer) #scaler\n",
    "numerical_pipeline = make_pipeline(pt, imputer) #scaler"
   ]
  },
  {
   "cell_type": "raw",
   "id": "0830f51b-c78a-4f3a-8f77-73f6f1c966b4",
   "metadata": {},
   "source": [
    "# Aplicamos el transformador de columnas make_column_transformer\n",
    "\n",
    "from sklearn.compose import make_column_transformer\n",
    "\n",
    "ct = make_column_transformer(\n",
    "    (numerical_pipeline, numerical),\n",
    "    (categorical_pipeline, categorical),\n",
    "     remainder = 'passthrough')"
   ]
  },
  {
   "cell_type": "code",
   "execution_count": 16,
   "id": "f189362d-727e-4235-a8d3-ec534a2bf7b6",
   "metadata": {},
   "outputs": [],
   "source": [
    "# Aplicamos el transformador de columnas make_column_transformer\n",
    "\n",
    "from sklearn.compose import make_column_transformer\n",
    "\n",
    "ct = make_column_transformer(\n",
    "    (pt, numerical),\n",
    "    (oe, categorical),\n",
    "     remainder = 'passthrough')"
   ]
  },
  {
   "cell_type": "code",
   "execution_count": 17,
   "id": "fa7dcee1-2638-4096-8b4b-47a4108a69da",
   "metadata": {},
   "outputs": [
    {
     "data": {
      "text/plain": [
       "array([[-0.31481914, -1.26637373, -1.518458  , ...,  0.        ,\n",
       "         0.        ,  5.        ],\n",
       "       [-0.24491788,  1.49857021,  0.92511658, ...,  1.        ,\n",
       "         1.        ,  5.        ],\n",
       "       [ 1.37898776, -1.26637373, -1.518458  , ...,  5.        ,\n",
       "         0.        ,  5.        ],\n",
       "       ...,\n",
       "       [ 0.68383385, -0.0460113 , -0.37873889, ...,  7.        ,\n",
       "         0.        ,  5.        ],\n",
       "       [ 0.37093251, -0.0460113 ,  1.35749701, ...,  2.        ,\n",
       "         2.        ,  3.        ],\n",
       "       [ 0.14081622,  1.56874862,  0.37279044, ...,  1.        ,\n",
       "         0.        ,  6.        ]])"
      ]
     },
     "execution_count": 17,
     "metadata": {},
     "output_type": "execute_result"
    }
   ],
   "source": [
    "# Ajustamos y transformamos los datos\n",
    "\n",
    "clientes = ct.fit_transform(clientes)\n",
    "clientes"
   ]
  },
  {
   "cell_type": "code",
   "execution_count": 18,
   "id": "0e2ea85d-3c59-42cc-9313-c6031fafdd83",
   "metadata": {},
   "outputs": [
    {
     "data": {
      "text/plain": [
       "(2627, 9)"
      ]
     },
     "execution_count": 18,
     "metadata": {},
     "output_type": "execute_result"
    }
   ],
   "source": [
    "clientes.shape"
   ]
  },
  {
   "cell_type": "markdown",
   "id": "8a35f216-aa56-4802-bcf5-a221be61c29a",
   "metadata": {},
   "source": [
    "### 2.6 División de los Datos"
   ]
  },
  {
   "cell_type": "code",
   "execution_count": 19,
   "id": "4c19dc26-3cb1-4117-ae0f-8bbb83385dc9",
   "metadata": {},
   "outputs": [
    {
     "name": "stdout",
     "output_type": "stream",
     "text": [
      "X: (2627, 8)\n",
      "y: (2627,)\n"
     ]
    }
   ],
   "source": [
    "# Dividimos los datos en X y y\n",
    "X = clientes[:,0:8]\n",
    "y = clientes[:,8]\n",
    "\n",
    "print(f\"X: {X.shape}\")\n",
    "print(f\"y: {y.shape}\")"
   ]
  },
  {
   "cell_type": "code",
   "execution_count": 20,
   "id": "189289a8-c04f-4d8d-a333-7695af1e84a7",
   "metadata": {},
   "outputs": [
    {
     "name": "stdout",
     "output_type": "stream",
     "text": [
      "X_train: (2101, 8)\n",
      "X_test: (526, 8)\n",
      "y_train: (2101,)\n",
      "y_test: (526,)\n"
     ]
    }
   ],
   "source": [
    "# Dividimos los datos de entrenamiento y prueba\n",
    "\n",
    "from sklearn.model_selection import train_test_split\n",
    "\n",
    "X_train, X_test, y_train, y_test = train_test_split(X, y, test_size=0.2, shuffle=True, random_state=0, stratify=y) #,stratify=y\n",
    "\n",
    "print(f\"X_train: {X_train.shape}\")\n",
    "print(f\"X_test: {X_test.shape}\")\n",
    "print(f\"y_train: {y_train.shape}\")\n",
    "print(f\"y_test: {y_test.shape}\")"
   ]
  },
  {
   "cell_type": "code",
   "execution_count": 21,
   "id": "8e27cb3d-573c-49fb-897d-c30082e00c47",
   "metadata": {},
   "outputs": [
    {
     "data": {
      "text/plain": [
       "array([1., 5., 5., 5., 3., 5., 5., 5., 5., 0., 3., 3., 3., 5., 3., 5., 5.,\n",
       "       5., 5., 5., 3., 2., 2., 5., 3., 5., 5., 5., 5., 5., 5., 5., 5., 5.,\n",
       "       3., 5., 5., 5., 1., 5., 3., 5., 0., 5., 5., 5., 5., 5., 3., 5., 6.,\n",
       "       5., 5., 5., 1., 5., 5., 3., 5., 4., 3., 5., 5., 5., 3., 1., 5., 5.,\n",
       "       2., 5., 5., 5., 3., 1., 5., 3., 5., 5., 5., 5., 5., 5., 6., 3., 5.,\n",
       "       5., 5., 5., 5., 5., 5., 5., 5., 6., 5., 3., 5., 5., 5., 3., 3., 2.,\n",
       "       5., 5., 5., 5., 3., 5., 5., 5., 5., 5., 5., 5., 3., 5., 3., 5., 5.,\n",
       "       5., 5., 1., 5., 0., 3., 5., 5., 6., 5., 5., 3., 5., 2., 2., 5., 3.,\n",
       "       1., 5., 3., 5., 5., 1., 3., 5., 5., 5., 5., 5., 5., 2., 2., 5., 2.,\n",
       "       5., 3., 5., 5., 6., 5., 2., 5., 5., 5., 5., 5., 2., 5., 5., 1., 5.,\n",
       "       5., 2., 0., 5., 2., 2., 5., 5., 6., 5., 3., 3., 5., 5., 5., 2., 5.,\n",
       "       2., 5., 5., 5., 5., 5., 5., 2., 5., 3., 5., 5., 5., 5., 1., 5., 2.,\n",
       "       5., 3., 3., 5., 1., 5., 5., 5., 5., 6., 2., 5., 5., 5., 2., 5., 5.,\n",
       "       5., 5., 5., 5., 5., 5., 2., 2., 5., 5., 2., 2., 3., 5., 2., 3., 3.,\n",
       "       3., 5., 2., 5., 5., 5., 3., 5., 5., 5., 2., 6., 5., 5., 3., 5., 2.,\n",
       "       5., 3., 2., 5., 5., 2., 5., 5., 3., 6., 5., 2., 3., 5., 5., 5., 5.,\n",
       "       3., 3., 3., 5., 1., 5., 1., 5., 5., 3., 5., 1., 5., 0., 5., 5., 5.,\n",
       "       3., 5., 5., 3., 4., 5., 5., 5., 1., 1., 3., 3., 5., 2., 5., 5., 5.,\n",
       "       5., 5., 5., 5., 5., 1., 5., 5., 5., 5., 5., 5., 5., 5., 4., 5., 5.,\n",
       "       4., 3., 5., 5., 5., 5., 5., 5., 5., 5., 5., 5., 5., 5., 3., 3., 5.,\n",
       "       5., 1., 2., 5., 5., 5., 5., 0., 5., 5., 5., 5., 5., 5., 5., 5., 5.,\n",
       "       5., 5., 5., 5., 3., 2., 5., 5., 5., 5., 5., 6., 5., 5., 5., 5., 2.,\n",
       "       3., 1., 5., 0., 1., 2., 5., 5., 5., 5., 3., 2., 3., 5., 5., 5., 5.,\n",
       "       1., 2., 5., 5., 5., 5., 2., 5., 6., 5., 3., 5., 5., 5., 5., 5., 5.,\n",
       "       5., 5., 5., 5., 3., 2., 5., 5., 5., 5., 2., 5., 1., 5., 5., 3., 5.,\n",
       "       5., 3., 5., 5., 5., 1., 5., 2., 3., 6., 1., 3., 5., 5., 5., 3., 5.,\n",
       "       3., 5., 5., 2., 5., 3., 5., 5., 5., 2., 3., 5., 6., 5., 2., 3., 5.,\n",
       "       1., 2., 5., 5., 5., 5., 2., 5., 2., 5., 5., 3., 1., 5., 5., 5., 5.,\n",
       "       3., 5., 1., 5., 5., 2., 5., 5., 2., 5., 5., 2., 3., 5., 5., 3., 3.,\n",
       "       5., 3., 1., 3., 5., 5., 5., 5., 2., 5., 3., 5., 5., 5., 5., 5., 5.,\n",
       "       4., 5., 4., 2., 5., 5., 5., 5., 2., 3., 5., 5., 5., 5., 5., 5.])"
      ]
     },
     "execution_count": 21,
     "metadata": {},
     "output_type": "execute_result"
    }
   ],
   "source": [
    "y_test"
   ]
  },
  {
   "cell_type": "markdown",
   "id": "d84aab1e-b83e-4a32-86fe-7cf1caa72db3",
   "metadata": {},
   "source": [
    "### 2.9 Sobre muestreo de los datos"
   ]
  },
  {
   "cell_type": "code",
   "execution_count": 22,
   "id": "d22d8b68-518d-46e9-9654-45963e2fb8b4",
   "metadata": {},
   "outputs": [
    {
     "name": "stdout",
     "output_type": "stream",
     "text": [
      "X_train: (9541, 8)\n",
      "y_train: (9541,)\n"
     ]
    }
   ],
   "source": [
    "# Aplicamos sobre muestreo para balancear la clase usando SMOTE\n",
    "\n",
    "#pip install imbalanced-learn\n",
    "\n",
    "from imblearn.over_sampling import SMOTE\n",
    "\n",
    "smote = SMOTE(random_state=7)\n",
    "X_train, y_train = smote.fit_resample(X_train, y_train)\n",
    "\n",
    "# Validamos el número de filas y columnas\n",
    "print(f\"X_train: {X_train.shape}\")\n",
    "print(f\"y_train: {y_train.shape}\")"
   ]
  },
  {
   "cell_type": "code",
   "execution_count": 23,
   "id": "fcda32d4-bd39-46e0-a260-6e06c65fa7bc",
   "metadata": {},
   "outputs": [],
   "source": [
    "# Codificamos las variables de salida\n",
    "\n",
    "from keras.utils import np_utils\n",
    "\n",
    "y_train_ohe = np_utils.to_categorical(y_train, num_classes=7)\n",
    "y_test_ohe = np_utils.to_categorical(y_test, num_classes=7)"
   ]
  },
  {
   "cell_type": "markdown",
   "id": "51167ff1-13cf-4538-a14f-29acaeb1e812",
   "metadata": {},
   "source": [
    "## 3. Modelado"
   ]
  },
  {
   "cell_type": "markdown",
   "id": "9c3f7c65-c5b6-449b-9f05-6d9cb67bda67",
   "metadata": {},
   "source": [
    "### 3.1 Secuencial"
   ]
  },
  {
   "cell_type": "code",
   "execution_count": 24,
   "id": "6608bd5f-b693-468f-af46-f509533997a7",
   "metadata": {},
   "outputs": [],
   "source": [
    "# Definimos el modelo de capas con Keras relu - softmax (clasificación multiclase)\n",
    "\n",
    "#pip install tensorflow\n",
    "#pip install keras\n",
    "\n",
    "import tensorflow as tf\n",
    "from keras.models import Sequential\n",
    "from keras.layers import Dense\n",
    "\n",
    "# Creamos 2 capas ocultas con 4 y 2 neuronas\n",
    "\n",
    "model = Sequential()\n",
    "model.add(Dense(16, input_dim=8,  activation='relu')) # 1 capa oculta\n",
    "model.add(Dense(14, activation='relu')) # 2 capa oculta\n",
    "model.add(Dense(7, activation='softmax')) # 1 capa de salida"
   ]
  },
  {
   "cell_type": "code",
   "execution_count": 25,
   "id": "6939eeac-3dec-45a0-91e3-70a445029506",
   "metadata": {},
   "outputs": [],
   "source": [
    "# Compilamos el modelo Keras categorical_crossentropy (clasificación multiclase)\n",
    "\n",
    "model.compile(loss='categorical_crossentropy', optimizer='adam', metrics=['Accuracy']) #metrics=[tf.keras.metrics.Recall()])"
   ]
  },
  {
   "cell_type": "code",
   "execution_count": 26,
   "id": "0c949a1f-1617-4e83-b2a4-faf21d01a994",
   "metadata": {},
   "outputs": [
    {
     "name": "stdout",
     "output_type": "stream",
     "text": [
      "Epoch 1/100\n",
      "955/955 [==============================] - 3s 2ms/step - loss: 1.9177 - Accuracy: 0.2130 - val_loss: 1.8612 - val_Accuracy: 0.2319\n",
      "Epoch 2/100\n",
      "955/955 [==============================] - 2s 2ms/step - loss: 1.7876 - Accuracy: 0.2708 - val_loss: 1.8000 - val_Accuracy: 0.2985\n",
      "Epoch 3/100\n",
      "955/955 [==============================] - 2s 2ms/step - loss: 1.7202 - Accuracy: 0.3225 - val_loss: 1.8017 - val_Accuracy: 0.2871\n",
      "Epoch 4/100\n",
      "955/955 [==============================] - 2s 2ms/step - loss: 1.6522 - Accuracy: 0.3701 - val_loss: 1.8047 - val_Accuracy: 0.2757\n",
      "Epoch 5/100\n",
      "955/955 [==============================] - 2s 2ms/step - loss: 1.5972 - Accuracy: 0.4023 - val_loss: 1.7781 - val_Accuracy: 0.2871\n",
      "Epoch 6/100\n",
      "955/955 [==============================] - 2s 2ms/step - loss: 1.5515 - Accuracy: 0.4239 - val_loss: 1.8433 - val_Accuracy: 0.2529\n",
      "Epoch 7/100\n",
      "955/955 [==============================] - 2s 2ms/step - loss: 1.5118 - Accuracy: 0.4378 - val_loss: 1.8894 - val_Accuracy: 0.2186\n",
      "Epoch 8/100\n",
      "955/955 [==============================] - 2s 2ms/step - loss: 1.4796 - Accuracy: 0.4488 - val_loss: 1.9373 - val_Accuracy: 0.2586\n",
      "Epoch 9/100\n",
      "955/955 [==============================] - 2s 2ms/step - loss: 1.4514 - Accuracy: 0.4562 - val_loss: 1.8747 - val_Accuracy: 0.2833\n",
      "Epoch 10/100\n",
      "955/955 [==============================] - 2s 2ms/step - loss: 1.4279 - Accuracy: 0.4645 - val_loss: 1.9399 - val_Accuracy: 0.2700\n",
      "Epoch 11/100\n",
      "955/955 [==============================] - 2s 2ms/step - loss: 1.4065 - Accuracy: 0.4741 - val_loss: 1.8622 - val_Accuracy: 0.3023\n",
      "Epoch 12/100\n",
      "955/955 [==============================] - 2s 2ms/step - loss: 1.3896 - Accuracy: 0.4796 - val_loss: 2.0356 - val_Accuracy: 0.2414\n",
      "Epoch 13/100\n",
      "955/955 [==============================] - 2s 2ms/step - loss: 1.3733 - Accuracy: 0.4878 - val_loss: 1.9321 - val_Accuracy: 0.2719\n",
      "Epoch 14/100\n",
      "955/955 [==============================] - 2s 2ms/step - loss: 1.3567 - Accuracy: 0.4941 - val_loss: 2.0761 - val_Accuracy: 0.2072\n",
      "Epoch 15/100\n",
      "955/955 [==============================] - 2s 2ms/step - loss: 1.3409 - Accuracy: 0.4965 - val_loss: 1.9476 - val_Accuracy: 0.2833\n",
      "Epoch 16/100\n",
      "955/955 [==============================] - 2s 2ms/step - loss: 1.3269 - Accuracy: 0.5039 - val_loss: 1.9666 - val_Accuracy: 0.2757\n",
      "Epoch 17/100\n",
      "955/955 [==============================] - 2s 2ms/step - loss: 1.3131 - Accuracy: 0.5134 - val_loss: 1.9732 - val_Accuracy: 0.2738\n",
      "Epoch 18/100\n",
      "955/955 [==============================] - 2s 2ms/step - loss: 1.3012 - Accuracy: 0.5194 - val_loss: 2.0155 - val_Accuracy: 0.2643\n",
      "Epoch 19/100\n",
      "955/955 [==============================] - 2s 2ms/step - loss: 1.2921 - Accuracy: 0.5199 - val_loss: 2.1035 - val_Accuracy: 0.2205\n",
      "Epoch 20/100\n",
      "955/955 [==============================] - 2s 2ms/step - loss: 1.2801 - Accuracy: 0.5239 - val_loss: 2.0748 - val_Accuracy: 0.2433\n",
      "Epoch 21/100\n",
      "955/955 [==============================] - 2s 2ms/step - loss: 1.2719 - Accuracy: 0.5258 - val_loss: 1.9885 - val_Accuracy: 0.2871\n",
      "Epoch 22/100\n",
      "955/955 [==============================] - 2s 2ms/step - loss: 1.2627 - Accuracy: 0.5364 - val_loss: 2.0993 - val_Accuracy: 0.2452\n",
      "Epoch 23/100\n",
      "955/955 [==============================] - 2s 2ms/step - loss: 1.2560 - Accuracy: 0.5310 - val_loss: 2.1093 - val_Accuracy: 0.2395\n",
      "Epoch 24/100\n",
      "955/955 [==============================] - 2s 2ms/step - loss: 1.2447 - Accuracy: 0.5405 - val_loss: 2.1206 - val_Accuracy: 0.2471\n",
      "Epoch 25/100\n",
      "955/955 [==============================] - 2s 2ms/step - loss: 1.2391 - Accuracy: 0.5428 - val_loss: 2.0856 - val_Accuracy: 0.2719\n",
      "Epoch 26/100\n",
      "955/955 [==============================] - 2s 2ms/step - loss: 1.2302 - Accuracy: 0.5429 - val_loss: 2.0875 - val_Accuracy: 0.2567\n",
      "Epoch 27/100\n",
      "955/955 [==============================] - 2s 2ms/step - loss: 1.2252 - Accuracy: 0.5457 - val_loss: 2.1336 - val_Accuracy: 0.2433\n",
      "Epoch 28/100\n",
      "955/955 [==============================] - 2s 2ms/step - loss: 1.2179 - Accuracy: 0.5472 - val_loss: 2.1964 - val_Accuracy: 0.2167\n",
      "Epoch 29/100\n",
      "955/955 [==============================] - 2s 2ms/step - loss: 1.2121 - Accuracy: 0.5510 - val_loss: 2.1363 - val_Accuracy: 0.2433\n",
      "Epoch 30/100\n",
      "955/955 [==============================] - 2s 2ms/step - loss: 1.2053 - Accuracy: 0.5526 - val_loss: 2.1921 - val_Accuracy: 0.2148\n",
      "Epoch 31/100\n",
      "955/955 [==============================] - 2s 2ms/step - loss: 1.2015 - Accuracy: 0.5495 - val_loss: 2.2766 - val_Accuracy: 0.1996\n",
      "Epoch 32/100\n",
      "955/955 [==============================] - 2s 2ms/step - loss: 1.1947 - Accuracy: 0.5542 - val_loss: 2.2197 - val_Accuracy: 0.2376\n",
      "Epoch 33/100\n",
      "955/955 [==============================] - 2s 2ms/step - loss: 1.1884 - Accuracy: 0.5590 - val_loss: 2.2995 - val_Accuracy: 0.2148\n",
      "Epoch 34/100\n",
      "955/955 [==============================] - 2s 2ms/step - loss: 1.1846 - Accuracy: 0.5587 - val_loss: 2.1783 - val_Accuracy: 0.2643\n",
      "Epoch 35/100\n",
      "955/955 [==============================] - 2s 2ms/step - loss: 1.1811 - Accuracy: 0.5565 - val_loss: 2.2127 - val_Accuracy: 0.2605\n",
      "Epoch 36/100\n",
      "955/955 [==============================] - 2s 2ms/step - loss: 1.1750 - Accuracy: 0.5624 - val_loss: 2.2267 - val_Accuracy: 0.2624\n",
      "Epoch 37/100\n",
      "955/955 [==============================] - 2s 2ms/step - loss: 1.1720 - Accuracy: 0.5637 - val_loss: 2.2388 - val_Accuracy: 0.2624\n",
      "Epoch 38/100\n",
      "955/955 [==============================] - 2s 2ms/step - loss: 1.1678 - Accuracy: 0.5667 - val_loss: 2.2488 - val_Accuracy: 0.2605\n",
      "Epoch 39/100\n",
      "955/955 [==============================] - 2s 2ms/step - loss: 1.1648 - Accuracy: 0.5630 - val_loss: 2.2965 - val_Accuracy: 0.2452\n",
      "Epoch 40/100\n",
      "955/955 [==============================] - 2s 2ms/step - loss: 1.1582 - Accuracy: 0.5681 - val_loss: 2.2871 - val_Accuracy: 0.2281\n",
      "Epoch 41/100\n",
      "955/955 [==============================] - 2s 2ms/step - loss: 1.1543 - Accuracy: 0.5706 - val_loss: 2.2718 - val_Accuracy: 0.2586\n",
      "Epoch 42/100\n",
      "955/955 [==============================] - 2s 2ms/step - loss: 1.1519 - Accuracy: 0.5679 - val_loss: 2.2782 - val_Accuracy: 0.2490\n",
      "Epoch 43/100\n",
      "955/955 [==============================] - 2s 2ms/step - loss: 1.1476 - Accuracy: 0.5702 - val_loss: 2.2211 - val_Accuracy: 0.2795\n",
      "Epoch 44/100\n",
      "955/955 [==============================] - 2s 2ms/step - loss: 1.1458 - Accuracy: 0.5677 - val_loss: 2.2770 - val_Accuracy: 0.2738\n",
      "Epoch 45/100\n",
      "955/955 [==============================] - 2s 2ms/step - loss: 1.1404 - Accuracy: 0.5701 - val_loss: 2.3052 - val_Accuracy: 0.2452\n",
      "Epoch 46/100\n",
      "955/955 [==============================] - 2s 2ms/step - loss: 1.1355 - Accuracy: 0.5737 - val_loss: 2.3367 - val_Accuracy: 0.2452\n",
      "Epoch 47/100\n",
      "955/955 [==============================] - 2s 2ms/step - loss: 1.1327 - Accuracy: 0.5769 - val_loss: 2.3375 - val_Accuracy: 0.2338\n",
      "Epoch 48/100\n",
      "955/955 [==============================] - 2s 2ms/step - loss: 1.1296 - Accuracy: 0.5764 - val_loss: 2.3543 - val_Accuracy: 0.2395\n",
      "Epoch 49/100\n",
      "955/955 [==============================] - 2s 2ms/step - loss: 1.1281 - Accuracy: 0.5769 - val_loss: 2.3028 - val_Accuracy: 0.2795\n",
      "Epoch 50/100\n",
      "955/955 [==============================] - 2s 2ms/step - loss: 1.1235 - Accuracy: 0.5798 - val_loss: 2.3434 - val_Accuracy: 0.2605\n",
      "Epoch 51/100\n",
      "955/955 [==============================] - 2s 2ms/step - loss: 1.1199 - Accuracy: 0.5790 - val_loss: 2.3618 - val_Accuracy: 0.2452\n",
      "Epoch 52/100\n",
      "955/955 [==============================] - 2s 2ms/step - loss: 1.1151 - Accuracy: 0.5783 - val_loss: 2.3452 - val_Accuracy: 0.2681\n",
      "Epoch 53/100\n",
      "955/955 [==============================] - 2s 2ms/step - loss: 1.1153 - Accuracy: 0.5794 - val_loss: 2.3842 - val_Accuracy: 0.2757\n",
      "Epoch 54/100\n",
      "955/955 [==============================] - 2s 2ms/step - loss: 1.1125 - Accuracy: 0.5780 - val_loss: 2.4294 - val_Accuracy: 0.2091\n",
      "Epoch 55/100\n",
      "955/955 [==============================] - 2s 2ms/step - loss: 1.1189 - Accuracy: 0.5800 - val_loss: 2.4203 - val_Accuracy: 0.2490\n",
      "Epoch 56/100\n",
      "955/955 [==============================] - 2s 2ms/step - loss: 1.1058 - Accuracy: 0.5847 - val_loss: 2.3392 - val_Accuracy: 0.2871\n",
      "Epoch 57/100\n",
      "955/955 [==============================] - 2s 2ms/step - loss: 1.1045 - Accuracy: 0.5826 - val_loss: 2.4098 - val_Accuracy: 0.2586\n",
      "Epoch 58/100\n",
      "955/955 [==============================] - 2s 2ms/step - loss: 1.1024 - Accuracy: 0.5855 - val_loss: 2.4053 - val_Accuracy: 0.2738\n",
      "Epoch 59/100\n",
      "955/955 [==============================] - 2s 2ms/step - loss: 1.1004 - Accuracy: 0.5875 - val_loss: 2.3924 - val_Accuracy: 0.2776\n",
      "Epoch 60/100\n",
      "955/955 [==============================] - 2s 2ms/step - loss: 1.0991 - Accuracy: 0.5904 - val_loss: 2.4308 - val_Accuracy: 0.2814\n",
      "Epoch 61/100\n",
      "955/955 [==============================] - 2s 2ms/step - loss: 1.0962 - Accuracy: 0.5848 - val_loss: 2.3635 - val_Accuracy: 0.2909\n",
      "Epoch 62/100\n",
      "955/955 [==============================] - 2s 2ms/step - loss: 1.0941 - Accuracy: 0.5882 - val_loss: 2.4421 - val_Accuracy: 0.2719\n",
      "Epoch 63/100\n",
      "955/955 [==============================] - 2s 2ms/step - loss: 1.0914 - Accuracy: 0.5894 - val_loss: 2.3996 - val_Accuracy: 0.2662\n",
      "Epoch 64/100\n",
      "955/955 [==============================] - 2s 2ms/step - loss: 1.0905 - Accuracy: 0.5881 - val_loss: 2.4793 - val_Accuracy: 0.2414\n",
      "Epoch 65/100\n",
      "955/955 [==============================] - 2s 2ms/step - loss: 1.0874 - Accuracy: 0.5881 - val_loss: 2.4199 - val_Accuracy: 0.2795\n",
      "Epoch 66/100\n",
      "955/955 [==============================] - 2s 2ms/step - loss: 1.0882 - Accuracy: 0.5894 - val_loss: 2.4843 - val_Accuracy: 0.2605\n",
      "Epoch 67/100\n",
      "955/955 [==============================] - 2s 2ms/step - loss: 1.0849 - Accuracy: 0.5911 - val_loss: 2.4605 - val_Accuracy: 0.2795\n",
      "Epoch 68/100\n",
      "955/955 [==============================] - 2s 2ms/step - loss: 1.0847 - Accuracy: 0.5909 - val_loss: 2.4242 - val_Accuracy: 0.2719\n",
      "Epoch 69/100\n",
      "955/955 [==============================] - 2s 2ms/step - loss: 1.0823 - Accuracy: 0.5903 - val_loss: 2.4609 - val_Accuracy: 0.3004\n",
      "Epoch 70/100\n",
      "955/955 [==============================] - 3s 3ms/step - loss: 1.0796 - Accuracy: 0.5938 - val_loss: 2.5226 - val_Accuracy: 0.2281\n",
      "Epoch 71/100\n",
      "955/955 [==============================] - 2s 2ms/step - loss: 1.0764 - Accuracy: 0.5908 - val_loss: 2.5082 - val_Accuracy: 0.2586\n",
      "Epoch 72/100\n",
      "955/955 [==============================] - 2s 2ms/step - loss: 1.0753 - Accuracy: 0.5945 - val_loss: 2.5114 - val_Accuracy: 0.2624\n",
      "Epoch 73/100\n",
      "955/955 [==============================] - 2s 2ms/step - loss: 1.0762 - Accuracy: 0.5950 - val_loss: 2.5285 - val_Accuracy: 0.2471\n",
      "Epoch 74/100\n",
      "955/955 [==============================] - 2s 2ms/step - loss: 1.0742 - Accuracy: 0.5933 - val_loss: 2.5185 - val_Accuracy: 0.2700\n",
      "Epoch 75/100\n",
      "955/955 [==============================] - 2s 2ms/step - loss: 1.0714 - Accuracy: 0.5952 - val_loss: 2.4453 - val_Accuracy: 0.3118\n",
      "Epoch 76/100\n",
      "955/955 [==============================] - 2s 2ms/step - loss: 1.0696 - Accuracy: 0.5933 - val_loss: 2.5190 - val_Accuracy: 0.2681\n",
      "Epoch 77/100\n",
      "955/955 [==============================] - 2s 2ms/step - loss: 1.0693 - Accuracy: 0.5942 - val_loss: 2.5679 - val_Accuracy: 0.2605\n",
      "Epoch 78/100\n",
      "955/955 [==============================] - 2s 2ms/step - loss: 1.0663 - Accuracy: 0.6013 - val_loss: 2.4916 - val_Accuracy: 0.2833\n",
      "Epoch 79/100\n",
      "955/955 [==============================] - 2s 2ms/step - loss: 1.0656 - Accuracy: 0.5949 - val_loss: 2.5108 - val_Accuracy: 0.2719\n",
      "Epoch 80/100\n",
      "955/955 [==============================] - 2s 2ms/step - loss: 1.0632 - Accuracy: 0.5940 - val_loss: 2.5205 - val_Accuracy: 0.2928\n",
      "Epoch 81/100\n",
      "955/955 [==============================] - 2s 2ms/step - loss: 1.0626 - Accuracy: 0.5992 - val_loss: 2.6002 - val_Accuracy: 0.2433\n",
      "Epoch 82/100\n",
      "955/955 [==============================] - 2s 2ms/step - loss: 1.0657 - Accuracy: 0.5955 - val_loss: 2.5615 - val_Accuracy: 0.2719\n",
      "Epoch 83/100\n",
      "955/955 [==============================] - 2s 2ms/step - loss: 1.0622 - Accuracy: 0.5982 - val_loss: 2.5212 - val_Accuracy: 0.2757\n",
      "Epoch 84/100\n",
      "955/955 [==============================] - 2s 2ms/step - loss: 1.0593 - Accuracy: 0.6015 - val_loss: 2.6129 - val_Accuracy: 0.2529\n",
      "Epoch 85/100\n",
      "955/955 [==============================] - 2s 2ms/step - loss: 1.0590 - Accuracy: 0.5968 - val_loss: 2.5482 - val_Accuracy: 0.2433\n",
      "Epoch 86/100\n",
      "955/955 [==============================] - 2s 2ms/step - loss: 1.0580 - Accuracy: 0.6022 - val_loss: 2.5785 - val_Accuracy: 0.2605\n",
      "Epoch 87/100\n",
      "955/955 [==============================] - 2s 2ms/step - loss: 1.0569 - Accuracy: 0.6001 - val_loss: 2.5189 - val_Accuracy: 0.2814\n",
      "Epoch 88/100\n",
      "955/955 [==============================] - 2s 2ms/step - loss: 1.0534 - Accuracy: 0.6000 - val_loss: 2.6211 - val_Accuracy: 0.2719\n",
      "Epoch 89/100\n",
      "955/955 [==============================] - 2s 2ms/step - loss: 1.0536 - Accuracy: 0.6016 - val_loss: 2.5540 - val_Accuracy: 0.2795\n",
      "Epoch 90/100\n",
      "955/955 [==============================] - 2s 2ms/step - loss: 1.0530 - Accuracy: 0.6036 - val_loss: 2.5443 - val_Accuracy: 0.2909\n",
      "Epoch 91/100\n",
      "955/955 [==============================] - 2s 2ms/step - loss: 1.0516 - Accuracy: 0.6012 - val_loss: 2.5106 - val_Accuracy: 0.2947\n",
      "Epoch 92/100\n",
      "955/955 [==============================] - 2s 2ms/step - loss: 1.0516 - Accuracy: 0.6035 - val_loss: 2.6861 - val_Accuracy: 0.2510\n",
      "Epoch 93/100\n",
      "955/955 [==============================] - 2s 2ms/step - loss: 1.0483 - Accuracy: 0.6029 - val_loss: 2.6063 - val_Accuracy: 0.2776\n",
      "Epoch 94/100\n",
      "955/955 [==============================] - 2s 3ms/step - loss: 1.0474 - Accuracy: 0.6066 - val_loss: 2.6514 - val_Accuracy: 0.2548\n",
      "Epoch 95/100\n",
      "955/955 [==============================] - 2s 2ms/step - loss: 1.0468 - Accuracy: 0.6069 - val_loss: 2.6337 - val_Accuracy: 0.2243\n",
      "Epoch 96/100\n",
      "955/955 [==============================] - 2s 2ms/step - loss: 1.0428 - Accuracy: 0.6021 - val_loss: 2.5847 - val_Accuracy: 0.2871\n",
      "Epoch 97/100\n",
      "955/955 [==============================] - 2s 2ms/step - loss: 1.0462 - Accuracy: 0.6074 - val_loss: 2.5845 - val_Accuracy: 0.2681\n",
      "Epoch 98/100\n",
      "955/955 [==============================] - 2s 2ms/step - loss: 1.0435 - Accuracy: 0.6063 - val_loss: 2.6685 - val_Accuracy: 0.2167\n",
      "Epoch 99/100\n",
      "955/955 [==============================] - 2s 2ms/step - loss: 1.0408 - Accuracy: 0.6064 - val_loss: 2.6550 - val_Accuracy: 0.2643\n",
      "Epoch 100/100\n",
      "955/955 [==============================] - 2s 2ms/step - loss: 1.0384 - Accuracy: 0.6088 - val_loss: 2.6460 - val_Accuracy: 0.2662\n"
     ]
    },
    {
     "data": {
      "text/plain": [
       "<keras.callbacks.History at 0x1cb135660a0>"
      ]
     },
     "execution_count": 26,
     "metadata": {},
     "output_type": "execute_result"
    }
   ],
   "source": [
    "# Ajustamos el modelo Keras en los datos de entrenamiento y validamos con los datos de prueba\n",
    "\n",
    "model.fit(X_train, y_train_ohe, validation_data=(X_test, y_test_ohe), epochs=100, batch_size=10, verbose=True) #validation_split=0.3"
   ]
  },
  {
   "cell_type": "code",
   "execution_count": 27,
   "id": "f170678c-1833-49f7-aa81-bcf3511de509",
   "metadata": {},
   "outputs": [
    {
     "name": "stdout",
     "output_type": "stream",
     "text": [
      "299/299 [==============================] - 0s 1ms/step - loss: 1.0381 - Accuracy: 0.6051\n",
      "Accuracy: 60.51\n"
     ]
    }
   ],
   "source": [
    "# Evaluamos el modelo Keras de los estimadores\n",
    "\n",
    "_, Accuracy = model.evaluate(X_train, y_train_ohe)\n",
    "print('Accuracy: %.2f' % (Accuracy*100))"
   ]
  },
  {
   "cell_type": "code",
   "execution_count": 33,
   "id": "1db33641-bd3c-4a20-adb0-52bcc6ea2952",
   "metadata": {},
   "outputs": [
    {
     "name": "stdout",
     "output_type": "stream",
     "text": [
      "17/17 [==============================] - 0s 2ms/step\n"
     ]
    },
    {
     "data": {
      "text/plain": [
       "array([6, 3, 5, 1, 0, 3, 5, 2, 5, 1, 3, 2, 3, 6, 0, 3, 1, 5, 3, 1, 5, 2,\n",
       "       4, 3, 3, 4, 6, 0, 1, 6, 2, 1, 2, 6, 6, 3, 5, 5, 3, 3, 3, 5, 2, 2,\n",
       "       3, 1, 6, 3, 1, 6, 3, 0, 5, 1, 2, 1, 4, 3, 6, 6, 3, 6, 5, 2, 2, 3,\n",
       "       5, 1, 3, 2, 2, 6, 1, 6, 3, 3, 4, 3, 4, 1, 6, 5, 1, 5, 2, 6, 5, 5,\n",
       "       3, 5, 5, 5, 2, 1, 1, 3, 1, 4, 6, 3, 6, 3, 2, 5, 4, 6, 4, 2, 4, 6,\n",
       "       5, 2, 5, 2, 2, 2, 6, 5, 4, 3, 6, 4, 5, 5, 1, 1, 6, 3, 6, 1, 6, 6,\n",
       "       3, 3, 6, 3, 6, 6, 6, 3, 1, 0, 2, 1, 6, 2, 6, 5, 3, 1, 5, 2, 2, 6,\n",
       "       1, 3, 3, 1, 4, 3, 2, 1, 6, 2, 6, 2, 3, 6, 1, 3, 0, 5, 6, 1, 5, 4,\n",
       "       3, 5, 3, 3, 5, 5, 6, 5, 2, 6, 3, 5, 5, 6, 5, 3, 0, 3, 5, 5, 3, 5,\n",
       "       5, 5, 5, 5, 4, 0, 6, 6, 2, 2, 5, 3, 5, 4, 3, 5, 6, 2, 1, 5, 3, 3,\n",
       "       6, 2, 0, 5, 6, 6, 2, 0, 4, 3, 5, 6, 6, 3, 2, 5, 5, 6, 3, 5, 2, 3,\n",
       "       5, 3, 2, 5, 5, 1, 1, 1, 3, 5, 6, 3, 6, 6, 2, 3, 6, 4, 0, 6, 3, 3,\n",
       "       3, 0, 2, 3, 4, 3, 6, 5, 3, 0, 3, 2, 3, 3, 3, 0, 3, 1, 5, 2, 2, 1,\n",
       "       6, 0, 6, 2, 3, 3, 3, 6, 6, 3, 5, 1, 3, 2, 2, 3, 1, 5, 1, 3, 3, 1,\n",
       "       2, 5, 2, 1, 3, 5, 3, 5, 6, 6, 5, 5, 5, 3, 1, 0, 3, 2, 1, 5, 4, 2,\n",
       "       5, 3, 6, 4, 4, 5, 3, 3, 3, 5, 3, 0, 2, 2, 2, 3, 5, 4, 5, 0, 0, 1,\n",
       "       3, 1, 5, 5, 5, 2, 3, 6, 3, 1, 6, 1, 5, 2, 6, 6, 5, 6, 5, 3, 1, 3,\n",
       "       6, 1, 2, 5, 5, 3, 5, 5, 5, 6, 2, 1, 3, 2, 3, 6, 5, 5, 6, 3, 6, 5,\n",
       "       3, 3, 0, 3, 5, 1, 3, 2, 3, 2, 1, 5, 5, 4, 1, 0, 0, 2, 2, 5, 6, 3,\n",
       "       5, 5, 6, 5, 5, 2, 2, 2, 6, 1, 2, 3, 1, 5, 3, 3, 3, 2, 2, 6, 1, 3,\n",
       "       6, 3, 3, 5, 6, 0, 1, 3, 5, 5, 3, 3, 6, 4, 3, 2, 1, 3, 5, 5, 5, 5,\n",
       "       5, 1, 4, 4, 1, 3, 5, 5, 6, 1, 2, 5, 6, 3, 1, 4, 3, 5, 1, 3, 5, 5,\n",
       "       1, 6, 3, 5, 3, 5, 2, 0, 0, 4, 3, 5, 4, 5, 6, 0, 2, 2, 5, 3, 3, 5,\n",
       "       2, 5, 6, 2, 1, 5, 5, 0, 5, 6, 6, 3, 0, 3, 5, 4, 5, 5, 5, 1],\n",
       "      dtype=int64)"
      ]
     },
     "execution_count": 33,
     "metadata": {},
     "output_type": "execute_result"
    }
   ],
   "source": [
    "# Hacemos predicciones sobre los datos de prueba\n",
    "\n",
    "#y_pred = model.predict(X_test).round()\n",
    "\n",
    "y_pred = np.argmax(model.predict(X_test), axis=-1)\n",
    "y_pred"
   ]
  },
  {
   "cell_type": "markdown",
   "id": "92c93342-cb27-48c9-8f89-6a9f391bf559",
   "metadata": {},
   "source": [
    "### 3.2 Evaluación del modelo"
   ]
  },
  {
   "cell_type": "code",
   "execution_count": 29,
   "id": "5bca85f8-1435-4fc0-9902-94b3b228d42b",
   "metadata": {},
   "outputs": [
    {
     "name": "stdout",
     "output_type": "stream",
     "text": [
      "              precision    recall  f1-score   support\n",
      "\n",
      "         0.0       0.00      0.00      0.00         7\n",
      "         1.0       0.09      0.21      0.13        28\n",
      "         2.0       0.11      0.15      0.13        54\n",
      "         3.0       0.24      0.39      0.30        77\n",
      "         4.0       0.00      0.00      0.00         6\n",
      "         5.0       0.79      0.28      0.41       341\n",
      "         6.0       0.00      0.00      0.00        13\n",
      "\n",
      "    accuracy                           0.27       526\n",
      "   macro avg       0.18      0.15      0.14       526\n",
      "weighted avg       0.56      0.27      0.33       526\n",
      "\n"
     ]
    }
   ],
   "source": [
    "# Obtenemos el reporte de clasificación de los predictores\n",
    "\n",
    "from sklearn.metrics import classification_report\n",
    "\n",
    "report = classification_report(y_test, y_pred)\n",
    "print(report)"
   ]
  },
  {
   "cell_type": "code",
   "execution_count": 30,
   "id": "2ff0e3f4-9e93-42cf-a82e-c11c9b83013a",
   "metadata": {},
   "outputs": [
    {
     "name": "stdout",
     "output_type": "stream",
     "text": [
      "[[[491  28]\n",
      "  [  7   0]]\n",
      "\n",
      " [[440  58]\n",
      "  [ 22   6]]\n",
      "\n",
      " [[407  65]\n",
      "  [ 46   8]]\n",
      "\n",
      " [[355  94]\n",
      "  [ 47  30]]\n",
      "\n",
      " [[490  30]\n",
      "  [  6   0]]\n",
      "\n",
      " [[159  26]\n",
      "  [245  96]]\n",
      "\n",
      " [[428  85]\n",
      "  [ 13   0]]]\n"
     ]
    }
   ],
   "source": [
    "# Obtenemos la matriz de confusión de los predictores\n",
    "\n",
    "from sklearn.metrics import multilabel_confusion_matrix\n",
    "\n",
    "matrix = multilabel_confusion_matrix(y_test, y_pred)\n",
    "print(matrix)"
   ]
  },
  {
   "cell_type": "code",
   "execution_count": 31,
   "id": "a0600b34-e540-44bf-9c20-a0caac445ebf",
   "metadata": {},
   "outputs": [
    {
     "data": {
      "image/png": "[encoded data removed]",
      "text/plain": [
       "<Figure size 432x288 with 2 Axes>"
      ]
     },
     "metadata": {
      "needs_background": "light"
     },
     "output_type": "display_data"
    }
   ],
   "source": [
    "# Dibujamos la matriz de confusión de los predictores\n",
    "\n",
    "from sklearn.metrics import ConfusionMatrixDisplay\n",
    "\n",
    "ConfusionMatrixDisplay.from_predictions(y_test, y_pred)\n",
    "plt.show()"
   ]
  },
  {
   "cell_type": "code",
   "execution_count": null,
   "id": "c90de129-8078-43cf-a5df-dfb7c98fc3e3",
   "metadata": {},
   "outputs": [],
   "source": []
  }
 ],
 "metadata": {
  "kernelspec": {
   "display_name": "Python 3 (ipykernel)",
   "language": "python",
   "name": "python3"
  },
  "language_info": {
   "codemirror_mode": {
    "name": "ipython",
    "version": 3
   },
   "file_extension": ".py",
   "mimetype": "text/x-python",
   "name": "python",
   "nbconvert_exporter": "python",
   "pygments_lexer": "ipython3",
   "version": "3.9.12"
  }
 },
 "nbformat": 4,
 "nbformat_minor": 5
}
