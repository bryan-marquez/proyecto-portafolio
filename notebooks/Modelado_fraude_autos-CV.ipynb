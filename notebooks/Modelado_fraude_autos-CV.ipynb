{
 "cells": [
  {
   "cell_type": "markdown",
   "id": "5015903c-f4ac-4c05-8e52-3e97d7337aab",
   "metadata": {},
   "source": [
    "# Análisis de Datos de Fraude en Seguros de Auto"
   ]
  },
  {
   "cell_type": "markdown",
   "id": "341b6b38-e37d-468d-a400-e359b31e6cda",
   "metadata": {},
   "source": [
    "## 2. Procesamiento de los Datos"
   ]
  },
  {
   "cell_type": "markdown",
   "id": "d72285b0-996e-4941-84bd-1ddfbd6dc343",
   "metadata": {},
   "source": [
    "### 2.1 Carga de Librerías"
   ]
  },
  {
   "cell_type": "code",
   "execution_count": 25,
   "id": "9cdc0a29-b4cf-494b-aec9-a0aad98f7bef",
   "metadata": {},
   "outputs": [],
   "source": [
    "# Cargamos las librerías a utilizar\n",
    "import pandas as pd\n",
    "import seaborn as sns\n",
    "import numpy as np\n",
    "import matplotlib.pyplot as plt\n",
    "\n",
    "# Para mostrar todas las columnas\n",
    "pd.set_option('display.max_columns', None)\n",
    "\n",
    "# Para mostar las cifras en formato float\n",
    "pd.options.display.float_format = '{:.2f}'.format"
   ]
  },
  {
   "cell_type": "markdown",
   "id": "13baf395-3e67-4535-8fdf-1b1448de1379",
   "metadata": {},
   "source": [
    "### 2.2 Carga de Datos"
   ]
  },
  {
   "cell_type": "code",
   "execution_count": 26,
   "id": "ee93ac54-d041-46b3-ab86-9665e0de3333",
   "metadata": {},
   "outputs": [
    {
     "data": {
      "text/html": [
       "<div>\n",
       "<style scoped>\n",
       "    .dataframe tbody tr th:only-of-type {\n",
       "        vertical-align: middle;\n",
       "    }\n",
       "\n",
       "    .dataframe tbody tr th {\n",
       "        vertical-align: top;\n",
       "    }\n",
       "\n",
       "    .dataframe thead th {\n",
       "        text-align: right;\n",
       "    }\n",
       "</style>\n",
       "<table border=\"1\" class=\"dataframe\">\n",
       "  <thead>\n",
       "    <tr style=\"text-align: right;\">\n",
       "      <th></th>\n",
       "      <th>Month</th>\n",
       "      <th>WeekOfMonth</th>\n",
       "      <th>DayOfWeek</th>\n",
       "      <th>Make</th>\n",
       "      <th>AccidentArea</th>\n",
       "      <th>DayOfWeekClaimed</th>\n",
       "      <th>MonthClaimed</th>\n",
       "      <th>WeekOfMonthClaimed</th>\n",
       "      <th>Sex</th>\n",
       "      <th>MaritalStatus</th>\n",
       "      <th>Age</th>\n",
       "      <th>Fault</th>\n",
       "      <th>PolicyType</th>\n",
       "      <th>VehicleCategory</th>\n",
       "      <th>VehiclePrice</th>\n",
       "      <th>FraudFound_P</th>\n",
       "      <th>PolicyNumber</th>\n",
       "      <th>RepNumber</th>\n",
       "      <th>Deductible</th>\n",
       "      <th>DriverRating</th>\n",
       "      <th>Days_Policy_Accident</th>\n",
       "      <th>Days_Policy_Claim</th>\n",
       "      <th>PastNumberOfClaims</th>\n",
       "      <th>AgeOfVehicle</th>\n",
       "      <th>AgeOfPolicyHolder</th>\n",
       "      <th>PoliceReportFiled</th>\n",
       "      <th>WitnessPresent</th>\n",
       "      <th>AgentType</th>\n",
       "      <th>NumberOfSuppliments</th>\n",
       "      <th>AddressChange_Claim</th>\n",
       "      <th>NumberOfCars</th>\n",
       "      <th>Year</th>\n",
       "      <th>BasePolicy</th>\n",
       "      <th>ClaimSize</th>\n",
       "    </tr>\n",
       "  </thead>\n",
       "  <tbody>\n",
       "    <tr>\n",
       "      <th>0</th>\n",
       "      <td>Dec</td>\n",
       "      <td>5</td>\n",
       "      <td>Wednesday</td>\n",
       "      <td>Honda</td>\n",
       "      <td>Urban</td>\n",
       "      <td>Tuesday</td>\n",
       "      <td>Jan</td>\n",
       "      <td>1</td>\n",
       "      <td>Female</td>\n",
       "      <td>Single</td>\n",
       "      <td>21.00</td>\n",
       "      <td>Policy Holder</td>\n",
       "      <td>Sport - Liability</td>\n",
       "      <td>Sport</td>\n",
       "      <td>more than 69000</td>\n",
       "      <td>0</td>\n",
       "      <td>1</td>\n",
       "      <td>12</td>\n",
       "      <td>300</td>\n",
       "      <td>1.00</td>\n",
       "      <td>more than 30</td>\n",
       "      <td>more than 30</td>\n",
       "      <td>none</td>\n",
       "      <td>3 years</td>\n",
       "      <td>26 to 30</td>\n",
       "      <td>No</td>\n",
       "      <td>No</td>\n",
       "      <td>External</td>\n",
       "      <td>none</td>\n",
       "      <td>1 year</td>\n",
       "      <td>3 to 4</td>\n",
       "      <td>1994</td>\n",
       "      <td>Liability</td>\n",
       "      <td>55526.07</td>\n",
       "    </tr>\n",
       "    <tr>\n",
       "      <th>1</th>\n",
       "      <td>Jan</td>\n",
       "      <td>3</td>\n",
       "      <td>Wednesday</td>\n",
       "      <td>Honda</td>\n",
       "      <td>Urban</td>\n",
       "      <td>Monday</td>\n",
       "      <td>Jan</td>\n",
       "      <td>4</td>\n",
       "      <td>Male</td>\n",
       "      <td>Single</td>\n",
       "      <td>34.00</td>\n",
       "      <td>Policy Holder</td>\n",
       "      <td>Sport - Collision</td>\n",
       "      <td>Sport</td>\n",
       "      <td>more than 69000</td>\n",
       "      <td>0</td>\n",
       "      <td>2</td>\n",
       "      <td>15</td>\n",
       "      <td>400</td>\n",
       "      <td>4.00</td>\n",
       "      <td>more than 30</td>\n",
       "      <td>more than 30</td>\n",
       "      <td>none</td>\n",
       "      <td>6 years</td>\n",
       "      <td>31 to 35</td>\n",
       "      <td>Yes</td>\n",
       "      <td>No</td>\n",
       "      <td>External</td>\n",
       "      <td>none</td>\n",
       "      <td>no change</td>\n",
       "      <td>1 vehicle</td>\n",
       "      <td>1994</td>\n",
       "      <td>Collision</td>\n",
       "      <td>59294.46</td>\n",
       "    </tr>\n",
       "    <tr>\n",
       "      <th>2</th>\n",
       "      <td>Oct</td>\n",
       "      <td>5</td>\n",
       "      <td>Friday</td>\n",
       "      <td>Honda</td>\n",
       "      <td>Urban</td>\n",
       "      <td>Thursday</td>\n",
       "      <td>Nov</td>\n",
       "      <td>2</td>\n",
       "      <td>Male</td>\n",
       "      <td>Married</td>\n",
       "      <td>47.00</td>\n",
       "      <td>Policy Holder</td>\n",
       "      <td>Sport - Collision</td>\n",
       "      <td>Sport</td>\n",
       "      <td>more than 69000</td>\n",
       "      <td>0</td>\n",
       "      <td>3</td>\n",
       "      <td>7</td>\n",
       "      <td>400</td>\n",
       "      <td>3.00</td>\n",
       "      <td>more than 30</td>\n",
       "      <td>more than 30</td>\n",
       "      <td>1</td>\n",
       "      <td>7 years</td>\n",
       "      <td>41 to 50</td>\n",
       "      <td>No</td>\n",
       "      <td>No</td>\n",
       "      <td>External</td>\n",
       "      <td>none</td>\n",
       "      <td>no change</td>\n",
       "      <td>1 vehicle</td>\n",
       "      <td>1994</td>\n",
       "      <td>Collision</td>\n",
       "      <td>71756.94</td>\n",
       "    </tr>\n",
       "    <tr>\n",
       "      <th>3</th>\n",
       "      <td>Jun</td>\n",
       "      <td>2</td>\n",
       "      <td>Saturday</td>\n",
       "      <td>Toyota</td>\n",
       "      <td>Rural</td>\n",
       "      <td>Friday</td>\n",
       "      <td>Jul</td>\n",
       "      <td>1</td>\n",
       "      <td>Male</td>\n",
       "      <td>Married</td>\n",
       "      <td>65.00</td>\n",
       "      <td>Third Party</td>\n",
       "      <td>Sedan - Liability</td>\n",
       "      <td>Sport</td>\n",
       "      <td>20000 to 29000</td>\n",
       "      <td>0</td>\n",
       "      <td>4</td>\n",
       "      <td>4</td>\n",
       "      <td>400</td>\n",
       "      <td>2.00</td>\n",
       "      <td>more than 30</td>\n",
       "      <td>more than 30</td>\n",
       "      <td>1</td>\n",
       "      <td>more than 7</td>\n",
       "      <td>51 to 65</td>\n",
       "      <td>Yes</td>\n",
       "      <td>No</td>\n",
       "      <td>External</td>\n",
       "      <td>more than 5</td>\n",
       "      <td>no change</td>\n",
       "      <td>1 vehicle</td>\n",
       "      <td>1994</td>\n",
       "      <td>Liability</td>\n",
       "      <td>7584.15</td>\n",
       "    </tr>\n",
       "    <tr>\n",
       "      <th>4</th>\n",
       "      <td>Feb</td>\n",
       "      <td>1</td>\n",
       "      <td>Saturday</td>\n",
       "      <td>Honda</td>\n",
       "      <td>Urban</td>\n",
       "      <td>Monday</td>\n",
       "      <td>Feb</td>\n",
       "      <td>3</td>\n",
       "      <td>Male</td>\n",
       "      <td>Married</td>\n",
       "      <td>36.00</td>\n",
       "      <td>Third Party</td>\n",
       "      <td>Sport - Collision</td>\n",
       "      <td>Sport</td>\n",
       "      <td>more than 69000</td>\n",
       "      <td>0</td>\n",
       "      <td>7</td>\n",
       "      <td>14</td>\n",
       "      <td>400</td>\n",
       "      <td>1.00</td>\n",
       "      <td>more than 30</td>\n",
       "      <td>more than 30</td>\n",
       "      <td>1</td>\n",
       "      <td>7 years</td>\n",
       "      <td>36 to 40</td>\n",
       "      <td>No</td>\n",
       "      <td>No</td>\n",
       "      <td>External</td>\n",
       "      <td>1 to 2</td>\n",
       "      <td>no change</td>\n",
       "      <td>1 vehicle</td>\n",
       "      <td>1994</td>\n",
       "      <td>Collision</td>\n",
       "      <td>98545.37</td>\n",
       "    </tr>\n",
       "  </tbody>\n",
       "</table>\n",
       "</div>"
      ],
      "text/plain": [
       "  Month  WeekOfMonth  DayOfWeek    Make AccidentArea DayOfWeekClaimed  \\\n",
       "0   Dec            5  Wednesday   Honda        Urban          Tuesday   \n",
       "1   Jan            3  Wednesday   Honda        Urban           Monday   \n",
       "2   Oct            5     Friday   Honda        Urban         Thursday   \n",
       "3   Jun            2   Saturday  Toyota        Rural           Friday   \n",
       "4   Feb            1   Saturday   Honda        Urban           Monday   \n",
       "\n",
       "  MonthClaimed  WeekOfMonthClaimed     Sex MaritalStatus   Age          Fault  \\\n",
       "0          Jan                   1  Female        Single 21.00  Policy Holder   \n",
       "1          Jan                   4    Male        Single 34.00  Policy Holder   \n",
       "2          Nov                   2    Male       Married 47.00  Policy Holder   \n",
       "3          Jul                   1    Male       Married 65.00    Third Party   \n",
       "4          Feb                   3    Male       Married 36.00    Third Party   \n",
       "\n",
       "          PolicyType VehicleCategory     VehiclePrice  FraudFound_P  \\\n",
       "0  Sport - Liability           Sport  more than 69000             0   \n",
       "1  Sport - Collision           Sport  more than 69000             0   \n",
       "2  Sport - Collision           Sport  more than 69000             0   \n",
       "3  Sedan - Liability           Sport   20000 to 29000             0   \n",
       "4  Sport - Collision           Sport  more than 69000             0   \n",
       "\n",
       "   PolicyNumber  RepNumber  Deductible  DriverRating Days_Policy_Accident  \\\n",
       "0             1         12         300          1.00         more than 30   \n",
       "1             2         15         400          4.00         more than 30   \n",
       "2             3          7         400          3.00         more than 30   \n",
       "3             4          4         400          2.00         more than 30   \n",
       "4             7         14         400          1.00         more than 30   \n",
       "\n",
       "  Days_Policy_Claim PastNumberOfClaims AgeOfVehicle AgeOfPolicyHolder  \\\n",
       "0      more than 30               none      3 years          26 to 30   \n",
       "1      more than 30               none      6 years          31 to 35   \n",
       "2      more than 30                  1      7 years          41 to 50   \n",
       "3      more than 30                  1  more than 7          51 to 65   \n",
       "4      more than 30                  1      7 years          36 to 40   \n",
       "\n",
       "  PoliceReportFiled WitnessPresent AgentType NumberOfSuppliments  \\\n",
       "0                No             No  External                none   \n",
       "1               Yes             No  External                none   \n",
       "2                No             No  External                none   \n",
       "3               Yes             No  External         more than 5   \n",
       "4                No             No  External              1 to 2   \n",
       "\n",
       "  AddressChange_Claim NumberOfCars  Year BasePolicy  ClaimSize  \n",
       "0              1 year       3 to 4  1994  Liability   55526.07  \n",
       "1           no change    1 vehicle  1994  Collision   59294.46  \n",
       "2           no change    1 vehicle  1994  Collision   71756.94  \n",
       "3           no change    1 vehicle  1994  Liability    7584.15  \n",
       "4           no change    1 vehicle  1994  Collision   98545.37  "
      ]
     },
     "execution_count": 26,
     "metadata": {},
     "output_type": "execute_result"
    }
   ],
   "source": [
    "# Asignamos los datos a un dataframe\n",
    "car_fraud = pd.read_csv('.\\..\\data\\Dataset.csv')\n",
    "\n",
    "# Mostramos el encabezado de los datos\n",
    "car_fraud.head()"
   ]
  },
  {
   "cell_type": "markdown",
   "id": "31c5cf07-ea80-4556-9563-920a0efb4102",
   "metadata": {},
   "source": [
    "### 2.3 Limpieza de Datos"
   ]
  },
  {
   "cell_type": "code",
   "execution_count": 27,
   "id": "d13ff25c-65fe-4be2-9485-50a990b14eda",
   "metadata": {},
   "outputs": [
    {
     "data": {
      "text/plain": [
       "Month                   0\n",
       "WeekOfMonth             0\n",
       "DayOfWeek               0\n",
       "Make                    0\n",
       "AccidentArea            0\n",
       "DayOfWeekClaimed        0\n",
       "MonthClaimed            0\n",
       "WeekOfMonthClaimed      0\n",
       "Sex                     0\n",
       "MaritalStatus           0\n",
       "Age                     5\n",
       "Fault                   0\n",
       "PolicyType              0\n",
       "VehicleCategory         0\n",
       "VehiclePrice            0\n",
       "FraudFound_P            0\n",
       "PolicyNumber            0\n",
       "RepNumber               0\n",
       "Deductible              0\n",
       "DriverRating            6\n",
       "Days_Policy_Accident    0\n",
       "Days_Policy_Claim       0\n",
       "PastNumberOfClaims      0\n",
       "AgeOfVehicle            0\n",
       "AgeOfPolicyHolder       0\n",
       "PoliceReportFiled       0\n",
       "WitnessPresent          0\n",
       "AgentType               0\n",
       "NumberOfSuppliments     0\n",
       "AddressChange_Claim     0\n",
       "NumberOfCars            0\n",
       "Year                    0\n",
       "BasePolicy              0\n",
       "ClaimSize               0\n",
       "dtype: int64"
      ]
     },
     "execution_count": 27,
     "metadata": {},
     "output_type": "execute_result"
    }
   ],
   "source": [
    "# Mostramos la suma de valores nulos\n",
    "\n",
    "car_fraud.isnull().sum()"
   ]
  },
  {
   "cell_type": "code",
   "execution_count": 28,
   "id": "57a32282-1bbe-4bc9-a5b1-a12f308bc312",
   "metadata": {},
   "outputs": [
    {
     "data": {
      "text/plain": [
       "Month                   False\n",
       "WeekOfMonth             False\n",
       "DayOfWeek               False\n",
       "Make                    False\n",
       "AccidentArea            False\n",
       "DayOfWeekClaimed        False\n",
       "MonthClaimed            False\n",
       "WeekOfMonthClaimed      False\n",
       "Sex                     False\n",
       "MaritalStatus           False\n",
       "Age                     False\n",
       "Fault                   False\n",
       "PolicyType              False\n",
       "VehicleCategory         False\n",
       "VehiclePrice            False\n",
       "FraudFound_P            False\n",
       "PolicyNumber            False\n",
       "RepNumber               False\n",
       "Deductible              False\n",
       "DriverRating            False\n",
       "Days_Policy_Accident    False\n",
       "Days_Policy_Claim       False\n",
       "PastNumberOfClaims      False\n",
       "AgeOfVehicle            False\n",
       "AgeOfPolicyHolder       False\n",
       "PoliceReportFiled       False\n",
       "WitnessPresent          False\n",
       "AgentType               False\n",
       "NumberOfSuppliments     False\n",
       "AddressChange_Claim     False\n",
       "NumberOfCars            False\n",
       "Year                    False\n",
       "BasePolicy              False\n",
       "ClaimSize               False\n",
       "dtype: bool"
      ]
     },
     "execution_count": 28,
     "metadata": {},
     "output_type": "execute_result"
    }
   ],
   "source": [
    "# Imputamos los valores nulos\n",
    "# Esto también se puede realizar con pipeline SimpleImputer o KNNImputer\n",
    "\n",
    "median_age = car_fraud['Age'].median()\n",
    "car_fraud['Age'] = car_fraud['Age'].fillna(median_age)\n",
    "median_DR = car_fraud['DriverRating'].median()\n",
    "car_fraud['DriverRating'] = car_fraud['DriverRating'].fillna(median_DR)\n",
    "car_fraud.isnull().any()"
   ]
  },
  {
   "cell_type": "code",
   "execution_count": 29,
   "id": "7d23e9f6-e8f5-4037-a8b6-342002c638c7",
   "metadata": {},
   "outputs": [
    {
     "name": "stdout",
     "output_type": "stream",
     "text": [
      "DayOfWeekClaimed\n",
      "Friday       1842\n",
      "Monday       2812\n",
      "Saturday       94\n",
      "Sunday         40\n",
      "Thursday     2000\n",
      "Tuesday      2545\n",
      "Wednesday    2232\n",
      "dtype: int64\n",
      "MonthClaimed\n",
      "Apr     970\n",
      "Aug     846\n",
      "Dec     879\n",
      "Feb     955\n",
      "Jan    1085\n",
      "Jul     908\n",
      "Jun     967\n",
      "Mar    1005\n",
      "May    1038\n",
      "Nov     973\n",
      "Oct     995\n",
      "Sep     944\n",
      "dtype: int64\n",
      "Age\n",
      "16.00     8\n",
      "17.00     5\n",
      "18.00    34\n",
      "19.00    24\n",
      "20.00    15\n",
      "         ..\n",
      "76.00    32\n",
      "77.00    20\n",
      "78.00    26\n",
      "79.00    12\n",
      "80.00    25\n",
      "Length: 65, dtype: int64\n",
      "ClaimSize\n",
      "504.58       4\n",
      "512.67       1\n",
      "532.51       1\n",
      "538.14       5\n",
      "542.63       2\n",
      "            ..\n",
      "100701.44    1\n",
      "103375.05    1\n",
      "103420.79    1\n",
      "104194.70    1\n",
      "141394.16    1\n",
      "Length: 3332, dtype: int64\n"
     ]
    }
   ],
   "source": [
    "# Reemplazamos los valores iguales a cero\n",
    "\n",
    "car_fraud['DayOfWeekClaimed'] = car_fraud['DayOfWeekClaimed'].replace('0', 'Monday')\n",
    "car_fraud['MonthClaimed'] = car_fraud['MonthClaimed'].replace('0', 'Jan')\n",
    "\n",
    "car_fraud['Age'] = car_fraud['Age'].replace(0, median_age)\n",
    "\n",
    "mean_ClaimSize = car_fraud['ClaimSize'].mean()\n",
    "car_fraud['ClaimSize'] = car_fraud['ClaimSize'].replace(0, mean_ClaimSize)\n",
    "\n",
    "print(car_fraud.groupby('DayOfWeekClaimed').size())\n",
    "print(car_fraud.groupby('MonthClaimed').size())\n",
    "print(car_fraud.groupby('Age').size())\n",
    "print(car_fraud.groupby('ClaimSize').size())"
   ]
  },
  {
   "cell_type": "code",
   "execution_count": 30,
   "id": "b15c4e0f-c251-49a5-b829-db56bac5ec5d",
   "metadata": {},
   "outputs": [
    {
     "data": {
      "text/plain": [
       "(11565, 34)"
      ]
     },
     "execution_count": 30,
     "metadata": {},
     "output_type": "execute_result"
    }
   ],
   "source": [
    "# Validamos el número de filas y columnas\n",
    "\n",
    "car_fraud.shape"
   ]
  },
  {
   "cell_type": "markdown",
   "id": "aecf98dd-6815-45bb-bc7e-6992eaa2b357",
   "metadata": {},
   "source": [
    "### 2.4 División de los Datos"
   ]
  },
  {
   "cell_type": "code",
   "execution_count": 31,
   "id": "aedd968f-42d2-4900-91b0-90397cdeb3d1",
   "metadata": {},
   "outputs": [
    {
     "name": "stdout",
     "output_type": "stream",
     "text": [
      "X: (11565, 32)\n",
      "y: (11565,)\n"
     ]
    }
   ],
   "source": [
    "# Dividimos los datos en X y y\n",
    "X = car_fraud.drop(['FraudFound_P', 'PolicyNumber'], axis = 1)\n",
    "y = car_fraud['FraudFound_P']\n",
    "\n",
    "print(f\"X: {X.shape}\")\n",
    "print(f\"y: {y.shape}\")"
   ]
  },
  {
   "cell_type": "markdown",
   "id": "2b4b6740-4b0a-4ab8-b979-c32ab5aa8512",
   "metadata": {},
   "source": [
    "### 2.5 Codificación de Datos Categóricos"
   ]
  },
  {
   "cell_type": "code",
   "execution_count": 32,
   "id": "8929a3a2-b45d-4293-b122-38412a0c1ebf",
   "metadata": {},
   "outputs": [],
   "source": [
    "# Ordenamos las variables categóricas ordinales y nominales\n",
    "\n",
    "Month = ['Jan', 'Feb', 'Mar', 'Apr', 'May', 'Jun', 'Jul', 'Aug', 'Sep', 'Oct', 'Nov', 'Dec']\n",
    "DayOfWeek = ['Monday', 'Tuesday', 'Wednesday', 'Thursday', 'Friday', 'Saturday', 'Sunday']\n",
    "Make = ['Accura', 'BMW', 'Chevrolet', 'Dodge', 'Ferrari', 'Ford', 'Honda', 'Jaguar', 'Lexus', 'Mazda', 'Mecedes', 'Mercury', 'Nisson', 'Pontiac', 'Porche', 'Saab', 'Saturn', 'Toyota', 'VW']\n",
    "AccidentArea = ['Rural', 'Urban']\n",
    "DayOfWeekClaimed = ['Monday', 'Tuesday', 'Wednesday', 'Thursday', 'Friday', 'Saturday', 'Sunday']\n",
    "MonthClaimed = ['Jan', 'Feb', 'Mar', 'Apr', 'May', 'Jun', 'Jul', 'Aug', 'Sep', 'Oct', 'Nov', 'Dec']\n",
    "Sex = ['Male', 'Female']\n",
    "MaritalStatus = ['Single', 'Married', 'Widow', 'Divorced']\n",
    "Fault = ['Policy Holder', 'Third Party']\n",
    "PolicyType = ['Sport - Liability', 'Sport - Collision', 'Sedan - Liability', 'Sedan - All Perils', 'Sedan - Collision', 'Utility - Collision', 'Utility - Liability', 'Utility - All Perils', 'Sport - All Perils']\n",
    "VehicleCategory = ['Sport', 'Sedan', 'Utility']\n",
    "VehiclePrice = ['less than 20000', '20000 to 29000', '30000 to 39000', '40000 to 59000', '60000 to 69000', 'more than 69000']\n",
    "Days_Policy_Accident = ['none', '1 to 7', '8 to 15', '15 to 30', 'more than 30']\n",
    "Days_Policy_Claim = ['none', '8 to 15', '15 to 30', 'more than 30']\n",
    "PastNumberOfClaims = ['none', '1', '2 to 4', 'more than 4']\n",
    "AgeOfVehicle = ['new', '2 years', '3 years', '4 years', '5 years', '6 years', '7 years', 'more than 7']\n",
    "AgeOfPolicyHolder = ['16 to 17', '18 to 20', '21 to 25', '26 to 30', '31 to 35', '36 to 40', '41 to 50', '51 to 65', 'over 65']\n",
    "PoliceReportFiled = ['No', 'Yes']\n",
    "WitnessPresent = ['No', 'Yes']\n",
    "AgentType = ['External', 'Internal']\n",
    "NumberOfSuppliments = ['none', '1 to 2', '3 to 5', 'more than 5']\n",
    "AddressChange_Claim = ['no change', 'under 6 months', '1 year', '2 to 3 years', '4 to 8 years']\n",
    "NumberOfCars = ['1 vehicle', '2 vehicles', '3 to 4', '5 to 8', 'more than 9']\n",
    "BasePolicy = ['Liability', 'Collision', 'All Perils']"
   ]
  },
  {
   "cell_type": "code",
   "execution_count": 33,
   "id": "9676e2bb-2aec-45bf-b1d0-c293ca0f0aa7",
   "metadata": {},
   "outputs": [],
   "source": [
    "# Aplicamos el codificador OrdinalEncoder a las variables categóricas ordinales y nominales\n",
    "\n",
    "from sklearn.preprocessing import OrdinalEncoder\n",
    "\n",
    "oe = OrdinalEncoder(categories = [Month,\n",
    "                                  DayOfWeek,\n",
    "                                  Make,\n",
    "                                  AccidentArea,\n",
    "                                  DayOfWeekClaimed,\n",
    "                                  MonthClaimed,\n",
    "                                  Sex,\n",
    "                                  MaritalStatus,\n",
    "                                  Fault,\n",
    "                                  PolicyType,\n",
    "                                  VehicleCategory,\n",
    "                                  VehiclePrice,\n",
    "                                  Days_Policy_Accident,\n",
    "                                  Days_Policy_Claim,\n",
    "                                  PastNumberOfClaims,\n",
    "                                  AgeOfVehicle,\n",
    "                                  AgeOfPolicyHolder,\n",
    "                                  PoliceReportFiled,\n",
    "                                  WitnessPresent,\n",
    "                                  AgentType,\n",
    "                                  NumberOfSuppliments,\n",
    "                                  AddressChange_Claim,\n",
    "                                  NumberOfCars,\n",
    "                                  BasePolicy],\n",
    "                    handle_unknown='use_encoded_value', unknown_value=-1)"
   ]
  },
  {
   "cell_type": "markdown",
   "id": "eafe7d3f-9091-4fc5-8909-519f16f91eb2",
   "metadata": {},
   "source": [
    "### 2.6 Escalamiento de Variables"
   ]
  },
  {
   "cell_type": "code",
   "execution_count": 34,
   "id": "494c4bed-b949-411c-bee0-889855e44eee",
   "metadata": {},
   "outputs": [],
   "source": [
    "# Estandarizamos los datos númericos utilizando StandardScaler\n",
    "\n",
    "from sklearn.preprocessing import StandardScaler\n",
    "\n",
    "scaler = StandardScaler()"
   ]
  },
  {
   "cell_type": "markdown",
   "id": "7ece08f9-6d62-4507-8b22-35291dd77bb2",
   "metadata": {},
   "source": [
    "### 2.7 Sesgo / Asimetría"
   ]
  },
  {
   "cell_type": "code",
   "execution_count": 35,
   "id": "51806ac6-a904-47e1-9b03-303ce681f95c",
   "metadata": {},
   "outputs": [
    {
     "data": {
      "text/plain": [
       "Age         0.73\n",
       "ClaimSize   1.19\n",
       "dtype: float64"
      ]
     },
     "execution_count": 35,
     "metadata": {},
     "output_type": "execute_result"
    }
   ],
   "source": [
    "# Calculamos el sesgo o asimietría de las variables numericas NO categóricas\n",
    "# Inclinación positiva (derecha) o negativa (izquierda)\n",
    "# Los valores más cercanos a cero tienen menos sesgo\n",
    "\n",
    "car_fraud[['Age', 'ClaimSize']].skew()"
   ]
  },
  {
   "cell_type": "code",
   "execution_count": 36,
   "id": "c19c8606-bd66-4afd-a3a9-38dcece38511",
   "metadata": {},
   "outputs": [],
   "source": [
    "# Aplicamos la transformación de Box-Cox o Yeo-Johnson a los atributos con sesgo\n",
    "# box-cox (valores positivos)\n",
    "# yeo-johnson (valores negativos)\n",
    "\n",
    "from sklearn.preprocessing import PowerTransformer\n",
    "\n",
    "pt = PowerTransformer(method='box-cox', standardize=True)"
   ]
  },
  {
   "cell_type": "markdown",
   "id": "c5ef1fb7-092e-4394-8728-57ca32a1d453",
   "metadata": {},
   "source": [
    "### 2.8 Transformación de Columnas"
   ]
  },
  {
   "cell_type": "code",
   "execution_count": 37,
   "id": "bdc23d35-f101-424f-ad26-660f4f49bb39",
   "metadata": {},
   "outputs": [],
   "source": [
    "# Aplicamos el transformador make_column_transformer\n",
    "\n",
    "from sklearn.compose import make_column_transformer\n",
    "\n",
    "ct = make_column_transformer(\n",
    "    (oe, ['Month',\n",
    "          'DayOfWeek',\n",
    "          'Make',\n",
    "          'AccidentArea',\n",
    "          'DayOfWeekClaimed',\n",
    "          'MonthClaimed',\n",
    "          'Sex',\n",
    "          'MaritalStatus',\n",
    "          'Fault',\n",
    "          'PolicyType',\n",
    "          'VehicleCategory',\n",
    "          'VehiclePrice',\n",
    "          'Days_Policy_Accident',\n",
    "          'Days_Policy_Claim',\n",
    "          'PastNumberOfClaims',\n",
    "          'AgeOfVehicle',\n",
    "          'AgeOfPolicyHolder',\n",
    "          'PoliceReportFiled',\n",
    "          'WitnessPresent',\n",
    "          'AgentType',\n",
    "          'NumberOfSuppliments',\n",
    "          'AddressChange_Claim',\n",
    "          'NumberOfCars',\n",
    "          'BasePolicy']),\n",
    "    (scaler, ['WeekOfMonth',\n",
    "              'WeekOfMonthClaimed',\n",
    "              'RepNumber',\n",
    "              'Deductible',\n",
    "              'DriverRating',\n",
    "              'Year',]),\n",
    "    (pt, ['Age',\n",
    "          'ClaimSize']),\n",
    "     remainder = 'passthrough')"
   ]
  },
  {
   "cell_type": "code",
   "execution_count": 38,
   "id": "1a92f941-e715-497f-a5f1-c24c10823555",
   "metadata": {},
   "outputs": [
    {
     "data": {
      "text/plain": [
       "(11565, 32)"
      ]
     },
     "execution_count": 38,
     "metadata": {},
     "output_type": "execute_result"
    }
   ],
   "source": [
    "# Ajustamos y transformamos todo el conjunto de datos de X\n",
    "\n",
    "X = pd.DataFrame(ct.fit_transform(X),\n",
    "                       columns = ['Month',\n",
    "                                  'DayOfWeek',\n",
    "                                  'Make',\n",
    "                                  'AccidentArea',\n",
    "                                  'DayOfWeekClaimed',\n",
    "                                  'MonthClaimed',\n",
    "                                  'Sex',\n",
    "                                  'MaritalStatus',\n",
    "                                  'Fault',\n",
    "                                  'PolicyType',\n",
    "                                  'VehicleCategory',\n",
    "                                  'VehiclePrice',\n",
    "                                  'Days_Policy_Accident',\n",
    "                                  'Days_Policy_Claim',\n",
    "                                  'PastNumberOfClaims',\n",
    "                                  'AgeOfVehicle',\n",
    "                                  'AgeOfPolicyHolder',\n",
    "                                  'PoliceReportFiled',\n",
    "                                  'WitnessPresent',\n",
    "                                  'AgentType',\n",
    "                                  'NumberOfSuppliments',\n",
    "                                  'AddressChange_Claim',\n",
    "                                  'NumberOfCars',\n",
    "                                  'BasePolicy',\n",
    "                                  'WeekOfMonth',\n",
    "                                  'WeekOfMonthClaimed',\n",
    "                                  'RepNumber',\n",
    "                                  'Deductible',\n",
    "                                  'DriverRating',\n",
    "                                  'Year',\n",
    "                                  'Age',\n",
    "                                  'ClaimSize'])\n",
    "X.shape"
   ]
  },
  {
   "cell_type": "code",
   "execution_count": 39,
   "id": "dde7dcea-989b-4ebd-8d7d-37e7d468f1f9",
   "metadata": {},
   "outputs": [
    {
     "data": {
      "text/html": [
       "<div>\n",
       "<style scoped>\n",
       "    .dataframe tbody tr th:only-of-type {\n",
       "        vertical-align: middle;\n",
       "    }\n",
       "\n",
       "    .dataframe tbody tr th {\n",
       "        vertical-align: top;\n",
       "    }\n",
       "\n",
       "    .dataframe thead th {\n",
       "        text-align: right;\n",
       "    }\n",
       "</style>\n",
       "<table border=\"1\" class=\"dataframe\">\n",
       "  <thead>\n",
       "    <tr style=\"text-align: right;\">\n",
       "      <th></th>\n",
       "      <th>Month</th>\n",
       "      <th>DayOfWeek</th>\n",
       "      <th>Make</th>\n",
       "      <th>AccidentArea</th>\n",
       "      <th>DayOfWeekClaimed</th>\n",
       "      <th>MonthClaimed</th>\n",
       "      <th>Sex</th>\n",
       "      <th>MaritalStatus</th>\n",
       "      <th>Fault</th>\n",
       "      <th>PolicyType</th>\n",
       "      <th>VehicleCategory</th>\n",
       "      <th>VehiclePrice</th>\n",
       "      <th>Days_Policy_Accident</th>\n",
       "      <th>Days_Policy_Claim</th>\n",
       "      <th>PastNumberOfClaims</th>\n",
       "      <th>AgeOfVehicle</th>\n",
       "      <th>AgeOfPolicyHolder</th>\n",
       "      <th>PoliceReportFiled</th>\n",
       "      <th>WitnessPresent</th>\n",
       "      <th>AgentType</th>\n",
       "      <th>NumberOfSuppliments</th>\n",
       "      <th>AddressChange_Claim</th>\n",
       "      <th>NumberOfCars</th>\n",
       "      <th>BasePolicy</th>\n",
       "      <th>WeekOfMonth</th>\n",
       "      <th>WeekOfMonthClaimed</th>\n",
       "      <th>RepNumber</th>\n",
       "      <th>Deductible</th>\n",
       "      <th>DriverRating</th>\n",
       "      <th>Year</th>\n",
       "      <th>Age</th>\n",
       "      <th>ClaimSize</th>\n",
       "    </tr>\n",
       "  </thead>\n",
       "  <tbody>\n",
       "    <tr>\n",
       "      <th>0</th>\n",
       "      <td>11.00</td>\n",
       "      <td>2.00</td>\n",
       "      <td>6.00</td>\n",
       "      <td>1.00</td>\n",
       "      <td>1.00</td>\n",
       "      <td>0.00</td>\n",
       "      <td>1.00</td>\n",
       "      <td>0.00</td>\n",
       "      <td>0.00</td>\n",
       "      <td>0.00</td>\n",
       "      <td>0.00</td>\n",
       "      <td>5.00</td>\n",
       "      <td>4.00</td>\n",
       "      <td>3.00</td>\n",
       "      <td>0.00</td>\n",
       "      <td>2.00</td>\n",
       "      <td>3.00</td>\n",
       "      <td>0.00</td>\n",
       "      <td>0.00</td>\n",
       "      <td>0.00</td>\n",
       "      <td>0.00</td>\n",
       "      <td>2.00</td>\n",
       "      <td>2.00</td>\n",
       "      <td>0.00</td>\n",
       "      <td>1.72</td>\n",
       "      <td>-1.35</td>\n",
       "      <td>0.76</td>\n",
       "      <td>-2.48</td>\n",
       "      <td>-1.34</td>\n",
       "      <td>-1.08</td>\n",
       "      <td>-2.19</td>\n",
       "      <td>1.26</td>\n",
       "    </tr>\n",
       "    <tr>\n",
       "      <th>1</th>\n",
       "      <td>0.00</td>\n",
       "      <td>2.00</td>\n",
       "      <td>6.00</td>\n",
       "      <td>1.00</td>\n",
       "      <td>0.00</td>\n",
       "      <td>0.00</td>\n",
       "      <td>0.00</td>\n",
       "      <td>0.00</td>\n",
       "      <td>0.00</td>\n",
       "      <td>1.00</td>\n",
       "      <td>0.00</td>\n",
       "      <td>5.00</td>\n",
       "      <td>4.00</td>\n",
       "      <td>3.00</td>\n",
       "      <td>0.00</td>\n",
       "      <td>5.00</td>\n",
       "      <td>4.00</td>\n",
       "      <td>1.00</td>\n",
       "      <td>0.00</td>\n",
       "      <td>0.00</td>\n",
       "      <td>0.00</td>\n",
       "      <td>0.00</td>\n",
       "      <td>0.00</td>\n",
       "      <td>1.00</td>\n",
       "      <td>0.17</td>\n",
       "      <td>1.03</td>\n",
       "      <td>1.41</td>\n",
       "      <td>-0.18</td>\n",
       "      <td>1.35</td>\n",
       "      <td>-1.08</td>\n",
       "      <td>-0.45</td>\n",
       "      <td>1.30</td>\n",
       "    </tr>\n",
       "    <tr>\n",
       "      <th>2</th>\n",
       "      <td>9.00</td>\n",
       "      <td>4.00</td>\n",
       "      <td>6.00</td>\n",
       "      <td>1.00</td>\n",
       "      <td>3.00</td>\n",
       "      <td>10.00</td>\n",
       "      <td>0.00</td>\n",
       "      <td>1.00</td>\n",
       "      <td>0.00</td>\n",
       "      <td>1.00</td>\n",
       "      <td>0.00</td>\n",
       "      <td>5.00</td>\n",
       "      <td>4.00</td>\n",
       "      <td>3.00</td>\n",
       "      <td>1.00</td>\n",
       "      <td>6.00</td>\n",
       "      <td>6.00</td>\n",
       "      <td>0.00</td>\n",
       "      <td>0.00</td>\n",
       "      <td>0.00</td>\n",
       "      <td>0.00</td>\n",
       "      <td>0.00</td>\n",
       "      <td>0.00</td>\n",
       "      <td>1.00</td>\n",
       "      <td>1.72</td>\n",
       "      <td>-0.56</td>\n",
       "      <td>-0.32</td>\n",
       "      <td>-0.18</td>\n",
       "      <td>0.45</td>\n",
       "      <td>-1.08</td>\n",
       "      <td>0.65</td>\n",
       "      <td>1.43</td>\n",
       "    </tr>\n",
       "    <tr>\n",
       "      <th>3</th>\n",
       "      <td>5.00</td>\n",
       "      <td>5.00</td>\n",
       "      <td>17.00</td>\n",
       "      <td>0.00</td>\n",
       "      <td>4.00</td>\n",
       "      <td>6.00</td>\n",
       "      <td>0.00</td>\n",
       "      <td>1.00</td>\n",
       "      <td>1.00</td>\n",
       "      <td>2.00</td>\n",
       "      <td>0.00</td>\n",
       "      <td>1.00</td>\n",
       "      <td>4.00</td>\n",
       "      <td>3.00</td>\n",
       "      <td>1.00</td>\n",
       "      <td>7.00</td>\n",
       "      <td>7.00</td>\n",
       "      <td>1.00</td>\n",
       "      <td>0.00</td>\n",
       "      <td>0.00</td>\n",
       "      <td>3.00</td>\n",
       "      <td>0.00</td>\n",
       "      <td>0.00</td>\n",
       "      <td>0.00</td>\n",
       "      <td>-0.61</td>\n",
       "      <td>-1.35</td>\n",
       "      <td>-0.97</td>\n",
       "      <td>-0.18</td>\n",
       "      <td>-0.44</td>\n",
       "      <td>-1.08</td>\n",
       "      <td>1.70</td>\n",
       "      <td>-0.22</td>\n",
       "    </tr>\n",
       "    <tr>\n",
       "      <th>4</th>\n",
       "      <td>1.00</td>\n",
       "      <td>5.00</td>\n",
       "      <td>6.00</td>\n",
       "      <td>1.00</td>\n",
       "      <td>0.00</td>\n",
       "      <td>1.00</td>\n",
       "      <td>0.00</td>\n",
       "      <td>1.00</td>\n",
       "      <td>1.00</td>\n",
       "      <td>1.00</td>\n",
       "      <td>0.00</td>\n",
       "      <td>5.00</td>\n",
       "      <td>4.00</td>\n",
       "      <td>3.00</td>\n",
       "      <td>1.00</td>\n",
       "      <td>6.00</td>\n",
       "      <td>5.00</td>\n",
       "      <td>0.00</td>\n",
       "      <td>0.00</td>\n",
       "      <td>0.00</td>\n",
       "      <td>1.00</td>\n",
       "      <td>0.00</td>\n",
       "      <td>0.00</td>\n",
       "      <td>1.00</td>\n",
       "      <td>-1.39</td>\n",
       "      <td>0.24</td>\n",
       "      <td>1.20</td>\n",
       "      <td>-0.18</td>\n",
       "      <td>-1.34</td>\n",
       "      <td>-1.08</td>\n",
       "      <td>-0.25</td>\n",
       "      <td>1.65</td>\n",
       "    </tr>\n",
       "  </tbody>\n",
       "</table>\n",
       "</div>"
      ],
      "text/plain": [
       "   Month  DayOfWeek  Make  AccidentArea  DayOfWeekClaimed  MonthClaimed  Sex  \\\n",
       "0  11.00       2.00  6.00          1.00              1.00          0.00 1.00   \n",
       "1   0.00       2.00  6.00          1.00              0.00          0.00 0.00   \n",
       "2   9.00       4.00  6.00          1.00              3.00         10.00 0.00   \n",
       "3   5.00       5.00 17.00          0.00              4.00          6.00 0.00   \n",
       "4   1.00       5.00  6.00          1.00              0.00          1.00 0.00   \n",
       "\n",
       "   MaritalStatus  Fault  PolicyType  VehicleCategory  VehiclePrice  \\\n",
       "0           0.00   0.00        0.00             0.00          5.00   \n",
       "1           0.00   0.00        1.00             0.00          5.00   \n",
       "2           1.00   0.00        1.00             0.00          5.00   \n",
       "3           1.00   1.00        2.00             0.00          1.00   \n",
       "4           1.00   1.00        1.00             0.00          5.00   \n",
       "\n",
       "   Days_Policy_Accident  Days_Policy_Claim  PastNumberOfClaims  AgeOfVehicle  \\\n",
       "0                  4.00               3.00                0.00          2.00   \n",
       "1                  4.00               3.00                0.00          5.00   \n",
       "2                  4.00               3.00                1.00          6.00   \n",
       "3                  4.00               3.00                1.00          7.00   \n",
       "4                  4.00               3.00                1.00          6.00   \n",
       "\n",
       "   AgeOfPolicyHolder  PoliceReportFiled  WitnessPresent  AgentType  \\\n",
       "0               3.00               0.00            0.00       0.00   \n",
       "1               4.00               1.00            0.00       0.00   \n",
       "2               6.00               0.00            0.00       0.00   \n",
       "3               7.00               1.00            0.00       0.00   \n",
       "4               5.00               0.00            0.00       0.00   \n",
       "\n",
       "   NumberOfSuppliments  AddressChange_Claim  NumberOfCars  BasePolicy  \\\n",
       "0                 0.00                 2.00          2.00        0.00   \n",
       "1                 0.00                 0.00          0.00        1.00   \n",
       "2                 0.00                 0.00          0.00        1.00   \n",
       "3                 3.00                 0.00          0.00        0.00   \n",
       "4                 1.00                 0.00          0.00        1.00   \n",
       "\n",
       "   WeekOfMonth  WeekOfMonthClaimed  RepNumber  Deductible  DriverRating  Year  \\\n",
       "0         1.72               -1.35       0.76       -2.48         -1.34 -1.08   \n",
       "1         0.17                1.03       1.41       -0.18          1.35 -1.08   \n",
       "2         1.72               -0.56      -0.32       -0.18          0.45 -1.08   \n",
       "3        -0.61               -1.35      -0.97       -0.18         -0.44 -1.08   \n",
       "4        -1.39                0.24       1.20       -0.18         -1.34 -1.08   \n",
       "\n",
       "    Age  ClaimSize  \n",
       "0 -2.19       1.26  \n",
       "1 -0.45       1.30  \n",
       "2  0.65       1.43  \n",
       "3  1.70      -0.22  \n",
       "4 -0.25       1.65  "
      ]
     },
     "execution_count": 39,
     "metadata": {},
     "output_type": "execute_result"
    }
   ],
   "source": [
    "# Mostramos un encabezado de los datos\n",
    "\n",
    "X.head().round(2)"
   ]
  },
  {
   "cell_type": "markdown",
   "id": "7ff91589-3aea-46b2-bc57-fb06999fc6ef",
   "metadata": {},
   "source": [
    "### 2.9 Sobre muestreo de los datos"
   ]
  },
  {
   "cell_type": "code",
   "execution_count": 40,
   "id": "dcf996fe-a2c3-4f2d-b903-cb727bc29ce5",
   "metadata": {},
   "outputs": [
    {
     "name": "stdout",
     "output_type": "stream",
     "text": [
      "X: (21760, 32)\n",
      "y: (21760,)\n"
     ]
    }
   ],
   "source": [
    "# Aplicamos sobre muestreo para balancear la clase usando SMOTE\n",
    "\n",
    "#pip install imbalanced-learn\n",
    "\n",
    "from imblearn.over_sampling import SMOTE\n",
    "\n",
    "smote = SMOTE(random_state=7)\n",
    "X, y = smote.fit_resample(X, y)\n",
    "\n",
    "# Validamos el número de filas y columnas\n",
    "print(f\"X: {X.shape}\")\n",
    "print(f\"y: {y.shape}\")"
   ]
  },
  {
   "cell_type": "markdown",
   "id": "311b89a7-7256-4216-8b8d-066456504f69",
   "metadata": {},
   "source": [
    "### 3.3 Reducción de la Dimensionalidad"
   ]
  },
  {
   "cell_type": "code",
   "execution_count": 41,
   "id": "082fb5ff-3d64-4605-a442-cd779f888928",
   "metadata": {},
   "outputs": [
    {
     "name": "stdout",
     "output_type": "stream",
     "text": [
      "Explained Variance: [0.38734662 0.26710252 0.05531522 0.04957243 0.03089106 0.02943655\n",
      " 0.02478591 0.0204299  0.01679259 0.01441101 0.01377159 0.01181576\n",
      " 0.01152447 0.01122732 0.01087215]\n",
      "Sum Explained Variance: 0.955295100360319\n"
     ]
    },
    {
     "data": {
      "text/plain": [
       "(21760, 15)"
      ]
     },
     "execution_count": 41,
     "metadata": {},
     "output_type": "execute_result"
    }
   ],
   "source": [
    "# Reducimos dimensiones aplicando Análisis de Componentes Principales (PCA)\n",
    "\n",
    "from sklearn.decomposition import PCA\n",
    "\n",
    "pca = PCA(n_components=15)\n",
    "X_pc = pca.fit_transform(X)\n",
    "\n",
    "print(f\"Explained Variance: {pca.explained_variance_ratio_}\")\n",
    "print(f\"Sum Explained Variance: {pca.explained_variance_ratio_.sum()}\")\n",
    "#print(f\"Components: {pca.components_}\")\n",
    "\n",
    "X_pc = pd.DataFrame(data=X_pc,\n",
    "                 columns=['PC1',\n",
    "                          'PC2',\n",
    "                          'PC3',\n",
    "                          'PC4',\n",
    "                          'PC5',\n",
    "                          'PC6',\n",
    "                          'PC7',\n",
    "                          'PC8',\n",
    "                          'PC9',\n",
    "                          'PC10',\n",
    "                          'PC11',\n",
    "                          'PC12',\n",
    "                          'PC13',\n",
    "                          'PC14',\n",
    "                          'PC15'])\n",
    "X_pc.shape"
   ]
  },
  {
   "cell_type": "code",
   "execution_count": 42,
   "id": "2ac4bd6a-5430-494d-b610-2b9da7ea9cde",
   "metadata": {},
   "outputs": [
    {
     "data": {
      "text/html": [
       "<div>\n",
       "<style scoped>\n",
       "    .dataframe tbody tr th:only-of-type {\n",
       "        vertical-align: middle;\n",
       "    }\n",
       "\n",
       "    .dataframe tbody tr th {\n",
       "        vertical-align: top;\n",
       "    }\n",
       "\n",
       "    .dataframe thead th {\n",
       "        text-align: right;\n",
       "    }\n",
       "</style>\n",
       "<table border=\"1\" class=\"dataframe\">\n",
       "  <thead>\n",
       "    <tr style=\"text-align: right;\">\n",
       "      <th></th>\n",
       "      <th>PC1</th>\n",
       "      <th>PC2</th>\n",
       "      <th>PC3</th>\n",
       "      <th>PC4</th>\n",
       "      <th>PC5</th>\n",
       "      <th>PC6</th>\n",
       "      <th>PC7</th>\n",
       "      <th>PC8</th>\n",
       "      <th>PC9</th>\n",
       "      <th>PC10</th>\n",
       "      <th>PC11</th>\n",
       "      <th>PC12</th>\n",
       "      <th>PC13</th>\n",
       "      <th>PC14</th>\n",
       "      <th>PC15</th>\n",
       "    </tr>\n",
       "  </thead>\n",
       "  <tbody>\n",
       "    <tr>\n",
       "      <th>0</th>\n",
       "      <td>4.24</td>\n",
       "      <td>0.47</td>\n",
       "      <td>5.16</td>\n",
       "      <td>2.26</td>\n",
       "      <td>2.79</td>\n",
       "      <td>7.22</td>\n",
       "      <td>1.35</td>\n",
       "      <td>-2.08</td>\n",
       "      <td>-2.55</td>\n",
       "      <td>-0.54</td>\n",
       "      <td>-1.24</td>\n",
       "      <td>-1.59</td>\n",
       "      <td>1.78</td>\n",
       "      <td>0.44</td>\n",
       "      <td>0.51</td>\n",
       "    </tr>\n",
       "    <tr>\n",
       "      <th>1</th>\n",
       "      <td>4.48</td>\n",
       "      <td>-7.28</td>\n",
       "      <td>1.67</td>\n",
       "      <td>1.31</td>\n",
       "      <td>2.14</td>\n",
       "      <td>0.17</td>\n",
       "      <td>-1.89</td>\n",
       "      <td>-0.19</td>\n",
       "      <td>-2.14</td>\n",
       "      <td>0.73</td>\n",
       "      <td>-0.02</td>\n",
       "      <td>-2.47</td>\n",
       "      <td>-0.69</td>\n",
       "      <td>0.37</td>\n",
       "      <td>-0.11</td>\n",
       "    </tr>\n",
       "    <tr>\n",
       "      <th>2</th>\n",
       "      <td>3.94</td>\n",
       "      <td>6.13</td>\n",
       "      <td>0.06</td>\n",
       "      <td>-0.99</td>\n",
       "      <td>3.09</td>\n",
       "      <td>-1.48</td>\n",
       "      <td>0.95</td>\n",
       "      <td>-0.35</td>\n",
       "      <td>-2.92</td>\n",
       "      <td>0.36</td>\n",
       "      <td>-0.70</td>\n",
       "      <td>-1.36</td>\n",
       "      <td>0.14</td>\n",
       "      <td>-1.12</td>\n",
       "      <td>0.01</td>\n",
       "    </tr>\n",
       "    <tr>\n",
       "      <th>3</th>\n",
       "      <td>-7.37</td>\n",
       "      <td>0.20</td>\n",
       "      <td>-2.31</td>\n",
       "      <td>-2.60</td>\n",
       "      <td>1.03</td>\n",
       "      <td>-1.55</td>\n",
       "      <td>1.84</td>\n",
       "      <td>-1.83</td>\n",
       "      <td>-0.55</td>\n",
       "      <td>-1.86</td>\n",
       "      <td>-0.28</td>\n",
       "      <td>-0.63</td>\n",
       "      <td>0.38</td>\n",
       "      <td>-1.17</td>\n",
       "      <td>0.50</td>\n",
       "    </tr>\n",
       "    <tr>\n",
       "      <th>4</th>\n",
       "      <td>4.36</td>\n",
       "      <td>-5.87</td>\n",
       "      <td>0.95</td>\n",
       "      <td>-2.01</td>\n",
       "      <td>3.06</td>\n",
       "      <td>-0.05</td>\n",
       "      <td>-1.75</td>\n",
       "      <td>-1.09</td>\n",
       "      <td>-1.60</td>\n",
       "      <td>-1.11</td>\n",
       "      <td>0.15</td>\n",
       "      <td>-1.08</td>\n",
       "      <td>1.26</td>\n",
       "      <td>0.94</td>\n",
       "      <td>-0.19</td>\n",
       "    </tr>\n",
       "  </tbody>\n",
       "</table>\n",
       "</div>"
      ],
      "text/plain": [
       "    PC1   PC2   PC3   PC4  PC5   PC6   PC7   PC8   PC9  PC10  PC11  PC12  \\\n",
       "0  4.24  0.47  5.16  2.26 2.79  7.22  1.35 -2.08 -2.55 -0.54 -1.24 -1.59   \n",
       "1  4.48 -7.28  1.67  1.31 2.14  0.17 -1.89 -0.19 -2.14  0.73 -0.02 -2.47   \n",
       "2  3.94  6.13  0.06 -0.99 3.09 -1.48  0.95 -0.35 -2.92  0.36 -0.70 -1.36   \n",
       "3 -7.37  0.20 -2.31 -2.60 1.03 -1.55  1.84 -1.83 -0.55 -1.86 -0.28 -0.63   \n",
       "4  4.36 -5.87  0.95 -2.01 3.06 -0.05 -1.75 -1.09 -1.60 -1.11  0.15 -1.08   \n",
       "\n",
       "   PC13  PC14  PC15  \n",
       "0  1.78  0.44  0.51  \n",
       "1 -0.69  0.37 -0.11  \n",
       "2  0.14 -1.12  0.01  \n",
       "3  0.38 -1.17  0.50  \n",
       "4  1.26  0.94 -0.19  "
      ]
     },
     "execution_count": 42,
     "metadata": {},
     "output_type": "execute_result"
    }
   ],
   "source": [
    "X_pc.head()"
   ]
  },
  {
   "cell_type": "markdown",
   "id": "d570b20e-1b0a-4fa6-9c5d-067fc4a9d079",
   "metadata": {},
   "source": [
    "## 3. Tratamiento de los Datos"
   ]
  },
  {
   "cell_type": "markdown",
   "id": "7a2d39b0-9800-45a8-988a-04bbc5328361",
   "metadata": {},
   "source": [
    "### 3.1 Selección de modelos"
   ]
  },
  {
   "cell_type": "code",
   "execution_count": 54,
   "id": "599f04da-5efa-46d1-a7ea-aee83f998a09",
   "metadata": {},
   "outputs": [
    {
     "name": "stdout",
     "output_type": "stream",
     "text": [
      "Accuracy: 62.89%\n"
     ]
    }
   ],
   "source": [
    "# Calculamos el Accuracy utilizando Cross Validation KFold (regresión) de todo el conjunto de datos X y y\n",
    "\n",
    "from sklearn.model_selection import KFold, cross_val_score\n",
    "from sklearn.linear_model import LogisticRegression\n",
    "\n",
    "kf = KFold(n_splits=5, shuffle=False)\n",
    "lgr = LogisticRegression(max_iter=1000) #,class_weight='balanced'\n",
    "scores = cross_val_score(lgr, X_pc, y, cv=kf, scoring='recall')\n",
    "print(f\"Accuracy: {scores.mean()*100.0:,.2f}%\")"
   ]
  },
  {
   "cell_type": "code",
   "execution_count": 55,
   "id": "fb2e7e3e-6ff6-47c1-b71e-a3ff5a5a0021",
   "metadata": {},
   "outputs": [
    {
     "name": "stdout",
     "output_type": "stream",
     "text": [
      "Accuracy: 68.64%\n"
     ]
    }
   ],
   "source": [
    "# Calculamos el Accuracy utilizando Cross Validation StratifiedKFold (clasificación) de todo el conjunto de datos X y y\n",
    "\n",
    "from sklearn.model_selection import StratifiedKFold\n",
    "\n",
    "skf = StratifiedKFold(n_splits=5, shuffle=False)\n",
    "lgr = LogisticRegression(max_iter=1000) #,class_weight='balanced'\n",
    "scores = cross_val_score(lgr, X_pc, y, cv=skf, scoring='recall')\n",
    "print(f\"Accuracy: {scores.mean()*100.0:,.2f}%\")"
   ]
  },
  {
   "cell_type": "markdown",
   "id": "cdaab678-dd37-4c19-bc23-b814ff450b22",
   "metadata": {},
   "source": [
    "## 4. Modelado"
   ]
  },
  {
   "cell_type": "markdown",
   "id": "3c97b971-7a4e-44a0-bfc9-e0c8998719a2",
   "metadata": {},
   "source": [
    "### 4.1 Lineales"
   ]
  },
  {
   "cell_type": "code",
   "execution_count": 61,
   "id": "86f8aadf-af26-4a47-a9e7-7204c280d88e",
   "metadata": {},
   "outputs": [
    {
     "name": "stdout",
     "output_type": "stream",
     "text": [
      "Accuracy: 48.24%\n"
     ]
    }
   ],
   "source": [
    "# Calculamos el Accuracy utilizando Cross Validation KFold (regresión) de todo el conjunto de datos X y y\n",
    "\n",
    "from sklearn.model_selection import KFold, cross_val_score\n",
    "from sklearn.linear_model import LogisticRegression\n",
    "\n",
    "kf = KFold(n_splits=10, shuffle=False)\n",
    "lgr = LogisticRegression(max_iter=1000) #, class_weight='balanced'\n",
    "scores = cross_val_score(lgr, X_pc, y, cv=kf, scoring='accuracy')\n",
    "print(f\"Accuracy: {scores.mean()*100.0:,.2f}%\")"
   ]
  },
  {
   "cell_type": "markdown",
   "id": "601af197-59c7-4507-b2eb-9cabf43c3073",
   "metadata": {},
   "source": [
    "### 4.2 No Lineales"
   ]
  },
  {
   "cell_type": "code",
   "execution_count": 60,
   "id": "8ed5f126-af24-4e0c-95b6-c18bcdbf347a",
   "metadata": {},
   "outputs": [
    {
     "name": "stdout",
     "output_type": "stream",
     "text": [
      "Accuracy: 82.61%\n"
     ]
    }
   ],
   "source": [
    "# K vecinos más cercanos (KNN)\n",
    "\n",
    "from sklearn.neighbors import KNeighborsClassifier\n",
    "\n",
    "kf = KFold(n_splits=10, shuffle=False)\n",
    "knc = KNeighborsClassifier(n_neighbors=5, algorithm='kd_tree')\n",
    "scores = cross_val_score(knc, X_pc, y, cv=kf, scoring='accuracy')\n",
    "print(f\"Accuracy: {scores.mean()*100.0:,.2f}%\")"
   ]
  },
  {
   "cell_type": "code",
   "execution_count": 62,
   "id": "a5564695-dab5-4fa5-9e48-85d7217e49ba",
   "metadata": {},
   "outputs": [
    {
     "name": "stdout",
     "output_type": "stream",
     "text": [
      "Accuracy: 59.40%\n"
     ]
    }
   ],
   "source": [
    "# Naive Bayes\n",
    "\n",
    "from sklearn.naive_bayes import GaussianNB\n",
    "\n",
    "kf = KFold(n_splits=10, shuffle=False)\n",
    "gnb = GaussianNB()\n",
    "scores = cross_val_score(gnb, X_pc, y, cv=kf, scoring='accuracy')\n",
    "print(f\"Accuracy: {scores.mean()*100.0:,.2f}%\")"
   ]
  },
  {
   "cell_type": "code",
   "execution_count": 91,
   "id": "2cc1ae20-4244-4c62-a996-647fb51c15b6",
   "metadata": {},
   "outputs": [
    {
     "name": "stdout",
     "output_type": "stream",
     "text": [
      "Accuracy: 83.13%\n"
     ]
    }
   ],
   "source": [
    "# Árboles de Decisión (CART)\n",
    "\n",
    "from sklearn.tree import DecisionTreeClassifier\n",
    "\n",
    "kf = KFold(n_splits=10, shuffle=False)\n",
    "dtc = DecisionTreeClassifier(criterion='entropy')\n",
    "scores = cross_val_score(dtc, X_pc, y, cv=kf, scoring='accuracy')\n",
    "print(f\"Accuracy: {scores.mean()*100.0:,.2f}%\")"
   ]
  },
  {
   "cell_type": "code",
   "execution_count": 54,
   "id": "384eebd0-47d2-4933-bf03-d70b5e219d62",
   "metadata": {},
   "outputs": [
    {
     "name": "stdout",
     "output_type": "stream",
     "text": [
      "Accuracy: 94.08%\n"
     ]
    }
   ],
   "source": [
    "# Máquina de Soporte Vectorial (SVM)\n",
    "\n",
    "from sklearn.svm import SVC\n",
    "\n",
    "kf = KFold(n_splits=10, shuffle=False)\n",
    "svc = SVC()\n",
    "scores = cross_val_score(svc, X_pc, y, cv=kf, scoring='accuracy')\n",
    "print(f\"Accuracy: {scores.mean()*100.0:,.2f}%\")"
   ]
  },
  {
   "cell_type": "markdown",
   "id": "215344c9-320c-41db-b534-e8eaee26256d",
   "metadata": {},
   "source": [
    "### 4.3 Evaluación de modelos"
   ]
  },
  {
   "cell_type": "code",
   "execution_count": 56,
   "id": "a39b0d8d-76c5-4432-9c5f-e3514cf72484",
   "metadata": {},
   "outputs": [
    {
     "name": "stdout",
     "output_type": "stream",
     "text": [
      "LoR: 94.08% (0.81%)\n",
      "k-NN: 93.71% (0.95%)\n",
      "NB: 91.83% (1.47%)\n",
      "CART: 88.58% (1.40%)\n",
      "SVM: 94.08% (0.81%)\n"
     ]
    }
   ],
   "source": [
    "# Obtenemos la media y la desviación estandar del Accuracy por cada uno de los modelos\n",
    "\n",
    "models = []\n",
    "models.append(('LoR', LogisticRegression(max_iter=1000)))\n",
    "models.append(('k-NN', KNeighborsClassifier(n_neighbors=5, algorithm='kd_tree')))\n",
    "models.append(('NB', GaussianNB()))\n",
    "models.append(('CART', DecisionTreeClassifier(criterion='entropy')))\n",
    "models.append(('SVM', SVC()))\n",
    "\n",
    "scores = []\n",
    "names = []\n",
    "for name, model in models:\n",
    "    kf = KFold(n_splits=10, shuffle=False)\n",
    "    cvs = cross_val_score(model, X_pc, y, cv=kf, scoring='accuracy')\n",
    "    scores.append(name)\n",
    "    print(f\"{name}: {cvs.mean()*100.0:,.2f}% ({cvs.std()*100.0:,.2f}%)\")"
   ]
  },
  {
   "cell_type": "raw",
   "id": "19f92be0-3134-4646-8139-41e4620a8620",
   "metadata": {},
   "source": [
    "# Graficamos la media y la desviación estandar del Accuracy por cada uno de los modelos\n",
    "\n",
    "fig = plt.figure()\n",
    "fig.suptitle(\"Evaluación de Modelos\")\n",
    "ax = fig.add_subplot(111)\n",
    "plt.boxplot(scores)\n",
    "ax.set_xticklabels(names)\n",
    "plt.show()"
   ]
  },
  {
   "cell_type": "raw",
   "id": "7e692bae-752d-4cd4-bbd4-da9bed2bd769",
   "metadata": {},
   "source": [
    "plt.figure(figsize=(8,6))\n",
    "sns.boxplot(x=names, y=scores)"
   ]
  },
  {
   "cell_type": "markdown",
   "id": "48d8d9b1-f762-498e-9f30-026476295831",
   "metadata": {},
   "source": [
    "### 4.4 Ensamble Bagging"
   ]
  },
  {
   "cell_type": "code",
   "execution_count": 90,
   "id": "f8ebd4df-d3f4-4c03-b694-d64d56536cd0",
   "metadata": {},
   "outputs": [
    {
     "name": "stdout",
     "output_type": "stream",
     "text": [
      "Accuracy: 77.04% (12.78%)\n"
     ]
    }
   ],
   "source": [
    "# Bagged Decision Trees\n",
    "\n",
    "from sklearn.ensemble import BaggingClassifier\n",
    "from sklearn.tree import DecisionTreeClassifier\n",
    "\n",
    "seed = 7\n",
    "trees = 10\n",
    "kf = KFold(n_splits=5, shuffle=False)\n",
    "dtc = DecisionTreeClassifier(criterion='entropy')\n",
    "bc = BaggingClassifier(base_estimator=dtc, n_estimators=trees, random_state=seed)\n",
    "scores = cross_val_score(bc, X_pc, y, cv=kf, scoring='accuracy')\n",
    "print(f\"Accuracy: {scores.mean()*100.0:,.2f}% ({scores.std()*100.0:,.2f}%)\")"
   ]
  },
  {
   "cell_type": "code",
   "execution_count": 92,
   "id": "feb90444-d0be-4f2f-9337-72710d7806f4",
   "metadata": {},
   "outputs": [
    {
     "name": "stdout",
     "output_type": "stream",
     "text": [
      "Accuracy: 78.89% (9.19%)\n"
     ]
    }
   ],
   "source": [
    "# Random Forest\n",
    "\n",
    "from sklearn.ensemble import RandomForestClassifier\n",
    "\n",
    "seed = 7\n",
    "trees = 10\n",
    "features = 3\n",
    "kf = KFold(n_splits=5, shuffle=False)\n",
    "rfc = RandomForestClassifier(n_estimators=trees, max_features=features, random_state=seed)\n",
    "scores = cross_val_score(rfc, X_pc, y, cv=kf, scoring='accuracy')\n",
    "print(f\"Accuracy: {scores.mean()*100.0:,.2f}% ({scores.std()*100.0:,.2f}%)\")"
   ]
  },
  {
   "cell_type": "code",
   "execution_count": 93,
   "id": "c1439fca-a378-4d54-b7b9-72be82f9456d",
   "metadata": {},
   "outputs": [
    {
     "name": "stdout",
     "output_type": "stream",
     "text": [
      "Accuracy: 84.11% (7.63%)\n"
     ]
    }
   ],
   "source": [
    "# Extra Trees\n",
    "\n",
    "from sklearn.ensemble import ExtraTreesClassifier\n",
    "\n",
    "seed = 7\n",
    "trees = 10\n",
    "features = 3\n",
    "kf = KFold(n_splits=5, shuffle=False)\n",
    "et = ExtraTreesClassifier(n_estimators=trees, max_features=features, random_state=seed)\n",
    "scores = cross_val_score(et, X_pc, y, cv=kf, scoring='accuracy')\n",
    "print(f\"Accuracy: {scores.mean()*100.0:,.2f}% ({scores.std()*100.0:,.2f}%)\")"
   ]
  },
  {
   "cell_type": "markdown",
   "id": "ae10fa2c-642c-4f9f-842c-fec36c4b06f7",
   "metadata": {},
   "source": [
    "### 4.5 Ensamble Boosting"
   ]
  },
  {
   "cell_type": "code",
   "execution_count": 96,
   "id": "6057feb2-d6ce-4a7c-b414-b7eab40e56d1",
   "metadata": {},
   "outputs": [
    {
     "name": "stdout",
     "output_type": "stream",
     "text": [
      "Accuracy: 51.11% (9.91%)\n"
     ]
    }
   ],
   "source": [
    "# AdaBoost\n",
    "\n",
    "from sklearn.ensemble import AdaBoostClassifier\n",
    "\n",
    "seed = 7\n",
    "trees = 10\n",
    "kf = KFold(n_splits=5, shuffle=False)\n",
    "ab = AdaBoostClassifier(n_estimators=trees, random_state=seed)\n",
    "scores = cross_val_score(ab, X_pc, y, cv=kf, scoring='accuracy')\n",
    "print(f\"Accuracy: {scores.mean()*100.0:,.2f}% ({scores.std()*100.0:,.2f}%)\")"
   ]
  },
  {
   "cell_type": "code",
   "execution_count": 97,
   "id": "e783e8fd-191b-44b4-9acb-c45ed2b2b587",
   "metadata": {},
   "outputs": [
    {
     "name": "stdout",
     "output_type": "stream",
     "text": [
      "Accuracy: 26.56% (21.24%)\n"
     ]
    }
   ],
   "source": [
    "# Gradient Boosting Machine (GBM)\n",
    "\n",
    "from sklearn.ensemble import GradientBoostingClassifier\n",
    "\n",
    "seed = 7\n",
    "trees = 10\n",
    "kf = KFold(n_splits=5, shuffle=False)\n",
    "gbc = GradientBoostingClassifier(n_estimators=trees, random_state=seed)\n",
    "scores = cross_val_score(gbc, X_pc, y, cv=kf, scoring='accuracy')\n",
    "print(f\"Accuracy: {scores.mean()*100.0:,.2f}% ({scores.std()*100.0:,.2f}%)\")"
   ]
  },
  {
   "cell_type": "code",
   "execution_count": 101,
   "id": "9584decc-5f91-4096-abae-dfc02c3c30d7",
   "metadata": {},
   "outputs": [
    {
     "name": "stdout",
     "output_type": "stream",
     "text": [
      "Accuracy: 67.31% (23.31%)\n"
     ]
    }
   ],
   "source": [
    "# Voting\n",
    "\n",
    "from sklearn.ensemble import VotingClassifier\n",
    "\n",
    "kf = KFold(n_splits=5, shuffle=False)\n",
    "\n",
    "lg = LogisticRegression(max_iter=1000)\n",
    "knc = KNeighborsClassifier(n_neighbors=5, algorithm='kd_tree')\n",
    "gnb = GaussianNB()\n",
    "\n",
    "vc = VotingClassifier([('clf1', lg), ('clf2', knc), ('clf3', gnb)], voting='soft')\n",
    "\n",
    "\n",
    "scores = cross_val_score(vc, X_pc, y, cv=kf, scoring='accuracy')\n",
    "print(f\"Accuracy: {scores.mean()*100.0:,.2f}% ({scores.std()*100.0:,.2f}%)\")"
   ]
  }
 ],
 "metadata": {
  "kernelspec": {
   "display_name": "Python 3 (ipykernel)",
   "language": "python",
   "name": "python3"
  },
  "language_info": {
   "codemirror_mode": {
    "name": "ipython",
    "version": 3
   },
   "file_extension": ".py",
   "mimetype": "text/x-python",
   "name": "python",
   "nbconvert_exporter": "python",
   "pygments_lexer": "ipython3",
   "version": "3.9.12"
  }
 },
 "nbformat": 4,
 "nbformat_minor": 5
}
