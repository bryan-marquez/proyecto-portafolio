{
 "cells": [
  {
   "cell_type": "markdown",
   "id": "5015903c-f4ac-4c05-8e52-3e97d7337aab",
   "metadata": {},
   "source": [
    "# Análisis de Datos de Fraude en Seguros de Auto"
   ]
  },
  {
   "cell_type": "markdown",
   "id": "341b6b38-e37d-468d-a400-e359b31e6cda",
   "metadata": {},
   "source": [
    "## 2. Procesamiento de los Datos"
   ]
  },
  {
   "cell_type": "markdown",
   "id": "d72285b0-996e-4941-84bd-1ddfbd6dc343",
   "metadata": {},
   "source": [
    "### 2.1 Carga de Librerías"
   ]
  },
  {
   "cell_type": "code",
   "execution_count": 136,
   "id": "9cdc0a29-b4cf-494b-aec9-a0aad98f7bef",
   "metadata": {},
   "outputs": [],
   "source": [
    "# Cargamos las librerías a utilizar\n",
    "import pandas as pd\n",
    "import seaborn as sns\n",
    "import numpy as np\n",
    "import matplotlib.pyplot as plt\n",
    "\n",
    "# Para mostrar todas las columnas\n",
    "pd.set_option('display.max_columns', None)\n",
    "\n",
    "# Para mostar las cifras en formato float\n",
    "pd.options.display.float_format = '{:.2f}'.format"
   ]
  },
  {
   "cell_type": "markdown",
   "id": "13baf395-3e67-4535-8fdf-1b1448de1379",
   "metadata": {},
   "source": [
    "### 2.2 Carga de Datos"
   ]
  },
  {
   "cell_type": "code",
   "execution_count": 137,
   "id": "ee93ac54-d041-46b3-ab86-9665e0de3333",
   "metadata": {},
   "outputs": [
    {
     "data": {
      "text/html": [
       "<div>\n",
       "<style scoped>\n",
       "    .dataframe tbody tr th:only-of-type {\n",
       "        vertical-align: middle;\n",
       "    }\n",
       "\n",
       "    .dataframe tbody tr th {\n",
       "        vertical-align: top;\n",
       "    }\n",
       "\n",
       "    .dataframe thead th {\n",
       "        text-align: right;\n",
       "    }\n",
       "</style>\n",
       "<table border=\"1\" class=\"dataframe\">\n",
       "  <thead>\n",
       "    <tr style=\"text-align: right;\">\n",
       "      <th></th>\n",
       "      <th>Month</th>\n",
       "      <th>WeekOfMonth</th>\n",
       "      <th>DayOfWeek</th>\n",
       "      <th>Make</th>\n",
       "      <th>AccidentArea</th>\n",
       "      <th>DayOfWeekClaimed</th>\n",
       "      <th>MonthClaimed</th>\n",
       "      <th>WeekOfMonthClaimed</th>\n",
       "      <th>Sex</th>\n",
       "      <th>MaritalStatus</th>\n",
       "      <th>Age</th>\n",
       "      <th>Fault</th>\n",
       "      <th>PolicyType</th>\n",
       "      <th>VehicleCategory</th>\n",
       "      <th>VehiclePrice</th>\n",
       "      <th>FraudFound_P</th>\n",
       "      <th>PolicyNumber</th>\n",
       "      <th>RepNumber</th>\n",
       "      <th>Deductible</th>\n",
       "      <th>DriverRating</th>\n",
       "      <th>Days_Policy_Accident</th>\n",
       "      <th>Days_Policy_Claim</th>\n",
       "      <th>PastNumberOfClaims</th>\n",
       "      <th>AgeOfVehicle</th>\n",
       "      <th>AgeOfPolicyHolder</th>\n",
       "      <th>PoliceReportFiled</th>\n",
       "      <th>WitnessPresent</th>\n",
       "      <th>AgentType</th>\n",
       "      <th>NumberOfSuppliments</th>\n",
       "      <th>AddressChange_Claim</th>\n",
       "      <th>NumberOfCars</th>\n",
       "      <th>Year</th>\n",
       "      <th>BasePolicy</th>\n",
       "      <th>ClaimSize</th>\n",
       "    </tr>\n",
       "  </thead>\n",
       "  <tbody>\n",
       "    <tr>\n",
       "      <th>0</th>\n",
       "      <td>Dec</td>\n",
       "      <td>5</td>\n",
       "      <td>Wednesday</td>\n",
       "      <td>Honda</td>\n",
       "      <td>Urban</td>\n",
       "      <td>Tuesday</td>\n",
       "      <td>Jan</td>\n",
       "      <td>1</td>\n",
       "      <td>Female</td>\n",
       "      <td>Single</td>\n",
       "      <td>21.00</td>\n",
       "      <td>Policy Holder</td>\n",
       "      <td>Sport - Liability</td>\n",
       "      <td>Sport</td>\n",
       "      <td>more than 69000</td>\n",
       "      <td>0</td>\n",
       "      <td>1</td>\n",
       "      <td>12</td>\n",
       "      <td>300</td>\n",
       "      <td>1.00</td>\n",
       "      <td>more than 30</td>\n",
       "      <td>more than 30</td>\n",
       "      <td>none</td>\n",
       "      <td>3 years</td>\n",
       "      <td>26 to 30</td>\n",
       "      <td>No</td>\n",
       "      <td>No</td>\n",
       "      <td>External</td>\n",
       "      <td>none</td>\n",
       "      <td>1 year</td>\n",
       "      <td>3 to 4</td>\n",
       "      <td>1994</td>\n",
       "      <td>Liability</td>\n",
       "      <td>55526.07</td>\n",
       "    </tr>\n",
       "    <tr>\n",
       "      <th>1</th>\n",
       "      <td>Jan</td>\n",
       "      <td>3</td>\n",
       "      <td>Wednesday</td>\n",
       "      <td>Honda</td>\n",
       "      <td>Urban</td>\n",
       "      <td>Monday</td>\n",
       "      <td>Jan</td>\n",
       "      <td>4</td>\n",
       "      <td>Male</td>\n",
       "      <td>Single</td>\n",
       "      <td>34.00</td>\n",
       "      <td>Policy Holder</td>\n",
       "      <td>Sport - Collision</td>\n",
       "      <td>Sport</td>\n",
       "      <td>more than 69000</td>\n",
       "      <td>0</td>\n",
       "      <td>2</td>\n",
       "      <td>15</td>\n",
       "      <td>400</td>\n",
       "      <td>4.00</td>\n",
       "      <td>more than 30</td>\n",
       "      <td>more than 30</td>\n",
       "      <td>none</td>\n",
       "      <td>6 years</td>\n",
       "      <td>31 to 35</td>\n",
       "      <td>Yes</td>\n",
       "      <td>No</td>\n",
       "      <td>External</td>\n",
       "      <td>none</td>\n",
       "      <td>no change</td>\n",
       "      <td>1 vehicle</td>\n",
       "      <td>1994</td>\n",
       "      <td>Collision</td>\n",
       "      <td>59294.46</td>\n",
       "    </tr>\n",
       "    <tr>\n",
       "      <th>2</th>\n",
       "      <td>Oct</td>\n",
       "      <td>5</td>\n",
       "      <td>Friday</td>\n",
       "      <td>Honda</td>\n",
       "      <td>Urban</td>\n",
       "      <td>Thursday</td>\n",
       "      <td>Nov</td>\n",
       "      <td>2</td>\n",
       "      <td>Male</td>\n",
       "      <td>Married</td>\n",
       "      <td>47.00</td>\n",
       "      <td>Policy Holder</td>\n",
       "      <td>Sport - Collision</td>\n",
       "      <td>Sport</td>\n",
       "      <td>more than 69000</td>\n",
       "      <td>0</td>\n",
       "      <td>3</td>\n",
       "      <td>7</td>\n",
       "      <td>400</td>\n",
       "      <td>3.00</td>\n",
       "      <td>more than 30</td>\n",
       "      <td>more than 30</td>\n",
       "      <td>1</td>\n",
       "      <td>7 years</td>\n",
       "      <td>41 to 50</td>\n",
       "      <td>No</td>\n",
       "      <td>No</td>\n",
       "      <td>External</td>\n",
       "      <td>none</td>\n",
       "      <td>no change</td>\n",
       "      <td>1 vehicle</td>\n",
       "      <td>1994</td>\n",
       "      <td>Collision</td>\n",
       "      <td>71756.94</td>\n",
       "    </tr>\n",
       "    <tr>\n",
       "      <th>3</th>\n",
       "      <td>Jun</td>\n",
       "      <td>2</td>\n",
       "      <td>Saturday</td>\n",
       "      <td>Toyota</td>\n",
       "      <td>Rural</td>\n",
       "      <td>Friday</td>\n",
       "      <td>Jul</td>\n",
       "      <td>1</td>\n",
       "      <td>Male</td>\n",
       "      <td>Married</td>\n",
       "      <td>65.00</td>\n",
       "      <td>Third Party</td>\n",
       "      <td>Sedan - Liability</td>\n",
       "      <td>Sport</td>\n",
       "      <td>20000 to 29000</td>\n",
       "      <td>0</td>\n",
       "      <td>4</td>\n",
       "      <td>4</td>\n",
       "      <td>400</td>\n",
       "      <td>2.00</td>\n",
       "      <td>more than 30</td>\n",
       "      <td>more than 30</td>\n",
       "      <td>1</td>\n",
       "      <td>more than 7</td>\n",
       "      <td>51 to 65</td>\n",
       "      <td>Yes</td>\n",
       "      <td>No</td>\n",
       "      <td>External</td>\n",
       "      <td>more than 5</td>\n",
       "      <td>no change</td>\n",
       "      <td>1 vehicle</td>\n",
       "      <td>1994</td>\n",
       "      <td>Liability</td>\n",
       "      <td>7584.15</td>\n",
       "    </tr>\n",
       "    <tr>\n",
       "      <th>4</th>\n",
       "      <td>Feb</td>\n",
       "      <td>1</td>\n",
       "      <td>Saturday</td>\n",
       "      <td>Honda</td>\n",
       "      <td>Urban</td>\n",
       "      <td>Monday</td>\n",
       "      <td>Feb</td>\n",
       "      <td>3</td>\n",
       "      <td>Male</td>\n",
       "      <td>Married</td>\n",
       "      <td>36.00</td>\n",
       "      <td>Third Party</td>\n",
       "      <td>Sport - Collision</td>\n",
       "      <td>Sport</td>\n",
       "      <td>more than 69000</td>\n",
       "      <td>0</td>\n",
       "      <td>7</td>\n",
       "      <td>14</td>\n",
       "      <td>400</td>\n",
       "      <td>1.00</td>\n",
       "      <td>more than 30</td>\n",
       "      <td>more than 30</td>\n",
       "      <td>1</td>\n",
       "      <td>7 years</td>\n",
       "      <td>36 to 40</td>\n",
       "      <td>No</td>\n",
       "      <td>No</td>\n",
       "      <td>External</td>\n",
       "      <td>1 to 2</td>\n",
       "      <td>no change</td>\n",
       "      <td>1 vehicle</td>\n",
       "      <td>1994</td>\n",
       "      <td>Collision</td>\n",
       "      <td>98545.37</td>\n",
       "    </tr>\n",
       "  </tbody>\n",
       "</table>\n",
       "</div>"
      ],
      "text/plain": [
       "  Month  WeekOfMonth  DayOfWeek    Make AccidentArea DayOfWeekClaimed  \\\n",
       "0   Dec            5  Wednesday   Honda        Urban          Tuesday   \n",
       "1   Jan            3  Wednesday   Honda        Urban           Monday   \n",
       "2   Oct            5     Friday   Honda        Urban         Thursday   \n",
       "3   Jun            2   Saturday  Toyota        Rural           Friday   \n",
       "4   Feb            1   Saturday   Honda        Urban           Monday   \n",
       "\n",
       "  MonthClaimed  WeekOfMonthClaimed     Sex MaritalStatus   Age          Fault  \\\n",
       "0          Jan                   1  Female        Single 21.00  Policy Holder   \n",
       "1          Jan                   4    Male        Single 34.00  Policy Holder   \n",
       "2          Nov                   2    Male       Married 47.00  Policy Holder   \n",
       "3          Jul                   1    Male       Married 65.00    Third Party   \n",
       "4          Feb                   3    Male       Married 36.00    Third Party   \n",
       "\n",
       "          PolicyType VehicleCategory     VehiclePrice  FraudFound_P  \\\n",
       "0  Sport - Liability           Sport  more than 69000             0   \n",
       "1  Sport - Collision           Sport  more than 69000             0   \n",
       "2  Sport - Collision           Sport  more than 69000             0   \n",
       "3  Sedan - Liability           Sport   20000 to 29000             0   \n",
       "4  Sport - Collision           Sport  more than 69000             0   \n",
       "\n",
       "   PolicyNumber  RepNumber  Deductible  DriverRating Days_Policy_Accident  \\\n",
       "0             1         12         300          1.00         more than 30   \n",
       "1             2         15         400          4.00         more than 30   \n",
       "2             3          7         400          3.00         more than 30   \n",
       "3             4          4         400          2.00         more than 30   \n",
       "4             7         14         400          1.00         more than 30   \n",
       "\n",
       "  Days_Policy_Claim PastNumberOfClaims AgeOfVehicle AgeOfPolicyHolder  \\\n",
       "0      more than 30               none      3 years          26 to 30   \n",
       "1      more than 30               none      6 years          31 to 35   \n",
       "2      more than 30                  1      7 years          41 to 50   \n",
       "3      more than 30                  1  more than 7          51 to 65   \n",
       "4      more than 30                  1      7 years          36 to 40   \n",
       "\n",
       "  PoliceReportFiled WitnessPresent AgentType NumberOfSuppliments  \\\n",
       "0                No             No  External                none   \n",
       "1               Yes             No  External                none   \n",
       "2                No             No  External                none   \n",
       "3               Yes             No  External         more than 5   \n",
       "4                No             No  External              1 to 2   \n",
       "\n",
       "  AddressChange_Claim NumberOfCars  Year BasePolicy  ClaimSize  \n",
       "0              1 year       3 to 4  1994  Liability   55526.07  \n",
       "1           no change    1 vehicle  1994  Collision   59294.46  \n",
       "2           no change    1 vehicle  1994  Collision   71756.94  \n",
       "3           no change    1 vehicle  1994  Liability    7584.15  \n",
       "4           no change    1 vehicle  1994  Collision   98545.37  "
      ]
     },
     "execution_count": 137,
     "metadata": {},
     "output_type": "execute_result"
    }
   ],
   "source": [
    "# Asignamos los datos a un dataframe\n",
    "car_fraud = pd.read_csv('.\\..\\data\\Dataset.csv')\n",
    "\n",
    "# Mostramos el encabezado de los datos\n",
    "car_fraud.head()"
   ]
  },
  {
   "cell_type": "markdown",
   "id": "31c5cf07-ea80-4556-9563-920a0efb4102",
   "metadata": {},
   "source": [
    "### 2.3 Limpieza de Datos"
   ]
  },
  {
   "cell_type": "code",
   "execution_count": 138,
   "id": "d13ff25c-65fe-4be2-9485-50a990b14eda",
   "metadata": {},
   "outputs": [
    {
     "data": {
      "text/plain": [
       "Month                   0\n",
       "WeekOfMonth             0\n",
       "DayOfWeek               0\n",
       "Make                    0\n",
       "AccidentArea            0\n",
       "DayOfWeekClaimed        0\n",
       "MonthClaimed            0\n",
       "WeekOfMonthClaimed      0\n",
       "Sex                     0\n",
       "MaritalStatus           0\n",
       "Age                     5\n",
       "Fault                   0\n",
       "PolicyType              0\n",
       "VehicleCategory         0\n",
       "VehiclePrice            0\n",
       "FraudFound_P            0\n",
       "PolicyNumber            0\n",
       "RepNumber               0\n",
       "Deductible              0\n",
       "DriverRating            6\n",
       "Days_Policy_Accident    0\n",
       "Days_Policy_Claim       0\n",
       "PastNumberOfClaims      0\n",
       "AgeOfVehicle            0\n",
       "AgeOfPolicyHolder       0\n",
       "PoliceReportFiled       0\n",
       "WitnessPresent          0\n",
       "AgentType               0\n",
       "NumberOfSuppliments     0\n",
       "AddressChange_Claim     0\n",
       "NumberOfCars            0\n",
       "Year                    0\n",
       "BasePolicy              0\n",
       "ClaimSize               0\n",
       "dtype: int64"
      ]
     },
     "execution_count": 138,
     "metadata": {},
     "output_type": "execute_result"
    }
   ],
   "source": [
    "# Mostramos la suma de valores nulos\n",
    "\n",
    "car_fraud.isnull().sum()"
   ]
  },
  {
   "cell_type": "code",
   "execution_count": 139,
   "id": "57a32282-1bbe-4bc9-a5b1-a12f308bc312",
   "metadata": {},
   "outputs": [
    {
     "data": {
      "text/plain": [
       "Month                   False\n",
       "WeekOfMonth             False\n",
       "DayOfWeek               False\n",
       "Make                    False\n",
       "AccidentArea            False\n",
       "DayOfWeekClaimed        False\n",
       "MonthClaimed            False\n",
       "WeekOfMonthClaimed      False\n",
       "Sex                     False\n",
       "MaritalStatus           False\n",
       "Age                     False\n",
       "Fault                   False\n",
       "PolicyType              False\n",
       "VehicleCategory         False\n",
       "VehiclePrice            False\n",
       "FraudFound_P            False\n",
       "PolicyNumber            False\n",
       "RepNumber               False\n",
       "Deductible              False\n",
       "DriverRating            False\n",
       "Days_Policy_Accident    False\n",
       "Days_Policy_Claim       False\n",
       "PastNumberOfClaims      False\n",
       "AgeOfVehicle            False\n",
       "AgeOfPolicyHolder       False\n",
       "PoliceReportFiled       False\n",
       "WitnessPresent          False\n",
       "AgentType               False\n",
       "NumberOfSuppliments     False\n",
       "AddressChange_Claim     False\n",
       "NumberOfCars            False\n",
       "Year                    False\n",
       "BasePolicy              False\n",
       "ClaimSize               False\n",
       "dtype: bool"
      ]
     },
     "execution_count": 139,
     "metadata": {},
     "output_type": "execute_result"
    }
   ],
   "source": [
    "# Imputamos los valores nulos\n",
    "# Esto también se puede realizar con pipeline SimpleImputer o KNNImputer\n",
    "\n",
    "median_age = car_fraud['Age'].median()\n",
    "car_fraud['Age'] = car_fraud['Age'].fillna(median_age)\n",
    "median_DR = car_fraud['DriverRating'].median()\n",
    "car_fraud['DriverRating'] = car_fraud['DriverRating'].fillna(median_DR)\n",
    "car_fraud.isnull().any()"
   ]
  },
  {
   "cell_type": "code",
   "execution_count": 140,
   "id": "7d23e9f6-e8f5-4037-a8b6-342002c638c7",
   "metadata": {},
   "outputs": [
    {
     "name": "stdout",
     "output_type": "stream",
     "text": [
      "DayOfWeekClaimed\n",
      "Friday       1842\n",
      "Monday       2812\n",
      "Saturday       94\n",
      "Sunday         40\n",
      "Thursday     2000\n",
      "Tuesday      2545\n",
      "Wednesday    2232\n",
      "dtype: int64\n",
      "MonthClaimed\n",
      "Apr     970\n",
      "Aug     846\n",
      "Dec     879\n",
      "Feb     955\n",
      "Jan    1085\n",
      "Jul     908\n",
      "Jun     967\n",
      "Mar    1005\n",
      "May    1038\n",
      "Nov     973\n",
      "Oct     995\n",
      "Sep     944\n",
      "dtype: int64\n",
      "Age\n",
      "16.00     8\n",
      "17.00     5\n",
      "18.00    34\n",
      "19.00    24\n",
      "20.00    15\n",
      "         ..\n",
      "76.00    32\n",
      "77.00    20\n",
      "78.00    26\n",
      "79.00    12\n",
      "80.00    25\n",
      "Length: 65, dtype: int64\n",
      "ClaimSize\n",
      "504.58       4\n",
      "512.67       1\n",
      "532.51       1\n",
      "538.14       5\n",
      "542.63       2\n",
      "            ..\n",
      "100701.44    1\n",
      "103375.05    1\n",
      "103420.79    1\n",
      "104194.70    1\n",
      "141394.16    1\n",
      "Length: 3332, dtype: int64\n"
     ]
    }
   ],
   "source": [
    "# Reemplazamos los valores iguales a cero\n",
    "\n",
    "car_fraud['DayOfWeekClaimed'] = car_fraud['DayOfWeekClaimed'].replace('0', 'Monday')\n",
    "car_fraud['MonthClaimed'] = car_fraud['MonthClaimed'].replace('0', 'Jan')\n",
    "\n",
    "car_fraud['Age'] = car_fraud['Age'].replace(0, median_age)\n",
    "\n",
    "mean_ClaimSize = car_fraud['ClaimSize'].mean()\n",
    "car_fraud['ClaimSize'] = car_fraud['ClaimSize'].replace(0, mean_ClaimSize)\n",
    "\n",
    "print(car_fraud.groupby('DayOfWeekClaimed').size())\n",
    "print(car_fraud.groupby('MonthClaimed').size())\n",
    "print(car_fraud.groupby('Age').size())\n",
    "print(car_fraud.groupby('ClaimSize').size())"
   ]
  },
  {
   "cell_type": "code",
   "execution_count": 141,
   "id": "b15c4e0f-c251-49a5-b829-db56bac5ec5d",
   "metadata": {},
   "outputs": [
    {
     "data": {
      "text/plain": [
       "(11565, 34)"
      ]
     },
     "execution_count": 141,
     "metadata": {},
     "output_type": "execute_result"
    }
   ],
   "source": [
    "# Validamos el número de filas y columnas\n",
    "\n",
    "car_fraud.shape"
   ]
  },
  {
   "cell_type": "markdown",
   "id": "aecf98dd-6815-45bb-bc7e-6992eaa2b357",
   "metadata": {},
   "source": [
    "### 2.4 División de los Datos"
   ]
  },
  {
   "cell_type": "code",
   "execution_count": 142,
   "id": "aedd968f-42d2-4900-91b0-90397cdeb3d1",
   "metadata": {},
   "outputs": [
    {
     "name": "stdout",
     "output_type": "stream",
     "text": [
      "X: (11565, 32)\n",
      "y: (11565,)\n"
     ]
    }
   ],
   "source": [
    "# Dividimos los datos en X y y\n",
    "X = car_fraud.drop(['FraudFound_P', 'PolicyNumber'], axis = 1)\n",
    "y = car_fraud['FraudFound_P']\n",
    "\n",
    "print(f\"X: {X.shape}\")\n",
    "print(f\"y: {y.shape}\")"
   ]
  },
  {
   "cell_type": "code",
   "execution_count": 143,
   "id": "e20e2c2b-bd02-458b-8dd9-604c1d9f3fd5",
   "metadata": {},
   "outputs": [
    {
     "name": "stdout",
     "output_type": "stream",
     "text": [
      "X_train: (9252, 32)\n",
      "X_test: (2313, 32)\n",
      "y_train: (9252,)\n",
      "y_test: (2313,)\n"
     ]
    }
   ],
   "source": [
    "# Dividimos los datos de entrenamiento y prueba\n",
    "\n",
    "from sklearn.model_selection import train_test_split\n",
    "\n",
    "X_train, X_test, y_train, y_test = train_test_split(X, y, test_size=0.2, shuffle=True, random_state=0) #,stratify=y\n",
    "\n",
    "print(f\"X_train: {X_train.shape}\")\n",
    "print(f\"X_test: {X_test.shape}\")\n",
    "print(f\"y_train: {y_train.shape}\")\n",
    "print(f\"y_test: {y_test.shape}\")"
   ]
  },
  {
   "cell_type": "markdown",
   "id": "2b4b6740-4b0a-4ab8-b979-c32ab5aa8512",
   "metadata": {},
   "source": [
    "### 2.5 Codificación de Datos Categóricos"
   ]
  },
  {
   "cell_type": "code",
   "execution_count": 144,
   "id": "8929a3a2-b45d-4293-b122-38412a0c1ebf",
   "metadata": {},
   "outputs": [],
   "source": [
    "# Ordenamos las variables categóricas ordinales y nominales\n",
    "\n",
    "Month = ['Jan', 'Feb', 'Mar', 'Apr', 'May', 'Jun', 'Jul', 'Aug', 'Sep', 'Oct', 'Nov', 'Dec']\n",
    "DayOfWeek = ['Monday', 'Tuesday', 'Wednesday', 'Thursday', 'Friday', 'Saturday', 'Sunday']\n",
    "Make = ['Accura', 'BMW', 'Chevrolet', 'Dodge', 'Ferrari', 'Ford', 'Honda', 'Jaguar', 'Lexus', 'Mazda', 'Mecedes', 'Mercury', 'Nisson', 'Pontiac', 'Porche', 'Saab', 'Saturn', 'Toyota', 'VW']\n",
    "AccidentArea = ['Rural', 'Urban']\n",
    "DayOfWeekClaimed = ['Monday', 'Tuesday', 'Wednesday', 'Thursday', 'Friday', 'Saturday', 'Sunday']\n",
    "MonthClaimed = ['Jan', 'Feb', 'Mar', 'Apr', 'May', 'Jun', 'Jul', 'Aug', 'Sep', 'Oct', 'Nov', 'Dec']\n",
    "Sex = ['Male', 'Female']\n",
    "MaritalStatus = ['Single', 'Married', 'Widow', 'Divorced']\n",
    "Fault = ['Policy Holder', 'Third Party']\n",
    "PolicyType = ['Sport - Liability', 'Sport - Collision', 'Sedan - Liability', 'Sedan - All Perils', 'Sedan - Collision', 'Utility - Collision', 'Utility - Liability', 'Utility - All Perils', 'Sport - All Perils']\n",
    "VehicleCategory = ['Sport', 'Sedan', 'Utility']\n",
    "VehiclePrice = ['less than 20000', '20000 to 29000', '30000 to 39000', '40000 to 59000', '60000 to 69000', 'more than 69000']\n",
    "Days_Policy_Accident = ['none', '1 to 7', '8 to 15', '15 to 30', 'more than 30']\n",
    "Days_Policy_Claim = ['none', '8 to 15', '15 to 30', 'more than 30']\n",
    "PastNumberOfClaims = ['none', '1', '2 to 4', 'more than 4']\n",
    "AgeOfVehicle = ['new', '2 years', '3 years', '4 years', '5 years', '6 years', '7 years', 'more than 7']\n",
    "AgeOfPolicyHolder = ['16 to 17', '18 to 20', '21 to 25', '26 to 30', '31 to 35', '36 to 40', '41 to 50', '51 to 65', 'over 65']\n",
    "PoliceReportFiled = ['No', 'Yes']\n",
    "WitnessPresent = ['No', 'Yes']\n",
    "AgentType = ['External', 'Internal']\n",
    "NumberOfSuppliments = ['none', '1 to 2', '3 to 5', 'more than 5']\n",
    "AddressChange_Claim = ['no change', 'under 6 months', '1 year', '2 to 3 years', '4 to 8 years']\n",
    "NumberOfCars = ['1 vehicle', '2 vehicles', '3 to 4', '5 to 8', 'more than 9']\n",
    "BasePolicy = ['Liability', 'Collision', 'All Perils']"
   ]
  },
  {
   "cell_type": "code",
   "execution_count": 145,
   "id": "9676e2bb-2aec-45bf-b1d0-c293ca0f0aa7",
   "metadata": {},
   "outputs": [],
   "source": [
    "# Aplicamos el codificador OrdinalEncoder a las variables categóricas ordinales y nominales\n",
    "\n",
    "from sklearn.preprocessing import OrdinalEncoder\n",
    "\n",
    "oe = OrdinalEncoder(categories = [Month,\n",
    "                                  DayOfWeek,\n",
    "                                  Make,\n",
    "                                  AccidentArea,\n",
    "                                  DayOfWeekClaimed,\n",
    "                                  MonthClaimed,\n",
    "                                  Sex,\n",
    "                                  MaritalStatus,\n",
    "                                  Fault,\n",
    "                                  PolicyType,\n",
    "                                  VehicleCategory,\n",
    "                                  VehiclePrice,\n",
    "                                  Days_Policy_Accident,\n",
    "                                  Days_Policy_Claim,\n",
    "                                  PastNumberOfClaims,\n",
    "                                  AgeOfVehicle,\n",
    "                                  AgeOfPolicyHolder,\n",
    "                                  PoliceReportFiled,\n",
    "                                  WitnessPresent,\n",
    "                                  AgentType,\n",
    "                                  NumberOfSuppliments,\n",
    "                                  AddressChange_Claim,\n",
    "                                  NumberOfCars,\n",
    "                                  BasePolicy],\n",
    "                    handle_unknown='use_encoded_value', unknown_value=-1)"
   ]
  },
  {
   "cell_type": "markdown",
   "id": "eafe7d3f-9091-4fc5-8909-519f16f91eb2",
   "metadata": {},
   "source": [
    "### 2.6 Escalamiento de Variables"
   ]
  },
  {
   "cell_type": "code",
   "execution_count": 146,
   "id": "494c4bed-b949-411c-bee0-889855e44eee",
   "metadata": {},
   "outputs": [],
   "source": [
    "# Estandarizamos los datos númericos utilizando StandardScaler\n",
    "\n",
    "from sklearn.preprocessing import StandardScaler\n",
    "\n",
    "scaler = StandardScaler()"
   ]
  },
  {
   "cell_type": "markdown",
   "id": "7ece08f9-6d62-4507-8b22-35291dd77bb2",
   "metadata": {},
   "source": [
    "### 2.7 Sesgo / Asimetría"
   ]
  },
  {
   "cell_type": "code",
   "execution_count": 147,
   "id": "51806ac6-a904-47e1-9b03-303ce681f95c",
   "metadata": {},
   "outputs": [
    {
     "data": {
      "text/plain": [
       "Age         0.73\n",
       "ClaimSize   1.19\n",
       "dtype: float64"
      ]
     },
     "execution_count": 147,
     "metadata": {},
     "output_type": "execute_result"
    }
   ],
   "source": [
    "# Calculamos el sesgo o asimietría de las variables numericas NO categóricas\n",
    "# Inclinación positiva (derecha) o negativa (izquierda)\n",
    "# Los valores más cercanos a cero tienen menos sesgo\n",
    "\n",
    "car_fraud[['Age', 'ClaimSize']].skew()"
   ]
  },
  {
   "cell_type": "code",
   "execution_count": 148,
   "id": "c19c8606-bd66-4afd-a3a9-38dcece38511",
   "metadata": {},
   "outputs": [],
   "source": [
    "# Aplicamos la transformación de Box-Cox o Yeo-Johnson a los atributos con sesgo\n",
    "# box-cox (valores positivos)\n",
    "# yeo-johnson (valores negativos)\n",
    "\n",
    "from sklearn.preprocessing import PowerTransformer\n",
    "\n",
    "pt = PowerTransformer(method='box-cox', standardize=True)"
   ]
  },
  {
   "cell_type": "markdown",
   "id": "c5ef1fb7-092e-4394-8728-57ca32a1d453",
   "metadata": {},
   "source": [
    "### 2.8 Transformación de Columnas"
   ]
  },
  {
   "cell_type": "code",
   "execution_count": 149,
   "id": "bdc23d35-f101-424f-ad26-660f4f49bb39",
   "metadata": {},
   "outputs": [],
   "source": [
    "# Aplicamos el transformador make_column_transformer\n",
    "\n",
    "from sklearn.compose import make_column_transformer\n",
    "\n",
    "ct = make_column_transformer(\n",
    "    (oe, ['Month',\n",
    "          'DayOfWeek',\n",
    "          'Make',\n",
    "          'AccidentArea',\n",
    "          'DayOfWeekClaimed',\n",
    "          'MonthClaimed',\n",
    "          'Sex',\n",
    "          'MaritalStatus',\n",
    "          'Fault',\n",
    "          'PolicyType',\n",
    "          'VehicleCategory',\n",
    "          'VehiclePrice',\n",
    "          'Days_Policy_Accident',\n",
    "          'Days_Policy_Claim',\n",
    "          'PastNumberOfClaims',\n",
    "          'AgeOfVehicle',\n",
    "          'AgeOfPolicyHolder',\n",
    "          'PoliceReportFiled',\n",
    "          'WitnessPresent',\n",
    "          'AgentType',\n",
    "          'NumberOfSuppliments',\n",
    "          'AddressChange_Claim',\n",
    "          'NumberOfCars',\n",
    "          'BasePolicy']),\n",
    "    (scaler, ['WeekOfMonth',\n",
    "              'WeekOfMonthClaimed',\n",
    "              'RepNumber',\n",
    "              'Deductible',\n",
    "              'DriverRating',\n",
    "              'Year',]),\n",
    "    (pt, ['Age',\n",
    "          'ClaimSize']),\n",
    "     remainder = 'passthrough')"
   ]
  },
  {
   "cell_type": "code",
   "execution_count": 150,
   "id": "1a92f941-e715-497f-a5f1-c24c10823555",
   "metadata": {},
   "outputs": [
    {
     "data": {
      "text/plain": [
       "(9252, 32)"
      ]
     },
     "execution_count": 150,
     "metadata": {},
     "output_type": "execute_result"
    }
   ],
   "source": [
    "# Ajustamos y transformamos los datos de entrenamiento X_train\n",
    "\n",
    "X_train = pd.DataFrame(ct.fit_transform(X_train),\n",
    "                       columns = ['Month',\n",
    "                                  'DayOfWeek',\n",
    "                                  'Make',\n",
    "                                  'AccidentArea',\n",
    "                                  'DayOfWeekClaimed',\n",
    "                                  'MonthClaimed',\n",
    "                                  'Sex',\n",
    "                                  'MaritalStatus',\n",
    "                                  'Fault',\n",
    "                                  'PolicyType',\n",
    "                                  'VehicleCategory',\n",
    "                                  'VehiclePrice',\n",
    "                                  'Days_Policy_Accident',\n",
    "                                  'Days_Policy_Claim',\n",
    "                                  'PastNumberOfClaims',\n",
    "                                  'AgeOfVehicle',\n",
    "                                  'AgeOfPolicyHolder',\n",
    "                                  'PoliceReportFiled',\n",
    "                                  'WitnessPresent',\n",
    "                                  'AgentType',\n",
    "                                  'NumberOfSuppliments',\n",
    "                                  'AddressChange_Claim',\n",
    "                                  'NumberOfCars',\n",
    "                                  'BasePolicy',\n",
    "                                  'WeekOfMonth',\n",
    "                                  'WeekOfMonthClaimed',\n",
    "                                  'RepNumber',\n",
    "                                  'Deductible',\n",
    "                                  'DriverRating',\n",
    "                                  'Year',\n",
    "                                  'Age',\n",
    "                                  'ClaimSize'])\n",
    "X_train.shape"
   ]
  },
  {
   "cell_type": "code",
   "execution_count": 151,
   "id": "dde7dcea-989b-4ebd-8d7d-37e7d468f1f9",
   "metadata": {},
   "outputs": [
    {
     "data": {
      "text/html": [
       "<div>\n",
       "<style scoped>\n",
       "    .dataframe tbody tr th:only-of-type {\n",
       "        vertical-align: middle;\n",
       "    }\n",
       "\n",
       "    .dataframe tbody tr th {\n",
       "        vertical-align: top;\n",
       "    }\n",
       "\n",
       "    .dataframe thead th {\n",
       "        text-align: right;\n",
       "    }\n",
       "</style>\n",
       "<table border=\"1\" class=\"dataframe\">\n",
       "  <thead>\n",
       "    <tr style=\"text-align: right;\">\n",
       "      <th></th>\n",
       "      <th>Month</th>\n",
       "      <th>DayOfWeek</th>\n",
       "      <th>Make</th>\n",
       "      <th>AccidentArea</th>\n",
       "      <th>DayOfWeekClaimed</th>\n",
       "      <th>MonthClaimed</th>\n",
       "      <th>Sex</th>\n",
       "      <th>MaritalStatus</th>\n",
       "      <th>Fault</th>\n",
       "      <th>PolicyType</th>\n",
       "      <th>VehicleCategory</th>\n",
       "      <th>VehiclePrice</th>\n",
       "      <th>Days_Policy_Accident</th>\n",
       "      <th>Days_Policy_Claim</th>\n",
       "      <th>PastNumberOfClaims</th>\n",
       "      <th>AgeOfVehicle</th>\n",
       "      <th>AgeOfPolicyHolder</th>\n",
       "      <th>PoliceReportFiled</th>\n",
       "      <th>WitnessPresent</th>\n",
       "      <th>AgentType</th>\n",
       "      <th>NumberOfSuppliments</th>\n",
       "      <th>AddressChange_Claim</th>\n",
       "      <th>NumberOfCars</th>\n",
       "      <th>BasePolicy</th>\n",
       "      <th>WeekOfMonth</th>\n",
       "      <th>WeekOfMonthClaimed</th>\n",
       "      <th>RepNumber</th>\n",
       "      <th>Deductible</th>\n",
       "      <th>DriverRating</th>\n",
       "      <th>Year</th>\n",
       "      <th>Age</th>\n",
       "      <th>ClaimSize</th>\n",
       "    </tr>\n",
       "  </thead>\n",
       "  <tbody>\n",
       "    <tr>\n",
       "      <th>0</th>\n",
       "      <td>7.00</td>\n",
       "      <td>6.00</td>\n",
       "      <td>18.00</td>\n",
       "      <td>1.00</td>\n",
       "      <td>0.00</td>\n",
       "      <td>7.00</td>\n",
       "      <td>0.00</td>\n",
       "      <td>1.00</td>\n",
       "      <td>1.00</td>\n",
       "      <td>4.00</td>\n",
       "      <td>1.00</td>\n",
       "      <td>3.00</td>\n",
       "      <td>4.00</td>\n",
       "      <td>3.00</td>\n",
       "      <td>2.00</td>\n",
       "      <td>7.00</td>\n",
       "      <td>6.00</td>\n",
       "      <td>0.00</td>\n",
       "      <td>0.00</td>\n",
       "      <td>0.00</td>\n",
       "      <td>0.00</td>\n",
       "      <td>0.00</td>\n",
       "      <td>0.00</td>\n",
       "      <td>1.00</td>\n",
       "      <td>0.17</td>\n",
       "      <td>1.03</td>\n",
       "      <td>-0.53</td>\n",
       "      <td>-0.17</td>\n",
       "      <td>-1.33</td>\n",
       "      <td>-1.08</td>\n",
       "      <td>0.85</td>\n",
       "      <td>1.20</td>\n",
       "    </tr>\n",
       "    <tr>\n",
       "      <th>1</th>\n",
       "      <td>9.00</td>\n",
       "      <td>2.00</td>\n",
       "      <td>18.00</td>\n",
       "      <td>0.00</td>\n",
       "      <td>1.00</td>\n",
       "      <td>9.00</td>\n",
       "      <td>0.00</td>\n",
       "      <td>1.00</td>\n",
       "      <td>0.00</td>\n",
       "      <td>4.00</td>\n",
       "      <td>1.00</td>\n",
       "      <td>2.00</td>\n",
       "      <td>4.00</td>\n",
       "      <td>3.00</td>\n",
       "      <td>1.00</td>\n",
       "      <td>5.00</td>\n",
       "      <td>4.00</td>\n",
       "      <td>0.00</td>\n",
       "      <td>0.00</td>\n",
       "      <td>0.00</td>\n",
       "      <td>3.00</td>\n",
       "      <td>0.00</td>\n",
       "      <td>0.00</td>\n",
       "      <td>1.00</td>\n",
       "      <td>0.17</td>\n",
       "      <td>1.03</td>\n",
       "      <td>1.41</td>\n",
       "      <td>-0.17</td>\n",
       "      <td>1.34</td>\n",
       "      <td>0.17</td>\n",
       "      <td>-0.36</td>\n",
       "      <td>0.26</td>\n",
       "    </tr>\n",
       "    <tr>\n",
       "      <th>2</th>\n",
       "      <td>7.00</td>\n",
       "      <td>6.00</td>\n",
       "      <td>17.00</td>\n",
       "      <td>0.00</td>\n",
       "      <td>4.00</td>\n",
       "      <td>8.00</td>\n",
       "      <td>0.00</td>\n",
       "      <td>0.00</td>\n",
       "      <td>1.00</td>\n",
       "      <td>4.00</td>\n",
       "      <td>1.00</td>\n",
       "      <td>2.00</td>\n",
       "      <td>4.00</td>\n",
       "      <td>3.00</td>\n",
       "      <td>0.00</td>\n",
       "      <td>5.00</td>\n",
       "      <td>4.00</td>\n",
       "      <td>0.00</td>\n",
       "      <td>0.00</td>\n",
       "      <td>1.00</td>\n",
       "      <td>0.00</td>\n",
       "      <td>0.00</td>\n",
       "      <td>0.00</td>\n",
       "      <td>1.00</td>\n",
       "      <td>0.95</td>\n",
       "      <td>-1.35</td>\n",
       "      <td>0.33</td>\n",
       "      <td>-0.17</td>\n",
       "      <td>-0.44</td>\n",
       "      <td>1.42</td>\n",
       "      <td>-1.27</td>\n",
       "      <td>-0.65</td>\n",
       "    </tr>\n",
       "    <tr>\n",
       "      <th>3</th>\n",
       "      <td>8.00</td>\n",
       "      <td>4.00</td>\n",
       "      <td>9.00</td>\n",
       "      <td>1.00</td>\n",
       "      <td>5.00</td>\n",
       "      <td>9.00</td>\n",
       "      <td>0.00</td>\n",
       "      <td>1.00</td>\n",
       "      <td>0.00</td>\n",
       "      <td>2.00</td>\n",
       "      <td>0.00</td>\n",
       "      <td>0.00</td>\n",
       "      <td>4.00</td>\n",
       "      <td>3.00</td>\n",
       "      <td>2.00</td>\n",
       "      <td>6.00</td>\n",
       "      <td>5.00</td>\n",
       "      <td>0.00</td>\n",
       "      <td>0.00</td>\n",
       "      <td>0.00</td>\n",
       "      <td>0.00</td>\n",
       "      <td>0.00</td>\n",
       "      <td>0.00</td>\n",
       "      <td>0.00</td>\n",
       "      <td>0.17</td>\n",
       "      <td>-1.35</td>\n",
       "      <td>-0.75</td>\n",
       "      <td>-0.17</td>\n",
       "      <td>-0.44</td>\n",
       "      <td>1.42</td>\n",
       "      <td>0.10</td>\n",
       "      <td>-0.38</td>\n",
       "    </tr>\n",
       "    <tr>\n",
       "      <th>4</th>\n",
       "      <td>0.00</td>\n",
       "      <td>2.00</td>\n",
       "      <td>6.00</td>\n",
       "      <td>1.00</td>\n",
       "      <td>2.00</td>\n",
       "      <td>1.00</td>\n",
       "      <td>0.00</td>\n",
       "      <td>0.00</td>\n",
       "      <td>1.00</td>\n",
       "      <td>4.00</td>\n",
       "      <td>1.00</td>\n",
       "      <td>1.00</td>\n",
       "      <td>1.00</td>\n",
       "      <td>2.00</td>\n",
       "      <td>2.00</td>\n",
       "      <td>4.00</td>\n",
       "      <td>3.00</td>\n",
       "      <td>0.00</td>\n",
       "      <td>0.00</td>\n",
       "      <td>0.00</td>\n",
       "      <td>1.00</td>\n",
       "      <td>0.00</td>\n",
       "      <td>0.00</td>\n",
       "      <td>1.00</td>\n",
       "      <td>0.95</td>\n",
       "      <td>-1.35</td>\n",
       "      <td>1.63</td>\n",
       "      <td>-0.17</td>\n",
       "      <td>-0.44</td>\n",
       "      <td>0.17</td>\n",
       "      <td>-1.55</td>\n",
       "      <td>-1.40</td>\n",
       "    </tr>\n",
       "  </tbody>\n",
       "</table>\n",
       "</div>"
      ],
      "text/plain": [
       "   Month  DayOfWeek  Make  AccidentArea  DayOfWeekClaimed  MonthClaimed  Sex  \\\n",
       "0   7.00       6.00 18.00          1.00              0.00          7.00 0.00   \n",
       "1   9.00       2.00 18.00          0.00              1.00          9.00 0.00   \n",
       "2   7.00       6.00 17.00          0.00              4.00          8.00 0.00   \n",
       "3   8.00       4.00  9.00          1.00              5.00          9.00 0.00   \n",
       "4   0.00       2.00  6.00          1.00              2.00          1.00 0.00   \n",
       "\n",
       "   MaritalStatus  Fault  PolicyType  VehicleCategory  VehiclePrice  \\\n",
       "0           1.00   1.00        4.00             1.00          3.00   \n",
       "1           1.00   0.00        4.00             1.00          2.00   \n",
       "2           0.00   1.00        4.00             1.00          2.00   \n",
       "3           1.00   0.00        2.00             0.00          0.00   \n",
       "4           0.00   1.00        4.00             1.00          1.00   \n",
       "\n",
       "   Days_Policy_Accident  Days_Policy_Claim  PastNumberOfClaims  AgeOfVehicle  \\\n",
       "0                  4.00               3.00                2.00          7.00   \n",
       "1                  4.00               3.00                1.00          5.00   \n",
       "2                  4.00               3.00                0.00          5.00   \n",
       "3                  4.00               3.00                2.00          6.00   \n",
       "4                  1.00               2.00                2.00          4.00   \n",
       "\n",
       "   AgeOfPolicyHolder  PoliceReportFiled  WitnessPresent  AgentType  \\\n",
       "0               6.00               0.00            0.00       0.00   \n",
       "1               4.00               0.00            0.00       0.00   \n",
       "2               4.00               0.00            0.00       1.00   \n",
       "3               5.00               0.00            0.00       0.00   \n",
       "4               3.00               0.00            0.00       0.00   \n",
       "\n",
       "   NumberOfSuppliments  AddressChange_Claim  NumberOfCars  BasePolicy  \\\n",
       "0                 0.00                 0.00          0.00        1.00   \n",
       "1                 3.00                 0.00          0.00        1.00   \n",
       "2                 0.00                 0.00          0.00        1.00   \n",
       "3                 0.00                 0.00          0.00        0.00   \n",
       "4                 1.00                 0.00          0.00        1.00   \n",
       "\n",
       "   WeekOfMonth  WeekOfMonthClaimed  RepNumber  Deductible  DriverRating  Year  \\\n",
       "0         0.17                1.03      -0.53       -0.17         -1.33 -1.08   \n",
       "1         0.17                1.03       1.41       -0.17          1.34  0.17   \n",
       "2         0.95               -1.35       0.33       -0.17         -0.44  1.42   \n",
       "3         0.17               -1.35      -0.75       -0.17         -0.44  1.42   \n",
       "4         0.95               -1.35       1.63       -0.17         -0.44  0.17   \n",
       "\n",
       "    Age  ClaimSize  \n",
       "0  0.85       1.20  \n",
       "1 -0.36       0.26  \n",
       "2 -1.27      -0.65  \n",
       "3  0.10      -0.38  \n",
       "4 -1.55      -1.40  "
      ]
     },
     "execution_count": 151,
     "metadata": {},
     "output_type": "execute_result"
    }
   ],
   "source": [
    "# Mostramos un encabezado de los datos\n",
    "\n",
    "X_train.head().round(2)"
   ]
  },
  {
   "cell_type": "code",
   "execution_count": 152,
   "id": "fe22b2e7-b111-4b21-9960-8beca330024c",
   "metadata": {},
   "outputs": [
    {
     "data": {
      "text/plain": [
       "(2313, 32)"
      ]
     },
     "execution_count": 152,
     "metadata": {},
     "output_type": "execute_result"
    }
   ],
   "source": [
    "# Transformamos los datos de prueba X_test\n",
    "\n",
    "X_test = pd.DataFrame(ct.transform(X_test),\n",
    "                       columns = ['Month',\n",
    "                                  'DayOfWeek',\n",
    "                                  'Make',\n",
    "                                  'AccidentArea',\n",
    "                                  'DayOfWeekClaimed',\n",
    "                                  'MonthClaimed',\n",
    "                                  'Sex',\n",
    "                                  'MaritalStatus',\n",
    "                                  'Fault',\n",
    "                                  'PolicyType',\n",
    "                                  'VehicleCategory',\n",
    "                                  'VehiclePrice',\n",
    "                                  'Days_Policy_Accident',\n",
    "                                  'Days_Policy_Claim',\n",
    "                                  'PastNumberOfClaims',\n",
    "                                  'AgeOfVehicle',\n",
    "                                  'AgeOfPolicyHolder',\n",
    "                                  'PoliceReportFiled',\n",
    "                                  'WitnessPresent',\n",
    "                                  'AgentType',\n",
    "                                  'NumberOfSuppliments',\n",
    "                                  'AddressChange_Claim',\n",
    "                                  'NumberOfCars',\n",
    "                                  'BasePolicy',\n",
    "                                  'WeekOfMonth',\n",
    "                                  'WeekOfMonthClaimed',\n",
    "                                  'RepNumber',\n",
    "                                  'Deductible',\n",
    "                                  'DriverRating',\n",
    "                                  'Year',\n",
    "                                  'Age',\n",
    "                                  'ClaimSize'])\n",
    "X_test.shape"
   ]
  },
  {
   "cell_type": "code",
   "execution_count": 153,
   "id": "6509ad02-a625-4065-a89c-b65c811308cc",
   "metadata": {},
   "outputs": [
    {
     "data": {
      "text/html": [
       "<div>\n",
       "<style scoped>\n",
       "    .dataframe tbody tr th:only-of-type {\n",
       "        vertical-align: middle;\n",
       "    }\n",
       "\n",
       "    .dataframe tbody tr th {\n",
       "        vertical-align: top;\n",
       "    }\n",
       "\n",
       "    .dataframe thead th {\n",
       "        text-align: right;\n",
       "    }\n",
       "</style>\n",
       "<table border=\"1\" class=\"dataframe\">\n",
       "  <thead>\n",
       "    <tr style=\"text-align: right;\">\n",
       "      <th></th>\n",
       "      <th>Month</th>\n",
       "      <th>DayOfWeek</th>\n",
       "      <th>Make</th>\n",
       "      <th>AccidentArea</th>\n",
       "      <th>DayOfWeekClaimed</th>\n",
       "      <th>MonthClaimed</th>\n",
       "      <th>Sex</th>\n",
       "      <th>MaritalStatus</th>\n",
       "      <th>Fault</th>\n",
       "      <th>PolicyType</th>\n",
       "      <th>VehicleCategory</th>\n",
       "      <th>VehiclePrice</th>\n",
       "      <th>Days_Policy_Accident</th>\n",
       "      <th>Days_Policy_Claim</th>\n",
       "      <th>PastNumberOfClaims</th>\n",
       "      <th>AgeOfVehicle</th>\n",
       "      <th>AgeOfPolicyHolder</th>\n",
       "      <th>PoliceReportFiled</th>\n",
       "      <th>WitnessPresent</th>\n",
       "      <th>AgentType</th>\n",
       "      <th>NumberOfSuppliments</th>\n",
       "      <th>AddressChange_Claim</th>\n",
       "      <th>NumberOfCars</th>\n",
       "      <th>BasePolicy</th>\n",
       "      <th>WeekOfMonth</th>\n",
       "      <th>WeekOfMonthClaimed</th>\n",
       "      <th>RepNumber</th>\n",
       "      <th>Deductible</th>\n",
       "      <th>DriverRating</th>\n",
       "      <th>Year</th>\n",
       "      <th>Age</th>\n",
       "      <th>ClaimSize</th>\n",
       "    </tr>\n",
       "  </thead>\n",
       "  <tbody>\n",
       "    <tr>\n",
       "      <th>0</th>\n",
       "      <td>3.00</td>\n",
       "      <td>3.00</td>\n",
       "      <td>13.00</td>\n",
       "      <td>1.00</td>\n",
       "      <td>3.00</td>\n",
       "      <td>3.00</td>\n",
       "      <td>0.00</td>\n",
       "      <td>1.00</td>\n",
       "      <td>0.00</td>\n",
       "      <td>2.00</td>\n",
       "      <td>0.00</td>\n",
       "      <td>2.00</td>\n",
       "      <td>4.00</td>\n",
       "      <td>3.00</td>\n",
       "      <td>1.00</td>\n",
       "      <td>7.00</td>\n",
       "      <td>6.00</td>\n",
       "      <td>0.00</td>\n",
       "      <td>0.00</td>\n",
       "      <td>0.00</td>\n",
       "      <td>2.00</td>\n",
       "      <td>0.00</td>\n",
       "      <td>0.00</td>\n",
       "      <td>0.00</td>\n",
       "      <td>0.17</td>\n",
       "      <td>0.24</td>\n",
       "      <td>-0.97</td>\n",
       "      <td>-0.17</td>\n",
       "      <td>-1.33</td>\n",
       "      <td>0.17</td>\n",
       "      <td>0.78</td>\n",
       "      <td>1.19</td>\n",
       "    </tr>\n",
       "    <tr>\n",
       "      <th>1</th>\n",
       "      <td>1.00</td>\n",
       "      <td>3.00</td>\n",
       "      <td>6.00</td>\n",
       "      <td>1.00</td>\n",
       "      <td>0.00</td>\n",
       "      <td>1.00</td>\n",
       "      <td>0.00</td>\n",
       "      <td>1.00</td>\n",
       "      <td>1.00</td>\n",
       "      <td>3.00</td>\n",
       "      <td>1.00</td>\n",
       "      <td>1.00</td>\n",
       "      <td>4.00</td>\n",
       "      <td>3.00</td>\n",
       "      <td>1.00</td>\n",
       "      <td>7.00</td>\n",
       "      <td>5.00</td>\n",
       "      <td>0.00</td>\n",
       "      <td>0.00</td>\n",
       "      <td>0.00</td>\n",
       "      <td>1.00</td>\n",
       "      <td>0.00</td>\n",
       "      <td>0.00</td>\n",
       "      <td>2.00</td>\n",
       "      <td>0.95</td>\n",
       "      <td>1.03</td>\n",
       "      <td>0.55</td>\n",
       "      <td>-0.17</td>\n",
       "      <td>-0.44</td>\n",
       "      <td>1.42</td>\n",
       "      <td>-0.07</td>\n",
       "      <td>-0.26</td>\n",
       "    </tr>\n",
       "    <tr>\n",
       "      <th>2</th>\n",
       "      <td>1.00</td>\n",
       "      <td>0.00</td>\n",
       "      <td>6.00</td>\n",
       "      <td>1.00</td>\n",
       "      <td>0.00</td>\n",
       "      <td>1.00</td>\n",
       "      <td>0.00</td>\n",
       "      <td>0.00</td>\n",
       "      <td>0.00</td>\n",
       "      <td>4.00</td>\n",
       "      <td>1.00</td>\n",
       "      <td>5.00</td>\n",
       "      <td>4.00</td>\n",
       "      <td>3.00</td>\n",
       "      <td>1.00</td>\n",
       "      <td>0.00</td>\n",
       "      <td>5.00</td>\n",
       "      <td>0.00</td>\n",
       "      <td>0.00</td>\n",
       "      <td>0.00</td>\n",
       "      <td>0.00</td>\n",
       "      <td>0.00</td>\n",
       "      <td>0.00</td>\n",
       "      <td>1.00</td>\n",
       "      <td>0.95</td>\n",
       "      <td>1.03</td>\n",
       "      <td>-1.62</td>\n",
       "      <td>-0.17</td>\n",
       "      <td>-1.33</td>\n",
       "      <td>1.42</td>\n",
       "      <td>0.01</td>\n",
       "      <td>1.24</td>\n",
       "    </tr>\n",
       "    <tr>\n",
       "      <th>3</th>\n",
       "      <td>1.00</td>\n",
       "      <td>4.00</td>\n",
       "      <td>9.00</td>\n",
       "      <td>1.00</td>\n",
       "      <td>1.00</td>\n",
       "      <td>2.00</td>\n",
       "      <td>0.00</td>\n",
       "      <td>1.00</td>\n",
       "      <td>1.00</td>\n",
       "      <td>4.00</td>\n",
       "      <td>1.00</td>\n",
       "      <td>1.00</td>\n",
       "      <td>4.00</td>\n",
       "      <td>3.00</td>\n",
       "      <td>2.00</td>\n",
       "      <td>5.00</td>\n",
       "      <td>4.00</td>\n",
       "      <td>0.00</td>\n",
       "      <td>0.00</td>\n",
       "      <td>0.00</td>\n",
       "      <td>3.00</td>\n",
       "      <td>0.00</td>\n",
       "      <td>0.00</td>\n",
       "      <td>1.00</td>\n",
       "      <td>0.95</td>\n",
       "      <td>-1.35</td>\n",
       "      <td>1.63</td>\n",
       "      <td>-0.17</td>\n",
       "      <td>-1.33</td>\n",
       "      <td>0.17</td>\n",
       "      <td>-1.41</td>\n",
       "      <td>-0.71</td>\n",
       "    </tr>\n",
       "    <tr>\n",
       "      <th>4</th>\n",
       "      <td>2.00</td>\n",
       "      <td>0.00</td>\n",
       "      <td>17.00</td>\n",
       "      <td>0.00</td>\n",
       "      <td>3.00</td>\n",
       "      <td>2.00</td>\n",
       "      <td>0.00</td>\n",
       "      <td>1.00</td>\n",
       "      <td>0.00</td>\n",
       "      <td>4.00</td>\n",
       "      <td>1.00</td>\n",
       "      <td>2.00</td>\n",
       "      <td>4.00</td>\n",
       "      <td>3.00</td>\n",
       "      <td>1.00</td>\n",
       "      <td>6.00</td>\n",
       "      <td>5.00</td>\n",
       "      <td>0.00</td>\n",
       "      <td>0.00</td>\n",
       "      <td>0.00</td>\n",
       "      <td>3.00</td>\n",
       "      <td>0.00</td>\n",
       "      <td>0.00</td>\n",
       "      <td>1.00</td>\n",
       "      <td>-1.39</td>\n",
       "      <td>-0.55</td>\n",
       "      <td>0.55</td>\n",
       "      <td>-0.17</td>\n",
       "      <td>-1.33</td>\n",
       "      <td>0.17</td>\n",
       "      <td>-0.07</td>\n",
       "      <td>1.18</td>\n",
       "    </tr>\n",
       "  </tbody>\n",
       "</table>\n",
       "</div>"
      ],
      "text/plain": [
       "   Month  DayOfWeek  Make  AccidentArea  DayOfWeekClaimed  MonthClaimed  Sex  \\\n",
       "0   3.00       3.00 13.00          1.00              3.00          3.00 0.00   \n",
       "1   1.00       3.00  6.00          1.00              0.00          1.00 0.00   \n",
       "2   1.00       0.00  6.00          1.00              0.00          1.00 0.00   \n",
       "3   1.00       4.00  9.00          1.00              1.00          2.00 0.00   \n",
       "4   2.00       0.00 17.00          0.00              3.00          2.00 0.00   \n",
       "\n",
       "   MaritalStatus  Fault  PolicyType  VehicleCategory  VehiclePrice  \\\n",
       "0           1.00   0.00        2.00             0.00          2.00   \n",
       "1           1.00   1.00        3.00             1.00          1.00   \n",
       "2           0.00   0.00        4.00             1.00          5.00   \n",
       "3           1.00   1.00        4.00             1.00          1.00   \n",
       "4           1.00   0.00        4.00             1.00          2.00   \n",
       "\n",
       "   Days_Policy_Accident  Days_Policy_Claim  PastNumberOfClaims  AgeOfVehicle  \\\n",
       "0                  4.00               3.00                1.00          7.00   \n",
       "1                  4.00               3.00                1.00          7.00   \n",
       "2                  4.00               3.00                1.00          0.00   \n",
       "3                  4.00               3.00                2.00          5.00   \n",
       "4                  4.00               3.00                1.00          6.00   \n",
       "\n",
       "   AgeOfPolicyHolder  PoliceReportFiled  WitnessPresent  AgentType  \\\n",
       "0               6.00               0.00            0.00       0.00   \n",
       "1               5.00               0.00            0.00       0.00   \n",
       "2               5.00               0.00            0.00       0.00   \n",
       "3               4.00               0.00            0.00       0.00   \n",
       "4               5.00               0.00            0.00       0.00   \n",
       "\n",
       "   NumberOfSuppliments  AddressChange_Claim  NumberOfCars  BasePolicy  \\\n",
       "0                 2.00                 0.00          0.00        0.00   \n",
       "1                 1.00                 0.00          0.00        2.00   \n",
       "2                 0.00                 0.00          0.00        1.00   \n",
       "3                 3.00                 0.00          0.00        1.00   \n",
       "4                 3.00                 0.00          0.00        1.00   \n",
       "\n",
       "   WeekOfMonth  WeekOfMonthClaimed  RepNumber  Deductible  DriverRating  Year  \\\n",
       "0         0.17                0.24      -0.97       -0.17         -1.33  0.17   \n",
       "1         0.95                1.03       0.55       -0.17         -0.44  1.42   \n",
       "2         0.95                1.03      -1.62       -0.17         -1.33  1.42   \n",
       "3         0.95               -1.35       1.63       -0.17         -1.33  0.17   \n",
       "4        -1.39               -0.55       0.55       -0.17         -1.33  0.17   \n",
       "\n",
       "    Age  ClaimSize  \n",
       "0  0.78       1.19  \n",
       "1 -0.07      -0.26  \n",
       "2  0.01       1.24  \n",
       "3 -1.41      -0.71  \n",
       "4 -0.07       1.18  "
      ]
     },
     "execution_count": 153,
     "metadata": {},
     "output_type": "execute_result"
    }
   ],
   "source": [
    "# Mostramos un encabezado de los datos\n",
    "\n",
    "X_test.head().round(2)"
   ]
  },
  {
   "cell_type": "markdown",
   "id": "7ff91589-3aea-46b2-bc57-fb06999fc6ef",
   "metadata": {},
   "source": [
    "### 2.9 Sobre muestreo de los datos"
   ]
  },
  {
   "cell_type": "code",
   "execution_count": 154,
   "id": "db1aad51-49a8-46ec-b898-4397461a0f6c",
   "metadata": {},
   "outputs": [
    {
     "name": "stdout",
     "output_type": "stream",
     "text": [
      "X_train: (17388, 32)\n",
      "y_train: (17388,)\n"
     ]
    }
   ],
   "source": [
    "# Aplicamos sobre muestreo para balancear la clase usando SMOTE\n",
    "\n",
    "#pip install imbalanced-learn\n",
    "\n",
    "from imblearn.over_sampling import SMOTE\n",
    "\n",
    "smote = SMOTE(random_state=7)\n",
    "X_train, y_train = smote.fit_resample(X_train, y_train)\n",
    "\n",
    "# Validamos el número de filas y columnas\n",
    "print(f\"X_train: {X_train.shape}\")\n",
    "print(f\"y_train: {y_train.shape}\")"
   ]
  },
  {
   "cell_type": "markdown",
   "id": "d570b20e-1b0a-4fa6-9c5d-067fc4a9d079",
   "metadata": {},
   "source": [
    "## 3. Modelado"
   ]
  },
  {
   "cell_type": "markdown",
   "id": "7a2d39b0-9800-45a8-988a-04bbc5328361",
   "metadata": {},
   "source": [
    "### 3.1 Lineales"
   ]
  },
  {
   "cell_type": "code",
   "execution_count": 160,
   "id": "0d19d6c6-0e5d-48c5-bf47-1a1692293b37",
   "metadata": {},
   "outputs": [
    {
     "name": "stdout",
     "output_type": "stream",
     "text": [
      "Accuracy: 68.18%\n",
      "Cohen Kappa: 14.20%\n",
      "AUC: 75.38%\n"
     ]
    }
   ],
   "source": [
    "# Obtenemos las princiales métricas de Regresión logística de los predictores\n",
    "\n",
    "from sklearn.linear_model import LogisticRegression\n",
    "from sklearn.metrics import accuracy_score, cohen_kappa_score, roc_auc_score\n",
    "\n",
    "lgr = LogisticRegression(max_iter=1000) #,class_weight='balanced'\n",
    "lgr.fit(X_train, y_train)\n",
    "y_pred = lgr.predict(X_test)\n",
    "\n",
    "accuracy = accuracy_score(y_test, y_pred)\n",
    "kappa = cohen_kappa_score(y_test, y_pred)\n",
    "auc = roc_auc_score(y_test, y_pred)\n",
    "\n",
    "print(f\"Accuracy: {accuracy*100.0:,.2f}%\")\n",
    "print(f\"Cohen Kappa: {kappa*100.0:,.2f}%\")\n",
    "print(f\"AUC: {auc*100.0:,.2f}%\")"
   ]
  },
  {
   "cell_type": "code",
   "execution_count": 161,
   "id": "6312974b-b934-4e10-81fd-698fa9e3fc2e",
   "metadata": {},
   "outputs": [
    {
     "name": "stdout",
     "output_type": "stream",
     "text": [
      "              precision    recall  f1-score   support\n",
      "\n",
      "           0       0.99      0.67      0.80      2186\n",
      "           1       0.13      0.83      0.22       127\n",
      "\n",
      "    accuracy                           0.68      2313\n",
      "   macro avg       0.56      0.75      0.51      2313\n",
      "weighted avg       0.94      0.68      0.77      2313\n",
      "\n"
     ]
    }
   ],
   "source": [
    "# Obtenemos el reporte de clasificación de los predictores\n",
    "\n",
    "from sklearn.metrics import classification_report\n",
    "\n",
    "report = classification_report(y_test, y_pred)\n",
    "print(report)"
   ]
  },
  {
   "cell_type": "code",
   "execution_count": 162,
   "id": "aee70c94-5bcb-4153-b965-74934e203ba7",
   "metadata": {},
   "outputs": [
    {
     "data": {
      "image/png": "[encoded data removed]",
      "text/plain": [
       "<Figure size 432x288 with 2 Axes>"
      ]
     },
     "metadata": {
      "needs_background": "light"
     },
     "output_type": "display_data"
    }
   ],
   "source": [
    "# Dibujamos la matriz de confusión de los predictores\n",
    "\n",
    "from sklearn.metrics import ConfusionMatrixDisplay\n",
    "\n",
    "ConfusionMatrixDisplay.from_predictions(y_test, y_pred)\n",
    "plt.show()"
   ]
  },
  {
   "cell_type": "markdown",
   "id": "6e28ed18-a31b-4457-8b09-43717faab56b",
   "metadata": {},
   "source": [
    "### 3.2 No Lineales"
   ]
  },
  {
   "cell_type": "code",
   "execution_count": 163,
   "id": "e6987e8c-e1ae-495f-9b75-193970eb21bf",
   "metadata": {},
   "outputs": [
    {
     "name": "stdout",
     "output_type": "stream",
     "text": [
      "Accuracy: 58.41%\n",
      "Cohen Kappa: 5.84%\n",
      "AUC: 62.42%\n"
     ]
    }
   ],
   "source": [
    "# Obtenemos las princiales métricas de K Vecinos Más Cercanos (KNN) de los predictores\n",
    "\n",
    "from sklearn.neighbors import KNeighborsClassifier\n",
    "from sklearn.metrics import accuracy_score, cohen_kappa_score, roc_auc_score\n",
    "\n",
    "knc = KNeighborsClassifier(n_neighbors=13, algorithm='kd_tree')\n",
    "knc.fit(X_train, y_train)\n",
    "y_pred = knc.predict(X_test)\n",
    "\n",
    "accuracy = accuracy_score(y_test, y_pred)\n",
    "kappa = cohen_kappa_score(y_test, y_pred)\n",
    "auc = roc_auc_score(y_test, y_pred)\n",
    "\n",
    "print(f\"Accuracy: {accuracy*100.0:,.2f}%\")\n",
    "print(f\"Cohen Kappa: {kappa*100.0:,.2f}%\")\n",
    "print(f\"AUC: {auc*100.0:,.2f}%\")"
   ]
  },
  {
   "cell_type": "code",
   "execution_count": 164,
   "id": "a7aa530d-34c2-45ee-80cf-1e16ddbb797b",
   "metadata": {},
   "outputs": [
    {
     "name": "stdout",
     "output_type": "stream",
     "text": [
      "              precision    recall  f1-score   support\n",
      "\n",
      "           0       0.97      0.58      0.72      2186\n",
      "           1       0.08      0.67      0.15       127\n",
      "\n",
      "    accuracy                           0.58      2313\n",
      "   macro avg       0.53      0.62      0.44      2313\n",
      "weighted avg       0.92      0.58      0.69      2313\n",
      "\n"
     ]
    }
   ],
   "source": [
    "# Obtenemos el reporte de clasificación de los predictores\n",
    "\n",
    "from sklearn.metrics import classification_report\n",
    "\n",
    "report = classification_report(y_test, y_pred)\n",
    "print(report)"
   ]
  },
  {
   "cell_type": "code",
   "execution_count": 165,
   "id": "e8bc5474-149e-4a30-8e8a-6e9a43f0d8ba",
   "metadata": {},
   "outputs": [
    {
     "data": {
      "image/png": "[encoded data removed]",
      "text/plain": [
       "<Figure size 432x288 with 2 Axes>"
      ]
     },
     "metadata": {
      "needs_background": "light"
     },
     "output_type": "display_data"
    }
   ],
   "source": [
    "# Dibujamos la matriz de confusión de los predictores\n",
    "\n",
    "from sklearn.metrics import ConfusionMatrixDisplay\n",
    "\n",
    "ConfusionMatrixDisplay.from_predictions(y_test, y_pred)\n",
    "plt.show()"
   ]
  },
  {
   "cell_type": "code",
   "execution_count": 166,
   "id": "9f44db78-fcb3-47a7-b5f4-61c4bdf46d7f",
   "metadata": {},
   "outputs": [
    {
     "name": "stdout",
     "output_type": "stream",
     "text": [
      "Accuracy: 64.07%\n",
      "Cohen Kappa: 10.98%\n",
      "AUC: 71.35%\n"
     ]
    }
   ],
   "source": [
    "# Obtenemos las princiales métricas de Naive Bayes de los predictores\n",
    "\n",
    "from sklearn.naive_bayes import GaussianNB\n",
    "from sklearn.metrics import accuracy_score, cohen_kappa_score, roc_auc_score\n",
    "\n",
    "gnb = GaussianNB()\n",
    "gnb.fit(X_train, y_train)\n",
    "y_pred = gnb.predict(X_test)\n",
    "\n",
    "accuracy = accuracy_score(y_test, y_pred)\n",
    "kappa = cohen_kappa_score(y_test, y_pred)\n",
    "auc = roc_auc_score(y_test, y_pred)\n",
    "\n",
    "print(f\"Accuracy: {accuracy*100.0:,.2f}%\")\n",
    "print(f\"Cohen Kappa: {kappa*100.0:,.2f}%\")\n",
    "print(f\"AUC: {auc*100.0:,.2f}%\")"
   ]
  },
  {
   "cell_type": "code",
   "execution_count": 167,
   "id": "cd3a1dcd-a0cf-49d0-b895-bbdd7a1df3be",
   "metadata": {},
   "outputs": [
    {
     "name": "stdout",
     "output_type": "stream",
     "text": [
      "              precision    recall  f1-score   support\n",
      "\n",
      "           0       0.98      0.63      0.77      2186\n",
      "           1       0.11      0.80      0.20       127\n",
      "\n",
      "    accuracy                           0.64      2313\n",
      "   macro avg       0.55      0.71      0.48      2313\n",
      "weighted avg       0.93      0.64      0.74      2313\n",
      "\n"
     ]
    }
   ],
   "source": [
    "# Obtenemos el reporte de clasificación de los predictores\n",
    "\n",
    "from sklearn.metrics import classification_report\n",
    "\n",
    "report = classification_report(y_test, y_pred)\n",
    "print(report)"
   ]
  },
  {
   "cell_type": "code",
   "execution_count": 168,
   "id": "796a8f94-81a2-4fb8-88ba-d8aa1faef9c2",
   "metadata": {},
   "outputs": [
    {
     "data": {
      "image/png": "[encoded data removed]",
      "text/plain": [
       "<Figure size 432x288 with 2 Axes>"
      ]
     },
     "metadata": {
      "needs_background": "light"
     },
     "output_type": "display_data"
    }
   ],
   "source": [
    "# Dibujamos la matriz de confusión de los predictores\n",
    "\n",
    "from sklearn.metrics import ConfusionMatrixDisplay\n",
    "\n",
    "ConfusionMatrixDisplay.from_predictions(y_test, y_pred)\n",
    "plt.show()"
   ]
  },
  {
   "cell_type": "code",
   "execution_count": 169,
   "id": "c1b1555b-fa7b-4b0b-995b-dbc7098176c9",
   "metadata": {},
   "outputs": [
    {
     "name": "stdout",
     "output_type": "stream",
     "text": [
      "Accuracy: 89.28%\n",
      "Cohen Kappa: 10.61%\n",
      "AUC: 56.13%\n"
     ]
    }
   ],
   "source": [
    "# Obtenemos las princiales métricas de Árboles de Decisión (CART) de los predictores\n",
    "\n",
    "from sklearn.tree import DecisionTreeClassifier\n",
    "from sklearn.metrics import accuracy_score, cohen_kappa_score, roc_auc_score\n",
    "\n",
    "dtc = DecisionTreeClassifier(criterion='entropy')\n",
    "dtc.fit(X_train, y_train)\n",
    "y_pred = dtc.predict(X_test)\n",
    "\n",
    "accuracy = accuracy_score(y_test, y_pred)\n",
    "kappa = cohen_kappa_score(y_test, y_pred)\n",
    "auc = roc_auc_score(y_test, y_pred)\n",
    "\n",
    "print(f\"Accuracy: {accuracy*100.0:,.2f}%\")\n",
    "print(f\"Cohen Kappa: {kappa*100.0:,.2f}%\")\n",
    "print(f\"AUC: {auc*100.0:,.2f}%\")"
   ]
  },
  {
   "cell_type": "code",
   "execution_count": 170,
   "id": "006355a7-a04c-462b-abbe-61b7e17f90e8",
   "metadata": {},
   "outputs": [
    {
     "name": "stdout",
     "output_type": "stream",
     "text": [
      "              precision    recall  f1-score   support\n",
      "\n",
      "           0       0.95      0.93      0.94      2186\n",
      "           1       0.14      0.19      0.16       127\n",
      "\n",
      "    accuracy                           0.89      2313\n",
      "   macro avg       0.55      0.56      0.55      2313\n",
      "weighted avg       0.91      0.89      0.90      2313\n",
      "\n"
     ]
    }
   ],
   "source": [
    "# Obtenemos el reporte de clasificación de los predictores\n",
    "\n",
    "from sklearn.metrics import classification_report\n",
    "\n",
    "report = classification_report(y_test, y_pred)\n",
    "print(report)"
   ]
  },
  {
   "cell_type": "code",
   "execution_count": 171,
   "id": "23eb5fd8-787a-4cf1-afb3-e0295d6e368c",
   "metadata": {},
   "outputs": [
    {
     "data": {
      "image/png": "[encoded data removed]",
      "text/plain": [
       "<Figure size 432x288 with 2 Axes>"
      ]
     },
     "metadata": {
      "needs_background": "light"
     },
     "output_type": "display_data"
    }
   ],
   "source": [
    "# Dibujamos la matriz de confusión de los predictores\n",
    "\n",
    "from sklearn.metrics import ConfusionMatrixDisplay\n",
    "\n",
    "ConfusionMatrixDisplay.from_predictions(y_test, y_pred)\n",
    "plt.show()"
   ]
  },
  {
   "cell_type": "code",
   "execution_count": 46,
   "id": "d3ae2bb4-1292-4d51-b3f5-247ed03f1696",
   "metadata": {},
   "outputs": [
    {
     "name": "stdout",
     "output_type": "stream",
     "text": [
      "Accuracy: 70.77%\n",
      "Cohen Kappa: 15.03%\n",
      "AUC: 74.90%\n"
     ]
    }
   ],
   "source": [
    "# Obtenemos las princiales métricas de Máquina de Soporte Vectorial (SVM) de los predictores\n",
    "\n",
    "from sklearn.svm import SVC\n",
    "from sklearn.metrics import accuracy_score, cohen_kappa_score, roc_auc_score\n",
    "\n",
    "svc = SVC()\n",
    "svc.fit(X_train, y_train)\n",
    "y_pred = svc.predict(X_test)\n",
    "\n",
    "accuracy = accuracy_score(y_test, y_pred)\n",
    "kappa = cohen_kappa_score(y_test, y_pred)\n",
    "auc = roc_auc_score(y_test, y_pred)\n",
    "\n",
    "print(f\"Accuracy: {accuracy*100.0:,.2f}%\")\n",
    "print(f\"Cohen Kappa: {kappa*100.0:,.2f}%\")\n",
    "print(f\"AUC: {auc*100.0:,.2f}%\")"
   ]
  },
  {
   "cell_type": "code",
   "execution_count": 47,
   "id": "00c2579f-2437-4075-814d-8646bab58e56",
   "metadata": {},
   "outputs": [
    {
     "name": "stdout",
     "output_type": "stream",
     "text": [
      "              precision    recall  f1-score   support\n",
      "\n",
      "           0       0.98      0.70      0.82      2186\n",
      "           1       0.13      0.80      0.23       127\n",
      "\n",
      "    accuracy                           0.71      2313\n",
      "   macro avg       0.56      0.75      0.52      2313\n",
      "weighted avg       0.94      0.71      0.79      2313\n",
      "\n"
     ]
    }
   ],
   "source": [
    "# Obtenemos el reporte de clasificación de los predictores\n",
    "\n",
    "from sklearn.metrics import classification_report\n",
    "\n",
    "report = classification_report(y_test, y_pred)\n",
    "print(report)"
   ]
  },
  {
   "cell_type": "code",
   "execution_count": 48,
   "id": "cf01cbf7-d0e8-4989-8eea-b5fd938d2732",
   "metadata": {},
   "outputs": [
    {
     "data": {
      "image/png": "[encoded data removed]",
      "text/plain": [
       "<Figure size 432x288 with 2 Axes>"
      ]
     },
     "metadata": {
      "needs_background": "light"
     },
     "output_type": "display_data"
    }
   ],
   "source": [
    "# Dibujamos la matriz de confusión de los predictores\n",
    "\n",
    "from sklearn.metrics import ConfusionMatrixDisplay\n",
    "\n",
    "ConfusionMatrixDisplay.from_predictions(y_test, y_pred)\n",
    "plt.show()"
   ]
  },
  {
   "cell_type": "markdown",
   "id": "6fc3dee8-962f-4a2a-8feb-fd03f420cedf",
   "metadata": {},
   "source": [
    "### 3.3 Ensamble Bagging"
   ]
  },
  {
   "cell_type": "code",
   "execution_count": 50,
   "id": "d2382e8f-036f-4586-aad1-bec7d0897fd2",
   "metadata": {},
   "outputs": [
    {
     "name": "stdout",
     "output_type": "stream",
     "text": [
      "Accuracy: 93.47%\n",
      "Cohen Kappa: 8.14%\n",
      "AUC: 52.79%\n"
     ]
    }
   ],
   "source": [
    "# Obtenemos las princiales métricas de Bagged Decision Trees de los predictores\n",
    "\n",
    "from sklearn.ensemble import BaggingClassifier\n",
    "from sklearn.tree import DecisionTreeClassifier\n",
    "from sklearn.metrics import accuracy_score, cohen_kappa_score, roc_auc_score\n",
    "\n",
    "seed = 7\n",
    "trees = 10\n",
    "dtc = DecisionTreeClassifier(criterion='entropy')\n",
    "bc = BaggingClassifier(base_estimator=dtc, n_estimators=trees, random_state=seed)\n",
    "bc.fit(X_train, y_train)\n",
    "y_pred = bc.predict(X_test)\n",
    "\n",
    "accuracy = accuracy_score(y_test, y_pred)\n",
    "kappa = cohen_kappa_score(y_test, y_pred)\n",
    "auc = roc_auc_score(y_test, y_pred)\n",
    "\n",
    "print(f\"Accuracy: {accuracy*100.0:,.2f}%\")\n",
    "print(f\"Cohen Kappa: {kappa*100.0:,.2f}%\")\n",
    "print(f\"AUC: {auc*100.0:,.2f}%\")"
   ]
  },
  {
   "cell_type": "code",
   "execution_count": 51,
   "id": "77acfb6f-59b9-4cc2-9b1a-f68875869447",
   "metadata": {},
   "outputs": [
    {
     "name": "stdout",
     "output_type": "stream",
     "text": [
      "              precision    recall  f1-score   support\n",
      "\n",
      "           0       0.95      0.98      0.97      2186\n",
      "           1       0.21      0.07      0.11       127\n",
      "\n",
      "    accuracy                           0.93      2313\n",
      "   macro avg       0.58      0.53      0.54      2313\n",
      "weighted avg       0.91      0.93      0.92      2313\n",
      "\n"
     ]
    }
   ],
   "source": [
    "# Obtenemos el reporte de clasificación de los predictores\n",
    "\n",
    "from sklearn.metrics import classification_report\n",
    "\n",
    "report = classification_report(y_test, y_pred)\n",
    "print(report)"
   ]
  },
  {
   "cell_type": "code",
   "execution_count": 52,
   "id": "cf94551b-f268-4873-bbe0-d6d0971938f9",
   "metadata": {},
   "outputs": [
    {
     "data": {
      "image/png": "[encoded data removed]",
      "text/plain": [
       "<Figure size 432x288 with 2 Axes>"
      ]
     },
     "metadata": {
      "needs_background": "light"
     },
     "output_type": "display_data"
    }
   ],
   "source": [
    "# Dibujamos la matriz de confusión de los predictores\n",
    "\n",
    "from sklearn.metrics import ConfusionMatrixDisplay\n",
    "\n",
    "ConfusionMatrixDisplay.from_predictions(y_test, y_pred)\n",
    "plt.show()"
   ]
  },
  {
   "cell_type": "code",
   "execution_count": 53,
   "id": "c4313492-8ed6-41f1-ab42-a83aa57c5b31",
   "metadata": {},
   "outputs": [
    {
     "name": "stdout",
     "output_type": "stream",
     "text": [
      "Accuracy: 93.90%\n",
      "Cohen Kappa: 2.63%\n",
      "AUC: 50.79%\n"
     ]
    }
   ],
   "source": [
    "# Obtenemos las princiales métricas de Random Forest de los predictores\n",
    "\n",
    "from sklearn.ensemble import RandomForestClassifier\n",
    "from sklearn.metrics import accuracy_score, cohen_kappa_score, roc_auc_score\n",
    "\n",
    "seed = 7\n",
    "trees = 10\n",
    "features = 3\n",
    "rfc = RandomForestClassifier(n_estimators=trees, max_features=features, random_state=seed)\n",
    "rfc.fit(X_train, y_train)\n",
    "y_pred = rfc.predict(X_test)\n",
    "\n",
    "accuracy = accuracy_score(y_test, y_pred)\n",
    "kappa = cohen_kappa_score(y_test, y_pred)\n",
    "auc = roc_auc_score(y_test, y_pred)\n",
    "\n",
    "print(f\"Accuracy: {accuracy*100.0:,.2f}%\")\n",
    "print(f\"Cohen Kappa: {kappa*100.0:,.2f}%\")\n",
    "print(f\"AUC: {auc*100.0:,.2f}%\")"
   ]
  },
  {
   "cell_type": "code",
   "execution_count": 54,
   "id": "011f6387-c09c-4f60-a3e7-a9c444e0094e",
   "metadata": {},
   "outputs": [
    {
     "name": "stdout",
     "output_type": "stream",
     "text": [
      "              precision    recall  f1-score   support\n",
      "\n",
      "           0       0.95      0.99      0.97      2186\n",
      "           1       0.15      0.02      0.04       127\n",
      "\n",
      "    accuracy                           0.94      2313\n",
      "   macro avg       0.55      0.51      0.50      2313\n",
      "weighted avg       0.90      0.94      0.92      2313\n",
      "\n"
     ]
    }
   ],
   "source": [
    "# Obtenemos el reporte de clasificación de los predictores\n",
    "\n",
    "from sklearn.metrics import classification_report\n",
    "\n",
    "report = classification_report(y_test, y_pred)\n",
    "print(report)"
   ]
  },
  {
   "cell_type": "code",
   "execution_count": 55,
   "id": "78342b68-9878-460b-9cf5-1c60997a6b75",
   "metadata": {},
   "outputs": [
    {
     "data": {
      "image/png": "[encoded data removed]",
      "text/plain": [
       "<Figure size 432x288 with 2 Axes>"
      ]
     },
     "metadata": {
      "needs_background": "light"
     },
     "output_type": "display_data"
    }
   ],
   "source": [
    "# Dibujamos la matriz de confusión de los predictores\n",
    "\n",
    "from sklearn.metrics import ConfusionMatrixDisplay\n",
    "\n",
    "ConfusionMatrixDisplay.from_predictions(y_test, y_pred)\n",
    "plt.show()"
   ]
  },
  {
   "cell_type": "code",
   "execution_count": 56,
   "id": "01f0ee7f-c9b0-448c-92b7-b7f6bf67c563",
   "metadata": {},
   "outputs": [
    {
     "name": "stdout",
     "output_type": "stream",
     "text": [
      "Accuracy: 93.77%\n",
      "Cohen Kappa: 6.85%\n",
      "AUC: 52.21%\n"
     ]
    }
   ],
   "source": [
    "# Obtenemos las princiales métricas de Extra Trees de los predictores\n",
    "\n",
    "from sklearn.ensemble import ExtraTreesClassifier\n",
    "from sklearn.metrics import accuracy_score, cohen_kappa_score, roc_auc_score\n",
    "\n",
    "seed = 7\n",
    "trees = 10\n",
    "features = 3\n",
    "etc = ExtraTreesClassifier(n_estimators=trees, max_features=features, random_state=seed)\n",
    "etc.fit(X_train, y_train)\n",
    "y_pred = etc.predict(X_test)\n",
    "\n",
    "accuracy = accuracy_score(y_test, y_pred)\n",
    "kappa = cohen_kappa_score(y_test, y_pred)\n",
    "auc = roc_auc_score(y_test, y_pred)\n",
    "\n",
    "print(f\"Accuracy: {accuracy*100.0:,.2f}%\")\n",
    "print(f\"Cohen Kappa: {kappa*100.0:,.2f}%\")\n",
    "print(f\"AUC: {auc*100.0:,.2f}%\")"
   ]
  },
  {
   "cell_type": "code",
   "execution_count": 57,
   "id": "caa01351-598a-4fcf-ae63-05eb03048ae3",
   "metadata": {},
   "outputs": [
    {
     "name": "stdout",
     "output_type": "stream",
     "text": [
      "              precision    recall  f1-score   support\n",
      "\n",
      "           0       0.95      0.99      0.97      2186\n",
      "           1       0.23      0.06      0.09       127\n",
      "\n",
      "    accuracy                           0.94      2313\n",
      "   macro avg       0.59      0.52      0.53      2313\n",
      "weighted avg       0.91      0.94      0.92      2313\n",
      "\n"
     ]
    }
   ],
   "source": [
    "# Obtenemos el reporte de clasificación de los predictores\n",
    "\n",
    "from sklearn.metrics import classification_report\n",
    "\n",
    "report = classification_report(y_test, y_pred)\n",
    "print(report)"
   ]
  },
  {
   "cell_type": "code",
   "execution_count": 58,
   "id": "73adf59e-be73-4d6c-9764-e011e83f4ea5",
   "metadata": {},
   "outputs": [
    {
     "data": {
      "image/png": "[encoded data removed]",
      "text/plain": [
       "<Figure size 432x288 with 2 Axes>"
      ]
     },
     "metadata": {
      "needs_background": "light"
     },
     "output_type": "display_data"
    }
   ],
   "source": [
    "# Dibujamos la matriz de confusión de los predictores\n",
    "\n",
    "from sklearn.metrics import ConfusionMatrixDisplay\n",
    "\n",
    "ConfusionMatrixDisplay.from_predictions(y_test, y_pred)\n",
    "plt.show()"
   ]
  },
  {
   "cell_type": "markdown",
   "id": "0fd1229e-5f83-4ab9-a6c4-2555a92b6f55",
   "metadata": {},
   "source": [
    "### 3.4 Ensamble Boosting"
   ]
  },
  {
   "cell_type": "code",
   "execution_count": 59,
   "id": "5f7685af-00c7-4862-8e3d-b7439fc2bb30",
   "metadata": {},
   "outputs": [
    {
     "name": "stdout",
     "output_type": "stream",
     "text": [
      "Accuracy: 73.02%\n",
      "Cohen Kappa: 14.69%\n",
      "AUC: 72.38%\n"
     ]
    }
   ],
   "source": [
    "# Obtenemos las princiales métricas de AdaBoost de los predictores\n",
    "\n",
    "from sklearn.ensemble import AdaBoostClassifier\n",
    "from sklearn.metrics import accuracy_score, cohen_kappa_score, roc_auc_score\n",
    "\n",
    "seed = 7\n",
    "trees = 10\n",
    "\n",
    "abc = AdaBoostClassifier(n_estimators=trees, random_state=seed)\n",
    "abc.fit(X_train, y_train)\n",
    "y_pred = abc.predict(X_test)\n",
    "\n",
    "accuracy = accuracy_score(y_test, y_pred)\n",
    "kappa = cohen_kappa_score(y_test, y_pred)\n",
    "auc = roc_auc_score(y_test, y_pred)\n",
    "\n",
    "print(f\"Accuracy: {accuracy*100.0:,.2f}%\")\n",
    "print(f\"Cohen Kappa: {kappa*100.0:,.2f}%\")\n",
    "print(f\"AUC: {auc*100.0:,.2f}%\")"
   ]
  },
  {
   "cell_type": "code",
   "execution_count": 60,
   "id": "1ec3f8f6-391d-440f-a421-de7bf80d8c3c",
   "metadata": {},
   "outputs": [
    {
     "name": "stdout",
     "output_type": "stream",
     "text": [
      "              precision    recall  f1-score   support\n",
      "\n",
      "           0       0.98      0.73      0.84      2186\n",
      "           1       0.13      0.72      0.23       127\n",
      "\n",
      "    accuracy                           0.73      2313\n",
      "   macro avg       0.56      0.72      0.53      2313\n",
      "weighted avg       0.93      0.73      0.80      2313\n",
      "\n"
     ]
    }
   ],
   "source": [
    "# Obtenemos el reporte de clasificación de los predictores\n",
    "\n",
    "from sklearn.metrics import classification_report\n",
    "\n",
    "report = classification_report(y_test, y_pred)\n",
    "print(report)"
   ]
  },
  {
   "cell_type": "code",
   "execution_count": 61,
   "id": "f7567a66-5eac-4e01-bf5a-a6dd436b6380",
   "metadata": {},
   "outputs": [
    {
     "data": {
      "image/png": "[encoded data removed]",
      "text/plain": [
       "<Figure size 432x288 with 2 Axes>"
      ]
     },
     "metadata": {
      "needs_background": "light"
     },
     "output_type": "display_data"
    }
   ],
   "source": [
    "# Dibujamos la matriz de confusión de los predictores\n",
    "\n",
    "from sklearn.metrics import ConfusionMatrixDisplay\n",
    "\n",
    "ConfusionMatrixDisplay.from_predictions(y_test, y_pred)\n",
    "plt.show()"
   ]
  },
  {
   "cell_type": "code",
   "execution_count": 62,
   "id": "ed19e279-daea-453f-8475-bcc63fa7c8c3",
   "metadata": {},
   "outputs": [
    {
     "name": "stdout",
     "output_type": "stream",
     "text": [
      "Accuracy: 68.96%\n",
      "Cohen Kappa: 13.43%\n",
      "AUC: 73.19%\n"
     ]
    }
   ],
   "source": [
    "# Obtenemos las princiales métricas de Gradient Boosting Machine (GBM) de los predictores\n",
    "\n",
    "from sklearn.ensemble import GradientBoostingClassifier\n",
    "from sklearn.metrics import accuracy_score, cohen_kappa_score, roc_auc_score\n",
    "\n",
    "seed = 7\n",
    "trees = 10\n",
    "\n",
    "gbc = GradientBoostingClassifier(n_estimators=trees, random_state=seed)\n",
    "gbc.fit(X_train, y_train)\n",
    "y_pred = gbc.predict(X_test)\n",
    "\n",
    "accuracy = accuracy_score(y_test, y_pred)\n",
    "kappa = cohen_kappa_score(y_test, y_pred)\n",
    "auc = roc_auc_score(y_test, y_pred)\n",
    "\n",
    "print(f\"Accuracy: {accuracy*100.0:,.2f}%\")\n",
    "print(f\"Cohen Kappa: {kappa*100.0:,.2f}%\")\n",
    "print(f\"AUC: {auc*100.0:,.2f}%\")"
   ]
  },
  {
   "cell_type": "code",
   "execution_count": 63,
   "id": "a440ed6e-6a2d-445d-9a22-15c39a588170",
   "metadata": {},
   "outputs": [
    {
     "name": "stdout",
     "output_type": "stream",
     "text": [
      "              precision    recall  f1-score   support\n",
      "\n",
      "           0       0.98      0.68      0.81      2186\n",
      "           1       0.13      0.78      0.22       127\n",
      "\n",
      "    accuracy                           0.69      2313\n",
      "   macro avg       0.55      0.73      0.51      2313\n",
      "weighted avg       0.93      0.69      0.77      2313\n",
      "\n"
     ]
    }
   ],
   "source": [
    "# Obtenemos el reporte de clasificación de los predictores\n",
    "\n",
    "from sklearn.metrics import classification_report\n",
    "\n",
    "report = classification_report(y_test, y_pred)\n",
    "print(report)"
   ]
  },
  {
   "cell_type": "code",
   "execution_count": 64,
   "id": "3af4d380-f24a-4dad-a7c1-776fcd7d40f9",
   "metadata": {},
   "outputs": [
    {
     "data": {
      "image/png": "[encoded data removed]",
      "text/plain": [
       "<Figure size 432x288 with 2 Axes>"
      ]
     },
     "metadata": {
      "needs_background": "light"
     },
     "output_type": "display_data"
    }
   ],
   "source": [
    "# Dibujamos la matriz de confusión de los predictores\n",
    "\n",
    "from sklearn.metrics import ConfusionMatrixDisplay\n",
    "\n",
    "ConfusionMatrixDisplay.from_predictions(y_test, y_pred)\n",
    "plt.show()"
   ]
  },
  {
   "cell_type": "code",
   "execution_count": 72,
   "id": "8c8c4dc4-97a7-43ab-b160-45b9721ecbda",
   "metadata": {},
   "outputs": [
    {
     "name": "stdout",
     "output_type": "stream",
     "text": [
      "Accuracy: 66.32%\n",
      "Cohen Kappa: 12.55%\n",
      "AUC: 73.28%\n"
     ]
    }
   ],
   "source": [
    "# Obtenemos las princiales métricas de Voting de los predictores\n",
    "\n",
    "from sklearn.ensemble import VotingClassifier\n",
    "from sklearn.metrics import accuracy_score, cohen_kappa_score, roc_auc_score\n",
    "\n",
    "lgr = LogisticRegression(max_iter=1000)\n",
    "gnb = GaussianNB()\n",
    "svc = SVC(probability=True)\n",
    "\n",
    "vc = VotingClassifier([('clf1', lgr), ('clf2', gnb), ('clf3', svc)], voting='soft')\n",
    "\n",
    "vc.fit(X_train, y_train)\n",
    "y_pred = vc.predict(X_test)\n",
    "\n",
    "accuracy = accuracy_score(y_test, y_pred)\n",
    "kappa = cohen_kappa_score(y_test, y_pred)\n",
    "auc = roc_auc_score(y_test, y_pred)\n",
    "\n",
    "print(f\"Accuracy: {accuracy*100.0:,.2f}%\")\n",
    "print(f\"Cohen Kappa: {kappa*100.0:,.2f}%\")\n",
    "print(f\"AUC: {auc*100.0:,.2f}%\")"
   ]
  },
  {
   "cell_type": "code",
   "execution_count": 73,
   "id": "349eec57-69e5-4a29-b543-6c3fa35c3c5f",
   "metadata": {},
   "outputs": [
    {
     "name": "stdout",
     "output_type": "stream",
     "text": [
      "              precision    recall  f1-score   support\n",
      "\n",
      "           0       0.98      0.65      0.79      2186\n",
      "           1       0.12      0.81      0.21       127\n",
      "\n",
      "    accuracy                           0.66      2313\n",
      "   macro avg       0.55      0.73      0.50      2313\n",
      "weighted avg       0.94      0.66      0.75      2313\n",
      "\n"
     ]
    }
   ],
   "source": [
    "# Obtenemos el reporte de clasificación de los predictores\n",
    "\n",
    "from sklearn.metrics import classification_report\n",
    "\n",
    "report = classification_report(y_test, y_pred)\n",
    "print(report)"
   ]
  },
  {
   "cell_type": "code",
   "execution_count": 74,
   "id": "08e9265f-145f-4818-beb0-e19d976d1fb1",
   "metadata": {},
   "outputs": [
    {
     "data": {
      "image/png": "[encoded data removed]",
      "text/plain": [
       "<Figure size 432x288 with 2 Axes>"
      ]
     },
     "metadata": {
      "needs_background": "light"
     },
     "output_type": "display_data"
    }
   ],
   "source": [
    "# Dibujamos la matriz de confusión de los predictores\n",
    "\n",
    "from sklearn.metrics import ConfusionMatrixDisplay\n",
    "\n",
    "ConfusionMatrixDisplay.from_predictions(y_test, y_pred)\n",
    "plt.show()"
   ]
  }
 ],
 "metadata": {
  "kernelspec": {
   "display_name": "Python 3 (ipykernel)",
   "language": "python",
   "name": "python3"
  },
  "language_info": {
   "codemirror_mode": {
    "name": "ipython",
    "version": 3
   },
   "file_extension": ".py",
   "mimetype": "text/x-python",
   "name": "python",
   "nbconvert_exporter": "python",
   "pygments_lexer": "ipython3",
   "version": "3.9.12"
  }
 },
 "nbformat": 4,
 "nbformat_minor": 5
}
